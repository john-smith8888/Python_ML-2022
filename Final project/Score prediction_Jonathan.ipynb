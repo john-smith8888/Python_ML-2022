{
 "cells": [
  {
   "cell_type": "markdown",
   "metadata": {
    "jp-MarkdownHeadingCollapsed": true,
    "tags": []
   },
   "source": [
    "# Wines Points prediction "
   ]
  },
  {
   "cell_type": "code",
   "execution_count": 157,
   "metadata": {
    "collapsed": true,
    "jupyter": {
     "outputs_hidden": true,
     "source_hidden": true
    },
    "tags": []
   },
   "outputs": [
    {
     "name": "stdout",
     "output_type": "stream",
     "text": [
      "The autoreload extension is already loaded. To reload it, use:\n",
      "  %reload_ext autoreload\n"
     ]
    },
    {
     "data": {
      "text/html": [
       "        <script type=\"text/javascript\">\n",
       "        window.PlotlyConfig = {MathJaxConfig: 'local'};\n",
       "        if (window.MathJax) {MathJax.Hub.Config({SVG: {font: \"STIX-Web\"}});}\n",
       "        if (typeof require !== 'undefined') {\n",
       "        require.undef(\"plotly\");\n",
       "        requirejs.config({\n",
       "            paths: {\n",
       "                'plotly': ['https://cdn.plot.ly/plotly-2.9.0.min']\n",
       "            }\n",
       "        });\n",
       "        require(['plotly'], function(Plotly) {\n",
       "            window._Plotly = Plotly;\n",
       "        });\n",
       "        }\n",
       "        </script>\n",
       "        "
      ]
     },
     "metadata": {},
     "output_type": "display_data"
    }
   ],
   "source": [
    "%load_ext autoreload\n",
    "%autoreload 2\n",
    "#imports:\n",
    "import cufflinks as cf; cf.go_offline()\n",
    "from datetime import date\n",
    "import emoji\n",
    "import math\n",
    "import matplotlib.pyplot as plt\n",
    "import nltk\n",
    "import numpy as np\n",
    "from pandas import DataFrame\n",
    "import pandas as pd\n",
    "import pickle\n",
    "import re as regex\n",
    "from scipy.sparse import coo_matrix, hstack\n",
    "from sklearn.preprocessing import LabelEncoder\n",
    "from sklearn.preprocessing import StandardScaler\n",
    "from sklearn.feature_extraction.text import CountVectorizer\n",
    "from sklearn.feature_extraction.text import TfidfVectorizer\n",
    "from sklearn.linear_model import Ridge\n",
    "from sklearn.metrics import mean_absolute_error, mean_squared_error, r2_score, roc_auc_score, precision_score, recall_score, accuracy_score\n",
    "from sklearn.model_selection import train_test_split, cross_val_score, cross_validate\n",
    "from src.models import i_feel_lucky_xgboost_training\n",
    "import string\n",
    "import sys; sys.path.append('../')\n",
    "import tensorflow as tf\n",
    "from tensorflow.keras.callbacks import EarlyStopping\n",
    "from tensorflow import keras"
   ]
  },
  {
   "cell_type": "markdown",
   "metadata": {
    "jupyter": {
     "source_hidden": true
    },
    "tags": []
   },
   "source": [
    "Here we will try to predict the points a wine will get based on known characteristics (i.e. features, in the ML terminology). The mine point in this stage is to establish a simple, ideally super cost effective, basline.\n",
    "In the real world there is a tradeoff between complexity and perforamnce, and the DS job, among others, is to present a tradeoff tables of what performance is achivalbel at what complexity level. \n",
    "\n",
    "to which models with increased complexity and resource demands will be compared. Complexity should then be translated into cost. For example:\n",
    " * Compute cost \n",
    " * Maintenance cost\n",
    " * Serving costs (i.e. is new platform needed?) \n",
    " "
   ]
  },
  {
   "cell_type": "markdown",
   "metadata": {
    "jupyter": {
     "source_hidden": true
    },
    "tags": []
   },
   "source": [
    "## Loading the data"
   ]
  },
  {
   "cell_type": "code",
   "execution_count": 2,
   "metadata": {
    "jupyter": {
     "source_hidden": true
    },
    "tags": []
   },
   "outputs": [
    {
     "data": {
      "text/html": [
       "        <script type=\"text/javascript\">\n",
       "        window.PlotlyConfig = {MathJaxConfig: 'local'};\n",
       "        if (window.MathJax) {MathJax.Hub.Config({SVG: {font: \"STIX-Web\"}});}\n",
       "        if (typeof require !== 'undefined') {\n",
       "        require.undef(\"plotly\");\n",
       "        requirejs.config({\n",
       "            paths: {\n",
       "                'plotly': ['https://cdn.plot.ly/plotly-2.9.0.min']\n",
       "            }\n",
       "        });\n",
       "        require(['plotly'], function(Plotly) {\n",
       "            window._Plotly = Plotly;\n",
       "        });\n",
       "        }\n",
       "        </script>\n",
       "        "
      ]
     },
     "metadata": {},
     "output_type": "display_data"
    }
   ],
   "source": [
    "import pandas as pd\n",
    "import cufflinks as cf; cf.go_offline()"
   ]
  },
  {
   "cell_type": "code",
   "execution_count": 3,
   "metadata": {
    "collapsed": true,
    "jupyter": {
     "outputs_hidden": true,
     "source_hidden": true
    },
    "tags": []
   },
   "outputs": [
    {
     "data": {
      "text/plain": [
       "(129971, 14)"
      ]
     },
     "execution_count": 3,
     "metadata": {},
     "output_type": "execute_result"
    }
   ],
   "source": [
    "wine_reviews = pd.read_csv(\"data/winemag-data-130k-v2.csv\")\n",
    "wine_reviews.shape"
   ]
  },
  {
   "cell_type": "code",
   "execution_count": 4,
   "metadata": {
    "collapsed": true,
    "jupyter": {
     "outputs_hidden": true,
     "source_hidden": true
    },
    "tags": []
   },
   "outputs": [
    {
     "data": {
      "text/html": [
       "<div>\n",
       "<style scoped>\n",
       "    .dataframe tbody tr th:only-of-type {\n",
       "        vertical-align: middle;\n",
       "    }\n",
       "\n",
       "    .dataframe tbody tr th {\n",
       "        vertical-align: top;\n",
       "    }\n",
       "\n",
       "    .dataframe thead th {\n",
       "        text-align: right;\n",
       "    }\n",
       "</style>\n",
       "<table border=\"1\" class=\"dataframe\">\n",
       "  <thead>\n",
       "    <tr style=\"text-align: right;\">\n",
       "      <th></th>\n",
       "      <th>Unnamed: 0</th>\n",
       "      <th>country</th>\n",
       "      <th>description</th>\n",
       "      <th>designation</th>\n",
       "      <th>points</th>\n",
       "      <th>price</th>\n",
       "      <th>province</th>\n",
       "      <th>region_1</th>\n",
       "      <th>region_2</th>\n",
       "      <th>taster_name</th>\n",
       "      <th>taster_twitter_handle</th>\n",
       "      <th>title</th>\n",
       "      <th>variety</th>\n",
       "      <th>winery</th>\n",
       "    </tr>\n",
       "  </thead>\n",
       "  <tbody>\n",
       "    <tr>\n",
       "      <th>90821</th>\n",
       "      <td>90821</td>\n",
       "      <td>US</td>\n",
       "      <td>An immense wine, inky purple, packed with blac...</td>\n",
       "      <td>Big Papa Old Block</td>\n",
       "      <td>93</td>\n",
       "      <td>49.0</td>\n",
       "      <td>Washington</td>\n",
       "      <td>Columbia Valley (WA)</td>\n",
       "      <td>Columbia Valley</td>\n",
       "      <td>Paul Gregutt</td>\n",
       "      <td>@paulgwine</td>\n",
       "      <td>Efeste 2008 Big Papa Old Block Cabernet Sauvig...</td>\n",
       "      <td>Cabernet Sauvignon</td>\n",
       "      <td>Efeste</td>\n",
       "    </tr>\n",
       "    <tr>\n",
       "      <th>122628</th>\n",
       "      <td>122628</td>\n",
       "      <td>Australia</td>\n",
       "      <td>Big butterscotch—aromas and flavors—come close...</td>\n",
       "      <td>Giants Creek</td>\n",
       "      <td>84</td>\n",
       "      <td>17.0</td>\n",
       "      <td>New South Wales</td>\n",
       "      <td>Hunter Valley</td>\n",
       "      <td>NaN</td>\n",
       "      <td>Joe Czerwinski</td>\n",
       "      <td>@JoeCz</td>\n",
       "      <td>Rosemount 1999 Giants Creek Chardonnay (Hunter...</td>\n",
       "      <td>Chardonnay</td>\n",
       "      <td>Rosemount</td>\n",
       "    </tr>\n",
       "    <tr>\n",
       "      <th>45676</th>\n",
       "      <td>45676</td>\n",
       "      <td>France</td>\n",
       "      <td>A wine that tastes of its granite soil, very l...</td>\n",
       "      <td>NaN</td>\n",
       "      <td>88</td>\n",
       "      <td>24.0</td>\n",
       "      <td>France Other</td>\n",
       "      <td>Patrimonio</td>\n",
       "      <td>NaN</td>\n",
       "      <td>Roger Voss</td>\n",
       "      <td>@vossroger</td>\n",
       "      <td>Clos Teddi 2008 Nielluciu (Patrimonio)</td>\n",
       "      <td>Nielluciu</td>\n",
       "      <td>Clos Teddi</td>\n",
       "    </tr>\n",
       "    <tr>\n",
       "      <th>116587</th>\n",
       "      <td>116587</td>\n",
       "      <td>Italy</td>\n",
       "      <td>Aromas of pressed blue flower, spiced plum and...</td>\n",
       "      <td>San Martino</td>\n",
       "      <td>90</td>\n",
       "      <td>52.0</td>\n",
       "      <td>Tuscany</td>\n",
       "      <td>Bolgheri Superiore</td>\n",
       "      <td>NaN</td>\n",
       "      <td>Kerin O’Keefe</td>\n",
       "      <td>@kerinokeefe</td>\n",
       "      <td>Cipriana 2011 San Martino  (Bolgheri Superiore)</td>\n",
       "      <td>Red Blend</td>\n",
       "      <td>Cipriana</td>\n",
       "    </tr>\n",
       "    <tr>\n",
       "      <th>109705</th>\n",
       "      <td>109705</td>\n",
       "      <td>US</td>\n",
       "      <td>This is a classic Napa Valley floor Cabernet, ...</td>\n",
       "      <td>Estate Grown</td>\n",
       "      <td>89</td>\n",
       "      <td>60.0</td>\n",
       "      <td>California</td>\n",
       "      <td>Napa Valley</td>\n",
       "      <td>Napa</td>\n",
       "      <td>Virginie Boone</td>\n",
       "      <td>@vboone</td>\n",
       "      <td>Grgich Hills 2011 Estate Grown Cabernet Sauvig...</td>\n",
       "      <td>Cabernet Sauvignon</td>\n",
       "      <td>Grgich Hills</td>\n",
       "    </tr>\n",
       "  </tbody>\n",
       "</table>\n",
       "</div>"
      ],
      "text/plain": [
       "        Unnamed: 0    country  \\\n",
       "90821        90821         US   \n",
       "122628      122628  Australia   \n",
       "45676        45676     France   \n",
       "116587      116587      Italy   \n",
       "109705      109705         US   \n",
       "\n",
       "                                              description         designation  \\\n",
       "90821   An immense wine, inky purple, packed with blac...  Big Papa Old Block   \n",
       "122628  Big butterscotch—aromas and flavors—come close...        Giants Creek   \n",
       "45676   A wine that tastes of its granite soil, very l...                 NaN   \n",
       "116587  Aromas of pressed blue flower, spiced plum and...         San Martino   \n",
       "109705  This is a classic Napa Valley floor Cabernet, ...        Estate Grown   \n",
       "\n",
       "        points  price         province              region_1         region_2  \\\n",
       "90821       93   49.0       Washington  Columbia Valley (WA)  Columbia Valley   \n",
       "122628      84   17.0  New South Wales         Hunter Valley              NaN   \n",
       "45676       88   24.0     France Other            Patrimonio              NaN   \n",
       "116587      90   52.0          Tuscany    Bolgheri Superiore              NaN   \n",
       "109705      89   60.0       California           Napa Valley             Napa   \n",
       "\n",
       "           taster_name taster_twitter_handle  \\\n",
       "90821     Paul Gregutt           @paulgwine    \n",
       "122628  Joe Czerwinski                @JoeCz   \n",
       "45676       Roger Voss            @vossroger   \n",
       "116587   Kerin O’Keefe          @kerinokeefe   \n",
       "109705  Virginie Boone               @vboone   \n",
       "\n",
       "                                                    title             variety  \\\n",
       "90821   Efeste 2008 Big Papa Old Block Cabernet Sauvig...  Cabernet Sauvignon   \n",
       "122628  Rosemount 1999 Giants Creek Chardonnay (Hunter...          Chardonnay   \n",
       "45676              Clos Teddi 2008 Nielluciu (Patrimonio)           Nielluciu   \n",
       "116587    Cipriana 2011 San Martino  (Bolgheri Superiore)           Red Blend   \n",
       "109705  Grgich Hills 2011 Estate Grown Cabernet Sauvig...  Cabernet Sauvignon   \n",
       "\n",
       "              winery  \n",
       "90821         Efeste  \n",
       "122628     Rosemount  \n",
       "45676     Clos Teddi  \n",
       "116587      Cipriana  \n",
       "109705  Grgich Hills  "
      ]
     },
     "execution_count": 4,
     "metadata": {},
     "output_type": "execute_result"
    }
   ],
   "source": [
    "wine_reviews.sample(5)"
   ]
  },
  {
   "cell_type": "markdown",
   "metadata": {
    "jp-MarkdownHeadingCollapsed": true,
    "tags": []
   },
   "source": [
    "## Points prediction"
   ]
  },
  {
   "cell_type": "markdown",
   "metadata": {
    "tags": []
   },
   "source": [
    "Points is descrete value target. There for we are talking about a prediction (Regression) problem (in contrary to classification problem). Prediction solutions can be measured in few metrics:\n",
    "\n",
    "* MSE - [Mean score error](https://en.wikipedia.org/wiki/Mean_squared_error)\n",
    "* R2 - [R Square](https://en.wikipedia.org/wiki/Coefficient_of_determination)\n",
    "* MAE - [Mean absolut error](https://en.wikipedia.org/wiki/Mean_absolute_error)\n",
    "\n",
    "Read more [here](https://towardsdatascience.com/what-are-the-best-metrics-to-evaluate-your-regression-model-418ca481755b)"
   ]
  },
  {
   "cell_type": "markdown",
   "metadata": {},
   "source": [
    "### Train and test set split"
   ]
  },
  {
   "cell_type": "markdown",
   "metadata": {
    "tags": []
   },
   "source": [
    "To properly report results, let's split to train and test datasets:"
   ]
  },
  {
   "cell_type": "code",
   "execution_count": 5,
   "metadata": {
    "tags": []
   },
   "outputs": [],
   "source": [
    "wine_reviews = wine_reviews.drop(columns=['Unnamed: 0'])\n",
    "wine_reviews = wine_reviews.drop_duplicates()\n",
    "train_data = wine_reviews.sample(frac = 0.8)\n",
    "test_data = wine_reviews[~wine_reviews.index.isin(train_data.index)]\n",
    "assert(len(train_data) + len(test_data) == len(wine_reviews))"
   ]
  },
  {
   "cell_type": "code",
   "execution_count": 6,
   "metadata": {
    "collapsed": true,
    "jupyter": {
     "outputs_hidden": true
    },
    "tags": []
   },
   "outputs": [
    {
     "data": {
      "text/plain": [
       "(23998, 95990)"
      ]
     },
     "execution_count": 6,
     "metadata": {},
     "output_type": "execute_result"
    }
   ],
   "source": [
    "len(test_data), len(train_data)"
   ]
  },
  {
   "cell_type": "markdown",
   "metadata": {
    "tags": []
   },
   "source": [
    "### Baselines"
   ]
  },
  {
   "cell_type": "code",
   "execution_count": 8,
   "metadata": {
    "tags": []
   },
   "outputs": [],
   "source": [
    "def calc_prediction_quality(df, pred_score_col, true_score_col):\n",
    "    return pd.Series({'MSE': mean_squared_error(df[true_score_col], df[pred_score_col]),\n",
    "                      'MAE': mean_absolute_error(df[true_score_col], df[pred_score_col]),\n",
    "                      'R2': r2_score(df[true_score_col], df[pred_score_col])})"
   ]
  },
  {
   "cell_type": "markdown",
   "metadata": {
    "tags": []
   },
   "source": [
    "#### Baseline 1"
   ]
  },
  {
   "cell_type": "markdown",
   "metadata": {
    "tags": []
   },
   "source": [
    "The most basic baseline is simply the average points. The implementaion is as simple as:"
   ]
  },
  {
   "cell_type": "code",
   "execution_count": 9,
   "metadata": {
    "collapsed": true,
    "jupyter": {
     "outputs_hidden": true
    },
    "tags": []
   },
   "outputs": [
    {
     "data": {
      "text/plain": [
       "MSE    9.406251\n",
       "MAE    2.513368\n",
       "R2    -0.000090\n",
       "dtype: float64"
      ]
     },
     "execution_count": 9,
     "metadata": {},
     "output_type": "execute_result"
    }
   ],
   "source": [
    "test_data['basiline_1_predicted_points'] = train_data.points.mean()\n",
    "b1_stats = calc_prediction_quality(test_data, 'basiline_1_predicted_points', 'points')\n",
    "b1_stats"
   ]
  },
  {
   "cell_type": "markdown",
   "metadata": {
    "tags": []
   },
   "source": [
    "#### Basline 2"
   ]
  },
  {
   "cell_type": "markdown",
   "metadata": {
    "tags": []
   },
   "source": [
    "We can probably improve by predicting the average score based on the origin country:"
   ]
  },
  {
   "cell_type": "code",
   "execution_count": 10,
   "metadata": {
    "collapsed": true,
    "jupyter": {
     "outputs_hidden": true
    },
    "tags": []
   },
   "outputs": [
    {
     "data": {
      "text/plain": [
       "country\n",
       "Argentina                 86.605629\n",
       "Armenia                   88.000000\n",
       "Australia                 88.503398\n",
       "Austria                   90.117768\n",
       "Bosnia and Herzegovina    86.500000\n",
       "Name: points, dtype: float64"
      ]
     },
     "execution_count": 10,
     "metadata": {},
     "output_type": "execute_result"
    }
   ],
   "source": [
    "avg_points_by_country = train_data.groupby('country').points.mean()\n",
    "avg_points_by_country.head()"
   ]
  },
  {
   "cell_type": "code",
   "execution_count": 11,
   "metadata": {
    "collapsed": true,
    "jupyter": {
     "outputs_hidden": true
    },
    "tags": []
   },
   "outputs": [
    {
     "data": {
      "text/plain": [
       "MSE    8.926484\n",
       "MAE    2.446500\n",
       "R2     0.050920\n",
       "dtype: float64"
      ]
     },
     "execution_count": 11,
     "metadata": {},
     "output_type": "execute_result"
    }
   ],
   "source": [
    "test_data['basiline_2_predicted_points'] = test_data.country.map(avg_points_by_country).fillna(train_data.points.mean())\n",
    "b2_stats = calc_prediction_quality(test_data, 'basiline_2_predicted_points', 'points')\n",
    "b2_stats"
   ]
  },
  {
   "cell_type": "markdown",
   "metadata": {
    "tags": []
   },
   "source": [
    "### Baseline 3"
   ]
  },
  {
   "cell_type": "markdown",
   "metadata": {
    "tags": []
   },
   "source": [
    "Adding more breakdowns will increase our granularity but can result in overfitting. Yet:"
   ]
  },
  {
   "cell_type": "code",
   "execution_count": 12,
   "metadata": {
    "collapsed": true,
    "jupyter": {
     "outputs_hidden": true
    },
    "tags": []
   },
   "outputs": [
    {
     "data": {
      "text/plain": [
       "country    province        \n",
       "Argentina  Mendoza Province    86.729598\n",
       "           Other               85.869880\n",
       "Armenia    Armenia             88.000000\n",
       "Australia  Australia Other     85.603352\n",
       "           New South Wales     87.718750\n",
       "Name: basiline_3_predicted_points, dtype: float64"
      ]
     },
     "execution_count": 12,
     "metadata": {},
     "output_type": "execute_result"
    }
   ],
   "source": [
    "avg_points_by_country_and_region = train_data.groupby(['country','province']).points.mean().rename('basiline_3_predicted_points')\n",
    "avg_points_by_country_and_region.head()"
   ]
  },
  {
   "cell_type": "code",
   "execution_count": 13,
   "metadata": {
    "collapsed": true,
    "jupyter": {
     "outputs_hidden": true
    },
    "tags": []
   },
   "outputs": [
    {
     "data": {
      "text/plain": [
       "((23998, 16), (23998, 15))"
      ]
     },
     "execution_count": 13,
     "metadata": {},
     "output_type": "execute_result"
    }
   ],
   "source": [
    "test_data_with_baseline_3 = test_data.merge(avg_points_by_country_and_region, on = ['country','province'], how='left')\n",
    "test_data_with_baseline_3.basiline_3_predicted_points = test_data_with_baseline_3.basiline_3_predicted_points.fillna(test_data_with_baseline_3.basiline_2_predicted_points).fillna(test_data.basiline_1_predicted_points)\n",
    "test_data_with_baseline_3.shape, test_data.shape"
   ]
  },
  {
   "cell_type": "code",
   "execution_count": 14,
   "metadata": {
    "collapsed": true,
    "jupyter": {
     "outputs_hidden": true
    },
    "tags": []
   },
   "outputs": [
    {
     "data": {
      "text/plain": [
       "MSE    8.380137\n",
       "MAE    2.352921\n",
       "R2     0.109008\n",
       "dtype: float64"
      ]
     },
     "execution_count": 14,
     "metadata": {},
     "output_type": "execute_result"
    }
   ],
   "source": [
    "b3_stats = calc_prediction_quality(test_data_with_baseline_3, 'basiline_3_predicted_points', 'points')\n",
    "b3_stats"
   ]
  },
  {
   "cell_type": "markdown",
   "metadata": {
    "tags": []
   },
   "source": [
    "### Baselines summary"
   ]
  },
  {
   "cell_type": "code",
   "execution_count": 15,
   "metadata": {
    "collapsed": true,
    "jupyter": {
     "outputs_hidden": true
    },
    "tags": []
   },
   "outputs": [
    {
     "data": {
      "text/html": [
       "<div>\n",
       "<style scoped>\n",
       "    .dataframe tbody tr th:only-of-type {\n",
       "        vertical-align: middle;\n",
       "    }\n",
       "\n",
       "    .dataframe tbody tr th {\n",
       "        vertical-align: top;\n",
       "    }\n",
       "\n",
       "    .dataframe thead th {\n",
       "        text-align: right;\n",
       "    }\n",
       "</style>\n",
       "<table border=\"1\" class=\"dataframe\">\n",
       "  <thead>\n",
       "    <tr style=\"text-align: right;\">\n",
       "      <th></th>\n",
       "      <th>MSE</th>\n",
       "      <th>MAE</th>\n",
       "      <th>R2</th>\n",
       "    </tr>\n",
       "  </thead>\n",
       "  <tbody>\n",
       "    <tr>\n",
       "      <th>baseline_1</th>\n",
       "      <td>9.406251</td>\n",
       "      <td>2.513368</td>\n",
       "      <td>-0.000090</td>\n",
       "    </tr>\n",
       "    <tr>\n",
       "      <th>baseline_2</th>\n",
       "      <td>8.926484</td>\n",
       "      <td>2.446500</td>\n",
       "      <td>0.050920</td>\n",
       "    </tr>\n",
       "    <tr>\n",
       "      <th>baseline_3</th>\n",
       "      <td>8.380137</td>\n",
       "      <td>2.352921</td>\n",
       "      <td>0.109008</td>\n",
       "    </tr>\n",
       "  </tbody>\n",
       "</table>\n",
       "</div>"
      ],
      "text/plain": [
       "                 MSE       MAE        R2\n",
       "baseline_1  9.406251  2.513368 -0.000090\n",
       "baseline_2  8.926484  2.446500  0.050920\n",
       "baseline_3  8.380137  2.352921  0.109008"
      ]
     },
     "execution_count": 15,
     "metadata": {},
     "output_type": "execute_result"
    }
   ],
   "source": [
    "baseline_summary = pd.DataFrame([b1_stats, b2_stats, b3_stats], index=['baseline_1', 'baseline_2','baseline_3'])\n",
    "baseline_summary"
   ]
  },
  {
   "cell_type": "code",
   "execution_count": 16,
   "metadata": {
    "tags": []
   },
   "outputs": [],
   "source": [
    "baseline_summary.to_csv('data/baselines_summary.csv', index=False)"
   ]
  },
  {
   "cell_type": "markdown",
   "metadata": {
    "tags": []
   },
   "source": [
    "## Training a Boosting trees regressor"
   ]
  },
  {
   "cell_type": "code",
   "execution_count": 17,
   "metadata": {
    "tags": []
   },
   "outputs": [],
   "source": [
    "le = LabelEncoder()"
   ]
  },
  {
   "cell_type": "markdown",
   "metadata": {
    "tags": []
   },
   "source": [
    "#### Preparing data - Lable encoding categorical features"
   ]
  },
  {
   "cell_type": "code",
   "execution_count": 18,
   "metadata": {
    "tags": []
   },
   "outputs": [],
   "source": [
    "categorical_features = ['country','province','region_1','region_2','taster_name','variety','winery']\n",
    "numerical_features = ['price']\n",
    "features = categorical_features + numerical_features"
   ]
  },
  {
   "cell_type": "code",
   "execution_count": 19,
   "metadata": {
    "collapsed": true,
    "jupyter": {
     "outputs_hidden": true
    },
    "tags": []
   },
   "outputs": [
    {
     "data": {
      "text/html": [
       "<div>\n",
       "<style scoped>\n",
       "    .dataframe tbody tr th:only-of-type {\n",
       "        vertical-align: middle;\n",
       "    }\n",
       "\n",
       "    .dataframe tbody tr th {\n",
       "        vertical-align: top;\n",
       "    }\n",
       "\n",
       "    .dataframe thead th {\n",
       "        text-align: right;\n",
       "    }\n",
       "</style>\n",
       "<table border=\"1\" class=\"dataframe\">\n",
       "  <thead>\n",
       "    <tr style=\"text-align: right;\">\n",
       "      <th></th>\n",
       "      <th>country</th>\n",
       "      <th>province</th>\n",
       "      <th>region_1</th>\n",
       "      <th>region_2</th>\n",
       "      <th>taster_name</th>\n",
       "      <th>variety</th>\n",
       "      <th>winery</th>\n",
       "      <th>price</th>\n",
       "      <th>points</th>\n",
       "    </tr>\n",
       "  </thead>\n",
       "  <tbody>\n",
       "    <tr>\n",
       "      <th>0</th>\n",
       "      <td>22</td>\n",
       "      <td>332</td>\n",
       "      <td>424</td>\n",
       "      <td>6</td>\n",
       "      <td>9</td>\n",
       "      <td>691</td>\n",
       "      <td>11608</td>\n",
       "      <td>-1.0</td>\n",
       "      <td>87</td>\n",
       "    </tr>\n",
       "    <tr>\n",
       "      <th>1</th>\n",
       "      <td>32</td>\n",
       "      <td>108</td>\n",
       "      <td>738</td>\n",
       "      <td>6</td>\n",
       "      <td>16</td>\n",
       "      <td>451</td>\n",
       "      <td>12956</td>\n",
       "      <td>15.0</td>\n",
       "      <td>87</td>\n",
       "    </tr>\n",
       "    <tr>\n",
       "      <th>2</th>\n",
       "      <td>41</td>\n",
       "      <td>269</td>\n",
       "      <td>1218</td>\n",
       "      <td>17</td>\n",
       "      <td>15</td>\n",
       "      <td>437</td>\n",
       "      <td>13018</td>\n",
       "      <td>14.0</td>\n",
       "      <td>87</td>\n",
       "    </tr>\n",
       "    <tr>\n",
       "      <th>3</th>\n",
       "      <td>41</td>\n",
       "      <td>218</td>\n",
       "      <td>549</td>\n",
       "      <td>6</td>\n",
       "      <td>0</td>\n",
       "      <td>480</td>\n",
       "      <td>14390</td>\n",
       "      <td>13.0</td>\n",
       "      <td>87</td>\n",
       "    </tr>\n",
       "    <tr>\n",
       "      <th>4</th>\n",
       "      <td>41</td>\n",
       "      <td>269</td>\n",
       "      <td>1218</td>\n",
       "      <td>17</td>\n",
       "      <td>15</td>\n",
       "      <td>441</td>\n",
       "      <td>14621</td>\n",
       "      <td>65.0</td>\n",
       "      <td>87</td>\n",
       "    </tr>\n",
       "  </tbody>\n",
       "</table>\n",
       "</div>"
      ],
      "text/plain": [
       "   country  province  region_1  region_2  taster_name  variety  winery  price  \\\n",
       "0       22       332       424         6            9      691   11608   -1.0   \n",
       "1       32       108       738         6           16      451   12956   15.0   \n",
       "2       41       269      1218        17           15      437   13018   14.0   \n",
       "3       41       218       549         6            0      480   14390   13.0   \n",
       "4       41       269      1218        17           15      441   14621   65.0   \n",
       "\n",
       "   points  \n",
       "0      87  \n",
       "1      87  \n",
       "2      87  \n",
       "3      87  \n",
       "4      87  "
      ]
     },
     "execution_count": 19,
     "metadata": {},
     "output_type": "execute_result"
    }
   ],
   "source": [
    "encoded_features = wine_reviews[categorical_features].apply(lambda col: le.fit_transform(col.fillna('NA')))\n",
    "encoded_features['price'] = wine_reviews.price.fillna(-1)\n",
    "encoded_features['points'] = wine_reviews.points\n",
    "encoded_features.head()"
   ]
  },
  {
   "cell_type": "markdown",
   "metadata": {
    "tags": []
   },
   "source": [
    "#### Re-splitting to train and test"
   ]
  },
  {
   "cell_type": "code",
   "execution_count": 20,
   "metadata": {
    "tags": []
   },
   "outputs": [],
   "source": [
    "train_encoded_features = encoded_features[encoded_features.index.isin(train_data.index)]\n",
    "test_encoded_features = encoded_features[encoded_features.index.isin(test_data.index)]\n",
    "assert(len(train_encoded_features) + len(test_encoded_features) == len(wine_reviews))"
   ]
  },
  {
   "cell_type": "markdown",
   "metadata": {
    "tags": []
   },
   "source": [
    "#### Fitting a tree-regressor"
   ]
  },
  {
   "cell_type": "code",
   "execution_count": 22,
   "metadata": {
    "collapsed": true,
    "jupyter": {
     "outputs_hidden": true
    },
    "tags": []
   },
   "outputs": [
    {
     "name": "stdout",
     "output_type": "stream",
     "text": [
      "<class 'pandas.core.frame.DataFrame'>\n",
      "Int64Index: 95990 entries, 2 to 129970\n",
      "Data columns (total 9 columns):\n",
      " #   Column       Non-Null Count  Dtype  \n",
      "---  ------       --------------  -----  \n",
      " 0   country      95990 non-null  int32  \n",
      " 1   province     95990 non-null  int32  \n",
      " 2   region_1     95990 non-null  int32  \n",
      " 3   region_2     95990 non-null  int32  \n",
      " 4   taster_name  95990 non-null  int32  \n",
      " 5   variety      95990 non-null  int32  \n",
      " 6   winery       95990 non-null  int32  \n",
      " 7   price        95990 non-null  float64\n",
      " 8   points       95990 non-null  int64  \n",
      "dtypes: float64(1), int32(7), int64(1)\n",
      "memory usage: 4.8 MB\n"
     ]
    }
   ],
   "source": [
    "train_encoded_features.info()"
   ]
  },
  {
   "cell_type": "code",
   "execution_count": 23,
   "metadata": {
    "tags": []
   },
   "outputs": [],
   "source": [
    "xgb_clf, clf_name = i_feel_lucky_xgboost_training(train_encoded_features, test_encoded_features, features, 'points', name='xgb_clf_points_prediction')"
   ]
  },
  {
   "cell_type": "markdown",
   "metadata": {
    "tags": []
   },
   "source": [
    "Let's look at the function output - specifically the **xgb_clf_points_prediction** column:"
   ]
  },
  {
   "cell_type": "code",
   "execution_count": 24,
   "metadata": {
    "collapsed": true,
    "jupyter": {
     "outputs_hidden": true
    },
    "tags": []
   },
   "outputs": [
    {
     "data": {
      "text/html": [
       "<div>\n",
       "<style scoped>\n",
       "    .dataframe tbody tr th:only-of-type {\n",
       "        vertical-align: middle;\n",
       "    }\n",
       "\n",
       "    .dataframe tbody tr th {\n",
       "        vertical-align: top;\n",
       "    }\n",
       "\n",
       "    .dataframe thead th {\n",
       "        text-align: right;\n",
       "    }\n",
       "</style>\n",
       "<table border=\"1\" class=\"dataframe\">\n",
       "  <thead>\n",
       "    <tr style=\"text-align: right;\">\n",
       "      <th></th>\n",
       "      <th>country</th>\n",
       "      <th>province</th>\n",
       "      <th>region_1</th>\n",
       "      <th>region_2</th>\n",
       "      <th>taster_name</th>\n",
       "      <th>variety</th>\n",
       "      <th>winery</th>\n",
       "      <th>price</th>\n",
       "      <th>points</th>\n",
       "      <th>xgb_clf_points_prediction</th>\n",
       "    </tr>\n",
       "  </thead>\n",
       "  <tbody>\n",
       "    <tr>\n",
       "      <th>0</th>\n",
       "      <td>22</td>\n",
       "      <td>332</td>\n",
       "      <td>424</td>\n",
       "      <td>6</td>\n",
       "      <td>9</td>\n",
       "      <td>691</td>\n",
       "      <td>11608</td>\n",
       "      <td>-1.0</td>\n",
       "      <td>87</td>\n",
       "      <td>87</td>\n",
       "    </tr>\n",
       "    <tr>\n",
       "      <th>1</th>\n",
       "      <td>32</td>\n",
       "      <td>108</td>\n",
       "      <td>738</td>\n",
       "      <td>6</td>\n",
       "      <td>16</td>\n",
       "      <td>451</td>\n",
       "      <td>12956</td>\n",
       "      <td>15.0</td>\n",
       "      <td>87</td>\n",
       "      <td>87</td>\n",
       "    </tr>\n",
       "    <tr>\n",
       "      <th>4</th>\n",
       "      <td>41</td>\n",
       "      <td>269</td>\n",
       "      <td>1218</td>\n",
       "      <td>17</td>\n",
       "      <td>15</td>\n",
       "      <td>441</td>\n",
       "      <td>14621</td>\n",
       "      <td>65.0</td>\n",
       "      <td>87</td>\n",
       "      <td>92</td>\n",
       "    </tr>\n",
       "    <tr>\n",
       "      <th>6</th>\n",
       "      <td>22</td>\n",
       "      <td>332</td>\n",
       "      <td>1205</td>\n",
       "      <td>6</td>\n",
       "      <td>9</td>\n",
       "      <td>186</td>\n",
       "      <td>15014</td>\n",
       "      <td>16.0</td>\n",
       "      <td>87</td>\n",
       "      <td>87</td>\n",
       "    </tr>\n",
       "    <tr>\n",
       "      <th>8</th>\n",
       "      <td>17</td>\n",
       "      <td>308</td>\n",
       "      <td>738</td>\n",
       "      <td>6</td>\n",
       "      <td>1</td>\n",
       "      <td>209</td>\n",
       "      <td>8415</td>\n",
       "      <td>12.0</td>\n",
       "      <td>87</td>\n",
       "      <td>87</td>\n",
       "    </tr>\n",
       "  </tbody>\n",
       "</table>\n",
       "</div>"
      ],
      "text/plain": [
       "   country  province  region_1  region_2  taster_name  variety  winery  price  \\\n",
       "0       22       332       424         6            9      691   11608   -1.0   \n",
       "1       32       108       738         6           16      451   12956   15.0   \n",
       "4       41       269      1218        17           15      441   14621   65.0   \n",
       "6       22       332      1205         6            9      186   15014   16.0   \n",
       "8       17       308       738         6            1      209    8415   12.0   \n",
       "\n",
       "   points  xgb_clf_points_prediction  \n",
       "0      87                         87  \n",
       "1      87                         87  \n",
       "4      87                         92  \n",
       "6      87                         87  \n",
       "8      87                         87  "
      ]
     },
     "execution_count": 24,
     "metadata": {},
     "output_type": "execute_result"
    }
   ],
   "source": [
    "test_encoded_features.head()"
   ]
  },
  {
   "cell_type": "code",
   "execution_count": 25,
   "metadata": {
    "collapsed": true,
    "jupyter": {
     "outputs_hidden": true
    },
    "tags": []
   },
   "outputs": [
    {
     "data": {
      "text/plain": [
       "MSE    6.205267\n",
       "MAE    1.891741\n",
       "R2     0.340245\n",
       "dtype: float64"
      ]
     },
     "execution_count": 25,
     "metadata": {},
     "output_type": "execute_result"
    }
   ],
   "source": [
    "xgb_stats = calc_prediction_quality(test_encoded_features, 'xgb_clf_points_prediction','points')\n",
    "xgb_stats"
   ]
  },
  {
   "cell_type": "code",
   "execution_count": 26,
   "metadata": {
    "collapsed": true,
    "jupyter": {
     "outputs_hidden": true
    },
    "tags": []
   },
   "outputs": [
    {
     "data": {
      "text/html": [
       "<div>\n",
       "<style scoped>\n",
       "    .dataframe tbody tr th:only-of-type {\n",
       "        vertical-align: middle;\n",
       "    }\n",
       "\n",
       "    .dataframe tbody tr th {\n",
       "        vertical-align: top;\n",
       "    }\n",
       "\n",
       "    .dataframe thead th {\n",
       "        text-align: right;\n",
       "    }\n",
       "</style>\n",
       "<table border=\"1\" class=\"dataframe\">\n",
       "  <thead>\n",
       "    <tr style=\"text-align: right;\">\n",
       "      <th></th>\n",
       "      <th>MSE</th>\n",
       "      <th>MAE</th>\n",
       "      <th>R2</th>\n",
       "    </tr>\n",
       "  </thead>\n",
       "  <tbody>\n",
       "    <tr>\n",
       "      <th>baseline_1</th>\n",
       "      <td>9.406251</td>\n",
       "      <td>2.513368</td>\n",
       "      <td>-0.000090</td>\n",
       "    </tr>\n",
       "    <tr>\n",
       "      <th>baseline_2</th>\n",
       "      <td>8.926484</td>\n",
       "      <td>2.446500</td>\n",
       "      <td>0.050920</td>\n",
       "    </tr>\n",
       "    <tr>\n",
       "      <th>baseline_3</th>\n",
       "      <td>8.380137</td>\n",
       "      <td>2.352921</td>\n",
       "      <td>0.109008</td>\n",
       "    </tr>\n",
       "    <tr>\n",
       "      <th>regression_by_xgb</th>\n",
       "      <td>6.205267</td>\n",
       "      <td>1.891741</td>\n",
       "      <td>0.340245</td>\n",
       "    </tr>\n",
       "  </tbody>\n",
       "</table>\n",
       "</div>"
      ],
      "text/plain": [
       "                        MSE       MAE        R2\n",
       "baseline_1         9.406251  2.513368 -0.000090\n",
       "baseline_2         8.926484  2.446500  0.050920\n",
       "baseline_3         8.380137  2.352921  0.109008\n",
       "regression_by_xgb  6.205267  1.891741  0.340245"
      ]
     },
     "execution_count": 26,
     "metadata": {},
     "output_type": "execute_result"
    }
   ],
   "source": [
    "all_compared = pd.DataFrame([b1_stats, b2_stats, b3_stats, xgb_stats], index=['baseline_1', 'baseline_2','baseline_3','regression_by_xgb'])\n",
    "all_compared"
   ]
  },
  {
   "cell_type": "code",
   "execution_count": 27,
   "metadata": {
    "tags": []
   },
   "outputs": [],
   "source": [
    "all_compared.to_csv('data/all_models_compared.csv', index=False)"
   ]
  },
  {
   "cell_type": "markdown",
   "metadata": {},
   "source": [
    "# My part"
   ]
  },
  {
   "cell_type": "markdown",
   "metadata": {
    "tags": []
   },
   "source": [
    "## Bag of words"
   ]
  },
  {
   "cell_type": "code",
   "execution_count": 29,
   "metadata": {
    "jupyter": {
     "source_hidden": true
    },
    "tags": []
   },
   "outputs": [],
   "source": [
    "specialChars = ''.join([\",\", \":\", \"\\\"\", \"=\", \"&\", \";\", \"%\", \"$\",\"@\", \"%\", \"^\", \"*\", \"(\", \")\", \"{\", \"}\",'–','“', '”'\n",
    "                      \"[\", \"]\", \"|\", \"/\", \"\\\\\", \">\", \"<\", \"-\",\"!\", \"?\", \".\", \"'\",\"--\", \"---\", \"#\", '‘', '’', '…'])  \n",
    "space_chars = ['.',',',';', '&', '?','!']\n",
    "def remove_by_regex(tweets, regexp):\n",
    "    return tweets.replace(regexp, \"\")\n",
    "\n",
    "def remove_urls(tweets):\n",
    "    return remove_by_regex(tweets, regex.compile(r\"http\\S+\"))\n",
    "\n",
    "def remove_special_chars(tweets): \n",
    "    return tweets.apply(lambda tweet: ''.join([c for c in tweet if c not in specialChars]))\n",
    "\n",
    "def remove_usernames(tweets):\n",
    "    return remove_by_regex(tweets, regex.compile(r\"@[^\\s]+[\\s]?\"))\n",
    "\n",
    "def remove_numbers(tweets):\n",
    "    return remove_by_regex(tweets, regex.compile(r\"\\s?[0-9]+\\.?[0-9]*\"))\n",
    "\n",
    "def remove_emojis(tweets):\n",
    "    return tweets.apply(lambda tweet: ''.join(c for c in tweet if c not in emoji.UNICODE_EMOJI))\n",
    "\n",
    "def add_spaces(tweets):\n",
    "    def add_spaces_int(tweet):\n",
    "        for char in space_chars:\n",
    "            tweet = tweet.replace(char, char + ' ')\n",
    "        return tweet\n",
    "    return tweets.apply(lambda tweet: add_spaces_int(tweet))\n",
    "\n",
    "def leave_language_only(tweets):\n",
    "    for f in [remove_urls, remove_emojis, add_spaces, remove_numbers, remove_usernames, remove_special_chars]:\n",
    "        tweets = f(tweets)\n",
    "    return tweets"
   ]
  },
  {
   "cell_type": "code",
   "execution_count": 30,
   "metadata": {
    "collapsed": true,
    "jupyter": {
     "outputs_hidden": true,
     "source_hidden": true
    },
    "tags": []
   },
   "outputs": [
    {
     "name": "stdout",
     "output_type": "stream",
     "text": [
      "<class 'pandas.core.frame.DataFrame'>\n",
      "Int64Index: 119988 entries, 0 to 129970\n",
      "Data columns (total 14 columns):\n",
      " #   Column                 Non-Null Count   Dtype  \n",
      "---  ------                 --------------   -----  \n",
      " 0   country                119929 non-null  object \n",
      " 1   description            119988 non-null  object \n",
      " 2   designation            85443 non-null   object \n",
      " 3   points                 119988 non-null  int64  \n",
      " 4   price                  111593 non-null  float64\n",
      " 5   province               119929 non-null  object \n",
      " 6   region_1               100428 non-null  object \n",
      " 7   region_2               46769 non-null   object \n",
      " 8   taster_name            95071 non-null   object \n",
      " 9   taster_twitter_handle  90542 non-null   object \n",
      " 10  title                  119988 non-null  object \n",
      " 11  variety                119987 non-null  object \n",
      " 12  winery                 119988 non-null  object \n",
      " 13  pureDesc               119988 non-null  object \n",
      "dtypes: float64(1), int64(1), object(12)\n",
      "memory usage: 13.7+ MB\n"
     ]
    }
   ],
   "source": [
    "wine_reviews['pureDesc'] = leave_language_only(wine_reviews.description.str.lower())\n",
    "wine_reviews.info()"
   ]
  },
  {
   "cell_type": "markdown",
   "metadata": {
    "jupyter": {
     "source_hidden": true
    },
    "tags": []
   },
   "source": [
    "Cleaning up the english description - mainly removing numbers, punctuation etc."
   ]
  },
  {
   "cell_type": "code",
   "execution_count": 31,
   "metadata": {
    "collapsed": true,
    "jupyter": {
     "outputs_hidden": true,
     "source_hidden": true
    },
    "tags": []
   },
   "outputs": [
    {
     "data": {
      "text/html": [
       "<div>\n",
       "<style scoped>\n",
       "    .dataframe tbody tr th:only-of-type {\n",
       "        vertical-align: middle;\n",
       "    }\n",
       "\n",
       "    .dataframe tbody tr th {\n",
       "        vertical-align: top;\n",
       "    }\n",
       "\n",
       "    .dataframe thead th {\n",
       "        text-align: right;\n",
       "    }\n",
       "</style>\n",
       "<table border=\"1\" class=\"dataframe\">\n",
       "  <thead>\n",
       "    <tr style=\"text-align: right;\">\n",
       "      <th></th>\n",
       "      <th>description</th>\n",
       "      <th>pureDesc</th>\n",
       "    </tr>\n",
       "  </thead>\n",
       "  <tbody>\n",
       "    <tr>\n",
       "      <th>61312</th>\n",
       "      <td>Ripe oaky aromas include prune and raisin scen...</td>\n",
       "      <td>ripe oaky aromas include prune and raisin scen...</td>\n",
       "    </tr>\n",
       "  </tbody>\n",
       "</table>\n",
       "</div>"
      ],
      "text/plain": [
       "                                             description  \\\n",
       "61312  Ripe oaky aromas include prune and raisin scen...   \n",
       "\n",
       "                                                pureDesc  \n",
       "61312  ripe oaky aromas include prune and raisin scen...  "
      ]
     },
     "execution_count": 31,
     "metadata": {},
     "output_type": "execute_result"
    }
   ],
   "source": [
    "wine_reviews[['description','pureDesc']].sample()"
   ]
  },
  {
   "cell_type": "code",
   "execution_count": 32,
   "metadata": {
    "collapsed": true,
    "jupyter": {
     "outputs_hidden": true,
     "source_hidden": true
    },
    "tags": []
   },
   "outputs": [
    {
     "data": {
      "text/plain": [
       "['i', 'me', 'my', 'myself', 'we']"
      ]
     },
     "execution_count": 32,
     "metadata": {},
     "output_type": "execute_result"
    }
   ],
   "source": [
    "stopwords=nltk.corpus.stopwords.words(\"english\")\n",
    "stopwords[:5]"
   ]
  },
  {
   "cell_type": "code",
   "execution_count": 33,
   "metadata": {
    "collapsed": true,
    "jupyter": {
     "outputs_hidden": true
    },
    "tags": []
   },
   "outputs": [
    {
     "data": {
      "text/plain": [
       "['aromas',\n",
       " 'include',\n",
       " 'tropical',\n",
       " 'fruit',\n",
       " 'broom',\n",
       " 'brimstone',\n",
       " 'and',\n",
       " 'dried',\n",
       " 'herb',\n",
       " 'the',\n",
       " 'palate',\n",
       " 'isnt',\n",
       " 'overly',\n",
       " 'expressive',\n",
       " 'offering',\n",
       " 'unripened',\n",
       " 'apple',\n",
       " 'citrus',\n",
       " 'and',\n",
       " 'dried',\n",
       " 'sage',\n",
       " 'alongside',\n",
       " 'brisk',\n",
       " 'acidity']"
      ]
     },
     "execution_count": 33,
     "metadata": {},
     "output_type": "execute_result"
    }
   ],
   "source": [
    "nltk.word_tokenize(wine_reviews.pureDesc.iloc[0])"
   ]
  },
  {
   "cell_type": "markdown",
   "metadata": {
    "tags": []
   },
   "source": [
    "Cleaning up stopwords and setting up the train for the bow model:"
   ]
  },
  {
   "cell_type": "code",
   "execution_count": 34,
   "metadata": {
    "collapsed": true,
    "jupyter": {
     "outputs_hidden": true
    },
    "tags": []
   },
   "outputs": [
    {
     "data": {
      "text/html": [
       "<div>\n",
       "<style scoped>\n",
       "    .dataframe tbody tr th:only-of-type {\n",
       "        vertical-align: middle;\n",
       "    }\n",
       "\n",
       "    .dataframe tbody tr th {\n",
       "        vertical-align: top;\n",
       "    }\n",
       "\n",
       "    .dataframe thead th {\n",
       "        text-align: right;\n",
       "    }\n",
       "</style>\n",
       "<table border=\"1\" class=\"dataframe\">\n",
       "  <thead>\n",
       "    <tr style=\"text-align: right;\">\n",
       "      <th></th>\n",
       "      <th>word</th>\n",
       "      <th>wordCount</th>\n",
       "      <th>wordImportance</th>\n",
       "    </tr>\n",
       "  </thead>\n",
       "  <tbody>\n",
       "    <tr>\n",
       "      <th>0</th>\n",
       "      <td>wine</td>\n",
       "      <td>57613</td>\n",
       "      <td>0.000012</td>\n",
       "    </tr>\n",
       "    <tr>\n",
       "      <th>1</th>\n",
       "      <td>flavors</td>\n",
       "      <td>46373</td>\n",
       "      <td>0.000015</td>\n",
       "    </tr>\n",
       "    <tr>\n",
       "      <th>2</th>\n",
       "      <td>fruit</td>\n",
       "      <td>33301</td>\n",
       "      <td>0.000021</td>\n",
       "    </tr>\n",
       "    <tr>\n",
       "      <th>3</th>\n",
       "      <td>aromas</td>\n",
       "      <td>28981</td>\n",
       "      <td>0.000024</td>\n",
       "    </tr>\n",
       "    <tr>\n",
       "      <th>4</th>\n",
       "      <td>palate</td>\n",
       "      <td>27737</td>\n",
       "      <td>0.000025</td>\n",
       "    </tr>\n",
       "  </tbody>\n",
       "</table>\n",
       "</div>"
      ],
      "text/plain": [
       "      word  wordCount  wordImportance\n",
       "0     wine      57613        0.000012\n",
       "1  flavors      46373        0.000015\n",
       "2    fruit      33301        0.000021\n",
       "3   aromas      28981        0.000024\n",
       "4   palate      27737        0.000025"
      ]
     },
     "execution_count": 34,
     "metadata": {},
     "output_type": "execute_result"
    }
   ],
   "source": [
    "all_words_train = [word for desc in wine_reviews[wine_reviews.index.isin(train_data.index)].pureDesc for word in nltk.word_tokenize(desc) if word.lower() not in stopwords] # Words without stop words\n",
    "all_words = [word for desc in wine_reviews.pureDesc for word in nltk.word_tokenize(desc) if word.lower() not in stopwords] # Words without stop words\n",
    "words_train_df = DataFrame(data = all_words_train, columns = ['word']).word.value_counts().reset_index()\n",
    "words_train_df.columns = ['word','wordCount']\n",
    "words_train_df['wordImportance'] = len(words_train_df) / words_train_df.wordCount / words_train_df.wordCount.max()\n",
    "words_train_df.head()"
   ]
  },
  {
   "cell_type": "code",
   "execution_count": 35,
   "metadata": {
    "collapsed": true,
    "jupyter": {
     "outputs_hidden": true
    },
    "tags": []
   },
   "outputs": [
    {
     "data": {
      "application/vnd.plotly.v1+json": {
       "config": {
        "linkText": "Export to plot.ly",
        "plotlyServerURL": "https://plot.ly",
        "showLink": true
       },
       "data": [
        {
         "marker": {
          "color": "rgba(255, 153, 51, 0.6)",
          "line": {
           "color": "rgba(255, 153, 51, 1.0)",
           "width": 1
          }
         },
         "name": "wordCount",
         "orientation": "v",
         "text": "",
         "type": "bar",
         "x": [
          "wine",
          "flavors",
          "fruit",
          "aromas",
          "palate",
          "finish",
          "acidity",
          "tannins",
          "drink",
          "cherry",
          "ripe",
          "black",
          "spice",
          "notes",
          "red",
          "rich",
          "fresh",
          "nose",
          "oak",
          "dry"
         ],
         "y": [
          57613,
          46373,
          33301,
          28981,
          27737,
          25627,
          25606,
          22710,
          21984,
          20036,
          19732,
          18682,
          13924,
          13915,
          13824,
          12837,
          12389,
          12379,
          12285,
          11488
         ]
        }
       ],
       "layout": {
        "autosize": true,
        "legend": {
         "bgcolor": "#F5F6F9",
         "font": {
          "color": "#4D5663"
         }
        },
        "paper_bgcolor": "#F5F6F9",
        "plot_bgcolor": "#F5F6F9",
        "template": {
         "data": {
          "bar": [
           {
            "error_x": {
             "color": "#2a3f5f"
            },
            "error_y": {
             "color": "#2a3f5f"
            },
            "marker": {
             "line": {
              "color": "#E5ECF6",
              "width": 0.5
             },
             "pattern": {
              "fillmode": "overlay",
              "size": 10,
              "solidity": 0.2
             }
            },
            "type": "bar"
           }
          ],
          "barpolar": [
           {
            "marker": {
             "line": {
              "color": "#E5ECF6",
              "width": 0.5
             },
             "pattern": {
              "fillmode": "overlay",
              "size": 10,
              "solidity": 0.2
             }
            },
            "type": "barpolar"
           }
          ],
          "carpet": [
           {
            "aaxis": {
             "endlinecolor": "#2a3f5f",
             "gridcolor": "white",
             "linecolor": "white",
             "minorgridcolor": "white",
             "startlinecolor": "#2a3f5f"
            },
            "baxis": {
             "endlinecolor": "#2a3f5f",
             "gridcolor": "white",
             "linecolor": "white",
             "minorgridcolor": "white",
             "startlinecolor": "#2a3f5f"
            },
            "type": "carpet"
           }
          ],
          "choropleth": [
           {
            "colorbar": {
             "outlinewidth": 0,
             "ticks": ""
            },
            "type": "choropleth"
           }
          ],
          "contour": [
           {
            "colorbar": {
             "outlinewidth": 0,
             "ticks": ""
            },
            "colorscale": [
             [
              0,
              "#0d0887"
             ],
             [
              0.1111111111111111,
              "#46039f"
             ],
             [
              0.2222222222222222,
              "#7201a8"
             ],
             [
              0.3333333333333333,
              "#9c179e"
             ],
             [
              0.4444444444444444,
              "#bd3786"
             ],
             [
              0.5555555555555556,
              "#d8576b"
             ],
             [
              0.6666666666666666,
              "#ed7953"
             ],
             [
              0.7777777777777778,
              "#fb9f3a"
             ],
             [
              0.8888888888888888,
              "#fdca26"
             ],
             [
              1,
              "#f0f921"
             ]
            ],
            "type": "contour"
           }
          ],
          "contourcarpet": [
           {
            "colorbar": {
             "outlinewidth": 0,
             "ticks": ""
            },
            "type": "contourcarpet"
           }
          ],
          "heatmap": [
           {
            "colorbar": {
             "outlinewidth": 0,
             "ticks": ""
            },
            "colorscale": [
             [
              0,
              "#0d0887"
             ],
             [
              0.1111111111111111,
              "#46039f"
             ],
             [
              0.2222222222222222,
              "#7201a8"
             ],
             [
              0.3333333333333333,
              "#9c179e"
             ],
             [
              0.4444444444444444,
              "#bd3786"
             ],
             [
              0.5555555555555556,
              "#d8576b"
             ],
             [
              0.6666666666666666,
              "#ed7953"
             ],
             [
              0.7777777777777778,
              "#fb9f3a"
             ],
             [
              0.8888888888888888,
              "#fdca26"
             ],
             [
              1,
              "#f0f921"
             ]
            ],
            "type": "heatmap"
           }
          ],
          "heatmapgl": [
           {
            "colorbar": {
             "outlinewidth": 0,
             "ticks": ""
            },
            "colorscale": [
             [
              0,
              "#0d0887"
             ],
             [
              0.1111111111111111,
              "#46039f"
             ],
             [
              0.2222222222222222,
              "#7201a8"
             ],
             [
              0.3333333333333333,
              "#9c179e"
             ],
             [
              0.4444444444444444,
              "#bd3786"
             ],
             [
              0.5555555555555556,
              "#d8576b"
             ],
             [
              0.6666666666666666,
              "#ed7953"
             ],
             [
              0.7777777777777778,
              "#fb9f3a"
             ],
             [
              0.8888888888888888,
              "#fdca26"
             ],
             [
              1,
              "#f0f921"
             ]
            ],
            "type": "heatmapgl"
           }
          ],
          "histogram": [
           {
            "marker": {
             "pattern": {
              "fillmode": "overlay",
              "size": 10,
              "solidity": 0.2
             }
            },
            "type": "histogram"
           }
          ],
          "histogram2d": [
           {
            "colorbar": {
             "outlinewidth": 0,
             "ticks": ""
            },
            "colorscale": [
             [
              0,
              "#0d0887"
             ],
             [
              0.1111111111111111,
              "#46039f"
             ],
             [
              0.2222222222222222,
              "#7201a8"
             ],
             [
              0.3333333333333333,
              "#9c179e"
             ],
             [
              0.4444444444444444,
              "#bd3786"
             ],
             [
              0.5555555555555556,
              "#d8576b"
             ],
             [
              0.6666666666666666,
              "#ed7953"
             ],
             [
              0.7777777777777778,
              "#fb9f3a"
             ],
             [
              0.8888888888888888,
              "#fdca26"
             ],
             [
              1,
              "#f0f921"
             ]
            ],
            "type": "histogram2d"
           }
          ],
          "histogram2dcontour": [
           {
            "colorbar": {
             "outlinewidth": 0,
             "ticks": ""
            },
            "colorscale": [
             [
              0,
              "#0d0887"
             ],
             [
              0.1111111111111111,
              "#46039f"
             ],
             [
              0.2222222222222222,
              "#7201a8"
             ],
             [
              0.3333333333333333,
              "#9c179e"
             ],
             [
              0.4444444444444444,
              "#bd3786"
             ],
             [
              0.5555555555555556,
              "#d8576b"
             ],
             [
              0.6666666666666666,
              "#ed7953"
             ],
             [
              0.7777777777777778,
              "#fb9f3a"
             ],
             [
              0.8888888888888888,
              "#fdca26"
             ],
             [
              1,
              "#f0f921"
             ]
            ],
            "type": "histogram2dcontour"
           }
          ],
          "mesh3d": [
           {
            "colorbar": {
             "outlinewidth": 0,
             "ticks": ""
            },
            "type": "mesh3d"
           }
          ],
          "parcoords": [
           {
            "line": {
             "colorbar": {
              "outlinewidth": 0,
              "ticks": ""
             }
            },
            "type": "parcoords"
           }
          ],
          "pie": [
           {
            "automargin": true,
            "type": "pie"
           }
          ],
          "scatter": [
           {
            "marker": {
             "colorbar": {
              "outlinewidth": 0,
              "ticks": ""
             }
            },
            "type": "scatter"
           }
          ],
          "scatter3d": [
           {
            "line": {
             "colorbar": {
              "outlinewidth": 0,
              "ticks": ""
             }
            },
            "marker": {
             "colorbar": {
              "outlinewidth": 0,
              "ticks": ""
             }
            },
            "type": "scatter3d"
           }
          ],
          "scattercarpet": [
           {
            "marker": {
             "colorbar": {
              "outlinewidth": 0,
              "ticks": ""
             }
            },
            "type": "scattercarpet"
           }
          ],
          "scattergeo": [
           {
            "marker": {
             "colorbar": {
              "outlinewidth": 0,
              "ticks": ""
             }
            },
            "type": "scattergeo"
           }
          ],
          "scattergl": [
           {
            "marker": {
             "colorbar": {
              "outlinewidth": 0,
              "ticks": ""
             }
            },
            "type": "scattergl"
           }
          ],
          "scattermapbox": [
           {
            "marker": {
             "colorbar": {
              "outlinewidth": 0,
              "ticks": ""
             }
            },
            "type": "scattermapbox"
           }
          ],
          "scatterpolar": [
           {
            "marker": {
             "colorbar": {
              "outlinewidth": 0,
              "ticks": ""
             }
            },
            "type": "scatterpolar"
           }
          ],
          "scatterpolargl": [
           {
            "marker": {
             "colorbar": {
              "outlinewidth": 0,
              "ticks": ""
             }
            },
            "type": "scatterpolargl"
           }
          ],
          "scatterternary": [
           {
            "marker": {
             "colorbar": {
              "outlinewidth": 0,
              "ticks": ""
             }
            },
            "type": "scatterternary"
           }
          ],
          "surface": [
           {
            "colorbar": {
             "outlinewidth": 0,
             "ticks": ""
            },
            "colorscale": [
             [
              0,
              "#0d0887"
             ],
             [
              0.1111111111111111,
              "#46039f"
             ],
             [
              0.2222222222222222,
              "#7201a8"
             ],
             [
              0.3333333333333333,
              "#9c179e"
             ],
             [
              0.4444444444444444,
              "#bd3786"
             ],
             [
              0.5555555555555556,
              "#d8576b"
             ],
             [
              0.6666666666666666,
              "#ed7953"
             ],
             [
              0.7777777777777778,
              "#fb9f3a"
             ],
             [
              0.8888888888888888,
              "#fdca26"
             ],
             [
              1,
              "#f0f921"
             ]
            ],
            "type": "surface"
           }
          ],
          "table": [
           {
            "cells": {
             "fill": {
              "color": "#EBF0F8"
             },
             "line": {
              "color": "white"
             }
            },
            "header": {
             "fill": {
              "color": "#C8D4E3"
             },
             "line": {
              "color": "white"
             }
            },
            "type": "table"
           }
          ]
         },
         "layout": {
          "annotationdefaults": {
           "arrowcolor": "#2a3f5f",
           "arrowhead": 0,
           "arrowwidth": 1
          },
          "autotypenumbers": "strict",
          "coloraxis": {
           "colorbar": {
            "outlinewidth": 0,
            "ticks": ""
           }
          },
          "colorscale": {
           "diverging": [
            [
             0,
             "#8e0152"
            ],
            [
             0.1,
             "#c51b7d"
            ],
            [
             0.2,
             "#de77ae"
            ],
            [
             0.3,
             "#f1b6da"
            ],
            [
             0.4,
             "#fde0ef"
            ],
            [
             0.5,
             "#f7f7f7"
            ],
            [
             0.6,
             "#e6f5d0"
            ],
            [
             0.7,
             "#b8e186"
            ],
            [
             0.8,
             "#7fbc41"
            ],
            [
             0.9,
             "#4d9221"
            ],
            [
             1,
             "#276419"
            ]
           ],
           "sequential": [
            [
             0,
             "#0d0887"
            ],
            [
             0.1111111111111111,
             "#46039f"
            ],
            [
             0.2222222222222222,
             "#7201a8"
            ],
            [
             0.3333333333333333,
             "#9c179e"
            ],
            [
             0.4444444444444444,
             "#bd3786"
            ],
            [
             0.5555555555555556,
             "#d8576b"
            ],
            [
             0.6666666666666666,
             "#ed7953"
            ],
            [
             0.7777777777777778,
             "#fb9f3a"
            ],
            [
             0.8888888888888888,
             "#fdca26"
            ],
            [
             1,
             "#f0f921"
            ]
           ],
           "sequentialminus": [
            [
             0,
             "#0d0887"
            ],
            [
             0.1111111111111111,
             "#46039f"
            ],
            [
             0.2222222222222222,
             "#7201a8"
            ],
            [
             0.3333333333333333,
             "#9c179e"
            ],
            [
             0.4444444444444444,
             "#bd3786"
            ],
            [
             0.5555555555555556,
             "#d8576b"
            ],
            [
             0.6666666666666666,
             "#ed7953"
            ],
            [
             0.7777777777777778,
             "#fb9f3a"
            ],
            [
             0.8888888888888888,
             "#fdca26"
            ],
            [
             1,
             "#f0f921"
            ]
           ]
          },
          "colorway": [
           "#636efa",
           "#EF553B",
           "#00cc96",
           "#ab63fa",
           "#FFA15A",
           "#19d3f3",
           "#FF6692",
           "#B6E880",
           "#FF97FF",
           "#FECB52"
          ],
          "font": {
           "color": "#2a3f5f"
          },
          "geo": {
           "bgcolor": "white",
           "lakecolor": "white",
           "landcolor": "#E5ECF6",
           "showlakes": true,
           "showland": true,
           "subunitcolor": "white"
          },
          "hoverlabel": {
           "align": "left"
          },
          "hovermode": "closest",
          "mapbox": {
           "style": "light"
          },
          "paper_bgcolor": "white",
          "plot_bgcolor": "#E5ECF6",
          "polar": {
           "angularaxis": {
            "gridcolor": "white",
            "linecolor": "white",
            "ticks": ""
           },
           "bgcolor": "#E5ECF6",
           "radialaxis": {
            "gridcolor": "white",
            "linecolor": "white",
            "ticks": ""
           }
          },
          "scene": {
           "xaxis": {
            "backgroundcolor": "#E5ECF6",
            "gridcolor": "white",
            "gridwidth": 2,
            "linecolor": "white",
            "showbackground": true,
            "ticks": "",
            "zerolinecolor": "white"
           },
           "yaxis": {
            "backgroundcolor": "#E5ECF6",
            "gridcolor": "white",
            "gridwidth": 2,
            "linecolor": "white",
            "showbackground": true,
            "ticks": "",
            "zerolinecolor": "white"
           },
           "zaxis": {
            "backgroundcolor": "#E5ECF6",
            "gridcolor": "white",
            "gridwidth": 2,
            "linecolor": "white",
            "showbackground": true,
            "ticks": "",
            "zerolinecolor": "white"
           }
          },
          "shapedefaults": {
           "line": {
            "color": "#2a3f5f"
           }
          },
          "ternary": {
           "aaxis": {
            "gridcolor": "white",
            "linecolor": "white",
            "ticks": ""
           },
           "baxis": {
            "gridcolor": "white",
            "linecolor": "white",
            "ticks": ""
           },
           "bgcolor": "#E5ECF6",
           "caxis": {
            "gridcolor": "white",
            "linecolor": "white",
            "ticks": ""
           }
          },
          "title": {
           "x": 0.05
          },
          "xaxis": {
           "automargin": true,
           "gridcolor": "white",
           "linecolor": "white",
           "ticks": "",
           "title": {
            "standoff": 15
           },
           "zerolinecolor": "white",
           "zerolinewidth": 2
          },
          "yaxis": {
           "automargin": true,
           "gridcolor": "white",
           "linecolor": "white",
           "ticks": "",
           "title": {
            "standoff": 15
           },
           "zerolinecolor": "white",
           "zerolinewidth": 2
          }
         }
        },
        "title": {
         "font": {
          "color": "#4D5663"
         },
         "text": "Most frequent words in Corpus - mostly for curiosity"
        },
        "xaxis": {
         "autorange": true,
         "gridcolor": "#E1E5ED",
         "range": [
          -0.5,
          19.5
         ],
         "showgrid": true,
         "tickfont": {
          "color": "#4D5663"
         },
         "title": {
          "font": {
           "color": "#4D5663"
          },
          "text": "Word"
         },
         "type": "category",
         "zerolinecolor": "#E1E5ED"
        },
        "yaxis": {
         "autorange": true,
         "gridcolor": "#E1E5ED",
         "range": [
          0,
          60645.26315789473
         ],
         "showgrid": true,
         "tickfont": {
          "color": "#4D5663"
         },
         "title": {
          "font": {
           "color": "#4D5663"
          },
          "text": "Count"
         },
         "type": "linear",
         "zerolinecolor": "#E1E5ED"
        }
       }
      },
      "image/png": "[encoded data removed]",
      "text/html": [
       "<div>                            <div id=\"ae7924b5-1cb4-4e90-bcd1-48e8bbfe99bf\" class=\"plotly-graph-div\" style=\"height:525px; width:100%;\"></div>            <script type=\"text/javascript\">                require([\"plotly\"], function(Plotly) {                    window.PLOTLYENV=window.PLOTLYENV || {};\n",
       "                    window.PLOTLYENV.BASE_URL='https://plot.ly';                                    if (document.getElementById(\"ae7924b5-1cb4-4e90-bcd1-48e8bbfe99bf\")) {                    Plotly.newPlot(                        \"ae7924b5-1cb4-4e90-bcd1-48e8bbfe99bf\",                        [{\"marker\":{\"color\":\"rgba(255, 153, 51, 0.6)\",\"line\":{\"color\":\"rgba(255, 153, 51, 1.0)\",\"width\":1}},\"name\":\"wordCount\",\"orientation\":\"v\",\"text\":\"\",\"x\":[\"wine\",\"flavors\",\"fruit\",\"aromas\",\"palate\",\"finish\",\"acidity\",\"tannins\",\"drink\",\"cherry\",\"ripe\",\"black\",\"spice\",\"notes\",\"red\",\"rich\",\"fresh\",\"nose\",\"oak\",\"dry\"],\"y\":[57613,46373,33301,28981,27737,25627,25606,22710,21984,20036,19732,18682,13924,13915,13824,12837,12389,12379,12285,11488],\"type\":\"bar\"}],                        {\"legend\":{\"bgcolor\":\"#F5F6F9\",\"font\":{\"color\":\"#4D5663\"}},\"paper_bgcolor\":\"#F5F6F9\",\"plot_bgcolor\":\"#F5F6F9\",\"template\":{\"data\":{\"barpolar\":[{\"marker\":{\"line\":{\"color\":\"#E5ECF6\",\"width\":0.5},\"pattern\":{\"fillmode\":\"overlay\",\"size\":10,\"solidity\":0.2}},\"type\":\"barpolar\"}],\"bar\":[{\"error_x\":{\"color\":\"#2a3f5f\"},\"error_y\":{\"color\":\"#2a3f5f\"},\"marker\":{\"line\":{\"color\":\"#E5ECF6\",\"width\":0.5},\"pattern\":{\"fillmode\":\"overlay\",\"size\":10,\"solidity\":0.2}},\"type\":\"bar\"}],\"carpet\":[{\"aaxis\":{\"endlinecolor\":\"#2a3f5f\",\"gridcolor\":\"white\",\"linecolor\":\"white\",\"minorgridcolor\":\"white\",\"startlinecolor\":\"#2a3f5f\"},\"baxis\":{\"endlinecolor\":\"#2a3f5f\",\"gridcolor\":\"white\",\"linecolor\":\"white\",\"minorgridcolor\":\"white\",\"startlinecolor\":\"#2a3f5f\"},\"type\":\"carpet\"}],\"choropleth\":[{\"colorbar\":{\"outlinewidth\":0,\"ticks\":\"\"},\"type\":\"choropleth\"}],\"contourcarpet\":[{\"colorbar\":{\"outlinewidth\":0,\"ticks\":\"\"},\"type\":\"contourcarpet\"}],\"contour\":[{\"colorbar\":{\"outlinewidth\":0,\"ticks\":\"\"},\"colorscale\":[[0.0,\"#0d0887\"],[0.1111111111111111,\"#46039f\"],[0.2222222222222222,\"#7201a8\"],[0.3333333333333333,\"#9c179e\"],[0.4444444444444444,\"#bd3786\"],[0.5555555555555556,\"#d8576b\"],[0.6666666666666666,\"#ed7953\"],[0.7777777777777778,\"#fb9f3a\"],[0.8888888888888888,\"#fdca26\"],[1.0,\"#f0f921\"]],\"type\":\"contour\"}],\"heatmapgl\":[{\"colorbar\":{\"outlinewidth\":0,\"ticks\":\"\"},\"colorscale\":[[0.0,\"#0d0887\"],[0.1111111111111111,\"#46039f\"],[0.2222222222222222,\"#7201a8\"],[0.3333333333333333,\"#9c179e\"],[0.4444444444444444,\"#bd3786\"],[0.5555555555555556,\"#d8576b\"],[0.6666666666666666,\"#ed7953\"],[0.7777777777777778,\"#fb9f3a\"],[0.8888888888888888,\"#fdca26\"],[1.0,\"#f0f921\"]],\"type\":\"heatmapgl\"}],\"heatmap\":[{\"colorbar\":{\"outlinewidth\":0,\"ticks\":\"\"},\"colorscale\":[[0.0,\"#0d0887\"],[0.1111111111111111,\"#46039f\"],[0.2222222222222222,\"#7201a8\"],[0.3333333333333333,\"#9c179e\"],[0.4444444444444444,\"#bd3786\"],[0.5555555555555556,\"#d8576b\"],[0.6666666666666666,\"#ed7953\"],[0.7777777777777778,\"#fb9f3a\"],[0.8888888888888888,\"#fdca26\"],[1.0,\"#f0f921\"]],\"type\":\"heatmap\"}],\"histogram2dcontour\":[{\"colorbar\":{\"outlinewidth\":0,\"ticks\":\"\"},\"colorscale\":[[0.0,\"#0d0887\"],[0.1111111111111111,\"#46039f\"],[0.2222222222222222,\"#7201a8\"],[0.3333333333333333,\"#9c179e\"],[0.4444444444444444,\"#bd3786\"],[0.5555555555555556,\"#d8576b\"],[0.6666666666666666,\"#ed7953\"],[0.7777777777777778,\"#fb9f3a\"],[0.8888888888888888,\"#fdca26\"],[1.0,\"#f0f921\"]],\"type\":\"histogram2dcontour\"}],\"histogram2d\":[{\"colorbar\":{\"outlinewidth\":0,\"ticks\":\"\"},\"colorscale\":[[0.0,\"#0d0887\"],[0.1111111111111111,\"#46039f\"],[0.2222222222222222,\"#7201a8\"],[0.3333333333333333,\"#9c179e\"],[0.4444444444444444,\"#bd3786\"],[0.5555555555555556,\"#d8576b\"],[0.6666666666666666,\"#ed7953\"],[0.7777777777777778,\"#fb9f3a\"],[0.8888888888888888,\"#fdca26\"],[1.0,\"#f0f921\"]],\"type\":\"histogram2d\"}],\"histogram\":[{\"marker\":{\"pattern\":{\"fillmode\":\"overlay\",\"size\":10,\"solidity\":0.2}},\"type\":\"histogram\"}],\"mesh3d\":[{\"colorbar\":{\"outlinewidth\":0,\"ticks\":\"\"},\"type\":\"mesh3d\"}],\"parcoords\":[{\"line\":{\"colorbar\":{\"outlinewidth\":0,\"ticks\":\"\"}},\"type\":\"parcoords\"}],\"pie\":[{\"automargin\":true,\"type\":\"pie\"}],\"scatter3d\":[{\"line\":{\"colorbar\":{\"outlinewidth\":0,\"ticks\":\"\"}},\"marker\":{\"colorbar\":{\"outlinewidth\":0,\"ticks\":\"\"}},\"type\":\"scatter3d\"}],\"scattercarpet\":[{\"marker\":{\"colorbar\":{\"outlinewidth\":0,\"ticks\":\"\"}},\"type\":\"scattercarpet\"}],\"scattergeo\":[{\"marker\":{\"colorbar\":{\"outlinewidth\":0,\"ticks\":\"\"}},\"type\":\"scattergeo\"}],\"scattergl\":[{\"marker\":{\"colorbar\":{\"outlinewidth\":0,\"ticks\":\"\"}},\"type\":\"scattergl\"}],\"scattermapbox\":[{\"marker\":{\"colorbar\":{\"outlinewidth\":0,\"ticks\":\"\"}},\"type\":\"scattermapbox\"}],\"scatterpolargl\":[{\"marker\":{\"colorbar\":{\"outlinewidth\":0,\"ticks\":\"\"}},\"type\":\"scatterpolargl\"}],\"scatterpolar\":[{\"marker\":{\"colorbar\":{\"outlinewidth\":0,\"ticks\":\"\"}},\"type\":\"scatterpolar\"}],\"scatter\":[{\"marker\":{\"colorbar\":{\"outlinewidth\":0,\"ticks\":\"\"}},\"type\":\"scatter\"}],\"scatterternary\":[{\"marker\":{\"colorbar\":{\"outlinewidth\":0,\"ticks\":\"\"}},\"type\":\"scatterternary\"}],\"surface\":[{\"colorbar\":{\"outlinewidth\":0,\"ticks\":\"\"},\"colorscale\":[[0.0,\"#0d0887\"],[0.1111111111111111,\"#46039f\"],[0.2222222222222222,\"#7201a8\"],[0.3333333333333333,\"#9c179e\"],[0.4444444444444444,\"#bd3786\"],[0.5555555555555556,\"#d8576b\"],[0.6666666666666666,\"#ed7953\"],[0.7777777777777778,\"#fb9f3a\"],[0.8888888888888888,\"#fdca26\"],[1.0,\"#f0f921\"]],\"type\":\"surface\"}],\"table\":[{\"cells\":{\"fill\":{\"color\":\"#EBF0F8\"},\"line\":{\"color\":\"white\"}},\"header\":{\"fill\":{\"color\":\"#C8D4E3\"},\"line\":{\"color\":\"white\"}},\"type\":\"table\"}]},\"layout\":{\"annotationdefaults\":{\"arrowcolor\":\"#2a3f5f\",\"arrowhead\":0,\"arrowwidth\":1},\"autotypenumbers\":\"strict\",\"coloraxis\":{\"colorbar\":{\"outlinewidth\":0,\"ticks\":\"\"}},\"colorscale\":{\"diverging\":[[0,\"#8e0152\"],[0.1,\"#c51b7d\"],[0.2,\"#de77ae\"],[0.3,\"#f1b6da\"],[0.4,\"#fde0ef\"],[0.5,\"#f7f7f7\"],[0.6,\"#e6f5d0\"],[0.7,\"#b8e186\"],[0.8,\"#7fbc41\"],[0.9,\"#4d9221\"],[1,\"#276419\"]],\"sequential\":[[0.0,\"#0d0887\"],[0.1111111111111111,\"#46039f\"],[0.2222222222222222,\"#7201a8\"],[0.3333333333333333,\"#9c179e\"],[0.4444444444444444,\"#bd3786\"],[0.5555555555555556,\"#d8576b\"],[0.6666666666666666,\"#ed7953\"],[0.7777777777777778,\"#fb9f3a\"],[0.8888888888888888,\"#fdca26\"],[1.0,\"#f0f921\"]],\"sequentialminus\":[[0.0,\"#0d0887\"],[0.1111111111111111,\"#46039f\"],[0.2222222222222222,\"#7201a8\"],[0.3333333333333333,\"#9c179e\"],[0.4444444444444444,\"#bd3786\"],[0.5555555555555556,\"#d8576b\"],[0.6666666666666666,\"#ed7953\"],[0.7777777777777778,\"#fb9f3a\"],[0.8888888888888888,\"#fdca26\"],[1.0,\"#f0f921\"]]},\"colorway\":[\"#636efa\",\"#EF553B\",\"#00cc96\",\"#ab63fa\",\"#FFA15A\",\"#19d3f3\",\"#FF6692\",\"#B6E880\",\"#FF97FF\",\"#FECB52\"],\"font\":{\"color\":\"#2a3f5f\"},\"geo\":{\"bgcolor\":\"white\",\"lakecolor\":\"white\",\"landcolor\":\"#E5ECF6\",\"showlakes\":true,\"showland\":true,\"subunitcolor\":\"white\"},\"hoverlabel\":{\"align\":\"left\"},\"hovermode\":\"closest\",\"mapbox\":{\"style\":\"light\"},\"paper_bgcolor\":\"white\",\"plot_bgcolor\":\"#E5ECF6\",\"polar\":{\"angularaxis\":{\"gridcolor\":\"white\",\"linecolor\":\"white\",\"ticks\":\"\"},\"bgcolor\":\"#E5ECF6\",\"radialaxis\":{\"gridcolor\":\"white\",\"linecolor\":\"white\",\"ticks\":\"\"}},\"scene\":{\"xaxis\":{\"backgroundcolor\":\"#E5ECF6\",\"gridcolor\":\"white\",\"gridwidth\":2,\"linecolor\":\"white\",\"showbackground\":true,\"ticks\":\"\",\"zerolinecolor\":\"white\"},\"yaxis\":{\"backgroundcolor\":\"#E5ECF6\",\"gridcolor\":\"white\",\"gridwidth\":2,\"linecolor\":\"white\",\"showbackground\":true,\"ticks\":\"\",\"zerolinecolor\":\"white\"},\"zaxis\":{\"backgroundcolor\":\"#E5ECF6\",\"gridcolor\":\"white\",\"gridwidth\":2,\"linecolor\":\"white\",\"showbackground\":true,\"ticks\":\"\",\"zerolinecolor\":\"white\"}},\"shapedefaults\":{\"line\":{\"color\":\"#2a3f5f\"}},\"ternary\":{\"aaxis\":{\"gridcolor\":\"white\",\"linecolor\":\"white\",\"ticks\":\"\"},\"baxis\":{\"gridcolor\":\"white\",\"linecolor\":\"white\",\"ticks\":\"\"},\"bgcolor\":\"#E5ECF6\",\"caxis\":{\"gridcolor\":\"white\",\"linecolor\":\"white\",\"ticks\":\"\"}},\"title\":{\"x\":0.05},\"xaxis\":{\"automargin\":true,\"gridcolor\":\"white\",\"linecolor\":\"white\",\"ticks\":\"\",\"title\":{\"standoff\":15},\"zerolinecolor\":\"white\",\"zerolinewidth\":2},\"yaxis\":{\"automargin\":true,\"gridcolor\":\"white\",\"linecolor\":\"white\",\"ticks\":\"\",\"title\":{\"standoff\":15},\"zerolinecolor\":\"white\",\"zerolinewidth\":2}}},\"title\":{\"font\":{\"color\":\"#4D5663\"},\"text\":\"Most frequent words in Corpus - mostly for curiosity\"},\"xaxis\":{\"gridcolor\":\"#E1E5ED\",\"showgrid\":true,\"tickfont\":{\"color\":\"#4D5663\"},\"title\":{\"font\":{\"color\":\"#4D5663\"},\"text\":\"Word\"},\"zerolinecolor\":\"#E1E5ED\"},\"yaxis\":{\"gridcolor\":\"#E1E5ED\",\"showgrid\":true,\"tickfont\":{\"color\":\"#4D5663\"},\"title\":{\"font\":{\"color\":\"#4D5663\"},\"text\":\"Count\"},\"zerolinecolor\":\"#E1E5ED\"}},                        {\"showLink\": true, \"linkText\": \"Export to plot.ly\", \"plotlyServerURL\": \"https://plot.ly\", \"responsive\": true}                    ).then(function(){\n",
       "                            \n",
       "var gd = document.getElementById('ae7924b5-1cb4-4e90-bcd1-48e8bbfe99bf');\n",
       "var x = new MutationObserver(function (mutations, observer) {{\n",
       "        var display = window.getComputedStyle(gd).display;\n",
       "        if (!display || display === 'none') {{\n",
       "            console.log([gd, 'removed!']);\n",
       "            Plotly.purge(gd);\n",
       "            observer.disconnect();\n",
       "        }}\n",
       "}});\n",
       "\n",
       "// Listen for the removal of the full notebook cells\n",
       "var notebookContainer = gd.closest('#notebook-container');\n",
       "if (notebookContainer) {{\n",
       "    x.observe(notebookContainer, {childList: true});\n",
       "}}\n",
       "\n",
       "// Listen for the clearing of the current output cell\n",
       "var outputEl = gd.closest('.output');\n",
       "if (outputEl) {{\n",
       "    x.observe(outputEl, {childList: true});\n",
       "}}\n",
       "\n",
       "                        })                };                });            </script>        </div>"
      ]
     },
     "metadata": {},
     "output_type": "display_data"
    }
   ],
   "source": [
    "words_train_df.set_index('word').wordCount.head(20).iplot(kind = 'bar', title = 'Most frequent words in Corpus - mostly for curiosity', yTitle = 'Count', xTitle = 'Word')"
   ]
  },
  {
   "cell_type": "code",
   "execution_count": 36,
   "metadata": {
    "collapsed": true,
    "jupyter": {
     "outputs_hidden": true
    },
    "tags": []
   },
   "outputs": [
    {
     "name": "stdout",
     "output_type": "stream",
     "text": [
      "Total of 2364183 words, 40304 unique words\n"
     ]
    }
   ],
   "source": [
    "print(\"Total of {} words, {} unique words\".format(len(all_words_train), len(words_train_df)))"
   ]
  },
  {
   "cell_type": "markdown",
   "metadata": {
    "tags": []
   },
   "source": [
    "Like the tweets example - We'll drop any word which has under 4 appearances:"
   ]
  },
  {
   "cell_type": "code",
   "execution_count": 153,
   "metadata": {
    "collapsed": true,
    "jupyter": {
     "outputs_hidden": true
    },
    "tags": []
   },
   "outputs": [
    {
     "name": "stdout",
     "output_type": "stream",
     "text": [
      "Using words with 4 or more appearances will reduce the corpus size to: 13357\n"
     ]
    }
   ],
   "source": [
    "print (\"Using words with 4 or more appearances will reduce the corpus size to: {}\".format(sum(words_train_df.wordCount >= 4)))"
   ]
  },
  {
   "cell_type": "code",
   "execution_count": 38,
   "metadata": {
    "tags": []
   },
   "outputs": [],
   "source": [
    "words_train_df = words_train_df[words_train_df.wordCount >= 4]"
   ]
  },
  {
   "cell_type": "markdown",
   "metadata": {
    "tags": []
   },
   "source": [
    "Starting the encoding:"
   ]
  },
  {
   "cell_type": "code",
   "execution_count": 39,
   "metadata": {
    "tags": []
   },
   "outputs": [],
   "source": [
    "le = LabelEncoder()"
   ]
  },
  {
   "cell_type": "code",
   "execution_count": 40,
   "metadata": {
    "collapsed": true,
    "jupyter": {
     "outputs_hidden": true
    },
    "tags": []
   },
   "outputs": [
    {
     "data": {
      "text/plain": [
       "(95990, 13357)"
      ]
     },
     "execution_count": 40,
     "metadata": {},
     "output_type": "execute_result"
    }
   ],
   "source": [
    "clean_vocab_train = set(words_train_df.word)\n",
    "count_vect_train = CountVectorizer(vocabulary = clean_vocab_train, tokenizer=nltk.word_tokenize)\n",
    "clean_bow_counts_train = count_vect_train.fit_transform(wine_reviews[wine_reviews.index.isin(train_data.index)].pureDesc)\n",
    "clean_bow_counts_train.shape"
   ]
  },
  {
   "cell_type": "code",
   "execution_count": 41,
   "metadata": {
    "collapsed": true,
    "jupyter": {
     "outputs_hidden": true
    },
    "tags": []
   },
   "outputs": [
    {
     "data": {
      "text/plain": [
       "'aromas include tropical fruit  broom  brimstone and dried herb  the palate isnt overly expressive  offering unripened apple  citrus and dried sage alongside brisk acidity '"
      ]
     },
     "execution_count": 41,
     "metadata": {},
     "output_type": "execute_result"
    }
   ],
   "source": [
    "wine_reviews.iloc[0].pureDesc"
   ]
  },
  {
   "cell_type": "code",
   "execution_count": 42,
   "metadata": {
    "collapsed": true,
    "jupyter": {
     "outputs_hidden": true
    },
    "tags": []
   },
   "outputs": [
    {
     "data": {
      "text/plain": [
       "(95990, 13357)"
      ]
     },
     "execution_count": 42,
     "metadata": {},
     "output_type": "execute_result"
    }
   ],
   "source": [
    "tf_idf_vectorizer = TfidfVectorizer(vocabulary = clean_vocab_train)\n",
    "bow_tfidf = tf_idf_vectorizer.fit_transform(wine_reviews.pureDesc)\n",
    "bow_tfidf_train = tf_idf_vectorizer.fit_transform(wine_reviews[wine_reviews.index.isin(train_data.index)].pureDesc)\n",
    "bow_tfidf_train.shape"
   ]
  },
  {
   "cell_type": "code",
   "execution_count": 45,
   "metadata": {},
   "outputs": [],
   "source": [
    "%%capture\n",
    "search_grid = np.logspace(-2, 4, num=50, endpoint=True, base=10.0)\n",
    "mse_by_alpha = []\n",
    "for alpha in search_grid:\n",
    "    bow_ridge_model = Ridge(alpha=alpha)\n",
    "    avg_score = cross_val_score(bow_ridge_model, clean_bow_counts_train, y = wine_reviews[wine_reviews.index.isin(train_data.index)].points, cv = 10, scoring = 'neg_mean_squared_error').mean()\n",
    "    mse_by_alpha.append((alpha, abs(avg_score)))"
   ]
  },
  {
   "cell_type": "code",
   "execution_count": 46,
   "metadata": {
    "collapsed": true,
    "jupyter": {
     "outputs_hidden": true
    },
    "tags": []
   },
   "outputs": [
    {
     "data": {
      "application/vnd.plotly.v1+json": {
       "config": {
        "linkText": "Export to plot.ly",
        "plotlyServerURL": "https://plot.ly",
        "showLink": true
       },
       "data": [
        {
         "line": {
          "color": "rgba(255, 153, 51, 1.0)",
          "dash": "solid",
          "shape": "linear",
          "width": 3
         },
         "mode": "lines",
         "name": "MSE",
         "text": "",
         "type": "scatter",
         "x": [
          0.01,
          0.013257113655901088,
          0.017575106248547922,
          0.023299518105153717,
          0.030888435964774818,
          0.040949150623804255,
          0.054286754393238594,
          0.07196856730011521,
          0.09540954763499938,
          0.12648552168552957,
          0.16768329368110083,
          0.22229964825261944,
          0.29470517025518095,
          0.3906939937054617,
          0.517947467923121,
          0.6866488450043002,
          0.9102981779915218,
          1.2067926406393288,
          1.5998587196060574,
          2.1209508879201904,
          2.8117686979742307,
          3.727593720314938,
          4.941713361323833,
          6.551285568595509,
          8.68511373751352,
          11.513953993264469,
          15.264179671752334,
          20.235896477251575,
          26.826957952797247,
          35.564803062231285,
          47.14866363457394
         ],
         "y": [
          3.3867547912032188,
          3.3860846162461895,
          3.383407985691572,
          3.380947730841308,
          3.3787272898751093,
          3.375553902831455,
          3.371035397403728,
          3.365906437627678,
          3.358078738469519,
          3.3501480632716003,
          3.3380337507018845,
          3.324392738731394,
          3.3077772900302707,
          3.2871474096414937,
          3.2645303018194602,
          3.238842142771138,
          3.2097877999914224,
          3.179509326159624,
          3.148218340705006,
          3.1178660109316665,
          3.0885919898160097,
          3.0623463642426394,
          3.0397260498415433,
          3.0212907137733573,
          3.007506801430182,
          2.9987324250684493,
          2.9952893652333334,
          2.9974244350289942,
          3.00518412755027,
          3.0190297824766494,
          3.039228270072516
         ]
        }
       ],
       "layout": {
        "autosize": true,
        "legend": {
         "bgcolor": "#F5F6F9",
         "font": {
          "color": "#4D5663"
         }
        },
        "paper_bgcolor": "#F5F6F9",
        "plot_bgcolor": "#F5F6F9",
        "shapes": [
         {
          "line": {
           "color": "#db4052",
           "dash": "solid",
           "width": 1
          },
          "type": "line",
          "x0": 0,
          "x1": 1,
          "xref": "paper",
          "y0": [
           0,
           0
          ],
          "y1": [
           0,
           0
          ],
          "yref": "y"
         }
        ],
        "title": {
         "font": {
          "color": "#4D5663"
         },
         "text": "BOW Counts - MSE as a function of learning rate (alpha)"
        },
        "xaxis": {
         "autorange": true,
         "gridcolor": "#E1E5ED",
         "range": [
          0.01,
          47.14866363457394
         ],
         "showgrid": true,
         "tickfont": {
          "color": "#4D5663"
         },
         "title": {
          "font": {
           "color": "#4D5663"
          },
          "text": "alpha"
         },
         "type": "linear",
         "zerolinecolor": "#E1E5ED"
        },
        "yaxis": {
         "autorange": true,
         "gridcolor": "#E1E5ED",
         "range": [
          2.973541286012784,
          3.408502870423768
         ],
         "showgrid": true,
         "tickfont": {
          "color": "#4D5663"
         },
         "title": {
          "font": {
           "color": "#4D5663"
          },
          "text": "MSE"
         },
         "type": "linear",
         "zerolinecolor": "#E1E5ED"
        }
       }
      },
      "image/png": "[encoded data removed]",
      "text/html": [
       "<div>                            <div id=\"ea261f55-a881-41ad-856d-15873ba86241\" class=\"plotly-graph-div\" style=\"height:525px; width:100%;\"></div>            <script type=\"text/javascript\">                require([\"plotly\"], function(Plotly) {                    window.PLOTLYENV=window.PLOTLYENV || {};\n",
       "                    window.PLOTLYENV.BASE_URL='https://plot.ly';                                    if (document.getElementById(\"ea261f55-a881-41ad-856d-15873ba86241\")) {                    Plotly.newPlot(                        \"ea261f55-a881-41ad-856d-15873ba86241\",                        [{\"line\":{\"color\":\"rgba(255, 153, 51, 1.0)\",\"dash\":\"solid\",\"shape\":\"linear\",\"width\":3},\"mode\":\"lines\",\"name\":\"MSE\",\"text\":\"\",\"x\":[0.01,0.013257113655901088,0.017575106248547922,0.023299518105153717,0.030888435964774818,0.040949150623804255,0.054286754393238594,0.07196856730011521,0.09540954763499938,0.12648552168552957,0.16768329368110083,0.22229964825261944,0.29470517025518095,0.3906939937054617,0.517947467923121,0.6866488450043002,0.9102981779915218,1.2067926406393288,1.5998587196060574,2.1209508879201904,2.8117686979742307,3.727593720314938,4.941713361323833,6.551285568595509,8.68511373751352,11.513953993264469,15.264179671752334,20.235896477251575,26.826957952797247,35.564803062231285,47.14866363457394],\"y\":[3.3867547912032188,3.3860846162461895,3.383407985691572,3.380947730841308,3.3787272898751093,3.375553902831455,3.371035397403728,3.365906437627678,3.358078738469519,3.3501480632716003,3.3380337507018845,3.324392738731394,3.3077772900302707,3.2871474096414937,3.2645303018194602,3.238842142771138,3.2097877999914224,3.179509326159624,3.148218340705006,3.1178660109316665,3.0885919898160097,3.0623463642426394,3.0397260498415433,3.0212907137733573,3.007506801430182,2.9987324250684493,2.9952893652333334,2.9974244350289942,3.00518412755027,3.0190297824766494,3.039228270072516],\"type\":\"scatter\"}],                        {\"legend\":{\"bgcolor\":\"#F5F6F9\",\"font\":{\"color\":\"#4D5663\"}},\"paper_bgcolor\":\"#F5F6F9\",\"plot_bgcolor\":\"#F5F6F9\",\"yaxis\":{\"tickfont\":{\"color\":\"#4D5663\"},\"gridcolor\":\"#E1E5ED\",\"titlefont\":{\"color\":\"#4D5663\"},\"zerolinecolor\":\"#E1E5ED\",\"showgrid\":true,\"title\":\"MSE\"},\"xaxis\":{\"tickfont\":{\"color\":\"#4D5663\"},\"gridcolor\":\"#E1E5ED\",\"titlefont\":{\"color\":\"#4D5663\"},\"zerolinecolor\":\"#E1E5ED\",\"showgrid\":true,\"title\":\"alpha\"},\"titlefont\":{\"color\":\"#4D5663\"},\"title\":\"BOW Counts - MSE as a function of learning rate (alpha)\",\"shapes\":[{\"x0\":0,\"y0\":[0,0],\"x1\":1,\"y1\":[0,0],\"line\":{\"color\":\"#db4052\",\"width\":1,\"dash\":\"solid\"},\"xref\":\"paper\",\"yref\":\"y\",\"type\":\"line\"}]},                        {\"showLink\": true, \"linkText\": \"Export to plot.ly\", \"plotlyServerURL\": \"https://plot.ly\", \"responsive\": true}                    ).then(function(){\n",
       "                            \n",
       "var gd = document.getElementById('ea261f55-a881-41ad-856d-15873ba86241');\n",
       "var x = new MutationObserver(function (mutations, observer) {{\n",
       "        var display = window.getComputedStyle(gd).display;\n",
       "        if (!display || display === 'none') {{\n",
       "            console.log([gd, 'removed!']);\n",
       "            Plotly.purge(gd);\n",
       "            observer.disconnect();\n",
       "        }}\n",
       "}});\n",
       "\n",
       "// Listen for the removal of the full notebook cells\n",
       "var notebookContainer = gd.closest('#notebook-container');\n",
       "if (notebookContainer) {{\n",
       "    x.observe(notebookContainer, {childList: true});\n",
       "}}\n",
       "\n",
       "// Listen for the clearing of the current output cell\n",
       "var outputEl = gd.closest('.output');\n",
       "if (outputEl) {{\n",
       "    x.observe(outputEl, {childList: true});\n",
       "}}\n",
       "\n",
       "                        })                };                });            </script>        </div>"
      ]
     },
     "metadata": {},
     "output_type": "display_data"
    }
   ],
   "source": [
    "cv_results_bow = DataFrame(mse_by_alpha, columns = ['alpha', 'MSE'])\n",
    "cv_results_bow.query('alpha < 50').set_index('alpha').MSE.iplot(title = 'BOW Counts - MSE as a function of learning rate (alpha)', xTitle = 'alpha', yTitle = 'MSE', width = 3, hline=(0,0))"
   ]
  },
  {
   "cell_type": "code",
   "execution_count": 47,
   "metadata": {
    "tags": []
   },
   "outputs": [
    {
     "name": "stdout",
     "output_type": "stream",
     "text": [
      "15.264179671752334 2.9952893652333334\n"
     ]
    }
   ],
   "source": [
    "opt_alpha_bow, min_mse = cv_results_bow.loc[cv_results_bow.MSE.idxmin(),:'MSE']\n",
    "print(opt_alpha_bow, min_mse)"
   ]
  },
  {
   "cell_type": "markdown",
   "metadata": {},
   "source": [
    "### Optimal Model"
   ]
  },
  {
   "cell_type": "markdown",
   "metadata": {},
   "source": [
    "Let's use the optimal model regularization parameter and train a model on the **entire dataset**:"
   ]
  },
  {
   "cell_type": "code",
   "execution_count": 48,
   "metadata": {
    "collapsed": true,
    "jupyter": {
     "outputs_hidden": true
    }
   },
   "outputs": [
    {
     "data": {
      "text/plain": [
       "Ridge(alpha=15.264179671752334, max_iter=10000)"
      ]
     },
     "execution_count": 48,
     "metadata": {},
     "output_type": "execute_result"
    }
   ],
   "source": [
    "bow_ridge_model = Ridge(alpha=opt_alpha_bow, max_iter=10000)\n",
    "clean_bow_counts = count_vect_train.fit_transform(wine_reviews.pureDesc)\n",
    "bow_ridge_model.fit(clean_bow_counts, wine_reviews.points)"
   ]
  },
  {
   "cell_type": "code",
   "execution_count": 49,
   "metadata": {},
   "outputs": [],
   "source": [
    "wine_reviews['predicted_score_bow'] = bow_ridge_model.predict(clean_bow_counts)"
   ]
  },
  {
   "cell_type": "code",
   "execution_count": 50,
   "metadata": {
    "collapsed": true,
    "jupyter": {
     "outputs_hidden": true
    },
    "tags": []
   },
   "outputs": [
    {
     "data": {
      "text/plain": [
       "0.2516668333500017"
      ]
     },
     "execution_count": 50,
     "metadata": {},
     "output_type": "execute_result"
    }
   ],
   "source": [
    "wine_reviews.predicted_score_bow = wine_reviews.apply(lambda row: round(row.predicted_score_bow), axis=1)\n",
    "# wine_reviews.sample(10)\n",
    "accuracy_score(wine_reviews.predicted_score_bow, wine_reviews.points)"
   ]
  },
  {
   "cell_type": "code",
   "execution_count": 51,
   "metadata": {
    "tags": []
   },
   "outputs": [],
   "source": [
    "bow_stats = calc_prediction_quality(wine_reviews, 'predicted_score_bow', 'points')"
   ]
  },
  {
   "cell_type": "code",
   "execution_count": 52,
   "metadata": {
    "collapsed": true,
    "jupyter": {
     "outputs_hidden": true
    },
    "tags": []
   },
   "outputs": [
    {
     "data": {
      "text/html": [
       "<div>\n",
       "<style scoped>\n",
       "    .dataframe tbody tr th:only-of-type {\n",
       "        vertical-align: middle;\n",
       "    }\n",
       "\n",
       "    .dataframe tbody tr th {\n",
       "        vertical-align: top;\n",
       "    }\n",
       "\n",
       "    .dataframe thead th {\n",
       "        text-align: right;\n",
       "    }\n",
       "</style>\n",
       "<table border=\"1\" class=\"dataframe\">\n",
       "  <thead>\n",
       "    <tr style=\"text-align: right;\">\n",
       "      <th></th>\n",
       "      <th>MSE</th>\n",
       "      <th>MAE</th>\n",
       "      <th>R2</th>\n",
       "    </tr>\n",
       "  </thead>\n",
       "  <tbody>\n",
       "    <tr>\n",
       "      <th>baseline_1</th>\n",
       "      <td>9.406251</td>\n",
       "      <td>2.513368</td>\n",
       "      <td>-0.000090</td>\n",
       "    </tr>\n",
       "    <tr>\n",
       "      <th>baseline_2</th>\n",
       "      <td>8.926484</td>\n",
       "      <td>2.446500</td>\n",
       "      <td>0.050920</td>\n",
       "    </tr>\n",
       "    <tr>\n",
       "      <th>baseline_3</th>\n",
       "      <td>8.380137</td>\n",
       "      <td>2.352921</td>\n",
       "      <td>0.109008</td>\n",
       "    </tr>\n",
       "    <tr>\n",
       "      <th>regression_by_xgb</th>\n",
       "      <td>6.205267</td>\n",
       "      <td>1.891741</td>\n",
       "      <td>0.340245</td>\n",
       "    </tr>\n",
       "    <tr>\n",
       "      <th>predicted_score_bow</th>\n",
       "      <td>2.657149</td>\n",
       "      <td>1.245658</td>\n",
       "      <td>0.722231</td>\n",
       "    </tr>\n",
       "  </tbody>\n",
       "</table>\n",
       "</div>"
      ],
      "text/plain": [
       "                          MSE       MAE        R2\n",
       "baseline_1           9.406251  2.513368 -0.000090\n",
       "baseline_2           8.926484  2.446500  0.050920\n",
       "baseline_3           8.380137  2.352921  0.109008\n",
       "regression_by_xgb    6.205267  1.891741  0.340245\n",
       "predicted_score_bow  2.657149  1.245658  0.722231"
      ]
     },
     "execution_count": 52,
     "metadata": {},
     "output_type": "execute_result"
    }
   ],
   "source": [
    "all_compared = pd.DataFrame([b1_stats, b2_stats, b3_stats, xgb_stats, bow_stats], index=['baseline_1', 'baseline_2','baseline_3','regression_by_xgb','predicted_score_bow'])\n",
    "all_compared"
   ]
  },
  {
   "cell_type": "markdown",
   "metadata": {},
   "source": [
    "### Using tfidf:"
   ]
  },
  {
   "cell_type": "code",
   "execution_count": 53,
   "metadata": {},
   "outputs": [],
   "source": [
    "%%capture\n",
    "search_grid = np.logspace(-2, 4, num=50, endpoint=True, base=10.0)\n",
    "scores_by_alpha = []\n",
    "for alpha in search_grid:\n",
    "    bow_tfidf_ridge_model = Ridge(alpha=alpha)\n",
    "    mse_by_alpha = abs(cross_val_score(bow_tfidf_ridge_model, bow_tfidf, y = wine_reviews.points, cv = 10, scoring = 'neg_mean_squared_error').mean())\n",
    "    ase_by_alpha = abs(cross_val_score(bow_tfidf_ridge_model, bow_tfidf, y = wine_reviews.points, cv = 10, scoring = 'neg_mean_absolute_error').mean())\n",
    "    r2_by_alpha = cross_val_score(bow_tfidf_ridge_model, bow_tfidf, y = wine_reviews.points, cv = 10, scoring = 'r2').mean()\n",
    "    scores_by_alpha.append((alpha,mse_by_alpha,ase_by_alpha,r2_by_alpha))"
   ]
  },
  {
   "cell_type": "code",
   "execution_count": 54,
   "metadata": {
    "collapsed": true,
    "jupyter": {
     "outputs_hidden": true
    },
    "tags": []
   },
   "outputs": [
    {
     "data": {
      "application/vnd.plotly.v1+json": {
       "config": {
        "linkText": "Export to plot.ly",
        "plotlyServerURL": "https://plot.ly",
        "showLink": true
       },
       "data": [
        {
         "line": {
          "color": "rgba(255, 153, 51, 1.0)",
          "dash": "solid",
          "shape": "linear",
          "width": 3
         },
         "mode": "lines",
         "name": "MSE",
         "text": "",
         "type": "scatter",
         "x": [
          0.01,
          0.013257113655901088,
          0.017575106248547922,
          0.023299518105153717,
          0.030888435964774818,
          0.040949150623804255,
          0.054286754393238594,
          0.07196856730011521,
          0.09540954763499938,
          0.12648552168552957,
          0.16768329368110083,
          0.22229964825261944,
          0.29470517025518095,
          0.3906939937054617,
          0.517947467923121,
          0.6866488450043002,
          0.9102981779915218,
          1.2067926406393288,
          1.5998587196060574,
          2.1209508879201904,
          2.8117686979742307,
          3.727593720314938,
          4.941713361323833,
          6.551285568595509,
          8.68511373751352
         ],
         "y": [
          3.0827810155676323,
          3.0786523033097257,
          3.073778746490422,
          3.0681530301030615,
          3.0605031588682756,
          3.051265540114991,
          3.0406870426894073,
          3.028592477654967,
          3.0151614742577717,
          3.000904869322723,
          2.9871415468213347,
          2.974498036973664,
          2.9641548509809863,
          2.957419970330558,
          2.955489890935179,
          2.959202304704989,
          2.9695316601482844,
          2.986990390434792,
          3.0117849487154587,
          3.044082350435772,
          3.0841620470710773,
          3.132300104304134,
          3.188769249745021,
          3.254328404572708,
          3.3297983340298196
         ]
        },
        {
         "line": {
          "color": "rgba(55, 128, 191, 1.0)",
          "dash": "solid",
          "shape": "linear",
          "width": 3
         },
         "mode": "lines",
         "name": "MAE",
         "text": "",
         "type": "scatter",
         "x": [
          0.01,
          0.013257113655901088,
          0.017575106248547922,
          0.023299518105153717,
          0.030888435964774818,
          0.040949150623804255,
          0.054286754393238594,
          0.07196856730011521,
          0.09540954763499938,
          0.12648552168552957,
          0.16768329368110083,
          0.22229964825261944,
          0.29470517025518095,
          0.3906939937054617,
          0.517947467923121,
          0.6866488450043002,
          0.9102981779915218,
          1.2067926406393288,
          1.5998587196060574,
          2.1209508879201904,
          2.8117686979742307,
          3.727593720314938,
          4.941713361323833,
          6.551285568595509,
          8.68511373751352
         ],
         "y": [
          1.3816732442110737,
          1.3808440890087568,
          1.3798817730066895,
          1.3787389949543474,
          1.377218797947821,
          1.3753635024458002,
          1.3732144052174173,
          1.3707118987999525,
          1.36794967664366,
          1.3650104115764243,
          1.3621411842887199,
          1.3595011005223443,
          1.3574454585330247,
          1.356240833316954,
          1.356160356481514,
          1.3573955229727181,
          1.3601283040943932,
          1.364397595936767,
          1.3702046019233227,
          1.3776660341265212,
          1.3867786348577542,
          1.3976789396230873,
          1.4103302155721635,
          1.4248608713166206,
          1.4414377441043247
         ]
        },
        {
         "line": {
          "color": "rgba(50, 171, 96, 1.0)",
          "dash": "solid",
          "shape": "linear",
          "width": 3
         },
         "mode": "lines",
         "name": "R_squared",
         "text": "",
         "type": "scatter",
         "x": [
          0.01,
          0.013257113655901088,
          0.017575106248547922,
          0.023299518105153717,
          0.030888435964774818,
          0.040949150623804255,
          0.054286754393238594,
          0.07196856730011521,
          0.09540954763499938,
          0.12648552168552957,
          0.16768329368110083,
          0.22229964825261944,
          0.29470517025518095,
          0.3906939937054617,
          0.517947467923121,
          0.6866488450043002,
          0.9102981779915218,
          1.2067926406393288,
          1.5998587196060574,
          2.1209508879201904,
          2.8117686979742307,
          3.727593720314938,
          4.941713361323833,
          6.551285568595509,
          8.68511373751352
         ],
         "y": [
          0.675643882350475,
          0.6760784105273621,
          0.6765933357411308,
          0.6771877718745195,
          0.6779930214335133,
          0.678970335583772,
          0.6800860863198493,
          0.6813650848637562,
          0.682786777123544,
          0.6842964300075838,
          0.68575493840771,
          0.6870993450400832,
          0.6882017096330509,
          0.6889277579199168,
          0.689151797493785,
          0.688784292992117,
          0.6877232090185027,
          0.6859180043937384,
          0.6833435869431728,
          0.6799869026975524,
          0.6758185888507138,
          0.670809733279105,
          0.6649343061472164,
          0.6581125129981263,
          0.650259267670046
         ]
        }
       ],
       "layout": {
        "autosize": true,
        "legend": {
         "bgcolor": "#F5F6F9",
         "font": {
          "color": "#4D5663"
         }
        },
        "paper_bgcolor": "#F5F6F9",
        "plot_bgcolor": "#F5F6F9",
        "shapes": [
         {
          "line": {
           "color": "#db4052",
           "dash": "solid",
           "width": 1
          },
          "type": "line",
          "x0": 0,
          "x1": 1,
          "xref": "paper",
          "y0": [
           0,
           0
          ],
          "y1": [
           0,
           0
          ],
          "yref": "y"
         }
        ],
        "title": {
         "font": {
          "color": "#4D5663"
         },
         "text": "BOW Counts - MSE as a function of learning rate (alpha)"
        },
        "xaxis": {
         "autorange": true,
         "gridcolor": "#E1E5ED",
         "range": [
          0.01,
          8.68511373751352
         ],
         "showgrid": true,
         "tickfont": {
          "color": "#4D5663"
         },
         "title": {
          "font": {
           "color": "#4D5663"
          },
          "text": "alpha"
         },
         "type": "linear",
         "zerolinecolor": "#E1E5ED"
        },
        "yaxis": {
         "autorange": true,
         "gridcolor": "#E1E5ED",
         "range": [
          0.5013959862056141,
          3.4786616154942513
         ],
         "showgrid": true,
         "tickfont": {
          "color": "#4D5663"
         },
         "title": {
          "font": {
           "color": "#4D5663"
          },
          "text": "scores"
         },
         "type": "linear",
         "zerolinecolor": "#E1E5ED"
        }
       }
      },
      "image/png": "[encoded data removed]",
      "text/html": [
       "<div>                            <div id=\"c188573d-156f-4486-af7d-8e29e25fb287\" class=\"plotly-graph-div\" style=\"height:525px; width:100%;\"></div>            <script type=\"text/javascript\">                require([\"plotly\"], function(Plotly) {                    window.PLOTLYENV=window.PLOTLYENV || {};\n",
       "                    window.PLOTLYENV.BASE_URL='https://plot.ly';                                    if (document.getElementById(\"c188573d-156f-4486-af7d-8e29e25fb287\")) {                    Plotly.newPlot(                        \"c188573d-156f-4486-af7d-8e29e25fb287\",                        [{\"line\":{\"color\":\"rgba(255, 153, 51, 1.0)\",\"dash\":\"solid\",\"shape\":\"linear\",\"width\":3},\"mode\":\"lines\",\"name\":\"MSE\",\"text\":\"\",\"x\":[0.01,0.013257113655901088,0.017575106248547922,0.023299518105153717,0.030888435964774818,0.040949150623804255,0.054286754393238594,0.07196856730011521,0.09540954763499938,0.12648552168552957,0.16768329368110083,0.22229964825261944,0.29470517025518095,0.3906939937054617,0.517947467923121,0.6866488450043002,0.9102981779915218,1.2067926406393288,1.5998587196060574,2.1209508879201904,2.8117686979742307,3.727593720314938,4.941713361323833,6.551285568595509,8.68511373751352],\"y\":[3.0827810155676323,3.0786523033097257,3.073778746490422,3.0681530301030615,3.0605031588682756,3.051265540114991,3.0406870426894073,3.028592477654967,3.0151614742577717,3.000904869322723,2.9871415468213347,2.974498036973664,2.9641548509809863,2.957419970330558,2.955489890935179,2.959202304704989,2.9695316601482844,2.986990390434792,3.0117849487154587,3.044082350435772,3.0841620470710773,3.132300104304134,3.188769249745021,3.254328404572708,3.3297983340298196],\"type\":\"scatter\"},{\"line\":{\"color\":\"rgba(55, 128, 191, 1.0)\",\"dash\":\"solid\",\"shape\":\"linear\",\"width\":3},\"mode\":\"lines\",\"name\":\"MAE\",\"text\":\"\",\"x\":[0.01,0.013257113655901088,0.017575106248547922,0.023299518105153717,0.030888435964774818,0.040949150623804255,0.054286754393238594,0.07196856730011521,0.09540954763499938,0.12648552168552957,0.16768329368110083,0.22229964825261944,0.29470517025518095,0.3906939937054617,0.517947467923121,0.6866488450043002,0.9102981779915218,1.2067926406393288,1.5998587196060574,2.1209508879201904,2.8117686979742307,3.727593720314938,4.941713361323833,6.551285568595509,8.68511373751352],\"y\":[1.3816732442110737,1.3808440890087568,1.3798817730066895,1.3787389949543474,1.377218797947821,1.3753635024458002,1.3732144052174173,1.3707118987999525,1.36794967664366,1.3650104115764243,1.3621411842887199,1.3595011005223443,1.3574454585330247,1.356240833316954,1.356160356481514,1.3573955229727181,1.3601283040943932,1.364397595936767,1.3702046019233227,1.3776660341265212,1.3867786348577542,1.3976789396230873,1.4103302155721635,1.4248608713166206,1.4414377441043247],\"type\":\"scatter\"},{\"line\":{\"color\":\"rgba(50, 171, 96, 1.0)\",\"dash\":\"solid\",\"shape\":\"linear\",\"width\":3},\"mode\":\"lines\",\"name\":\"R_squared\",\"text\":\"\",\"x\":[0.01,0.013257113655901088,0.017575106248547922,0.023299518105153717,0.030888435964774818,0.040949150623804255,0.054286754393238594,0.07196856730011521,0.09540954763499938,0.12648552168552957,0.16768329368110083,0.22229964825261944,0.29470517025518095,0.3906939937054617,0.517947467923121,0.6866488450043002,0.9102981779915218,1.2067926406393288,1.5998587196060574,2.1209508879201904,2.8117686979742307,3.727593720314938,4.941713361323833,6.551285568595509,8.68511373751352],\"y\":[0.675643882350475,0.6760784105273621,0.6765933357411308,0.6771877718745195,0.6779930214335133,0.678970335583772,0.6800860863198493,0.6813650848637562,0.682786777123544,0.6842964300075838,0.68575493840771,0.6870993450400832,0.6882017096330509,0.6889277579199168,0.689151797493785,0.688784292992117,0.6877232090185027,0.6859180043937384,0.6833435869431728,0.6799869026975524,0.6758185888507138,0.670809733279105,0.6649343061472164,0.6581125129981263,0.650259267670046],\"type\":\"scatter\"}],                        {\"legend\":{\"bgcolor\":\"#F5F6F9\",\"font\":{\"color\":\"#4D5663\"}},\"paper_bgcolor\":\"#F5F6F9\",\"plot_bgcolor\":\"#F5F6F9\",\"yaxis\":{\"tickfont\":{\"color\":\"#4D5663\"},\"gridcolor\":\"#E1E5ED\",\"titlefont\":{\"color\":\"#4D5663\"},\"zerolinecolor\":\"#E1E5ED\",\"showgrid\":true,\"title\":\"scores\"},\"xaxis\":{\"tickfont\":{\"color\":\"#4D5663\"},\"gridcolor\":\"#E1E5ED\",\"titlefont\":{\"color\":\"#4D5663\"},\"zerolinecolor\":\"#E1E5ED\",\"showgrid\":true,\"title\":\"alpha\"},\"titlefont\":{\"color\":\"#4D5663\"},\"title\":\"BOW Counts - MSE as a function of learning rate (alpha)\",\"shapes\":[{\"x0\":0,\"y0\":[0,0],\"x1\":1,\"y1\":[0,0],\"line\":{\"color\":\"#db4052\",\"width\":1,\"dash\":\"solid\"},\"xref\":\"paper\",\"yref\":\"y\",\"type\":\"line\"}]},                        {\"showLink\": true, \"linkText\": \"Export to plot.ly\", \"plotlyServerURL\": \"https://plot.ly\", \"responsive\": true}                    ).then(function(){\n",
       "                            \n",
       "var gd = document.getElementById('c188573d-156f-4486-af7d-8e29e25fb287');\n",
       "var x = new MutationObserver(function (mutations, observer) {{\n",
       "        var display = window.getComputedStyle(gd).display;\n",
       "        if (!display || display === 'none') {{\n",
       "            console.log([gd, 'removed!']);\n",
       "            Plotly.purge(gd);\n",
       "            observer.disconnect();\n",
       "        }}\n",
       "}});\n",
       "\n",
       "// Listen for the removal of the full notebook cells\n",
       "var notebookContainer = gd.closest('#notebook-container');\n",
       "if (notebookContainer) {{\n",
       "    x.observe(notebookContainer, {childList: true});\n",
       "}}\n",
       "\n",
       "// Listen for the clearing of the current output cell\n",
       "var outputEl = gd.closest('.output');\n",
       "if (outputEl) {{\n",
       "    x.observe(outputEl, {childList: true});\n",
       "}}\n",
       "\n",
       "                        })                };                });            </script>        </div>"
      ]
     },
     "metadata": {},
     "output_type": "display_data"
    }
   ],
   "source": [
    "cv_results = DataFrame(scores_by_alpha, columns = ['alpha', 'MSE','MAE','R_squared'])\n",
    "cv_results.query('alpha < 10').set_index('alpha').iplot(title = 'BOW Counts - MSE as a function of learning rate (alpha)', xTitle = 'alpha', yTitle = 'scores', width = 3, hline=(0,0))"
   ]
  },
  {
   "cell_type": "code",
   "execution_count": 55,
   "metadata": {},
   "outputs": [
    {
     "name": "stdout",
     "output_type": "stream",
     "text": [
      "0.517947467923121 2.955489890935179\n"
     ]
    }
   ],
   "source": [
    "# cv_results.head()\n",
    "opt_alpha_bow_tfidf, min_mse = cv_results.loc[cv_results.MSE.idxmin(),:'MSE']\n",
    "print(opt_alpha_bow_tfidf, min_mse)"
   ]
  },
  {
   "cell_type": "markdown",
   "metadata": {
    "tags": []
   },
   "source": [
    "### Optimal Model"
   ]
  },
  {
   "cell_type": "markdown",
   "metadata": {
    "tags": []
   },
   "source": [
    "Let's use the optimal model regularization parameter and train a model on the **entire dataset**:"
   ]
  },
  {
   "cell_type": "code",
   "execution_count": 56,
   "metadata": {
    "collapsed": true,
    "jupyter": {
     "outputs_hidden": true
    },
    "tags": []
   },
   "outputs": [
    {
     "data": {
      "text/plain": [
       "Ridge(alpha=0.517947467923121, max_iter=10000)"
      ]
     },
     "execution_count": 56,
     "metadata": {},
     "output_type": "execute_result"
    }
   ],
   "source": [
    "bow_tfidf_ridge_model = Ridge(alpha=opt_alpha_bow_tfidf, max_iter=10000)\n",
    "bow_tfidf_ridge_model.fit(bow_tfidf, wine_reviews.points)"
   ]
  },
  {
   "cell_type": "code",
   "execution_count": 57,
   "metadata": {
    "tags": []
   },
   "outputs": [],
   "source": [
    "wine_reviews['predicted_score_bow_tfidf_ridge'] = bow_tfidf_ridge_model.predict(bow_tfidf)"
   ]
  },
  {
   "cell_type": "code",
   "execution_count": 58,
   "metadata": {
    "collapsed": true,
    "jupyter": {
     "outputs_hidden": true
    },
    "tags": []
   },
   "outputs": [
    {
     "data": {
      "text/plain": [
       "0.25914258092475917"
      ]
     },
     "execution_count": 58,
     "metadata": {},
     "output_type": "execute_result"
    }
   ],
   "source": [
    "wine_reviews.predicted_score_bow_tfidf_ridge = wine_reviews.apply(lambda row: round(row.predicted_score_bow_tfidf_ridge), axis=1)\n",
    "# wine_reviews.sample(10)\n",
    "accuracy_score(wine_reviews.predicted_score_bow_tfidf_ridge, wine_reviews.points)"
   ]
  },
  {
   "cell_type": "code",
   "execution_count": 59,
   "metadata": {
    "tags": []
   },
   "outputs": [],
   "source": [
    "clean_bow_stats = calc_prediction_quality(wine_reviews, 'predicted_score_bow_tfidf_ridge', 'points')"
   ]
  },
  {
   "cell_type": "code",
   "execution_count": 60,
   "metadata": {
    "collapsed": true,
    "jupyter": {
     "outputs_hidden": true
    },
    "tags": []
   },
   "outputs": [
    {
     "data": {
      "text/html": [
       "<div>\n",
       "<style scoped>\n",
       "    .dataframe tbody tr th:only-of-type {\n",
       "        vertical-align: middle;\n",
       "    }\n",
       "\n",
       "    .dataframe tbody tr th {\n",
       "        vertical-align: top;\n",
       "    }\n",
       "\n",
       "    .dataframe thead th {\n",
       "        text-align: right;\n",
       "    }\n",
       "</style>\n",
       "<table border=\"1\" class=\"dataframe\">\n",
       "  <thead>\n",
       "    <tr style=\"text-align: right;\">\n",
       "      <th></th>\n",
       "      <th>MSE</th>\n",
       "      <th>MAE</th>\n",
       "      <th>R2</th>\n",
       "    </tr>\n",
       "  </thead>\n",
       "  <tbody>\n",
       "    <tr>\n",
       "      <th>baseline_1</th>\n",
       "      <td>9.406251</td>\n",
       "      <td>2.513368</td>\n",
       "      <td>-0.000090</td>\n",
       "    </tr>\n",
       "    <tr>\n",
       "      <th>baseline_2</th>\n",
       "      <td>8.926484</td>\n",
       "      <td>2.446500</td>\n",
       "      <td>0.050920</td>\n",
       "    </tr>\n",
       "    <tr>\n",
       "      <th>baseline_3</th>\n",
       "      <td>8.380137</td>\n",
       "      <td>2.352921</td>\n",
       "      <td>0.109008</td>\n",
       "    </tr>\n",
       "    <tr>\n",
       "      <th>regression_by_xgb</th>\n",
       "      <td>6.205267</td>\n",
       "      <td>1.891741</td>\n",
       "      <td>0.340245</td>\n",
       "    </tr>\n",
       "    <tr>\n",
       "      <th>predicted_score_bow</th>\n",
       "      <td>2.657149</td>\n",
       "      <td>1.245658</td>\n",
       "      <td>0.722231</td>\n",
       "    </tr>\n",
       "    <tr>\n",
       "      <th>clean_bow_ridge</th>\n",
       "      <td>2.504017</td>\n",
       "      <td>1.206821</td>\n",
       "      <td>0.738239</td>\n",
       "    </tr>\n",
       "  </tbody>\n",
       "</table>\n",
       "</div>"
      ],
      "text/plain": [
       "                          MSE       MAE        R2\n",
       "baseline_1           9.406251  2.513368 -0.000090\n",
       "baseline_2           8.926484  2.446500  0.050920\n",
       "baseline_3           8.380137  2.352921  0.109008\n",
       "regression_by_xgb    6.205267  1.891741  0.340245\n",
       "predicted_score_bow  2.657149  1.245658  0.722231\n",
       "clean_bow_ridge      2.504017  1.206821  0.738239"
      ]
     },
     "execution_count": 60,
     "metadata": {},
     "output_type": "execute_result"
    }
   ],
   "source": [
    "all_compared = pd.DataFrame([b1_stats, b2_stats, b3_stats, xgb_stats, bow_stats, clean_bow_stats], index=['baseline_1', 'baseline_2','baseline_3','regression_by_xgb','predicted_score_bow','clean_bow_ridge'])\n",
    "all_compared"
   ]
  },
  {
   "cell_type": "code",
   "execution_count": 61,
   "metadata": {
    "tags": []
   },
   "outputs": [],
   "source": [
    "all_compared.to_csv('data/all_models_compared.csv', index=False)"
   ]
  },
  {
   "cell_type": "markdown",
   "metadata": {
    "tags": []
   },
   "source": [
    "## Neural Networks"
   ]
  },
  {
   "cell_type": "markdown",
   "metadata": {
    "tags": []
   },
   "source": [
    "### LSTM"
   ]
  },
  {
   "cell_type": "code",
   "execution_count": 155,
   "metadata": {
    "tags": []
   },
   "outputs": [],
   "source": [
    "def plot_graphs(history, metric):\n",
    "  plt.plot(history.history[metric])\n",
    "  plt.plot(history.history['val_'+metric], '')\n",
    "  plt.xlabel(\"Epochs\")\n",
    "  plt.ylabel(metric)\n",
    "  plt.legend([metric, 'val_'+metric])"
   ]
  },
  {
   "cell_type": "code",
   "execution_count": 64,
   "metadata": {
    "tags": []
   },
   "outputs": [],
   "source": [
    "BUFFER_SIZE = 10000\n",
    "BATCH_SIZE = 64"
   ]
  },
  {
   "cell_type": "code",
   "execution_count": 66,
   "metadata": {
    "tags": []
   },
   "outputs": [],
   "source": [
    "VOCAB_SIZE = 1000\n",
    "encoder = tf.keras.layers.TextVectorization(\n",
    "    max_tokens=VOCAB_SIZE)\n",
    "encoder.adapt(train_data.description.to_numpy())"
   ]
  },
  {
   "cell_type": "code",
   "execution_count": 69,
   "metadata": {
    "tags": []
   },
   "outputs": [],
   "source": [
    "lstm_model = tf.keras.Sequential([\n",
    "    encoder,\n",
    "    tf.keras.layers.Embedding(\n",
    "        input_dim=len(encoder.get_vocabulary()),\n",
    "        output_dim=64,\n",
    "        # Use masking to handle the variable sequence lengths\n",
    "        mask_zero=True),\n",
    "    tf.keras.layers.Bidirectional(tf.keras.layers.LSTM(64)),\n",
    "    tf.keras.layers.Dense(64, activation='relu'),\n",
    "    tf.keras.layers.Dense(1)\n",
    "])"
   ]
  },
  {
   "cell_type": "code",
   "execution_count": 70,
   "metadata": {
    "collapsed": true,
    "jupyter": {
     "outputs_hidden": true
    },
    "tags": []
   },
   "outputs": [
    {
     "data": {
      "image/png": "[encoded data removed]",
      "text/plain": [
       "<IPython.core.display.Image object>"
      ]
     },
     "execution_count": 70,
     "metadata": {},
     "output_type": "execute_result"
    }
   ],
   "source": [
    "tf.keras.utils.plot_model(lstm_model, show_dtype=False, show_shapes=True, show_layer_names=True)"
   ]
  },
  {
   "cell_type": "code",
   "execution_count": null,
   "metadata": {
    "tags": []
   },
   "outputs": [],
   "source": [
    "lstm_model.summary()"
   ]
  },
  {
   "cell_type": "code",
   "execution_count": 71,
   "metadata": {
    "tags": []
   },
   "outputs": [],
   "source": [
    "lstm_model.compile(loss=tf.keras.losses.MeanAbsoluteError(reduction=\"auto\", name=\"mean_absolute_error\"),\n",
    "              optimizer=tf.keras.optimizers.Adam(1e-4),\n",
    "              metrics=['mean_absolute_error'])"
   ]
  },
  {
   "cell_type": "code",
   "execution_count": 72,
   "metadata": {
    "collapsed": true,
    "jupyter": {
     "outputs_hidden": true
    },
    "tags": []
   },
   "outputs": [
    {
     "name": "stdout",
     "output_type": "stream",
     "text": [
      "Epoch 1/10\n",
      "750/750 [==============================] - 160s 204ms/step - loss: 35.9325 - mean_absolute_error: 35.9325 - val_loss: 2.4890 - val_mean_absolute_error: 2.4890\n",
      "Epoch 2/10\n",
      "750/750 [==============================] - 151s 202ms/step - loss: 2.5065 - mean_absolute_error: 2.5065 - val_loss: 2.4580 - val_mean_absolute_error: 2.4580\n",
      "Epoch 3/10\n",
      "750/750 [==============================] - 150s 200ms/step - loss: 1.9878 - mean_absolute_error: 1.9878 - val_loss: 1.5654 - val_mean_absolute_error: 1.5654\n",
      "Epoch 4/10\n",
      "750/750 [==============================] - 134s 179ms/step - loss: 1.5160 - mean_absolute_error: 1.5160 - val_loss: 1.4777 - val_mean_absolute_error: 1.4777\n",
      "Epoch 5/10\n",
      "750/750 [==============================] - 135s 180ms/step - loss: 1.4667 - mean_absolute_error: 1.4667 - val_loss: 1.4637 - val_mean_absolute_error: 1.4637\n",
      "Epoch 6/10\n",
      "750/750 [==============================] - 136s 182ms/step - loss: 1.4442 - mean_absolute_error: 1.4442 - val_loss: 1.4636 - val_mean_absolute_error: 1.4636\n",
      "Epoch 7/10\n",
      "750/750 [==============================] - 137s 183ms/step - loss: 1.4287 - mean_absolute_error: 1.4287 - val_loss: 1.4314 - val_mean_absolute_error: 1.4314\n",
      "Epoch 8/10\n",
      "750/750 [==============================] - 136s 181ms/step - loss: 1.4216 - mean_absolute_error: 1.4216 - val_loss: 1.4350 - val_mean_absolute_error: 1.4350\n",
      "Epoch 9/10\n",
      "750/750 [==============================] - 138s 184ms/step - loss: 1.4066 - mean_absolute_error: 1.4066 - val_loss: 1.4170 - val_mean_absolute_error: 1.4170\n",
      "Epoch 10/10\n",
      "750/750 [==============================] - 151s 201ms/step - loss: 1.3994 - mean_absolute_error: 1.3994 - val_loss: 1.4087 - val_mean_absolute_error: 1.4087\n"
     ]
    }
   ],
   "source": [
    "%%time\n",
    "early_stopping_monitor = EarlyStopping(\n",
    "    monitor='mean_absolute_error',\n",
    "    min_delta=0.01,\n",
    "    patience=2,\n",
    "    verbose=1,\n",
    "    restore_best_weights=True)\n",
    "history = lstm_model.fit(train_data.description, train_data.points, epochs=10,\n",
    "                    validation_data = (test_data.description, test_data.points),\n",
    "                    callbacks=[early_stopping_monitor],\n",
    "                    verbose=1,\n",
    "                    batch_size=128)"
   ]
  },
  {
   "cell_type": "code",
   "execution_count": 73,
   "metadata": {
    "collapsed": true,
    "jupyter": {
     "outputs_hidden": true
    },
    "tags": []
   },
   "outputs": [
    {
     "name": "stdout",
     "output_type": "stream",
     "text": [
      "750/750 [==============================] - 10s 13ms/step - loss: 1.4087 - mean_absolute_error: 1.4087\n",
      "Test Loss: 1.4086930751800537\n",
      "Test Accuracy: 1.4086930751800537\n"
     ]
    }
   ],
   "source": [
    "test_loss, test_acc = lstm_model.evaluate(test_data.description, test_data.points)\n",
    "\n",
    "print('Test Loss:', test_loss)\n",
    "print('Test Accuracy:', test_acc)"
   ]
  },
  {
   "cell_type": "code",
   "execution_count": 74,
   "metadata": {
    "collapsed": true,
    "jupyter": {
     "outputs_hidden": true
    },
    "tags": []
   },
   "outputs": [
    {
     "data": {
      "text/plain": [
       "(0.0, 37.65920681357384)"
      ]
     },
     "execution_count": 74,
     "metadata": {},
     "output_type": "execute_result"
    },
    {
     "data": {
      "image/png": "[encoded data removed]",
      "text/plain": [
       "<Figure size 1152x576 with 2 Axes>"
      ]
     },
     "metadata": {
      "needs_background": "light"
     },
     "output_type": "display_data"
    }
   ],
   "source": [
    "plt.figure(figsize=(16, 8))\n",
    "plt.subplot(1, 2, 1)\n",
    "plot_graphs(history, 'mean_absolute_error')\n",
    "# plt.ylim(None, 1)\n",
    "plt.subplot(1, 2, 2)\n",
    "plot_graphs(history, 'loss')\n",
    "plt.ylim(0, None)"
   ]
  },
  {
   "cell_type": "code",
   "execution_count": 75,
   "metadata": {
    "tags": []
   },
   "outputs": [],
   "source": [
    "wine_reviews['predicted_score_lstm'] = lstm_model.predict(wine_reviews.description)"
   ]
  },
  {
   "cell_type": "code",
   "execution_count": 76,
   "metadata": {
    "collapsed": true,
    "jupyter": {
     "outputs_hidden": true
    },
    "tags": []
   },
   "outputs": [
    {
     "data": {
      "text/plain": [
       "0.24207420742074207"
      ]
     },
     "execution_count": 76,
     "metadata": {},
     "output_type": "execute_result"
    }
   ],
   "source": [
    "wine_reviews.predicted_score_lstm = wine_reviews.apply(lambda row: round(row.predicted_score_lstm), axis=1)\n",
    "# wine_reviews.sample(10)\n",
    "accuracy_score(wine_reviews.predicted_score_lstm, wine_reviews.points)"
   ]
  },
  {
   "cell_type": "code",
   "execution_count": 77,
   "metadata": {
    "tags": []
   },
   "outputs": [],
   "source": [
    "lstm_stats = calc_prediction_quality(wine_reviews, 'predicted_score_lstm', 'points')"
   ]
  },
  {
   "cell_type": "code",
   "execution_count": 78,
   "metadata": {
    "collapsed": true,
    "jupyter": {
     "outputs_hidden": true
    },
    "tags": []
   },
   "outputs": [
    {
     "data": {
      "text/html": [
       "<div>\n",
       "<style scoped>\n",
       "    .dataframe tbody tr th:only-of-type {\n",
       "        vertical-align: middle;\n",
       "    }\n",
       "\n",
       "    .dataframe tbody tr th {\n",
       "        vertical-align: top;\n",
       "    }\n",
       "\n",
       "    .dataframe thead th {\n",
       "        text-align: right;\n",
       "    }\n",
       "</style>\n",
       "<table border=\"1\" class=\"dataframe\">\n",
       "  <thead>\n",
       "    <tr style=\"text-align: right;\">\n",
       "      <th></th>\n",
       "      <th>MSE</th>\n",
       "      <th>MAE</th>\n",
       "      <th>R2</th>\n",
       "    </tr>\n",
       "  </thead>\n",
       "  <tbody>\n",
       "    <tr>\n",
       "      <th>baseline_1</th>\n",
       "      <td>9.406251</td>\n",
       "      <td>2.513368</td>\n",
       "      <td>-0.000090</td>\n",
       "    </tr>\n",
       "    <tr>\n",
       "      <th>baseline_2</th>\n",
       "      <td>8.926484</td>\n",
       "      <td>2.446500</td>\n",
       "      <td>0.050920</td>\n",
       "    </tr>\n",
       "    <tr>\n",
       "      <th>baseline_3</th>\n",
       "      <td>8.380137</td>\n",
       "      <td>2.352921</td>\n",
       "      <td>0.109008</td>\n",
       "    </tr>\n",
       "    <tr>\n",
       "      <th>regression_by_xgb</th>\n",
       "      <td>6.205267</td>\n",
       "      <td>1.891741</td>\n",
       "      <td>0.340245</td>\n",
       "    </tr>\n",
       "    <tr>\n",
       "      <th>clean_bow_ridge</th>\n",
       "      <td>2.504017</td>\n",
       "      <td>1.206821</td>\n",
       "      <td>0.738239</td>\n",
       "    </tr>\n",
       "    <tr>\n",
       "      <th>predicted_score_lstm</th>\n",
       "      <td>3.360219</td>\n",
       "      <td>1.357369</td>\n",
       "      <td>0.648735</td>\n",
       "    </tr>\n",
       "  </tbody>\n",
       "</table>\n",
       "</div>"
      ],
      "text/plain": [
       "                           MSE       MAE        R2\n",
       "baseline_1            9.406251  2.513368 -0.000090\n",
       "baseline_2            8.926484  2.446500  0.050920\n",
       "baseline_3            8.380137  2.352921  0.109008\n",
       "regression_by_xgb     6.205267  1.891741  0.340245\n",
       "clean_bow_ridge       2.504017  1.206821  0.738239\n",
       "predicted_score_lstm  3.360219  1.357369  0.648735"
      ]
     },
     "execution_count": 78,
     "metadata": {},
     "output_type": "execute_result"
    }
   ],
   "source": [
    "all_compared = pd.DataFrame([b1_stats, b2_stats, b3_stats, xgb_stats, clean_bow_stats, lstm_stats], index=['baseline_1', 'baseline_2','baseline_3','regression_by_xgb','clean_bow_ridge', 'predicted_score_lstm'])\n",
    "all_compared"
   ]
  },
  {
   "cell_type": "code",
   "execution_count": 79,
   "metadata": {
    "tags": []
   },
   "outputs": [],
   "source": [
    "all_compared.to_csv('data/all_models_compared.csv', index=False)"
   ]
  },
  {
   "cell_type": "markdown",
   "metadata": {
    "tags": []
   },
   "source": [
    "### Pre-trained word embeddings"
   ]
  },
  {
   "cell_type": "code",
   "execution_count": 81,
   "metadata": {
    "tags": []
   },
   "outputs": [],
   "source": [
    "vectorizer = tf.keras.layers.TextVectorization(max_tokens=20000, output_sequence_length=200)\n",
    "vectorizer.adapt(train_data.description.to_numpy())"
   ]
  },
  {
   "cell_type": "code",
   "execution_count": 82,
   "metadata": {
    "tags": []
   },
   "outputs": [],
   "source": [
    "voc = vectorizer.get_vocabulary()\n",
    "word_index = dict(zip(voc, range(len(voc))))"
   ]
  },
  {
   "cell_type": "code",
   "execution_count": 83,
   "metadata": {
    "collapsed": true,
    "jupyter": {
     "outputs_hidden": true
    },
    "tags": []
   },
   "outputs": [
    {
     "name": "stdout",
     "output_type": "stream",
     "text": [
      "Found 400000 word vectors.\n"
     ]
    }
   ],
   "source": [
    "path_to_glove_file = \"data/glove.6B.100d.txt\"\n",
    "\n",
    "embeddings_index = {}\n",
    "with open(path_to_glove_file) as f:\n",
    "    for line in f:\n",
    "        word, coefs = line.split(maxsplit=1)\n",
    "        coefs = np.fromstring(coefs, \"f\", sep=\" \")\n",
    "        embeddings_index[word] = coefs\n",
    "\n",
    "print(\"Found %s word vectors.\" % len(embeddings_index))"
   ]
  },
  {
   "cell_type": "code",
   "execution_count": 84,
   "metadata": {
    "collapsed": true,
    "jupyter": {
     "outputs_hidden": true
    },
    "tags": []
   },
   "outputs": [
    {
     "name": "stdout",
     "output_type": "stream",
     "text": [
      "Converted 14838 words (5162 misses)\n"
     ]
    }
   ],
   "source": [
    "num_tokens = len(voc) + 2\n",
    "embedding_dim = 100\n",
    "hits = 0\n",
    "misses = 0\n",
    "\n",
    "# Prepare embedding matrix\n",
    "embedding_matrix = np.zeros((num_tokens, embedding_dim))\n",
    "for word, i in word_index.items():\n",
    "    embedding_vector = embeddings_index.get(word)\n",
    "    if embedding_vector is not None:\n",
    "        # Words not found in embedding index will be all-zeros.\n",
    "        # This includes the representation for \"padding\" and \"OOV\"\n",
    "        embedding_matrix[i] = embedding_vector\n",
    "        hits += 1\n",
    "    else:\n",
    "        misses += 1\n",
    "print(\"Converted %d words (%d misses)\" % (hits, misses))"
   ]
  },
  {
   "cell_type": "code",
   "execution_count": 85,
   "metadata": {
    "tags": []
   },
   "outputs": [],
   "source": [
    "embedding_layer = tf.keras.layers.Embedding(\n",
    "    input_dim=num_tokens,\n",
    "    output_dim=embedding_dim,\n",
    "    embeddings_initializer=keras.initializers.Constant(embedding_matrix),\n",
    "    trainable=False,\n",
    ")"
   ]
  },
  {
   "cell_type": "code",
   "execution_count": 86,
   "metadata": {
    "tags": []
   },
   "outputs": [],
   "source": [
    "pretrained_embed_lstm_model = tf.keras.Sequential([\n",
    "    vectorizer,\n",
    "    embedding_layer,\n",
    "    tf.keras.layers.Bidirectional(tf.keras.layers.LSTM(64)),\n",
    "    tf.keras.layers.Dense(64, activation='relu'),\n",
    "    tf.keras.layers.Dense(1)\n",
    "])"
   ]
  },
  {
   "cell_type": "code",
   "execution_count": null,
   "metadata": {
    "tags": []
   },
   "outputs": [],
   "source": [
    "pretrained_embed_lstm_model.summary()"
   ]
  },
  {
   "cell_type": "code",
   "execution_count": 87,
   "metadata": {
    "tags": []
   },
   "outputs": [],
   "source": [
    "pretrained_embed_lstm_model.compile(loss=tf.keras.losses.MeanAbsoluteError(reduction=\"auto\", name=\"mean_absolute_error\"),\n",
    "              optimizer=tf.keras.optimizers.Adam(1e-4),\n",
    "              metrics=['mean_absolute_error'])"
   ]
  },
  {
   "cell_type": "code",
   "execution_count": 88,
   "metadata": {
    "collapsed": true,
    "jupyter": {
     "outputs_hidden": true
    },
    "tags": []
   },
   "outputs": [
    {
     "name": "stdout",
     "output_type": "stream",
     "text": [
      "Epoch 1/10\n",
      "750/750 [==============================] - 362s 479ms/step - loss: 41.3524 - mean_absolute_error: 41.3524 - val_loss: 2.5131 - val_mean_absolute_error: 2.5131\n",
      "Epoch 2/10\n",
      "750/750 [==============================] - 344s 458ms/step - loss: 2.5374 - mean_absolute_error: 2.5374 - val_loss: 2.5082 - val_mean_absolute_error: 2.5082\n",
      "Epoch 3/10\n",
      "750/750 [==============================] - 349s 465ms/step - loss: 2.5322 - mean_absolute_error: 2.5322 - val_loss: 2.5026 - val_mean_absolute_error: 2.5026\n",
      "Epoch 4/10\n",
      "750/750 [==============================] - 380s 506ms/step - loss: 2.4824 - mean_absolute_error: 2.4824 - val_loss: 2.1064 - val_mean_absolute_error: 2.1064\n",
      "Epoch 5/10\n",
      "750/750 [==============================] - 384s 511ms/step - loss: 1.9179 - mean_absolute_error: 1.9179 - val_loss: 1.7541 - val_mean_absolute_error: 1.7541\n",
      "Epoch 6/10\n",
      "750/750 [==============================] - 390s 520ms/step - loss: 1.7063 - mean_absolute_error: 1.7063 - val_loss: 1.6542 - val_mean_absolute_error: 1.6542\n",
      "Epoch 7/10\n",
      "750/750 [==============================] - 368s 491ms/step - loss: 1.6471 - mean_absolute_error: 1.6471 - val_loss: 1.6231 - val_mean_absolute_error: 1.6231\n",
      "Epoch 8/10\n",
      "750/750 [==============================] - 371s 494ms/step - loss: 1.6116 - mean_absolute_error: 1.6116 - val_loss: 1.5958 - val_mean_absolute_error: 1.5958\n",
      "Epoch 9/10\n",
      "750/750 [==============================] - 374s 498ms/step - loss: 1.5878 - mean_absolute_error: 1.5878 - val_loss: 1.5689 - val_mean_absolute_error: 1.5689\n",
      "Epoch 10/10\n",
      "750/750 [==============================] - 365s 486ms/step - loss: 1.5669 - mean_absolute_error: 1.5669 - val_loss: 1.5573 - val_mean_absolute_error: 1.5573\n"
     ]
    }
   ],
   "source": [
    "%%time\n",
    "early_stopping_monitor = EarlyStopping(\n",
    "    monitor='mean_absolute_error',\n",
    "    min_delta=0.01,\n",
    "    patience=2,\n",
    "    verbose=1,\n",
    "    restore_best_weights=True)\n",
    "history_pretrained = pretrained_embed_lstm_model.fit(train_data.description, train_data.points, epochs=10,\n",
    "                    validation_data = (test_data.description, test_data.points),\n",
    "                    callbacks=[early_stopping_monitor],\n",
    "                    verbose=1,\n",
    "                    batch_size=128)"
   ]
  },
  {
   "cell_type": "code",
   "execution_count": 89,
   "metadata": {
    "collapsed": true,
    "jupyter": {
     "outputs_hidden": true
    },
    "tags": []
   },
   "outputs": [
    {
     "name": "stdout",
     "output_type": "stream",
     "text": [
      "750/750 [==============================] - 39s 52ms/step - loss: 1.5573 - mean_absolute_error: 1.5573\n",
      "Test Loss: 1.557259202003479\n",
      "Test Accuracy: 1.557259202003479\n"
     ]
    }
   ],
   "source": [
    "test_loss, test_acc = pretrained_embed_lstm_model.evaluate(test_data.description, test_data.points)\n",
    "\n",
    "print('Test Loss:', test_loss)\n",
    "print('Test Accuracy:', test_acc)"
   ]
  },
  {
   "cell_type": "code",
   "execution_count": 90,
   "metadata": {
    "collapsed": true,
    "jupyter": {
     "outputs_hidden": true
    },
    "tags": []
   },
   "outputs": [
    {
     "data": {
      "text/plain": [
       "(0.0, 43.34218691587448)"
      ]
     },
     "execution_count": 90,
     "metadata": {},
     "output_type": "execute_result"
    },
    {
     "data": {
      "image/png": "[encoded data removed]",
      "text/plain": [
       "<Figure size 1152x576 with 2 Axes>"
      ]
     },
     "metadata": {
      "needs_background": "light"
     },
     "output_type": "display_data"
    }
   ],
   "source": [
    "plt.figure(figsize=(16, 8))\n",
    "plt.subplot(1, 2, 1)\n",
    "plot_graphs(history_pretrained, 'mean_absolute_error')\n",
    "# plt.ylim(None, 1)\n",
    "plt.subplot(1, 2, 2)\n",
    "plot_graphs(history_pretrained, 'loss')\n",
    "plt.ylim(0, None)"
   ]
  },
  {
   "cell_type": "code",
   "execution_count": 91,
   "metadata": {
    "tags": []
   },
   "outputs": [],
   "source": [
    "wine_reviews['predicted_score_lstm_pretrained'] = pretrained_embed_lstm_model.predict(wine_reviews.description)"
   ]
  },
  {
   "cell_type": "code",
   "execution_count": 92,
   "metadata": {
    "collapsed": true,
    "jupyter": {
     "outputs_hidden": true
    },
    "tags": []
   },
   "outputs": [
    {
     "data": {
      "text/plain": [
       "0.20902923625695902"
      ]
     },
     "execution_count": 92,
     "metadata": {},
     "output_type": "execute_result"
    }
   ],
   "source": [
    "wine_reviews.predicted_score_lstm_pretrained = wine_reviews.apply(lambda row: round(row.predicted_score_lstm_pretrained), axis=1)\n",
    "accuracy_score(wine_reviews.predicted_score_lstm_pretrained, wine_reviews.points)"
   ]
  },
  {
   "cell_type": "code",
   "execution_count": 93,
   "metadata": {
    "tags": []
   },
   "outputs": [],
   "source": [
    "lstm_pretrained_stats = calc_prediction_quality(wine_reviews, 'predicted_score_lstm_pretrained', 'points')"
   ]
  },
  {
   "cell_type": "code",
   "execution_count": 94,
   "metadata": {
    "collapsed": true,
    "jupyter": {
     "outputs_hidden": true
    },
    "tags": []
   },
   "outputs": [
    {
     "data": {
      "text/html": [
       "<div>\n",
       "<style scoped>\n",
       "    .dataframe tbody tr th:only-of-type {\n",
       "        vertical-align: middle;\n",
       "    }\n",
       "\n",
       "    .dataframe tbody tr th {\n",
       "        vertical-align: top;\n",
       "    }\n",
       "\n",
       "    .dataframe thead th {\n",
       "        text-align: right;\n",
       "    }\n",
       "</style>\n",
       "<table border=\"1\" class=\"dataframe\">\n",
       "  <thead>\n",
       "    <tr style=\"text-align: right;\">\n",
       "      <th></th>\n",
       "      <th>MSE</th>\n",
       "      <th>MAE</th>\n",
       "      <th>R2</th>\n",
       "    </tr>\n",
       "  </thead>\n",
       "  <tbody>\n",
       "    <tr>\n",
       "      <th>baseline_1</th>\n",
       "      <td>9.406251</td>\n",
       "      <td>2.513368</td>\n",
       "      <td>-0.000090</td>\n",
       "    </tr>\n",
       "    <tr>\n",
       "      <th>baseline_2</th>\n",
       "      <td>8.926484</td>\n",
       "      <td>2.446500</td>\n",
       "      <td>0.050920</td>\n",
       "    </tr>\n",
       "    <tr>\n",
       "      <th>baseline_3</th>\n",
       "      <td>8.380137</td>\n",
       "      <td>2.352921</td>\n",
       "      <td>0.109008</td>\n",
       "    </tr>\n",
       "    <tr>\n",
       "      <th>regression_by_xgb</th>\n",
       "      <td>6.205267</td>\n",
       "      <td>1.891741</td>\n",
       "      <td>0.340245</td>\n",
       "    </tr>\n",
       "    <tr>\n",
       "      <th>clean_bow_ridge</th>\n",
       "      <td>2.504017</td>\n",
       "      <td>1.206821</td>\n",
       "      <td>0.738239</td>\n",
       "    </tr>\n",
       "    <tr>\n",
       "      <th>predicted_score_lstm</th>\n",
       "      <td>3.360219</td>\n",
       "      <td>1.357369</td>\n",
       "      <td>0.648735</td>\n",
       "    </tr>\n",
       "    <tr>\n",
       "      <th>predicted_score_lstm_pretrained</th>\n",
       "      <td>3.967955</td>\n",
       "      <td>1.533428</td>\n",
       "      <td>0.585204</td>\n",
       "    </tr>\n",
       "  </tbody>\n",
       "</table>\n",
       "</div>"
      ],
      "text/plain": [
       "                                      MSE       MAE        R2\n",
       "baseline_1                       9.406251  2.513368 -0.000090\n",
       "baseline_2                       8.926484  2.446500  0.050920\n",
       "baseline_3                       8.380137  2.352921  0.109008\n",
       "regression_by_xgb                6.205267  1.891741  0.340245\n",
       "clean_bow_ridge                  2.504017  1.206821  0.738239\n",
       "predicted_score_lstm             3.360219  1.357369  0.648735\n",
       "predicted_score_lstm_pretrained  3.967955  1.533428  0.585204"
      ]
     },
     "execution_count": 94,
     "metadata": {},
     "output_type": "execute_result"
    }
   ],
   "source": [
    "all_compared = pd.DataFrame([b1_stats, b2_stats, b3_stats, xgb_stats, clean_bow_stats, lstm_stats,lstm_pretrained_stats], index=['baseline_1', 'baseline_2','baseline_3','regression_by_xgb','clean_bow_ridge', 'predicted_score_lstm','predicted_score_lstm_pretrained'])\n",
    "all_compared"
   ]
  },
  {
   "cell_type": "code",
   "execution_count": 95,
   "metadata": {
    "tags": []
   },
   "outputs": [],
   "source": [
    "all_compared.to_csv('data/all_models_compared.csv', index=False)"
   ]
  },
  {
   "cell_type": "markdown",
   "metadata": {
    "tags": []
   },
   "source": [
    "## Adding numerical features to model:"
   ]
  },
  {
   "cell_type": "code",
   "execution_count": 127,
   "metadata": {
    "tags": []
   },
   "outputs": [],
   "source": [
    "scaler = StandardScaler()\n",
    "\n",
    "encoded_features = wine_reviews[categorical_features].apply(lambda col: le.fit_transform(col.fillna('NA')))\n",
    "train_encoded_features = encoded_features[encoded_features.index.isin(train_data.index)]\n",
    "test_encoded_features = encoded_features[encoded_features.index.isin(test_data.index)]\n",
    "\n",
    "\n",
    "train_scaled_encoded_features = scaler.fit_transform(train_encoded_features.loc[:,train_encoded_features.columns!='points'])\n",
    "train_scaled_encoded_features = pd.DataFrame(train_scaled_encoded_features, columns=train_encoded_features.loc[:,train_encoded_features.columns!='points'].columns)\n",
    "\n",
    "test_scaled_encoded_features = scaler.transform(test_encoded_features.loc[:,test_encoded_features.columns!='points'])\n",
    "test_scaled_encoded_features = pd.DataFrame(test_scaled_encoded_features, columns=test_encoded_features.loc[:,test_encoded_features.columns!='points'].columns)\n",
    "\n",
    "scaled_encoded_features = scaler.transform(encoded_features.loc[:,encoded_features.columns!='points'])\n",
    "scaled_encoded_features = pd.DataFrame(scaled_encoded_features, columns=encoded_features.loc[:,encoded_features.columns!='points'].columns)"
   ]
  },
  {
   "cell_type": "markdown",
   "metadata": {},
   "source": [
    "#### Re-splitting to train and test"
   ]
  },
  {
   "cell_type": "code",
   "execution_count": 128,
   "metadata": {
    "tags": []
   },
   "outputs": [],
   "source": [
    "train_features_spares_matrix = coo_matrix(train_scaled_encoded_features)\n",
    "train_united_features = hstack((clean_bow_counts_train ,train_features_spares_matrix))\n",
    "\n",
    "features_spares_matrix = coo_matrix(encoded_features)\n",
    "united_features = hstack((clean_bow_counts ,features_spares_matrix))"
   ]
  },
  {
   "cell_type": "code",
   "execution_count": 130,
   "metadata": {},
   "outputs": [],
   "source": [
    "%%capture\n",
    "%%time\n",
    "search_grid = np.logspace(-2, 4, num=50, endpoint=True, base=10.0)\n",
    "mse_by_alpha_numerical_plus = []\n",
    "for alpha in search_grid:\n",
    "    bow_tfidf_ridge_model_plus_num = Ridge(alpha=alpha)\n",
    "    mse_by_alpha = abs(cross_val_score(bow_tfidf_ridge_model_plus_num, train_united_features, y = train_data.points, cv = 10, scoring = 'neg_mean_squared_error').mean())\n",
    "    ase_by_alpha = abs(cross_val_score(bow_tfidf_ridge_model_plus_num, train_united_features, y = train_data.points, cv = 10, scoring = 'neg_mean_absolute_error').mean())\n",
    "    r2_by_alpha = cross_val_score(bow_tfidf_ridge_model_plus_num, train_united_features, y = train_data.points, cv = 10, scoring = 'r2').mean()\n",
    "    mse_by_alpha_numerical_plus.append((alpha,mse_by_alpha,ase_by_alpha,r2_by_alpha))"
   ]
  },
  {
   "cell_type": "code",
   "execution_count": 131,
   "metadata": {
    "collapsed": true,
    "jupyter": {
     "outputs_hidden": true
    },
    "tags": []
   },
   "outputs": [
    {
     "data": {
      "application/vnd.plotly.v1+json": {
       "config": {
        "linkText": "Export to plot.ly",
        "plotlyServerURL": "https://plot.ly",
        "showLink": true
       },
       "data": [
        {
         "line": {
          "color": "rgba(255, 153, 51, 1.0)",
          "dash": "solid",
          "shape": "linear",
          "width": 3
         },
         "mode": "lines",
         "name": "MSE",
         "text": "",
         "type": "scatter",
         "x": [
          0.01,
          0.013257113655901088,
          0.017575106248547922,
          0.023299518105153717,
          0.030888435964774818,
          0.040949150623804255,
          0.054286754393238594,
          0.07196856730011521,
          0.09540954763499938,
          0.12648552168552957,
          0.16768329368110083,
          0.22229964825261944,
          0.29470517025518095,
          0.3906939937054617,
          0.517947467923121,
          0.6866488450043002,
          0.9102981779915218,
          1.2067926406393288,
          1.5998587196060574,
          2.1209508879201904,
          2.8117686979742307,
          3.727593720314938,
          4.941713361323833,
          6.551285568595509,
          8.68511373751352,
          11.513953993264469
         ],
         "y": [
          11.780327067748427,
          11.775882476969404,
          11.770043236154283,
          11.762362669982647,
          11.752482089322008,
          11.739507359064909,
          11.723024467714968,
          11.701873324901017,
          11.675141093627612,
          11.641771482832613,
          11.600480914109164,
          11.550248410608003,
          11.4898997646872,
          11.418548301391883,
          11.336005081707102,
          11.242693077144285,
          11.139633754990246,
          11.028883925007731,
          10.91295217542611,
          10.79492806505726,
          10.677885629424988,
          10.564650623126296,
          10.45748986620038,
          10.35782614312236,
          10.266457587150908,
          10.183532373114328
         ]
        },
        {
         "line": {
          "color": "rgba(55, 128, 191, 1.0)",
          "dash": "solid",
          "shape": "linear",
          "width": 3
         },
         "mode": "lines",
         "name": "MAE",
         "text": "",
         "type": "scatter",
         "x": [
          0.01,
          0.013257113655901088,
          0.017575106248547922,
          0.023299518105153717,
          0.030888435964774818,
          0.040949150623804255,
          0.054286754393238594,
          0.07196856730011521,
          0.09540954763499938,
          0.12648552168552957,
          0.16768329368110083,
          0.22229964825261944,
          0.29470517025518095,
          0.3906939937054617,
          0.517947467923121,
          0.6866488450043002,
          0.9102981779915218,
          1.2067926406393288,
          1.5998587196060574,
          2.1209508879201904,
          2.8117686979742307,
          3.727593720314938,
          4.941713361323833,
          6.551285568595509,
          8.68511373751352,
          11.513953993264469
         ],
         "y": [
          2.7679935455845555,
          2.7675921808830624,
          2.767059518206699,
          2.7663600506335664,
          2.765449129701092,
          2.7642481811946027,
          2.762712010452561,
          2.760727547042123,
          2.7581980464382294,
          2.7550123927339034,
          2.7510131892882415,
          2.746094707153027,
          2.740112099583711,
          2.732945226795853,
          2.7245666758758826,
          2.7149813848816065,
          2.7042353962196,
          2.692492806445646,
          2.6800458974888053,
          2.667169151712542,
          2.654207791555541,
          2.6416177396611045,
          2.629638716625084,
          2.6183895015213787,
          2.6079613661316765,
          2.598512747787125
         ]
        },
        {
         "line": {
          "color": "rgba(50, 171, 96, 1.0)",
          "dash": "solid",
          "shape": "linear",
          "width": 3
         },
         "mode": "lines",
         "name": "R_squared",
         "text": "",
         "type": "scatter",
         "x": [
          0.01,
          0.013257113655901088,
          0.017575106248547922,
          0.023299518105153717,
          0.030888435964774818,
          0.040949150623804255,
          0.054286754393238594,
          0.07196856730011521,
          0.09540954763499938,
          0.12648552168552957,
          0.16768329368110083,
          0.22229964825261944,
          0.29470517025518095,
          0.3906939937054617,
          0.517947467923121,
          0.6866488450043002,
          0.9102981779915218,
          1.2067926406393288,
          1.5998587196060574,
          2.1209508879201904,
          2.8117686979742307,
          3.727593720314938,
          4.941713361323833,
          6.551285568595509,
          8.68511373751352,
          11.513953993264469
         ],
         "y": [
          -0.22651161355294952,
          -0.22604908637736845,
          -0.22544138211238168,
          -0.22464206134041342,
          -0.22361383003258303,
          -0.22226363585319456,
          -0.2205481536891213,
          -0.2183468566724481,
          -0.2155646348536015,
          -0.2120914863301797,
          -0.2077937353529969,
          -0.20256514569082046,
          -0.19628339227975108,
          -0.18885610873148614,
          -0.18026381238523034,
          -0.1705505046248051,
          -0.1598225208697285,
          -0.14829406038665732,
          -0.1362262775394963,
          -0.1239408083330453,
          -0.11175754797370027,
          -0.09997062488264297,
          -0.0888159715349726,
          -0.07844160167154168,
          -0.06893062370192968,
          -0.060298330782049936
         ]
        }
       ],
       "layout": {
        "autosize": true,
        "legend": {
         "bgcolor": "#F5F6F9",
         "font": {
          "color": "#4D5663"
         }
        },
        "paper_bgcolor": "#F5F6F9",
        "plot_bgcolor": "#F5F6F9",
        "shapes": [
         {
          "line": {
           "color": "#db4052",
           "dash": "solid",
           "width": 1
          },
          "type": "line",
          "x0": 0,
          "x1": 1,
          "xref": "paper",
          "y0": [
           0,
           0
          ],
          "y1": [
           0,
           0
          ],
          "yref": "y"
         }
        ],
        "title": {
         "font": {
          "color": "#4D5663"
         },
         "text": "BOW Counts plus numerical features - MSE as a function of learning rate (alpha)"
        },
        "xaxis": {
         "autorange": true,
         "gridcolor": "#E1E5ED",
         "range": [
          0.01,
          11.513953993264469
         ],
         "showgrid": true,
         "tickfont": {
          "color": "#4D5663"
         },
         "title": {
          "font": {
           "color": "#4D5663"
          },
          "text": "alpha"
         },
         "type": "linear",
         "zerolinecolor": "#E1E5ED"
        },
        "yaxis": {
         "autorange": true,
         "gridcolor": "#E1E5ED",
         "range": [
          -0.8935582069585815,
          12.447373661154058
         ],
         "showgrid": true,
         "tickfont": {
          "color": "#4D5663"
         },
         "title": {
          "font": {
           "color": "#4D5663"
          },
          "text": "MSE"
         },
         "type": "linear",
         "zerolinecolor": "#E1E5ED"
        }
       }
      },
      "image/png": "[encoded data removed]",
      "text/html": [
       "<div>                            <div id=\"d1556490-e7f2-42e2-af64-42551b773d83\" class=\"plotly-graph-div\" style=\"height:525px; width:100%;\"></div>            <script type=\"text/javascript\">                require([\"plotly\"], function(Plotly) {                    window.PLOTLYENV=window.PLOTLYENV || {};\n",
       "                    window.PLOTLYENV.BASE_URL='https://plot.ly';                                    if (document.getElementById(\"d1556490-e7f2-42e2-af64-42551b773d83\")) {                    Plotly.newPlot(                        \"d1556490-e7f2-42e2-af64-42551b773d83\",                        [{\"line\":{\"color\":\"rgba(255, 153, 51, 1.0)\",\"dash\":\"solid\",\"shape\":\"linear\",\"width\":3},\"mode\":\"lines\",\"name\":\"MSE\",\"text\":\"\",\"x\":[0.01,0.013257113655901088,0.017575106248547922,0.023299518105153717,0.030888435964774818,0.040949150623804255,0.054286754393238594,0.07196856730011521,0.09540954763499938,0.12648552168552957,0.16768329368110083,0.22229964825261944,0.29470517025518095,0.3906939937054617,0.517947467923121,0.6866488450043002,0.9102981779915218,1.2067926406393288,1.5998587196060574,2.1209508879201904,2.8117686979742307,3.727593720314938,4.941713361323833,6.551285568595509,8.68511373751352,11.513953993264469],\"y\":[11.780327067748427,11.775882476969404,11.770043236154283,11.762362669982647,11.752482089322008,11.739507359064909,11.723024467714968,11.701873324901017,11.675141093627612,11.641771482832613,11.600480914109164,11.550248410608003,11.4898997646872,11.418548301391883,11.336005081707102,11.242693077144285,11.139633754990246,11.028883925007731,10.91295217542611,10.79492806505726,10.677885629424988,10.564650623126296,10.45748986620038,10.35782614312236,10.266457587150908,10.183532373114328],\"type\":\"scatter\"},{\"line\":{\"color\":\"rgba(55, 128, 191, 1.0)\",\"dash\":\"solid\",\"shape\":\"linear\",\"width\":3},\"mode\":\"lines\",\"name\":\"MAE\",\"text\":\"\",\"x\":[0.01,0.013257113655901088,0.017575106248547922,0.023299518105153717,0.030888435964774818,0.040949150623804255,0.054286754393238594,0.07196856730011521,0.09540954763499938,0.12648552168552957,0.16768329368110083,0.22229964825261944,0.29470517025518095,0.3906939937054617,0.517947467923121,0.6866488450043002,0.9102981779915218,1.2067926406393288,1.5998587196060574,2.1209508879201904,2.8117686979742307,3.727593720314938,4.941713361323833,6.551285568595509,8.68511373751352,11.513953993264469],\"y\":[2.7679935455845555,2.7675921808830624,2.767059518206699,2.7663600506335664,2.765449129701092,2.7642481811946027,2.762712010452561,2.760727547042123,2.7581980464382294,2.7550123927339034,2.7510131892882415,2.746094707153027,2.740112099583711,2.732945226795853,2.7245666758758826,2.7149813848816065,2.7042353962196,2.692492806445646,2.6800458974888053,2.667169151712542,2.654207791555541,2.6416177396611045,2.629638716625084,2.6183895015213787,2.6079613661316765,2.598512747787125],\"type\":\"scatter\"},{\"line\":{\"color\":\"rgba(50, 171, 96, 1.0)\",\"dash\":\"solid\",\"shape\":\"linear\",\"width\":3},\"mode\":\"lines\",\"name\":\"R_squared\",\"text\":\"\",\"x\":[0.01,0.013257113655901088,0.017575106248547922,0.023299518105153717,0.030888435964774818,0.040949150623804255,0.054286754393238594,0.07196856730011521,0.09540954763499938,0.12648552168552957,0.16768329368110083,0.22229964825261944,0.29470517025518095,0.3906939937054617,0.517947467923121,0.6866488450043002,0.9102981779915218,1.2067926406393288,1.5998587196060574,2.1209508879201904,2.8117686979742307,3.727593720314938,4.941713361323833,6.551285568595509,8.68511373751352,11.513953993264469],\"y\":[-0.22651161355294952,-0.22604908637736845,-0.22544138211238168,-0.22464206134041342,-0.22361383003258303,-0.22226363585319456,-0.2205481536891213,-0.2183468566724481,-0.2155646348536015,-0.2120914863301797,-0.2077937353529969,-0.20256514569082046,-0.19628339227975108,-0.18885610873148614,-0.18026381238523034,-0.1705505046248051,-0.1598225208697285,-0.14829406038665732,-0.1362262775394963,-0.1239408083330453,-0.11175754797370027,-0.09997062488264297,-0.0888159715349726,-0.07844160167154168,-0.06893062370192968,-0.060298330782049936],\"type\":\"scatter\"}],                        {\"legend\":{\"bgcolor\":\"#F5F6F9\",\"font\":{\"color\":\"#4D5663\"}},\"paper_bgcolor\":\"#F5F6F9\",\"plot_bgcolor\":\"#F5F6F9\",\"yaxis\":{\"tickfont\":{\"color\":\"#4D5663\"},\"gridcolor\":\"#E1E5ED\",\"titlefont\":{\"color\":\"#4D5663\"},\"zerolinecolor\":\"#E1E5ED\",\"showgrid\":true,\"title\":\"MSE\"},\"xaxis\":{\"tickfont\":{\"color\":\"#4D5663\"},\"gridcolor\":\"#E1E5ED\",\"titlefont\":{\"color\":\"#4D5663\"},\"zerolinecolor\":\"#E1E5ED\",\"showgrid\":true,\"title\":\"alpha\"},\"titlefont\":{\"color\":\"#4D5663\"},\"title\":\"BOW Counts plus numerical features - MSE as a function of learning rate (alpha)\",\"shapes\":[{\"x0\":0,\"y0\":[0,0],\"x1\":1,\"y1\":[0,0],\"line\":{\"color\":\"#db4052\",\"width\":1,\"dash\":\"solid\"},\"xref\":\"paper\",\"yref\":\"y\",\"type\":\"line\"}]},                        {\"showLink\": true, \"linkText\": \"Export to plot.ly\", \"plotlyServerURL\": \"https://plot.ly\", \"responsive\": true}                    ).then(function(){\n",
       "                            \n",
       "var gd = document.getElementById('d1556490-e7f2-42e2-af64-42551b773d83');\n",
       "var x = new MutationObserver(function (mutations, observer) {{\n",
       "        var display = window.getComputedStyle(gd).display;\n",
       "        if (!display || display === 'none') {{\n",
       "            console.log([gd, 'removed!']);\n",
       "            Plotly.purge(gd);\n",
       "            observer.disconnect();\n",
       "        }}\n",
       "}});\n",
       "\n",
       "// Listen for the removal of the full notebook cells\n",
       "var notebookContainer = gd.closest('#notebook-container');\n",
       "if (notebookContainer) {{\n",
       "    x.observe(notebookContainer, {childList: true});\n",
       "}}\n",
       "\n",
       "// Listen for the clearing of the current output cell\n",
       "var outputEl = gd.closest('.output');\n",
       "if (outputEl) {{\n",
       "    x.observe(outputEl, {childList: true});\n",
       "}}\n",
       "\n",
       "                        })                };                });            </script>        </div>"
      ]
     },
     "metadata": {},
     "output_type": "display_data"
    }
   ],
   "source": [
    "cv_results_bow_plus_num = DataFrame(mse_by_alpha_numerical_plus, columns = ['alpha', 'MSE','MAE','R_squared'])\n",
    "cv_results_bow_plus_num.query('alpha < 15').set_index('alpha').iplot(title = 'BOW Counts plus numerical features - MSE as a function of learning rate (alpha)', xTitle = 'alpha', yTitle = 'MSE', width = 3, hline=(0,0))"
   ]
  },
  {
   "cell_type": "code",
   "execution_count": 132,
   "metadata": {},
   "outputs": [
    {
     "name": "stdout",
     "output_type": "stream",
     "text": [
      "10000.0 9.610318406187163\n"
     ]
    }
   ],
   "source": [
    "opt_alpha_bow_plus_num, min_mse = cv_results_bow_plus_num.loc[cv_results_bow_plus_num.MSE.idxmin(),:'MSE']\n",
    "print(opt_alpha_bow_plus_num, min_mse)"
   ]
  },
  {
   "cell_type": "markdown",
   "metadata": {},
   "source": [
    "In this case obviously the model is flawed, but we'll continue for curiosity's sake:"
   ]
  },
  {
   "cell_type": "markdown",
   "metadata": {},
   "source": [
    "### Optimal Model"
   ]
  },
  {
   "cell_type": "markdown",
   "metadata": {},
   "source": [
    "Let's use the optimal model regularization parameter and train a model on the **entire dataset**:"
   ]
  },
  {
   "cell_type": "code",
   "execution_count": 133,
   "metadata": {},
   "outputs": [
    {
     "data": {
      "text/plain": [
       "Ridge(alpha=10000.0, max_iter=10000)"
      ]
     },
     "execution_count": 133,
     "metadata": {},
     "output_type": "execute_result"
    }
   ],
   "source": [
    "opt_bow_tfidf_ridge_model_plus_num = Ridge(alpha=opt_alpha_bow_plus_num, max_iter=10000)\n",
    "opt_bow_tfidf_ridge_model_plus_num.fit(united_features, wine_reviews.points)"
   ]
  },
  {
   "cell_type": "code",
   "execution_count": 134,
   "metadata": {},
   "outputs": [],
   "source": [
    "wine_reviews['predicted_score_bow_tfidf_ridge_plus_num'] = opt_bow_tfidf_ridge_model_plus_num.predict(united_features)"
   ]
  },
  {
   "cell_type": "code",
   "execution_count": 135,
   "metadata": {
    "tags": []
   },
   "outputs": [
    {
     "data": {
      "text/plain": [
       "0.16145781244791146"
      ]
     },
     "execution_count": 135,
     "metadata": {},
     "output_type": "execute_result"
    }
   ],
   "source": [
    "wine_reviews.predicted_score_bow_tfidf_ridge_plus_num = wine_reviews.apply(lambda row: round(row.predicted_score_bow_tfidf_ridge_plus_num), axis=1)\n",
    "# wine_reviews.sample(10)\n",
    "accuracy_score(wine_reviews.predicted_score_bow_tfidf_ridge_plus_num, wine_reviews.points)"
   ]
  },
  {
   "cell_type": "code",
   "execution_count": 136,
   "metadata": {
    "tags": []
   },
   "outputs": [],
   "source": [
    "ridge_plus_num_stats = calc_prediction_quality(wine_reviews, 'predicted_score_bow_tfidf_ridge_plus_num', 'points')"
   ]
  },
  {
   "cell_type": "code",
   "execution_count": 137,
   "metadata": {},
   "outputs": [
    {
     "data": {
      "text/html": [
       "<div>\n",
       "<style scoped>\n",
       "    .dataframe tbody tr th:only-of-type {\n",
       "        vertical-align: middle;\n",
       "    }\n",
       "\n",
       "    .dataframe tbody tr th {\n",
       "        vertical-align: top;\n",
       "    }\n",
       "\n",
       "    .dataframe thead th {\n",
       "        text-align: right;\n",
       "    }\n",
       "</style>\n",
       "<table border=\"1\" class=\"dataframe\">\n",
       "  <thead>\n",
       "    <tr style=\"text-align: right;\">\n",
       "      <th></th>\n",
       "      <th>MSE</th>\n",
       "      <th>MAE</th>\n",
       "      <th>R2</th>\n",
       "    </tr>\n",
       "  </thead>\n",
       "  <tbody>\n",
       "    <tr>\n",
       "      <th>baseline_1</th>\n",
       "      <td>9.406251</td>\n",
       "      <td>2.513368</td>\n",
       "      <td>-0.000090</td>\n",
       "    </tr>\n",
       "    <tr>\n",
       "      <th>baseline_2</th>\n",
       "      <td>8.926484</td>\n",
       "      <td>2.446500</td>\n",
       "      <td>0.050920</td>\n",
       "    </tr>\n",
       "    <tr>\n",
       "      <th>baseline_3</th>\n",
       "      <td>8.380137</td>\n",
       "      <td>2.352921</td>\n",
       "      <td>0.109008</td>\n",
       "    </tr>\n",
       "    <tr>\n",
       "      <th>regression_by_xgb</th>\n",
       "      <td>6.205267</td>\n",
       "      <td>1.891741</td>\n",
       "      <td>0.340245</td>\n",
       "    </tr>\n",
       "    <tr>\n",
       "      <th>clean_bow_ridge</th>\n",
       "      <td>2.504017</td>\n",
       "      <td>1.206821</td>\n",
       "      <td>0.738239</td>\n",
       "    </tr>\n",
       "    <tr>\n",
       "      <th>predicted_score_lstm</th>\n",
       "      <td>3.360219</td>\n",
       "      <td>1.357369</td>\n",
       "      <td>0.648735</td>\n",
       "    </tr>\n",
       "    <tr>\n",
       "      <th>predicted_score_lstm_pretrained</th>\n",
       "      <td>3.967955</td>\n",
       "      <td>1.533428</td>\n",
       "      <td>0.585204</td>\n",
       "    </tr>\n",
       "    <tr>\n",
       "      <th>ridge-plus_numerical</th>\n",
       "      <td>5.685627</td>\n",
       "      <td>1.888264</td>\n",
       "      <td>0.405645</td>\n",
       "    </tr>\n",
       "  </tbody>\n",
       "</table>\n",
       "</div>"
      ],
      "text/plain": [
       "                                      MSE       MAE        R2\n",
       "baseline_1                       9.406251  2.513368 -0.000090\n",
       "baseline_2                       8.926484  2.446500  0.050920\n",
       "baseline_3                       8.380137  2.352921  0.109008\n",
       "regression_by_xgb                6.205267  1.891741  0.340245\n",
       "clean_bow_ridge                  2.504017  1.206821  0.738239\n",
       "predicted_score_lstm             3.360219  1.357369  0.648735\n",
       "predicted_score_lstm_pretrained  3.967955  1.533428  0.585204\n",
       "ridge-plus_numerical             5.685627  1.888264  0.405645"
      ]
     },
     "execution_count": 137,
     "metadata": {},
     "output_type": "execute_result"
    }
   ],
   "source": [
    "all_compared = pd.DataFrame([b1_stats, b2_stats, b3_stats, xgb_stats, clean_bow_stats, lstm_stats,lstm_pretrained_stats,ridge_plus_num_stats], index=['baseline_1', 'baseline_2','baseline_3','regression_by_xgb','clean_bow_ridge', 'predicted_score_lstm','predicted_score_lstm_pretrained','ridge-plus_numerical'])\n",
    "all_compared"
   ]
  },
  {
   "cell_type": "code",
   "execution_count": 156,
   "metadata": {},
   "outputs": [],
   "source": [
    "datestr = date.today().strftime(\"%d.%m.%Y\")\n",
    "all_compared.to_pickle(f\"all_results_{datestr}\")"
   ]
  },
  {
   "cell_type": "code",
   "execution_count": 138,
   "metadata": {
    "collapsed": true,
    "jupyter": {
     "outputs_hidden": true
    },
    "tags": []
   },
   "outputs": [
    {
     "name": "stderr",
     "output_type": "stream",
     "text": [
      "WARNING:absl:Found untraced functions such as lstm_cell_4_layer_call_fn, lstm_cell_4_layer_call_and_return_conditional_losses, lstm_cell_5_layer_call_fn, lstm_cell_5_layer_call_and_return_conditional_losses while saving (showing 4 of 4). These functions will not be directly callable after loading.\n"
     ]
    },
    {
     "name": "stdout",
     "output_type": "stream",
     "text": [
      "INFO:tensorflow:Assets written to: data/models/pretrained_embed_lstm_model\\assets\n"
     ]
    },
    {
     "name": "stderr",
     "output_type": "stream",
     "text": [
      "INFO:tensorflow:Assets written to: data/models/pretrained_embed_lstm_model\\assets\n",
      "WARNING:absl:<keras.layers.recurrent.LSTMCell object at 0x0000023D11072220> has the same name 'LSTMCell' as a built-in Keras object. Consider renaming <class 'keras.layers.recurrent.LSTMCell'> to avoid naming conflicts when loading with `tf.keras.models.load_model`. If renaming is not possible, pass the object in the `custom_objects` parameter of the load function.\n",
      "WARNING:absl:<keras.layers.recurrent.LSTMCell object at 0x0000023D11535B50> has the same name 'LSTMCell' as a built-in Keras object. Consider renaming <class 'keras.layers.recurrent.LSTMCell'> to avoid naming conflicts when loading with `tf.keras.models.load_model`. If renaming is not possible, pass the object in the `custom_objects` parameter of the load function.\n",
      "WARNING:absl:Found untraced functions such as lstm_cell_1_layer_call_fn, lstm_cell_1_layer_call_and_return_conditional_losses, lstm_cell_2_layer_call_fn, lstm_cell_2_layer_call_and_return_conditional_losses while saving (showing 4 of 4). These functions will not be directly callable after loading.\n"
     ]
    },
    {
     "name": "stdout",
     "output_type": "stream",
     "text": [
      "INFO:tensorflow:Assets written to: data/models/lstm_model\\assets\n"
     ]
    },
    {
     "name": "stderr",
     "output_type": "stream",
     "text": [
      "INFO:tensorflow:Assets written to: data/models/lstm_model\\assets\n",
      "WARNING:absl:<keras.layers.recurrent.LSTMCell object at 0x0000023D7F265400> has the same name 'LSTMCell' as a built-in Keras object. Consider renaming <class 'keras.layers.recurrent.LSTMCell'> to avoid naming conflicts when loading with `tf.keras.models.load_model`. If renaming is not possible, pass the object in the `custom_objects` parameter of the load function.\n",
      "WARNING:absl:<keras.layers.recurrent.LSTMCell object at 0x0000023D7F25AC70> has the same name 'LSTMCell' as a built-in Keras object. Consider renaming <class 'keras.layers.recurrent.LSTMCell'> to avoid naming conflicts when loading with `tf.keras.models.load_model`. If renaming is not possible, pass the object in the `custom_objects` parameter of the load function.\n"
     ]
    }
   ],
   "source": [
    "#saving models:\n",
    "pickle.dump(bow_ridge_model, open('bow_ridge_model.pkl', 'wb'))\n",
    "pickle.dump((opt_alpha_bow, opt_alpha_bow_tfidf, opt_alpha_bow_plus_num), open('optimal_alphas.pkl', 'wb'))\n",
    "pickle.dump(bow_tfidf_ridge_model, open('bow_tfidf_ridge_model.pkl', 'wb'))\n",
    "pickle.dump(bow_tfidf_ridge_model_plus_num, open('bow_tfidf_ridge_model_plus_num.pkl', 'wb'))\n",
    "pickle.dump(opt_bow_tfidf_ridge_model_plus_num, open('opt_bow_tfidf_ridge_model_plus_num.pkl', 'wb'))\n",
    "pretrained_embed_lstm_model.save(\"data/models/pretrained_embed_lstm_model\")\n",
    "\n",
    "\n",
    "lstm_model.save(\"data/models/lstm_model\") #saved\n",
    "\n"
   ]
  },
  {
   "cell_type": "code",
   "execution_count": null,
   "metadata": {},
   "outputs": [],
   "source": [
    "# loading models:\n",
    "\n",
    "# lstm_model = keras.models.load_model(\"data/models/lstm_model\")\n",
    "# bow_ridge_model = pickle.load(open('bow_ridge_model.pkl', 'rb'))\n",
    "# bow_tfidf_ridge_model = pickle.load(open('bow_tfidf_ridge_model.pkl', 'rb'))"
   ]
  }
 ],
 "metadata": {
  "kernelspec": {
   "display_name": "Python 3 (ipykernel)",
   "language": "python",
   "name": "python3"
  },
  "language_info": {
   "codemirror_mode": {
    "name": "ipython",
    "version": 3
   },
   "file_extension": ".py",
   "mimetype": "text/x-python",
   "name": "python",
   "nbconvert_exporter": "python",
   "pygments_lexer": "ipython3",
   "version": "3.9.7"
  }
 },
 "nbformat": 4,
 "nbformat_minor": 4
}
