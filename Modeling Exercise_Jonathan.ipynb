{
 "cells": [
  {
   "cell_type": "markdown",
   "id": "05bb7c4c-452a-408f-ac26-b184f1e10862",
   "metadata": {},
   "source": [
    "# Modeling exercise"
   ]
  },
  {
   "cell_type": "code",
   "execution_count": 37,
   "id": "5e136158-e12c-4d15-9c47-3cd726054a71",
   "metadata": {},
   "outputs": [],
   "source": [
    "import pandas as pd\n",
    "import numpy as np\n",
    "import plotly_express as px\n",
    "import ipywidgets as widgets"
   ]
  },
  {
   "cell_type": "code",
   "execution_count": 38,
   "id": "a4d54513-227b-4064-b932-e8c826fcfa4e",
   "metadata": {},
   "outputs": [],
   "source": [
    "slope, intercept = 2.5, 6"
   ]
  },
  {
   "cell_type": "code",
   "execution_count": 39,
   "id": "e67d56a6-dea9-4fe9-89a6-cc2642cd41e2",
   "metadata": {},
   "outputs": [],
   "source": [
    "x_1, x_2 = 0.2, 0.6\n",
    "on_line = [[x, x*slope + intercept,'on_line'] for x in np.linspace(-1,2,100)]\n",
    "\n",
    "above_line = [[x_1, x_1*slope + intercept + 2, 'Above'], \n",
    "              [x_2, x_2*slope + intercept + 2, 'Above']] \n",
    "\n",
    "below_line = [[x_1, x_1*slope + intercept - 2, 'Below'], \n",
    "              [x_2, x_2*slope + intercept - 2, 'Below']] "
   ]
  },
  {
   "cell_type": "code",
   "execution_count": 40,
   "id": "69baaa58-3c40-41dc-b027-fba3d69e8b5a",
   "metadata": {},
   "outputs": [],
   "source": [
    "columns = ['x','y','label']\n",
    "data = pd.DataFrame(on_line + above_line + below_line, columns = columns)"
   ]
  },
  {
   "cell_type": "code",
   "execution_count": 41,
   "id": "4fd91c55-8897-4686-b97b-65b23bf84675",
   "metadata": {},
   "outputs": [
    {
     "data": {
      "application/vnd.plotly.v1+json": {
       "config": {
        "plotlyServerURL": "https://plot.ly"
       },
       "data": [
        {
         "hovertemplate": "label=on_line<br>x=%{x}<br>y=%{y}<extra></extra>",
         "legendgroup": "on_line",
         "marker": {
          "color": "#636efa",
          "symbol": "circle"
         },
         "mode": "markers",
         "name": "on_line",
         "orientation": "v",
         "showlegend": true,
         "type": "scatter",
         "x": [
          -1,
          -0.9696969696969697,
          -0.9393939393939394,
          -0.9090909090909091,
          -0.8787878787878788,
          -0.8484848484848485,
          -0.8181818181818181,
          -0.7878787878787878,
          -0.7575757575757576,
          -0.7272727272727273,
          -0.696969696969697,
          -0.6666666666666666,
          -0.6363636363636364,
          -0.6060606060606061,
          -0.5757575757575757,
          -0.5454545454545454,
          -0.5151515151515151,
          -0.48484848484848486,
          -0.4545454545454546,
          -0.4242424242424242,
          -0.3939393939393939,
          -0.36363636363636365,
          -0.33333333333333326,
          -0.303030303030303,
          -0.2727272727272727,
          -0.24242424242424243,
          -0.21212121212121215,
          -0.18181818181818177,
          -0.1515151515151515,
          -0.12121212121212122,
          -0.09090909090909083,
          -0.06060606060606055,
          -0.030303030303030276,
          0,
          0.030303030303030276,
          0.06060606060606055,
          0.09090909090909083,
          0.12121212121212133,
          0.1515151515151516,
          0.18181818181818188,
          0.21212121212121215,
          0.24242424242424243,
          0.2727272727272727,
          0.303030303030303,
          0.3333333333333335,
          0.36363636363636376,
          0.39393939393939403,
          0.4242424242424243,
          0.4545454545454546,
          0.48484848484848486,
          0.5151515151515151,
          0.5454545454545454,
          0.5757575757575757,
          0.6060606060606062,
          0.6363636363636365,
          0.6666666666666667,
          0.696969696969697,
          0.7272727272727273,
          0.7575757575757576,
          0.7878787878787878,
          0.8181818181818183,
          0.8484848484848486,
          0.8787878787878789,
          0.9090909090909092,
          0.9393939393939394,
          0.9696969696969697,
          1,
          1.0303030303030303,
          1.0606060606060606,
          1.0909090909090908,
          1.121212121212121,
          1.1515151515151514,
          1.1818181818181817,
          1.2121212121212124,
          1.2424242424242427,
          1.272727272727273,
          1.3030303030303032,
          1.3333333333333335,
          1.3636363636363638,
          1.393939393939394,
          1.4242424242424243,
          1.4545454545454546,
          1.4848484848484849,
          1.5151515151515151,
          1.5454545454545454,
          1.5757575757575757,
          1.606060606060606,
          1.6363636363636362,
          1.666666666666667,
          1.6969696969696972,
          1.7272727272727275,
          1.7575757575757578,
          1.787878787878788,
          1.8181818181818183,
          1.8484848484848486,
          1.878787878787879,
          1.9090909090909092,
          1.9393939393939394,
          1.9696969696969697,
          2
         ],
         "xaxis": "x",
         "y": [
          3.5,
          3.5757575757575757,
          3.6515151515151514,
          3.7272727272727275,
          3.803030303030303,
          3.878787878787879,
          3.9545454545454546,
          4.03030303030303,
          4.1060606060606055,
          4.181818181818182,
          4.257575757575758,
          4.333333333333334,
          4.409090909090909,
          4.484848484848484,
          4.5606060606060606,
          4.636363636363637,
          4.712121212121212,
          4.787878787878788,
          4.863636363636363,
          4.9393939393939394,
          5.015151515151516,
          5.090909090909091,
          5.166666666666667,
          5.242424242424242,
          5.318181818181818,
          5.393939393939394,
          5.46969696969697,
          5.545454545454546,
          5.621212121212121,
          5.696969696969697,
          5.772727272727273,
          5.848484848484849,
          5.924242424242424,
          6,
          6.075757575757576,
          6.151515151515151,
          6.227272727272727,
          6.303030303030304,
          6.378787878787879,
          6.454545454545455,
          6.53030303030303,
          6.606060606060606,
          6.681818181818182,
          6.757575757575758,
          6.833333333333334,
          6.909090909090909,
          6.984848484848485,
          7.0606060606060606,
          7.136363636363637,
          7.212121212121212,
          7.287878787878788,
          7.363636363636363,
          7.4393939393939394,
          7.515151515151516,
          7.590909090909092,
          7.666666666666667,
          7.742424242424242,
          7.818181818181818,
          7.8939393939393945,
          7.96969696969697,
          8.045454545454547,
          8.121212121212121,
          8.196969696969697,
          8.272727272727273,
          8.348484848484848,
          8.424242424242424,
          8.5,
          8.575757575757576,
          8.651515151515152,
          8.727272727272727,
          8.803030303030303,
          8.878787878787879,
          8.954545454545453,
          9.030303030303031,
          9.106060606060606,
          9.181818181818183,
          9.257575757575758,
          9.333333333333334,
          9.40909090909091,
          9.484848484848484,
          9.56060606060606,
          9.636363636363637,
          9.712121212121211,
          9.787878787878789,
          9.863636363636363,
          9.93939393939394,
          10.015151515151516,
          10.09090909090909,
          10.166666666666668,
          10.242424242424242,
          10.318181818181818,
          10.393939393939394,
          10.46969696969697,
          10.545454545454547,
          10.621212121212121,
          10.696969696969697,
          10.772727272727273,
          10.848484848484848,
          10.924242424242424,
          11
         ],
         "yaxis": "y"
        },
        {
         "hovertemplate": "label=Above<br>x=%{x}<br>y=%{y}<extra></extra>",
         "legendgroup": "Above",
         "marker": {
          "color": "#EF553B",
          "symbol": "circle"
         },
         "mode": "markers",
         "name": "Above",
         "orientation": "v",
         "showlegend": true,
         "type": "scatter",
         "x": [
          0.2,
          0.6
         ],
         "xaxis": "x",
         "y": [
          8.5,
          9.5
         ],
         "yaxis": "y"
        },
        {
         "hovertemplate": "label=Below<br>x=%{x}<br>y=%{y}<extra></extra>",
         "legendgroup": "Below",
         "marker": {
          "color": "#00cc96",
          "symbol": "circle"
         },
         "mode": "markers",
         "name": "Below",
         "orientation": "v",
         "showlegend": true,
         "type": "scatter",
         "x": [
          0.2,
          0.6
         ],
         "xaxis": "x",
         "y": [
          4.5,
          5.5
         ],
         "yaxis": "y"
        }
       ],
       "layout": {
        "autosize": true,
        "legend": {
         "title": {
          "text": "label"
         },
         "tracegroupgap": 0
        },
        "margin": {
         "t": 60
        },
        "template": {
         "data": {
          "bar": [
           {
            "error_x": {
             "color": "#2a3f5f"
            },
            "error_y": {
             "color": "#2a3f5f"
            },
            "marker": {
             "line": {
              "color": "#E5ECF6",
              "width": 0.5
             },
             "pattern": {
              "fillmode": "overlay",
              "size": 10,
              "solidity": 0.2
             }
            },
            "type": "bar"
           }
          ],
          "barpolar": [
           {
            "marker": {
             "line": {
              "color": "#E5ECF6",
              "width": 0.5
             },
             "pattern": {
              "fillmode": "overlay",
              "size": 10,
              "solidity": 0.2
             }
            },
            "type": "barpolar"
           }
          ],
          "carpet": [
           {
            "aaxis": {
             "endlinecolor": "#2a3f5f",
             "gridcolor": "white",
             "linecolor": "white",
             "minorgridcolor": "white",
             "startlinecolor": "#2a3f5f"
            },
            "baxis": {
             "endlinecolor": "#2a3f5f",
             "gridcolor": "white",
             "linecolor": "white",
             "minorgridcolor": "white",
             "startlinecolor": "#2a3f5f"
            },
            "type": "carpet"
           }
          ],
          "choropleth": [
           {
            "colorbar": {
             "outlinewidth": 0,
             "ticks": ""
            },
            "type": "choropleth"
           }
          ],
          "contour": [
           {
            "colorbar": {
             "outlinewidth": 0,
             "ticks": ""
            },
            "colorscale": [
             [
              0,
              "#0d0887"
             ],
             [
              0.1111111111111111,
              "#46039f"
             ],
             [
              0.2222222222222222,
              "#7201a8"
             ],
             [
              0.3333333333333333,
              "#9c179e"
             ],
             [
              0.4444444444444444,
              "#bd3786"
             ],
             [
              0.5555555555555556,
              "#d8576b"
             ],
             [
              0.6666666666666666,
              "#ed7953"
             ],
             [
              0.7777777777777778,
              "#fb9f3a"
             ],
             [
              0.8888888888888888,
              "#fdca26"
             ],
             [
              1,
              "#f0f921"
             ]
            ],
            "type": "contour"
           }
          ],
          "contourcarpet": [
           {
            "colorbar": {
             "outlinewidth": 0,
             "ticks": ""
            },
            "type": "contourcarpet"
           }
          ],
          "heatmap": [
           {
            "colorbar": {
             "outlinewidth": 0,
             "ticks": ""
            },
            "colorscale": [
             [
              0,
              "#0d0887"
             ],
             [
              0.1111111111111111,
              "#46039f"
             ],
             [
              0.2222222222222222,
              "#7201a8"
             ],
             [
              0.3333333333333333,
              "#9c179e"
             ],
             [
              0.4444444444444444,
              "#bd3786"
             ],
             [
              0.5555555555555556,
              "#d8576b"
             ],
             [
              0.6666666666666666,
              "#ed7953"
             ],
             [
              0.7777777777777778,
              "#fb9f3a"
             ],
             [
              0.8888888888888888,
              "#fdca26"
             ],
             [
              1,
              "#f0f921"
             ]
            ],
            "type": "heatmap"
           }
          ],
          "heatmapgl": [
           {
            "colorbar": {
             "outlinewidth": 0,
             "ticks": ""
            },
            "colorscale": [
             [
              0,
              "#0d0887"
             ],
             [
              0.1111111111111111,
              "#46039f"
             ],
             [
              0.2222222222222222,
              "#7201a8"
             ],
             [
              0.3333333333333333,
              "#9c179e"
             ],
             [
              0.4444444444444444,
              "#bd3786"
             ],
             [
              0.5555555555555556,
              "#d8576b"
             ],
             [
              0.6666666666666666,
              "#ed7953"
             ],
             [
              0.7777777777777778,
              "#fb9f3a"
             ],
             [
              0.8888888888888888,
              "#fdca26"
             ],
             [
              1,
              "#f0f921"
             ]
            ],
            "type": "heatmapgl"
           }
          ],
          "histogram": [
           {
            "marker": {
             "pattern": {
              "fillmode": "overlay",
              "size": 10,
              "solidity": 0.2
             }
            },
            "type": "histogram"
           }
          ],
          "histogram2d": [
           {
            "colorbar": {
             "outlinewidth": 0,
             "ticks": ""
            },
            "colorscale": [
             [
              0,
              "#0d0887"
             ],
             [
              0.1111111111111111,
              "#46039f"
             ],
             [
              0.2222222222222222,
              "#7201a8"
             ],
             [
              0.3333333333333333,
              "#9c179e"
             ],
             [
              0.4444444444444444,
              "#bd3786"
             ],
             [
              0.5555555555555556,
              "#d8576b"
             ],
             [
              0.6666666666666666,
              "#ed7953"
             ],
             [
              0.7777777777777778,
              "#fb9f3a"
             ],
             [
              0.8888888888888888,
              "#fdca26"
             ],
             [
              1,
              "#f0f921"
             ]
            ],
            "type": "histogram2d"
           }
          ],
          "histogram2dcontour": [
           {
            "colorbar": {
             "outlinewidth": 0,
             "ticks": ""
            },
            "colorscale": [
             [
              0,
              "#0d0887"
             ],
             [
              0.1111111111111111,
              "#46039f"
             ],
             [
              0.2222222222222222,
              "#7201a8"
             ],
             [
              0.3333333333333333,
              "#9c179e"
             ],
             [
              0.4444444444444444,
              "#bd3786"
             ],
             [
              0.5555555555555556,
              "#d8576b"
             ],
             [
              0.6666666666666666,
              "#ed7953"
             ],
             [
              0.7777777777777778,
              "#fb9f3a"
             ],
             [
              0.8888888888888888,
              "#fdca26"
             ],
             [
              1,
              "#f0f921"
             ]
            ],
            "type": "histogram2dcontour"
           }
          ],
          "mesh3d": [
           {
            "colorbar": {
             "outlinewidth": 0,
             "ticks": ""
            },
            "type": "mesh3d"
           }
          ],
          "parcoords": [
           {
            "line": {
             "colorbar": {
              "outlinewidth": 0,
              "ticks": ""
             }
            },
            "type": "parcoords"
           }
          ],
          "pie": [
           {
            "automargin": true,
            "type": "pie"
           }
          ],
          "scatter": [
           {
            "marker": {
             "colorbar": {
              "outlinewidth": 0,
              "ticks": ""
             }
            },
            "type": "scatter"
           }
          ],
          "scatter3d": [
           {
            "line": {
             "colorbar": {
              "outlinewidth": 0,
              "ticks": ""
             }
            },
            "marker": {
             "colorbar": {
              "outlinewidth": 0,
              "ticks": ""
             }
            },
            "type": "scatter3d"
           }
          ],
          "scattercarpet": [
           {
            "marker": {
             "colorbar": {
              "outlinewidth": 0,
              "ticks": ""
             }
            },
            "type": "scattercarpet"
           }
          ],
          "scattergeo": [
           {
            "marker": {
             "colorbar": {
              "outlinewidth": 0,
              "ticks": ""
             }
            },
            "type": "scattergeo"
           }
          ],
          "scattergl": [
           {
            "marker": {
             "colorbar": {
              "outlinewidth": 0,
              "ticks": ""
             }
            },
            "type": "scattergl"
           }
          ],
          "scattermapbox": [
           {
            "marker": {
             "colorbar": {
              "outlinewidth": 0,
              "ticks": ""
             }
            },
            "type": "scattermapbox"
           }
          ],
          "scatterpolar": [
           {
            "marker": {
             "colorbar": {
              "outlinewidth": 0,
              "ticks": ""
             }
            },
            "type": "scatterpolar"
           }
          ],
          "scatterpolargl": [
           {
            "marker": {
             "colorbar": {
              "outlinewidth": 0,
              "ticks": ""
             }
            },
            "type": "scatterpolargl"
           }
          ],
          "scatterternary": [
           {
            "marker": {
             "colorbar": {
              "outlinewidth": 0,
              "ticks": ""
             }
            },
            "type": "scatterternary"
           }
          ],
          "surface": [
           {
            "colorbar": {
             "outlinewidth": 0,
             "ticks": ""
            },
            "colorscale": [
             [
              0,
              "#0d0887"
             ],
             [
              0.1111111111111111,
              "#46039f"
             ],
             [
              0.2222222222222222,
              "#7201a8"
             ],
             [
              0.3333333333333333,
              "#9c179e"
             ],
             [
              0.4444444444444444,
              "#bd3786"
             ],
             [
              0.5555555555555556,
              "#d8576b"
             ],
             [
              0.6666666666666666,
              "#ed7953"
             ],
             [
              0.7777777777777778,
              "#fb9f3a"
             ],
             [
              0.8888888888888888,
              "#fdca26"
             ],
             [
              1,
              "#f0f921"
             ]
            ],
            "type": "surface"
           }
          ],
          "table": [
           {
            "cells": {
             "fill": {
              "color": "#EBF0F8"
             },
             "line": {
              "color": "white"
             }
            },
            "header": {
             "fill": {
              "color": "#C8D4E3"
             },
             "line": {
              "color": "white"
             }
            },
            "type": "table"
           }
          ]
         },
         "layout": {
          "annotationdefaults": {
           "arrowcolor": "#2a3f5f",
           "arrowhead": 0,
           "arrowwidth": 1
          },
          "autotypenumbers": "strict",
          "coloraxis": {
           "colorbar": {
            "outlinewidth": 0,
            "ticks": ""
           }
          },
          "colorscale": {
           "diverging": [
            [
             0,
             "#8e0152"
            ],
            [
             0.1,
             "#c51b7d"
            ],
            [
             0.2,
             "#de77ae"
            ],
            [
             0.3,
             "#f1b6da"
            ],
            [
             0.4,
             "#fde0ef"
            ],
            [
             0.5,
             "#f7f7f7"
            ],
            [
             0.6,
             "#e6f5d0"
            ],
            [
             0.7,
             "#b8e186"
            ],
            [
             0.8,
             "#7fbc41"
            ],
            [
             0.9,
             "#4d9221"
            ],
            [
             1,
             "#276419"
            ]
           ],
           "sequential": [
            [
             0,
             "#0d0887"
            ],
            [
             0.1111111111111111,
             "#46039f"
            ],
            [
             0.2222222222222222,
             "#7201a8"
            ],
            [
             0.3333333333333333,
             "#9c179e"
            ],
            [
             0.4444444444444444,
             "#bd3786"
            ],
            [
             0.5555555555555556,
             "#d8576b"
            ],
            [
             0.6666666666666666,
             "#ed7953"
            ],
            [
             0.7777777777777778,
             "#fb9f3a"
            ],
            [
             0.8888888888888888,
             "#fdca26"
            ],
            [
             1,
             "#f0f921"
            ]
           ],
           "sequentialminus": [
            [
             0,
             "#0d0887"
            ],
            [
             0.1111111111111111,
             "#46039f"
            ],
            [
             0.2222222222222222,
             "#7201a8"
            ],
            [
             0.3333333333333333,
             "#9c179e"
            ],
            [
             0.4444444444444444,
             "#bd3786"
            ],
            [
             0.5555555555555556,
             "#d8576b"
            ],
            [
             0.6666666666666666,
             "#ed7953"
            ],
            [
             0.7777777777777778,
             "#fb9f3a"
            ],
            [
             0.8888888888888888,
             "#fdca26"
            ],
            [
             1,
             "#f0f921"
            ]
           ]
          },
          "colorway": [
           "#636efa",
           "#EF553B",
           "#00cc96",
           "#ab63fa",
           "#FFA15A",
           "#19d3f3",
           "#FF6692",
           "#B6E880",
           "#FF97FF",
           "#FECB52"
          ],
          "font": {
           "color": "#2a3f5f"
          },
          "geo": {
           "bgcolor": "white",
           "lakecolor": "white",
           "landcolor": "#E5ECF6",
           "showlakes": true,
           "showland": true,
           "subunitcolor": "white"
          },
          "hoverlabel": {
           "align": "left"
          },
          "hovermode": "closest",
          "mapbox": {
           "style": "light"
          },
          "paper_bgcolor": "white",
          "plot_bgcolor": "#E5ECF6",
          "polar": {
           "angularaxis": {
            "gridcolor": "white",
            "linecolor": "white",
            "ticks": ""
           },
           "bgcolor": "#E5ECF6",
           "radialaxis": {
            "gridcolor": "white",
            "linecolor": "white",
            "ticks": ""
           }
          },
          "scene": {
           "xaxis": {
            "backgroundcolor": "#E5ECF6",
            "gridcolor": "white",
            "gridwidth": 2,
            "linecolor": "white",
            "showbackground": true,
            "ticks": "",
            "zerolinecolor": "white"
           },
           "yaxis": {
            "backgroundcolor": "#E5ECF6",
            "gridcolor": "white",
            "gridwidth": 2,
            "linecolor": "white",
            "showbackground": true,
            "ticks": "",
            "zerolinecolor": "white"
           },
           "zaxis": {
            "backgroundcolor": "#E5ECF6",
            "gridcolor": "white",
            "gridwidth": 2,
            "linecolor": "white",
            "showbackground": true,
            "ticks": "",
            "zerolinecolor": "white"
           }
          },
          "shapedefaults": {
           "line": {
            "color": "#2a3f5f"
           }
          },
          "ternary": {
           "aaxis": {
            "gridcolor": "white",
            "linecolor": "white",
            "ticks": ""
           },
           "baxis": {
            "gridcolor": "white",
            "linecolor": "white",
            "ticks": ""
           },
           "bgcolor": "#E5ECF6",
           "caxis": {
            "gridcolor": "white",
            "linecolor": "white",
            "ticks": ""
           }
          },
          "title": {
           "x": 0.05
          },
          "xaxis": {
           "automargin": true,
           "gridcolor": "white",
           "linecolor": "white",
           "ticks": "",
           "title": {
            "standoff": 15
           },
           "zerolinecolor": "white",
           "zerolinewidth": 2
          },
          "yaxis": {
           "automargin": true,
           "gridcolor": "white",
           "linecolor": "white",
           "ticks": "",
           "title": {
            "standoff": 15
           },
           "zerolinecolor": "white",
           "zerolinewidth": 2
          }
         }
        },
        "xaxis": {
         "anchor": "y",
         "autorange": true,
         "domain": [
          0,
          1
         ],
         "range": [
          -1.1789940828402368,
          2.1789940828402368
         ],
         "title": {
          "text": "x"
         },
         "type": "linear"
        },
        "yaxis": {
         "anchor": "x",
         "autorange": true,
         "domain": [
          0,
          1
         ],
         "range": [
          2.9192913385826773,
          11.580708661417322
         ],
         "title": {
          "text": "y"
         },
         "type": "linear"
        }
       }
      },
      "image/png": "[encoded data removed]",
      "text/html": [
       "<div>                            <div id=\"28c5287e-e7d2-40f9-a259-eb109b75bb83\" class=\"plotly-graph-div\" style=\"height:525px; width:100%;\"></div>            <script type=\"text/javascript\">                require([\"plotly\"], function(Plotly) {                    window.PLOTLYENV=window.PLOTLYENV || {};                                    if (document.getElementById(\"28c5287e-e7d2-40f9-a259-eb109b75bb83\")) {                    Plotly.newPlot(                        \"28c5287e-e7d2-40f9-a259-eb109b75bb83\",                        [{\"hovertemplate\":\"label=on_line<br>x=%{x}<br>y=%{y}<extra></extra>\",\"legendgroup\":\"on_line\",\"marker\":{\"color\":\"#636efa\",\"symbol\":\"circle\"},\"mode\":\"markers\",\"name\":\"on_line\",\"orientation\":\"v\",\"showlegend\":true,\"x\":[-1.0,-0.9696969696969697,-0.9393939393939394,-0.9090909090909091,-0.8787878787878788,-0.8484848484848485,-0.8181818181818181,-0.7878787878787878,-0.7575757575757576,-0.7272727272727273,-0.696969696969697,-0.6666666666666666,-0.6363636363636364,-0.6060606060606061,-0.5757575757575757,-0.5454545454545454,-0.5151515151515151,-0.48484848484848486,-0.4545454545454546,-0.4242424242424242,-0.3939393939393939,-0.36363636363636365,-0.33333333333333326,-0.303030303030303,-0.2727272727272727,-0.24242424242424243,-0.21212121212121215,-0.18181818181818177,-0.1515151515151515,-0.12121212121212122,-0.09090909090909083,-0.06060606060606055,-0.030303030303030276,0.0,0.030303030303030276,0.06060606060606055,0.09090909090909083,0.12121212121212133,0.1515151515151516,0.18181818181818188,0.21212121212121215,0.24242424242424243,0.2727272727272727,0.303030303030303,0.3333333333333335,0.36363636363636376,0.39393939393939403,0.4242424242424243,0.4545454545454546,0.48484848484848486,0.5151515151515151,0.5454545454545454,0.5757575757575757,0.6060606060606062,0.6363636363636365,0.6666666666666667,0.696969696969697,0.7272727272727273,0.7575757575757576,0.7878787878787878,0.8181818181818183,0.8484848484848486,0.8787878787878789,0.9090909090909092,0.9393939393939394,0.9696969696969697,1.0,1.0303030303030303,1.0606060606060606,1.0909090909090908,1.121212121212121,1.1515151515151514,1.1818181818181817,1.2121212121212124,1.2424242424242427,1.272727272727273,1.3030303030303032,1.3333333333333335,1.3636363636363638,1.393939393939394,1.4242424242424243,1.4545454545454546,1.4848484848484849,1.5151515151515151,1.5454545454545454,1.5757575757575757,1.606060606060606,1.6363636363636362,1.666666666666667,1.6969696969696972,1.7272727272727275,1.7575757575757578,1.787878787878788,1.8181818181818183,1.8484848484848486,1.878787878787879,1.9090909090909092,1.9393939393939394,1.9696969696969697,2.0],\"xaxis\":\"x\",\"y\":[3.5,3.5757575757575757,3.6515151515151514,3.7272727272727275,3.803030303030303,3.878787878787879,3.9545454545454546,4.03030303030303,4.1060606060606055,4.181818181818182,4.257575757575758,4.333333333333334,4.409090909090909,4.484848484848484,4.5606060606060606,4.636363636363637,4.712121212121212,4.787878787878788,4.863636363636363,4.9393939393939394,5.015151515151516,5.090909090909091,5.166666666666667,5.242424242424242,5.318181818181818,5.393939393939394,5.46969696969697,5.545454545454546,5.621212121212121,5.696969696969697,5.772727272727273,5.848484848484849,5.924242424242424,6.0,6.075757575757576,6.151515151515151,6.227272727272727,6.303030303030304,6.378787878787879,6.454545454545455,6.53030303030303,6.606060606060606,6.681818181818182,6.757575757575758,6.833333333333334,6.909090909090909,6.984848484848485,7.0606060606060606,7.136363636363637,7.212121212121212,7.287878787878788,7.363636363636363,7.4393939393939394,7.515151515151516,7.590909090909092,7.666666666666667,7.742424242424242,7.818181818181818,7.8939393939393945,7.96969696969697,8.045454545454547,8.121212121212121,8.196969696969697,8.272727272727273,8.348484848484848,8.424242424242424,8.5,8.575757575757576,8.651515151515152,8.727272727272727,8.803030303030303,8.878787878787879,8.954545454545453,9.030303030303031,9.106060606060606,9.181818181818183,9.257575757575758,9.333333333333334,9.40909090909091,9.484848484848484,9.56060606060606,9.636363636363637,9.712121212121211,9.787878787878789,9.863636363636363,9.93939393939394,10.015151515151516,10.09090909090909,10.166666666666668,10.242424242424242,10.318181818181818,10.393939393939394,10.46969696969697,10.545454545454547,10.621212121212121,10.696969696969697,10.772727272727273,10.848484848484848,10.924242424242424,11.0],\"yaxis\":\"y\",\"type\":\"scatter\"},{\"hovertemplate\":\"label=Above<br>x=%{x}<br>y=%{y}<extra></extra>\",\"legendgroup\":\"Above\",\"marker\":{\"color\":\"#EF553B\",\"symbol\":\"circle\"},\"mode\":\"markers\",\"name\":\"Above\",\"orientation\":\"v\",\"showlegend\":true,\"x\":[0.2,0.6],\"xaxis\":\"x\",\"y\":[8.5,9.5],\"yaxis\":\"y\",\"type\":\"scatter\"},{\"hovertemplate\":\"label=Below<br>x=%{x}<br>y=%{y}<extra></extra>\",\"legendgroup\":\"Below\",\"marker\":{\"color\":\"#00cc96\",\"symbol\":\"circle\"},\"mode\":\"markers\",\"name\":\"Below\",\"orientation\":\"v\",\"showlegend\":true,\"x\":[0.2,0.6],\"xaxis\":\"x\",\"y\":[4.5,5.5],\"yaxis\":\"y\",\"type\":\"scatter\"}],                        {\"template\":{\"data\":{\"bar\":[{\"error_x\":{\"color\":\"#2a3f5f\"},\"error_y\":{\"color\":\"#2a3f5f\"},\"marker\":{\"line\":{\"color\":\"#E5ECF6\",\"width\":0.5},\"pattern\":{\"fillmode\":\"overlay\",\"size\":10,\"solidity\":0.2}},\"type\":\"bar\"}],\"barpolar\":[{\"marker\":{\"line\":{\"color\":\"#E5ECF6\",\"width\":0.5},\"pattern\":{\"fillmode\":\"overlay\",\"size\":10,\"solidity\":0.2}},\"type\":\"barpolar\"}],\"carpet\":[{\"aaxis\":{\"endlinecolor\":\"#2a3f5f\",\"gridcolor\":\"white\",\"linecolor\":\"white\",\"minorgridcolor\":\"white\",\"startlinecolor\":\"#2a3f5f\"},\"baxis\":{\"endlinecolor\":\"#2a3f5f\",\"gridcolor\":\"white\",\"linecolor\":\"white\",\"minorgridcolor\":\"white\",\"startlinecolor\":\"#2a3f5f\"},\"type\":\"carpet\"}],\"choropleth\":[{\"colorbar\":{\"outlinewidth\":0,\"ticks\":\"\"},\"type\":\"choropleth\"}],\"contour\":[{\"colorbar\":{\"outlinewidth\":0,\"ticks\":\"\"},\"colorscale\":[[0.0,\"#0d0887\"],[0.1111111111111111,\"#46039f\"],[0.2222222222222222,\"#7201a8\"],[0.3333333333333333,\"#9c179e\"],[0.4444444444444444,\"#bd3786\"],[0.5555555555555556,\"#d8576b\"],[0.6666666666666666,\"#ed7953\"],[0.7777777777777778,\"#fb9f3a\"],[0.8888888888888888,\"#fdca26\"],[1.0,\"#f0f921\"]],\"type\":\"contour\"}],\"contourcarpet\":[{\"colorbar\":{\"outlinewidth\":0,\"ticks\":\"\"},\"type\":\"contourcarpet\"}],\"heatmap\":[{\"colorbar\":{\"outlinewidth\":0,\"ticks\":\"\"},\"colorscale\":[[0.0,\"#0d0887\"],[0.1111111111111111,\"#46039f\"],[0.2222222222222222,\"#7201a8\"],[0.3333333333333333,\"#9c179e\"],[0.4444444444444444,\"#bd3786\"],[0.5555555555555556,\"#d8576b\"],[0.6666666666666666,\"#ed7953\"],[0.7777777777777778,\"#fb9f3a\"],[0.8888888888888888,\"#fdca26\"],[1.0,\"#f0f921\"]],\"type\":\"heatmap\"}],\"heatmapgl\":[{\"colorbar\":{\"outlinewidth\":0,\"ticks\":\"\"},\"colorscale\":[[0.0,\"#0d0887\"],[0.1111111111111111,\"#46039f\"],[0.2222222222222222,\"#7201a8\"],[0.3333333333333333,\"#9c179e\"],[0.4444444444444444,\"#bd3786\"],[0.5555555555555556,\"#d8576b\"],[0.6666666666666666,\"#ed7953\"],[0.7777777777777778,\"#fb9f3a\"],[0.8888888888888888,\"#fdca26\"],[1.0,\"#f0f921\"]],\"type\":\"heatmapgl\"}],\"histogram\":[{\"marker\":{\"pattern\":{\"fillmode\":\"overlay\",\"size\":10,\"solidity\":0.2}},\"type\":\"histogram\"}],\"histogram2d\":[{\"colorbar\":{\"outlinewidth\":0,\"ticks\":\"\"},\"colorscale\":[[0.0,\"#0d0887\"],[0.1111111111111111,\"#46039f\"],[0.2222222222222222,\"#7201a8\"],[0.3333333333333333,\"#9c179e\"],[0.4444444444444444,\"#bd3786\"],[0.5555555555555556,\"#d8576b\"],[0.6666666666666666,\"#ed7953\"],[0.7777777777777778,\"#fb9f3a\"],[0.8888888888888888,\"#fdca26\"],[1.0,\"#f0f921\"]],\"type\":\"histogram2d\"}],\"histogram2dcontour\":[{\"colorbar\":{\"outlinewidth\":0,\"ticks\":\"\"},\"colorscale\":[[0.0,\"#0d0887\"],[0.1111111111111111,\"#46039f\"],[0.2222222222222222,\"#7201a8\"],[0.3333333333333333,\"#9c179e\"],[0.4444444444444444,\"#bd3786\"],[0.5555555555555556,\"#d8576b\"],[0.6666666666666666,\"#ed7953\"],[0.7777777777777778,\"#fb9f3a\"],[0.8888888888888888,\"#fdca26\"],[1.0,\"#f0f921\"]],\"type\":\"histogram2dcontour\"}],\"mesh3d\":[{\"colorbar\":{\"outlinewidth\":0,\"ticks\":\"\"},\"type\":\"mesh3d\"}],\"parcoords\":[{\"line\":{\"colorbar\":{\"outlinewidth\":0,\"ticks\":\"\"}},\"type\":\"parcoords\"}],\"pie\":[{\"automargin\":true,\"type\":\"pie\"}],\"scatter\":[{\"marker\":{\"colorbar\":{\"outlinewidth\":0,\"ticks\":\"\"}},\"type\":\"scatter\"}],\"scatter3d\":[{\"line\":{\"colorbar\":{\"outlinewidth\":0,\"ticks\":\"\"}},\"marker\":{\"colorbar\":{\"outlinewidth\":0,\"ticks\":\"\"}},\"type\":\"scatter3d\"}],\"scattercarpet\":[{\"marker\":{\"colorbar\":{\"outlinewidth\":0,\"ticks\":\"\"}},\"type\":\"scattercarpet\"}],\"scattergeo\":[{\"marker\":{\"colorbar\":{\"outlinewidth\":0,\"ticks\":\"\"}},\"type\":\"scattergeo\"}],\"scattergl\":[{\"marker\":{\"colorbar\":{\"outlinewidth\":0,\"ticks\":\"\"}},\"type\":\"scattergl\"}],\"scattermapbox\":[{\"marker\":{\"colorbar\":{\"outlinewidth\":0,\"ticks\":\"\"}},\"type\":\"scattermapbox\"}],\"scatterpolar\":[{\"marker\":{\"colorbar\":{\"outlinewidth\":0,\"ticks\":\"\"}},\"type\":\"scatterpolar\"}],\"scatterpolargl\":[{\"marker\":{\"colorbar\":{\"outlinewidth\":0,\"ticks\":\"\"}},\"type\":\"scatterpolargl\"}],\"scatterternary\":[{\"marker\":{\"colorbar\":{\"outlinewidth\":0,\"ticks\":\"\"}},\"type\":\"scatterternary\"}],\"surface\":[{\"colorbar\":{\"outlinewidth\":0,\"ticks\":\"\"},\"colorscale\":[[0.0,\"#0d0887\"],[0.1111111111111111,\"#46039f\"],[0.2222222222222222,\"#7201a8\"],[0.3333333333333333,\"#9c179e\"],[0.4444444444444444,\"#bd3786\"],[0.5555555555555556,\"#d8576b\"],[0.6666666666666666,\"#ed7953\"],[0.7777777777777778,\"#fb9f3a\"],[0.8888888888888888,\"#fdca26\"],[1.0,\"#f0f921\"]],\"type\":\"surface\"}],\"table\":[{\"cells\":{\"fill\":{\"color\":\"#EBF0F8\"},\"line\":{\"color\":\"white\"}},\"header\":{\"fill\":{\"color\":\"#C8D4E3\"},\"line\":{\"color\":\"white\"}},\"type\":\"table\"}]},\"layout\":{\"annotationdefaults\":{\"arrowcolor\":\"#2a3f5f\",\"arrowhead\":0,\"arrowwidth\":1},\"autotypenumbers\":\"strict\",\"coloraxis\":{\"colorbar\":{\"outlinewidth\":0,\"ticks\":\"\"}},\"colorscale\":{\"diverging\":[[0,\"#8e0152\"],[0.1,\"#c51b7d\"],[0.2,\"#de77ae\"],[0.3,\"#f1b6da\"],[0.4,\"#fde0ef\"],[0.5,\"#f7f7f7\"],[0.6,\"#e6f5d0\"],[0.7,\"#b8e186\"],[0.8,\"#7fbc41\"],[0.9,\"#4d9221\"],[1,\"#276419\"]],\"sequential\":[[0.0,\"#0d0887\"],[0.1111111111111111,\"#46039f\"],[0.2222222222222222,\"#7201a8\"],[0.3333333333333333,\"#9c179e\"],[0.4444444444444444,\"#bd3786\"],[0.5555555555555556,\"#d8576b\"],[0.6666666666666666,\"#ed7953\"],[0.7777777777777778,\"#fb9f3a\"],[0.8888888888888888,\"#fdca26\"],[1.0,\"#f0f921\"]],\"sequentialminus\":[[0.0,\"#0d0887\"],[0.1111111111111111,\"#46039f\"],[0.2222222222222222,\"#7201a8\"],[0.3333333333333333,\"#9c179e\"],[0.4444444444444444,\"#bd3786\"],[0.5555555555555556,\"#d8576b\"],[0.6666666666666666,\"#ed7953\"],[0.7777777777777778,\"#fb9f3a\"],[0.8888888888888888,\"#fdca26\"],[1.0,\"#f0f921\"]]},\"colorway\":[\"#636efa\",\"#EF553B\",\"#00cc96\",\"#ab63fa\",\"#FFA15A\",\"#19d3f3\",\"#FF6692\",\"#B6E880\",\"#FF97FF\",\"#FECB52\"],\"font\":{\"color\":\"#2a3f5f\"},\"geo\":{\"bgcolor\":\"white\",\"lakecolor\":\"white\",\"landcolor\":\"#E5ECF6\",\"showlakes\":true,\"showland\":true,\"subunitcolor\":\"white\"},\"hoverlabel\":{\"align\":\"left\"},\"hovermode\":\"closest\",\"mapbox\":{\"style\":\"light\"},\"paper_bgcolor\":\"white\",\"plot_bgcolor\":\"#E5ECF6\",\"polar\":{\"angularaxis\":{\"gridcolor\":\"white\",\"linecolor\":\"white\",\"ticks\":\"\"},\"bgcolor\":\"#E5ECF6\",\"radialaxis\":{\"gridcolor\":\"white\",\"linecolor\":\"white\",\"ticks\":\"\"}},\"scene\":{\"xaxis\":{\"backgroundcolor\":\"#E5ECF6\",\"gridcolor\":\"white\",\"gridwidth\":2,\"linecolor\":\"white\",\"showbackground\":true,\"ticks\":\"\",\"zerolinecolor\":\"white\"},\"yaxis\":{\"backgroundcolor\":\"#E5ECF6\",\"gridcolor\":\"white\",\"gridwidth\":2,\"linecolor\":\"white\",\"showbackground\":true,\"ticks\":\"\",\"zerolinecolor\":\"white\"},\"zaxis\":{\"backgroundcolor\":\"#E5ECF6\",\"gridcolor\":\"white\",\"gridwidth\":2,\"linecolor\":\"white\",\"showbackground\":true,\"ticks\":\"\",\"zerolinecolor\":\"white\"}},\"shapedefaults\":{\"line\":{\"color\":\"#2a3f5f\"}},\"ternary\":{\"aaxis\":{\"gridcolor\":\"white\",\"linecolor\":\"white\",\"ticks\":\"\"},\"baxis\":{\"gridcolor\":\"white\",\"linecolor\":\"white\",\"ticks\":\"\"},\"bgcolor\":\"#E5ECF6\",\"caxis\":{\"gridcolor\":\"white\",\"linecolor\":\"white\",\"ticks\":\"\"}},\"title\":{\"x\":0.05},\"xaxis\":{\"automargin\":true,\"gridcolor\":\"white\",\"linecolor\":\"white\",\"ticks\":\"\",\"title\":{\"standoff\":15},\"zerolinecolor\":\"white\",\"zerolinewidth\":2},\"yaxis\":{\"automargin\":true,\"gridcolor\":\"white\",\"linecolor\":\"white\",\"ticks\":\"\",\"title\":{\"standoff\":15},\"zerolinecolor\":\"white\",\"zerolinewidth\":2}}},\"xaxis\":{\"anchor\":\"y\",\"domain\":[0.0,1.0],\"title\":{\"text\":\"x\"}},\"yaxis\":{\"anchor\":\"x\",\"domain\":[0.0,1.0],\"title\":{\"text\":\"y\"}},\"legend\":{\"title\":{\"text\":\"label\"},\"tracegroupgap\":0},\"margin\":{\"t\":60}},                        {\"responsive\": true}                    ).then(function(){\n",
       "                            \n",
       "var gd = document.getElementById('28c5287e-e7d2-40f9-a259-eb109b75bb83');\n",
       "var x = new MutationObserver(function (mutations, observer) {{\n",
       "        var display = window.getComputedStyle(gd).display;\n",
       "        if (!display || display === 'none') {{\n",
       "            console.log([gd, 'removed!']);\n",
       "            Plotly.purge(gd);\n",
       "            observer.disconnect();\n",
       "        }}\n",
       "}});\n",
       "\n",
       "// Listen for the removal of the full notebook cells\n",
       "var notebookContainer = gd.closest('#notebook-container');\n",
       "if (notebookContainer) {{\n",
       "    x.observe(notebookContainer, {childList: true});\n",
       "}}\n",
       "\n",
       "// Listen for the clearing of the current output cell\n",
       "var outputEl = gd.closest('.output');\n",
       "if (outputEl) {{\n",
       "    x.observe(outputEl, {childList: true});\n",
       "}}\n",
       "\n",
       "                        })                };                });            </script>        </div>"
      ]
     },
     "metadata": {},
     "output_type": "display_data"
    }
   ],
   "source": [
    "px.scatter(data, x='x', y='y', color = 'label')"
   ]
  },
  {
   "cell_type": "markdown",
   "id": "0f4d2955-d323-4351-b216-c3f547c34e3d",
   "metadata": {},
   "source": [
    "## Fitting and Overfiting "
   ]
  },
  {
   "cell_type": "markdown",
   "id": "2d1e502f-4b12-4bf1-a981-7135b36e0830",
   "metadata": {},
   "source": [
    "The goal of the following exercise is to observe overfitting causes:\n",
    "* Overfitting due to insuffient data\n",
    "* Overfitting due to overly complex model\n",
    "\n",
    "\n",
    "For each below dataset:\n",
    "* Create data of size N with noise level of magnitude NL. \n",
    "* Split it to training and testing data\n",
    "* Choose a complex model of your choice: [KNN](https://scikit-learn.org/stable/modules/generated/sklearn.neighbors.KNeighborsClassifier.html), [SVM with RBF kernel](https://scikit-learn.org/stable/modules/svm.html) with different `gamma` values or [Random forest classifier](https://scikit-learn.org/stable/modules/generated/sklearn.ensemble.RandomForestClassifier.html) with differnt number of `min_samples_split`. \n",
    "* Train on the train test for different hyper parameter values. compute:\n",
    "  * Classification accuracy on the training set (TRE)\n",
    "  * Classification accuracy on the testing set (TESTE)\n",
    "  * The difference beteen the two above (E_DIFF)\n",
    "* Save N, NL, TRE, TESTE, E_DIFF and the regularization param (K, gamma or min_samples_split)\n",
    "\n",
    "Repeat for N in range 50 to 10000 and NL in range 0 to 0.5. Create a proper dataframe from the results and analyze:\n",
    "1. For a given noise level of your chioce, How does the train, test and difference error changes with increasing data sizes? \n",
    "1. For a given noise level of your chioce, How does the train, test and difference error changes with increasing model complexity? \n",
    "1. Select the best model param to fit the data (The one minimizing the test error) and for it, observe the number of data points needed for optimal test results in different noise levels."
   ]
  },
  {
   "cell_type": "markdown",
   "id": "ad8ffe8f-8c0b-4dc3-9cc2-9c3dc02852d7",
   "metadata": {},
   "source": [
    "## Moons dataset"
   ]
  },
  {
   "cell_type": "code",
   "execution_count": 42,
   "id": "7a6b4c61-454e-4887-963f-61d5ec6bc19f",
   "metadata": {},
   "outputs": [],
   "source": [
    "from sklearn.datasets import make_moons"
   ]
  },
  {
   "cell_type": "code",
   "execution_count": 43,
   "id": "7392ae8f-32a7-4c77-a5be-34043ecd09ec",
   "metadata": {},
   "outputs": [
    {
     "data": {
      "text/html": [
       "<div>\n",
       "<style scoped>\n",
       "    .dataframe tbody tr th:only-of-type {\n",
       "        vertical-align: middle;\n",
       "    }\n",
       "\n",
       "    .dataframe tbody tr th {\n",
       "        vertical-align: top;\n",
       "    }\n",
       "\n",
       "    .dataframe thead th {\n",
       "        text-align: right;\n",
       "    }\n",
       "</style>\n",
       "<table border=\"1\" class=\"dataframe\">\n",
       "  <thead>\n",
       "    <tr style=\"text-align: right;\">\n",
       "      <th></th>\n",
       "      <th>x</th>\n",
       "      <th>y</th>\n",
       "      <th>label</th>\n",
       "    </tr>\n",
       "  </thead>\n",
       "  <tbody>\n",
       "    <tr>\n",
       "      <th>0</th>\n",
       "      <td>0.168332</td>\n",
       "      <td>0.865590</td>\n",
       "      <td>A</td>\n",
       "    </tr>\n",
       "    <tr>\n",
       "      <th>1</th>\n",
       "      <td>-1.028385</td>\n",
       "      <td>0.730645</td>\n",
       "      <td>A</td>\n",
       "    </tr>\n",
       "    <tr>\n",
       "      <th>2</th>\n",
       "      <td>0.926418</td>\n",
       "      <td>0.632168</td>\n",
       "      <td>A</td>\n",
       "    </tr>\n",
       "    <tr>\n",
       "      <th>3</th>\n",
       "      <td>1.651688</td>\n",
       "      <td>-0.095453</td>\n",
       "      <td>B</td>\n",
       "    </tr>\n",
       "    <tr>\n",
       "      <th>4</th>\n",
       "      <td>0.483304</td>\n",
       "      <td>-0.646687</td>\n",
       "      <td>B</td>\n",
       "    </tr>\n",
       "  </tbody>\n",
       "</table>\n",
       "</div>"
      ],
      "text/plain": [
       "          x         y label\n",
       "0  0.168332  0.865590     A\n",
       "1 -1.028385  0.730645     A\n",
       "2  0.926418  0.632168     A\n",
       "3  1.651688 -0.095453     B\n",
       "4  0.483304 -0.646687     B"
      ]
     },
     "execution_count": 43,
     "metadata": {},
     "output_type": "execute_result"
    }
   ],
   "source": [
    "points, label = make_moons(n_samples=1000, noise=0.25)\n",
    "moons_df = pd.DataFrame(points, columns=['x','y'])\n",
    "moons_df['label'] = label\n",
    "moons_df.label = moons_df.label.map({0:'A', 1:'B'})\n",
    "moons_df.head()"
   ]
  },
  {
   "cell_type": "code",
   "execution_count": 44,
   "id": "092d0db7-b30e-4e5f-98c3-7807432f442a",
   "metadata": {},
   "outputs": [
    {
     "data": {
      "application/vnd.plotly.v1+json": {
       "config": {
        "plotlyServerURL": "https://plot.ly"
       },
       "data": [
        {
         "hovertemplate": "label=A<br>x=%{x}<br>y=%{y}<extra></extra>",
         "legendgroup": "A",
         "marker": {
          "color": "#636efa",
          "symbol": "circle"
         },
         "mode": "markers",
         "name": "A",
         "orientation": "v",
         "showlegend": true,
         "type": "scatter",
         "x": [
          0.16833242892112482,
          -1.0283852461447855,
          0.9264177917801618,
          -0.10517397514388732,
          -1.3216525842723112,
          -0.3432433699823531,
          0.9317044839634423,
          -0.11224281266781572,
          1.1904568573814147,
          1.2380075126614076,
          -1.5103190470492276,
          1.3103977064176968,
          -0.5869251727397128,
          -0.4663317467990084,
          -1.2119154068904996,
          -0.6904532543910095,
          0.9837131420706721,
          1.4323177529954865,
          -0.49997728353001514,
          -0.767332494431183,
          0.5657886016133028,
          0.6861854649748533,
          -0.14994110468185357,
          -0.6608408952512358,
          -0.09826186306709782,
          -0.8732047581157403,
          -1.0196802462369927,
          0.3873019977528742,
          -0.3879434768706821,
          0.3049006130834229,
          -0.6868432309706965,
          0.4497101197519638,
          0.3918447957981518,
          0.20628659654339035,
          0.22851299823123725,
          0.8058075357822947,
          1.0880605857001033,
          -1.0143046795764714,
          -0.15221361385738708,
          -0.7033839876210711,
          0.4054219688043175,
          -0.916799934096775,
          -0.7779736382029866,
          -0.7037626765276939,
          -0.5850975798555605,
          0.9014148963011062,
          0.8843257211862748,
          0.9238061848767608,
          0.9491601998784136,
          0.8107061710567129,
          0.0046696788579885795,
          0.5855081211979615,
          -0.6203639491247469,
          0.9245865392054455,
          -1.063087896707053,
          -0.3749121154147048,
          -0.6607550307762207,
          0.3128064586769883,
          -1.057886348787253,
          0.4997102084927926,
          -0.6413058654231968,
          1.069587614926648,
          -0.8130283793791921,
          -0.07120043398484016,
          1.07955574260724,
          0.9007383354881598,
          0.4500249845883496,
          1.420046644822869,
          -0.1383158185582397,
          0.9135902493181896,
          1.0814115636296027,
          -0.6319500046755727,
          -0.652290204788508,
          -1.485701734113526,
          0.2992437292214767,
          -0.594365090122547,
          -1.0681809464702186,
          -0.14034585961954774,
          -0.7426956134726613,
          -0.28696164766973253,
          -0.15483024381548866,
          0.3642937671720221,
          0.37508365021220685,
          0.5705044299683861,
          -0.4868870170400791,
          -0.7651959635491978,
          0.5560359179138357,
          0.5813244494790383,
          1.3395498742682252,
          -0.930844117595811,
          -0.109974556587624,
          0.8212746504190059,
          -1.0056271108453545,
          0.5487617797964356,
          -0.5387829411067984,
          1.072226621428402,
          0.7486049682924474,
          0.5917454559064357,
          0.36208223392459926,
          0.962281200962665,
          -0.4098010058773749,
          -0.7091781528935023,
          1.1136872396386512,
          0.5969884233595034,
          -0.37750869989919983,
          -0.7500382005930915,
          0.8299868130465913,
          -0.9789390685459789,
          -0.8108957072185724,
          -0.6224119359508129,
          0.2951458156575968,
          0.7893348261605746,
          0.350972887668886,
          0.5582328780068155,
          0.25768173412297923,
          -0.0323580190701553,
          0.6822914893987482,
          -1.227598260480557,
          -1.0031698696376492,
          0.3411790599439572,
          0.8391562403201506,
          0.2832935177027778,
          -0.2654567646720497,
          0.5456322395641356,
          -0.6790298717156976,
          -0.27885470659500766,
          -0.7013350457172896,
          0.8116997477055693,
          -0.8993007696254671,
          1.1273175518890224,
          1.1325101149888999,
          -1.0793882248364002,
          1.1720950973930302,
          -0.8468009802058691,
          0.1624061224370409,
          1.4454889925928682,
          0.7301262728642002,
          -0.11060871070987238,
          -0.2176404763015769,
          -0.3318427116885248,
          -0.3466324591596145,
          -0.5205760215898694,
          -0.4982572110728773,
          -0.13069768109863428,
          -0.8303155574606955,
          -0.04304956221337414,
          -0.7809401226158528,
          0.08810584095196261,
          -0.46435600078962264,
          0.892854419376692,
          0.6796358048884406,
          0.5115114048731559,
          -0.1085710085819217,
          0.9155541005079437,
          -0.7287026945789726,
          -1.0267063813318271,
          0.8217181852958209,
          0.040054238582978706,
          -0.5799921957434554,
          0.8374655606543514,
          -0.5063262319721729,
          -0.7658071375838406,
          -0.7510718435131757,
          -0.16823348930516838,
          0.03468426607332241,
          0.8438808768867373,
          1.1375990314831224,
          -0.11349659294144243,
          0.20626320771823878,
          -0.6924693231048804,
          0.10945102343973637,
          -0.7220564434325711,
          0.5906521985179184,
          -0.89425426949313,
          -0.33527611898224297,
          -0.2556296900304641,
          -0.3528839286208923,
          -0.4995536748075413,
          -0.6251162150906829,
          -0.6951548189622927,
          -1.2679476888660626,
          0.5725206242554468,
          -1.0770270783488707,
          -0.5087637257296849,
          -1.011460496638587,
          -0.9289251591358116,
          0.17280544752653235,
          -0.48640099360182865,
          -0.7206548077208192,
          0.936644252639092,
          -0.5081469146527546,
          0.30329064759982316,
          0.363786530877779,
          -0.8729442981810321,
          0.4742362755370027,
          0.33757954615851904,
          0.24519692872916093,
          0.5762912597147194,
          0.34933311615467116,
          0.21914169302666398,
          0.9026900870300814,
          0.7188980155601707,
          -0.9176338214825684,
          -0.22364621685663286,
          -0.7845853664604229,
          -0.3951945358870565,
          -0.19179328193772968,
          0.5656885479609871,
          0.8086706393987616,
          -0.48219233814094037,
          1.0581896499890862,
          -0.567135747457323,
          -1.2329261167490544,
          0.22392410491656423,
          -0.7243232026791095,
          -0.3830200169071082,
          -1.2271813900319397,
          -0.9424023037817675,
          -0.33420103727527006,
          0.10507226042069279,
          -0.5091902865257286,
          1.0050752314758893,
          0.8548077515997607,
          0.4794015877475056,
          0.9205436377000161,
          -1.0187120924498165,
          0.40925132249395413,
          -0.9332472989918799,
          -0.7068690687728927,
          0.7948403405787298,
          0.8565996558029804,
          0.7740702213541161,
          0.6893927621518087,
          0.8205883675863554,
          0.16360883282312894,
          -1.3604156670667407,
          0.6894255039077425,
          0.3999038388162106,
          -0.18247650899309045,
          0.06739451986098496,
          -0.9050227669411683,
          0.19150924809906278,
          0.997894903824422,
          0.4675341365524658,
          0.0429744539165922,
          0.5447161190260952,
          0.6135842092065853,
          -0.7531190971310953,
          0.23513955552429988,
          0.920701027431694,
          0.7013821637056974,
          0.49226133007955986,
          0.16037086883833485,
          0.7919149387111376,
          -0.9422753644343802,
          0.36998832127379355,
          0.8795903160702537,
          0.44777159194077454,
          -0.753666629077585,
          0.28537793558640445,
          -0.5296523886571213,
          -1.121368621842305,
          -0.966607297750927,
          1.0208822136527327,
          -1.012227728707415,
          -1.1614276659521998,
          -1.0237456329993513,
          0.16786785769044216,
          -1.0171190073054075,
          -0.49008562457248656,
          -0.16048386289222197,
          -0.5336685500079481,
          0.6076304068023716,
          -1.1636028016516438,
          -0.6748713836517723,
          -0.7228546083783669,
          -1.1130199958552476,
          0.11808956730781472,
          0.044385642898670606,
          -0.4697639572457309,
          0.9328418614207328,
          -0.6359827056667532,
          -0.34355582596517975,
          -0.9965185943992603,
          -0.413248750337201,
          0.6948570177287983,
          -0.6695164514810328,
          -0.8131220199078373,
          1.1234623765538767,
          -0.2650894234704098,
          0.7525176928786464,
          -0.960436738159822,
          0.6510632822808802,
          -0.1596819377899828,
          -1.1120865693454964,
          0.4460332536322797,
          0.8482014304368276,
          -0.061351107141593864,
          -0.8681889559916219,
          -0.08704581317260925,
          1.2159886472883281,
          -0.40143762234225766,
          -0.368605432494859,
          -0.6023057084489793,
          -0.5081983800157234,
          0.9606342248518401,
          1.308960989035061,
          1.1246890993748537,
          0.2049098872728272,
          0.9552472262243453,
          -1.038815729198305,
          -0.6904030264075247,
          -0.5295519462051168,
          0.9259372780512478,
          0.5248485705669179,
          0.5315173392690897,
          0.4571233014309394,
          1.2776272447672636,
          -1.0275016938966572,
          0.5230392861219524,
          0.8096708664080737,
          1.1580512863565464,
          0.3626355035856452,
          -0.6517100477929837,
          0.5923184162745444,
          -0.09281910193975403,
          -0.5704408377735084,
          1.0205792716539448,
          0.760577223151434,
          -0.05038319579471606,
          -0.5542103230041708,
          0.7320542899899589,
          -0.12294206088978157,
          1.3881234197872552,
          -0.6952155120490515,
          -0.34930365377534645,
          -0.8961419970999989,
          -0.4478500101486992,
          -0.9449793648056477,
          0.926304263525385,
          -1.0360657468893157,
          0.3256232387325081,
          -0.8674602468720424,
          0.8279308698027195,
          -0.13873399039092849,
          0.8061157013622381,
          0.1663307400393441,
          0.7476104665575167,
          1.1527542993533166,
          -1.038254229506012,
          0.3324613472779778,
          -0.7260416137025236,
          0.9103065125234653,
          -0.4286559649559575,
          -0.17568276596402563,
          0.7802783193211517,
          0.9420588410465034,
          -1.0837628540306914,
          -1.3094708368719545,
          -0.16617116258095882,
          0.5419538013628048,
          0.41219836538436316,
          0.510281741652543,
          -0.5504178663221803,
          -0.1554144811332037,
          0.768247153508951,
          0.6956389841561512,
          1.025512059495119,
          1.2303618428372647,
          0.2884737983783511,
          -0.8823294894548195,
          -0.4271564286575931,
          -0.5954420504330084,
          0.0407056743578566,
          1.2090579645055441,
          -1.0018068124446087,
          0.1859629840016272,
          -0.7533460930161608,
          -0.0812471111984856,
          -1.345030813653314,
          1.0667478417142318,
          0.5135119724890729,
          0.07756934835551275,
          -1.0379022998755887,
          -0.7574027961808885,
          -1.0380062046482235,
          0.1850221764048841,
          0.4547616223638301,
          -1.0343729798974688,
          0.5543237143192757,
          0.385973278209711,
          0.49446369290325887,
          0.892024752302528,
          -1.44605104821223,
          -0.8627033424488562,
          1.2082850820499162,
          -0.026983178801027824,
          0.9608288382249741,
          0.6627409233852637,
          -0.24442896035163128,
          -0.43697031185370616,
          -0.03136210411747922,
          0.13588772286561704,
          0.09668346520049496,
          0.7336304818754843,
          0.7861630795063419,
          0.3501973415939584,
          -1.1590116328696982,
          0.3375189375443164,
          -0.9567662106288436,
          -1.0629912635253798,
          1.3637014397028866,
          -0.531295330870498,
          1.3446781243205026,
          -1.038481476311047,
          -1.1707385490478375,
          1.0229646524862805,
          -0.9294195293336603,
          0.4517091830889811,
          1.5500193428686022,
          0.16299338791652512,
          -0.6362422282016968,
          0.5761420466276593,
          0.44975622043789776,
          -1.0686696572789456,
          -1.3186701873307671,
          -1.0722653277185628,
          0.757083302673222,
          -0.7652607703395937,
          -0.4808940395749712,
          0.8952950424720142,
          -0.6368514749823233,
          0.07079004832073298,
          0.6027360328214638,
          -0.7449694771216584,
          0.05741956361327871,
          -0.8726267444548089,
          1.4268625058559206,
          0.7914714915975197,
          -0.18944261452022657,
          0.17404216459585753,
          -0.9290476594891808,
          -0.3699386910934961,
          0.606886911491743,
          -0.6837902980205169,
          0.7939422220412682,
          -0.5830673941271016,
          -0.6542583713933217,
          0.6424475797938779,
          0.507933190233691,
          0.9490192922003438,
          0.014458738738629599,
          -1.0141890193490581,
          0.7190457561535787,
          -0.12231063660899164,
          1.08886809865159,
          -0.840475227195916,
          -1.0169407681737244,
          0.2219841569656552,
          -0.7704859090666861,
          -0.8629552772431475,
          0.27642283690186453,
          0.2960208974521723,
          -0.7232676925023649,
          0.6956011196954982,
          0.9206135750710124,
          -0.2313335280520819,
          -0.13820923399270474,
          -0.3669410722427935,
          -0.37868461458073455,
          0.9695374997738428,
          -0.5535408466100648,
          -0.5924526662877695,
          -0.557486337307415,
          -0.1216485754688186,
          -1.5158795400201726,
          1.1524180634255927,
          -0.4604040718390532,
          -0.12607464066807234,
          0.2584183732491784,
          -0.7620052958580353,
          0.5945894168805668,
          -0.9239827655524646,
          0.7138302974489305,
          0.38721588732376544,
          -0.1598358323601354,
          -0.3726771560601605,
          -0.7924553522894161,
          0.6966558266602242,
          0.6706221344867228,
          0.2552777815540245,
          1.6207265119898153,
          0.2569923381196098,
          0.868912271082543,
          0.3072731167947811,
          1.0309129960694576,
          -0.7363018902997501,
          1.1788357912956666,
          -0.39685224031297883,
          1.1260750263618424
         ],
         "xaxis": "x",
         "y": [
          0.8655904512819439,
          0.7306446934395106,
          0.6321680580598247,
          0.9762569031098158,
          0.47952758636337467,
          0.527815589923061,
          0.5957584875383997,
          1.034347135401974,
          0.363604087047105,
          -0.018370232567929412,
          0.50771086849126,
          0.5956241295705493,
          0.8627833234682025,
          0.5763511170288625,
          0.46835943010983494,
          0.30316280471258744,
          0.22359933307787266,
          0.39918496442984747,
          1.059671573024018,
          0.4476015142421413,
          0.5796409075990722,
          0.8355246520612998,
          0.8915266935103909,
          0.3055062163864305,
          0.9850238366116084,
          0.16322866022379745,
          0.802704891752384,
          0.5424544547863585,
          0.7508986142455787,
          0.38094954679868664,
          1.1353338506971302,
          1.0704510890189425,
          1.1861344092961286,
          1.3176853161935398,
          0.9493903261303328,
          0.4801576679200447,
          0.6722012085054717,
          -0.1225215362528344,
          0.8352898544498906,
          0.4332055383250911,
          0.8806856803444494,
          0.47596078146859566,
          0.6911496070903412,
          0.5372773481023565,
          0.8792689082640117,
          0.1938744896599963,
          0.5314863406767396,
          0.8205633089529341,
          0.5215994173781021,
          0.42485235301016727,
          0.8987360453067498,
          0.3793774174175367,
          0.7051221674662964,
          0.6230001091022128,
          -0.19835809250815906,
          0.8110995596045816,
          0.15397354605618413,
          1.010968721432177,
          0.5620233916289988,
          1.1166915331867884,
          0.25651934989381964,
          0.7297693620899343,
          0.7545026099561184,
          1.1086514387328388,
          0.4797906788951386,
          0.41180388805586376,
          0.42854471865759924,
          0.6467874077045145,
          0.8715463416167714,
          0.7353051007925779,
          0.4282921499688098,
          0.7681113697393163,
          -0.09669227910659534,
          0.17932041702557222,
          -0.40368497205324505,
          0.8103168933314645,
          0.4079908604410942,
          1.2323506151602694,
          0.98947050687458,
          0.90124595113889,
          1.213093969331501,
          1.129623503486892,
          0.8750683113095015,
          0.8934277954365613,
          0.5840659294206959,
          0.6520586589885222,
          0.2978074868182763,
          0.6892439786715929,
          0.695122407995248,
          1.1703617906638848,
          0.9985836187877681,
          0.3607028990233264,
          1.2935114833724455,
          1.0579525085086203,
          1.175586863276789,
          0.5636339096252211,
          0.32923065149394964,
          0.7862366186673937,
          1.1557585162960737,
          0.5689943961394626,
          0.024707169020806427,
          0.7547800861257112,
          0.0627058548931837,
          0.9298072219652769,
          0.9514647620608301,
          -0.21291577662654865,
          0.46408935684427005,
          0.4590101933555744,
          0.5342337246564004,
          0.08316252292792162,
          0.210480755538387,
          0.29322768706919844,
          1.050726571083507,
          0.8886581954190789,
          1.0592455231507834,
          0.7610933405858952,
          1.0177777364387919,
          0.15362883759791363,
          0.8371164131635482,
          1.1758987139789274,
          0.5294455955872321,
          0.7929246890714828,
          0.5054274536211643,
          0.8990564532523582,
          0.7822234721337011,
          -0.10898663301675723,
          0.794233161914052,
          0.12467748210546709,
          0.2325541239657429,
          0.029666311654406557,
          0.20376649541093775,
          0.11289877408861072,
          0.3043174206916237,
          -0.16580488893548406,
          0.8686680106168209,
          0.3582645261382522,
          0.15968114471530243,
          0.8158616534666695,
          0.6621232729341947,
          0.675690318897,
          0.6599942711950464,
          0.7052084423992115,
          0.5541952696123886,
          1.1377248526912516,
          0.31974103156059314,
          0.9888598475668645,
          0.7670882214976195,
          1.0956290180403914,
          0.9021001226622121,
          0.8296790317994098,
          -0.1925928155935619,
          0.4642120540337519,
          1.190459808976284,
          0.04316421976974627,
          0.6043427973575168,
          0.206468507099213,
          0.09136208078197311,
          0.6850877256776802,
          0.32816120451327685,
          -0.19876594143125803,
          0.9174418048699419,
          0.27420512729361146,
          0.8033109610396904,
          0.8741776521576863,
          0.862283878152381,
          1.2391020682361615,
          0.5155045048151782,
          0.6647320064400252,
          1.0439827582879928,
          0.21428544795000543,
          1.2822095587536482,
          0.25308891483071194,
          1.3677809003240748,
          0.45461221609749725,
          1.090527820011358,
          1.1753493439267682,
          0.8534500456896958,
          0.4664085649745501,
          0.8415091121892939,
          0.28021774524709997,
          0.811896343342217,
          0.8124479261711576,
          0.2713228064433587,
          0.7030910301117335,
          0.6406296772997694,
          0.15971321945355416,
          1.1781531800476848,
          0.81937997986095,
          0.7949548223763282,
          0.6884185709906474,
          0.4931705673580804,
          0.642135220118554,
          1.008919583672612,
          0.49779999653329743,
          0.7760934508604691,
          0.9122582286780488,
          1.0689476846044244,
          0.5378084212079997,
          0.9439552832479791,
          0.9980500152750538,
          0.3381689381320216,
          0.8881620076305999,
          -0.34896013658181024,
          0.6883671575866456,
          0.3350026031394324,
          0.5078788628749209,
          1.3544353128204212,
          1.5496451020734012,
          0.99280703242951,
          0.6135317342093596,
          0.7403667939833758,
          0.7712154538771259,
          0.670606753172463,
          0.6505387559080184,
          0.6007382838285285,
          0.9954936728622524,
          0.3235696172112287,
          0.2577074152618247,
          0.6493780761267294,
          1.0175757949302684,
          1.4253662684134252,
          0.5293944704391645,
          0.47047821684496693,
          1.070614718056252,
          0.8490451868626818,
          0.7184379956954701,
          1.2393309566800477,
          0.1562507800868259,
          0.8825084452350569,
          0.3511254789112128,
          0.6474485347223377,
          1.1260792749863664,
          0.755060204269922,
          0.9144090227486775,
          0.5314171743318259,
          0.08963725531645376,
          0.7606322645858954,
          0.9810050405396116,
          1.228139596813341,
          1.0084152094255148,
          0.26418168899768146,
          0.516307515817267,
          0.5720007576221069,
          0.7446022055017304,
          1.0333769625731524,
          0.8109348934404974,
          0.9062414243548846,
          0.13811349229057104,
          0.7654588858621661,
          0.2837747929783016,
          0.6464799864160986,
          1.0376424630502976,
          1.7837221664587286,
          0.7928822070791937,
          0.49674309282439266,
          0.24211637959438018,
          -0.13558262464962434,
          1.0141450027979562,
          1.0342028192357728,
          1.3417605782236448,
          1.1999547112294886,
          1.0000295233886685,
          0.7595643362283714,
          1.081646788517796,
          -0.04504344430236237,
          0.7493559514229735,
          -0.22974925364977877,
          0.5958332945095828,
          0.316756730207099,
          0.16700652122180504,
          0.8683932500539101,
          0.4107149464757266,
          0.9856608953032053,
          1.0915253328282715,
          0.26175242122956294,
          0.6650509436590805,
          0.15374177706470188,
          0.39557028044516424,
          1.1448420766087046,
          0.3136255745984282,
          0.4628471134401598,
          0.6277096803236644,
          1.229994863290501,
          0.13060883891515368,
          0.6121052296074415,
          0.453877335117709,
          0.5359772010565923,
          1.2456693273160875,
          0.12092494969216414,
          1.3685577422437352,
          0.07596421421204297,
          0.06232491100163435,
          0.7903023994228796,
          0.9932299129303389,
          -0.30630010050988055,
          1.0179031055710688,
          0.17074729593182264,
          0.8421722254218513,
          0.12614450570364777,
          0.6296133873182186,
          0.3132180307212318,
          1.1412652565727521,
          0.9732732492178042,
          1.084037408730241,
          0.7549551311845195,
          -0.13793823947000233,
          0.8002938644640927,
          0.6999181974796748,
          0.9919805968455039,
          -0.12970105987549485,
          0.2360527138614561,
          0.8025178631611047,
          0.9061087005371673,
          0.4554060215407969,
          1.0686572421934044,
          0.9252990553258893,
          0.17160653467582426,
          0.24634086458336552,
          1.0341179460808487,
          0.859089583487967,
          1.0533726152931433,
          0.32646946662211845,
          0.8526461245562578,
          0.7968398953757969,
          0.9345132085673786,
          1.1678290439697943,
          0.8149598610781892,
          0.2568280926328989,
          0.6108647396089638,
          1.3445900207375527,
          0.2986750487012918,
          0.014727261697790608,
          1.188335018012539,
          0.5119353492490984,
          0.5348252680029827,
          0.8439401612441917,
          0.775577983218882,
          0.28534003493983895,
          0.052429221387148284,
          0.0007951691275833762,
          0.5967181759332362,
          0.9649037006809444,
          -0.13671866029740487,
          0.41710971332929453,
          0.8619947864686776,
          -0.08605808607087573,
          1.0385458084993746,
          0.2160643596307856,
          0.6090606195301773,
          0.9845884312298897,
          0.7583185263044387,
          0.21593221659282613,
          0.43825438924514226,
          0.09502570107166804,
          0.96885554722155,
          -0.17003331196236224,
          0.3409860014010181,
          0.34225211825247404,
          0.10172559487897662,
          1.3099804535002961,
          0.8975162658179298,
          1.0821345443663284,
          0.6013894792949378,
          0.5274902271515666,
          0.10873389964050917,
          -0.00903498542684384,
          0.34772394140306,
          0.8817167868456914,
          0.8614950145614793,
          0.6805086850347424,
          0.6644544649829291,
          0.9429763891003292,
          1.0195284312521258,
          1.3441398427208862,
          0.030149009114758873,
          0.4107359557596047,
          0.4543958492987302,
          0.6787412526016641,
          0.8228479256513233,
          0.06425778935764913,
          0.04726397765691298,
          0.962579153741257,
          0.8161519410580643,
          0.40046620166296515,
          0.6764274100373714,
          -0.2019715780689667,
          0.875551030902723,
          0.9354038638258915,
          1.0183151938039525,
          0.8051000098634478,
          0.9573984088447559,
          0.9163211199879693,
          0.4994057201111525,
          0.2581988141759978,
          0.6331555348370578,
          0.22009162525523335,
          0.9000622887374309,
          0.3009328537189345,
          0.7416202481806184,
          1.349769962410569,
          0.4138588105376998,
          0.86485665373776,
          0.6934658599478579,
          1.1840497717454141,
          0.6191756022462098,
          0.3990150578872633,
          1.0677926973916827,
          0.509785231515052,
          0.6317118916246784,
          0.22754914168218418,
          0.38685452816536936,
          0.08162318567454757,
          1.2723271168771302,
          0.583320944359576,
          0.5164741102021376,
          0.29052480963236127,
          1.055797825451309,
          -0.044922494818930236,
          0.9148961649455366,
          -0.08059207895630764,
          1.387931852518773,
          0.20468918712986825,
          0.41265344928819636,
          0.6652876854635124,
          0.5131311333179898,
          0.2916991044589972,
          0.23826725489467912,
          0.8186588137541903,
          0.7511309470884114,
          0.9993051823499229,
          0.34429539744175336,
          0.5639280161710417,
          0.8824179006148922,
          0.565171063902479,
          0.9012473041825255,
          0.9972730249864371,
          0.5323046845433375,
          -0.24112635925643952,
          0.41550982667566405,
          0.727610289418916,
          0.9246313238987585,
          0.1642341889044185,
          0.6230422477171715,
          0.7339095092805852,
          0.5795850188698821,
          0.5853890588324845,
          0.9132788868432296,
          1.2748851020627594,
          0.968219365175499,
          0.8399982538087274,
          0.45604197266267477,
          1.0785171819611732,
          0.14618596598240483,
          -0.06787320867292723,
          0.8392376100194551,
          0.22261128532423666,
          0.7250637920335821,
          1.1982192901900548,
          0.7433894901344331,
          0.1135386578000616,
          0.8821751636865716,
          1.280628729154041,
          1.433055608918119,
          0.0328754367561617,
          0.4154606031776279,
          -0.7380110066521558,
          1.5310558080754448,
          1.016420395684618,
          0.36094633522941333,
          1.1789687283845691,
          -0.06331631056093533,
          0.6846169844036523,
          0.7098221347470178,
          0.7287372236572314,
          1.130737371068978,
          0.14593220693594602,
          0.3548546681436958,
          0.716406877742687,
          0.699302474640781,
          0.4798831802518875,
          0.987775683875246,
          -0.35335304555499447,
          0.04868046969680759,
          0.1600647770770912,
          0.850766754400251,
          1.1895166038078637,
          0.7011990123846665,
          -0.03537562553667481,
          1.1714206415983246,
          0.5025658598179203,
          1.213683835679683,
          0.23500134300862066,
          1.0474135212478974,
          0.1877494726929751,
          1.197590996488694,
          0.21451804036056343,
          0.5851368050567622,
          0.11907759534282707,
          1.2029051727973583,
          0.3505547668109376
         ],
         "yaxis": "y"
        },
        {
         "hovertemplate": "label=B<br>x=%{x}<br>y=%{y}<extra></extra>",
         "legendgroup": "B",
         "marker": {
          "color": "#EF553B",
          "symbol": "circle"
         },
         "mode": "markers",
         "name": "B",
         "orientation": "v",
         "showlegend": true,
         "type": "scatter",
         "x": [
          1.6516879358502912,
          0.4833040226031399,
          0.04541950759749058,
          1.3471622511154049,
          1.098881064583796,
          1.5604437758368161,
          0.038006126137022436,
          0.25194271236522114,
          1.337050407931632,
          1.7914285613709946,
          0.04835144512954122,
          1.7684884806873018,
          0.14117948750720444,
          0.6445766525237456,
          1.900628947286421,
          2.115783089998592,
          0.7019483748174817,
          1.417796107234569,
          0.2207163461322893,
          -0.13280838362749187,
          0.6789834894908975,
          0.675975562859449,
          -0.12773893140789938,
          1.8123534986279641,
          1.33246705212083,
          0.7356343890771677,
          1.5337249487857139,
          1.3311085152060507,
          1.51444752575887,
          1.667729698923904,
          1.2819265740209846,
          0.5405710306832261,
          1.0288790932377672,
          1.0538355395931243,
          1.2802144055732736,
          1.7129796215225126,
          -0.2104941254139922,
          -0.15073837469503087,
          -0.20350545348928958,
          0.5201633514215279,
          0.009212306255202151,
          1.331332330711573,
          0.22545908775724194,
          0.047130446684520544,
          0.24231796172925885,
          0.7879898932413636,
          1.9795340151957543,
          0.27612364833246583,
          1.371684506976878,
          1.2447231856868382,
          1.8599099069962846,
          0.26116105746551377,
          0.3784872352152948,
          0.30500540866488624,
          1.541752045621399,
          0.8388904376297015,
          0.8450494468760668,
          2.1771112818424028,
          1.3606907700495081,
          1.8463793137706077,
          1.142965288235826,
          1.1084187218264987,
          1.7219674676192618,
          -0.11715080877245354,
          1.1706593856469267,
          0.053644612603662906,
          0.9230949732641969,
          0.7397520438484243,
          1.4095748264452583,
          0.11912457862553225,
          2.1901978374449813,
          1.0126352537240797,
          1.9901118758128382,
          1.6078734478082164,
          1.134122420686749,
          2.433050262680956,
          1.847676330365356,
          2.1201396699845976,
          0.7240267774951771,
          1.0385823720312257,
          1.0504942841707525,
          2.2498310224860405,
          0.367952214164139,
          0.35321430415171157,
          0.6312779459209333,
          1.076274046917237,
          0.03979921361608019,
          2.0926984705812273,
          0.1878208675019489,
          0.782211144777059,
          1.726944067276142,
          1.7258694422633603,
          0.8117637253919067,
          1.2153150586060832,
          0.06620198575003697,
          0.4325007364162895,
          0.0648176013237703,
          1.7567509591511066,
          1.0909332694842568,
          1.21915553814854,
          1.5806215037101137,
          0.9597903440360853,
          0.6075854285448813,
          0.7856625586372588,
          1.847561510054272,
          0.21245671927220355,
          -0.11147803250244867,
          1.3033834608904316,
          -0.15160727494001985,
          1.8052288510264711,
          0.9667009895380382,
          2.45998189966767,
          0.9289622345348908,
          1.9580922695938265,
          0.09921099679957841,
          0.3372330835426627,
          1.645492927355526,
          -0.2600487139050649,
          2.1092393400360816,
          -0.20638454299820463,
          1.8968725045778734,
          1.111988866201749,
          0.6290350263955162,
          0.3621290333354876,
          2.4134049018007295,
          1.7449047478124893,
          0.07072546602243476,
          0.15870529766408392,
          -0.0928203578555507,
          0.840753263185392,
          -0.06438521046660939,
          -0.054240248036204766,
          2.0246199376799807,
          0.6797467815410037,
          0.05124434846848156,
          1.9984338935768433,
          1.288076399173899,
          0.26956121575087,
          1.3215097798833,
          1.0444766758340676,
          0.4354703226169258,
          0.2503664696829985,
          1.3659283724077782,
          -0.21857166433092068,
          1.858255121349539,
          1.502654654239946,
          0.5183658593289481,
          1.6727615474759185,
          1.6223769823467116,
          0.5837532469266672,
          0.30571695774152974,
          -0.31019937974244693,
          0.10474583333468335,
          2.071126643249294,
          0.7224410952869482,
          0.9663231635144851,
          1.017968941795817,
          1.246662503466312,
          1.3172990648439562,
          0.19949473359504233,
          1.106806982688224,
          2.625553909002729,
          0.1391075528439436,
          1.1732109703158988,
          0.792674841712527,
          1.8607404822955849,
          -0.25173815552601414,
          0.9032883394173703,
          0.30130075679293583,
          1.6592270203512005,
          0.3670919795507043,
          1.5746582772313664,
          0.4212118430944001,
          1.448620525858118,
          1.640839775376579,
          0.4687159401772839,
          0.05460493627972579,
          2.0483535478619475,
          -0.11978998337701693,
          -0.017793506319199077,
          0.5574677412641471,
          -0.1936284126372531,
          2.389051364931089,
          -0.07040273301592961,
          1.89770802521638,
          1.0990767558089014,
          -0.17196071538759544,
          2.18277365122123,
          0.9060100053645613,
          0.4280461481716048,
          1.931023659599705,
          1.9494624548021613,
          0.7063905723011954,
          1.6788572141832767,
          -0.12812933655475903,
          0.2071904804988114,
          1.7458290921962665,
          0.930706313361268,
          1.6121820969536425,
          0.0182719872528585,
          1.3036227960306017,
          0.005664244590435566,
          -0.19732759053462093,
          1.1066529828951674,
          0.06706005015462407,
          1.7285148709988005,
          0.2894237102208356,
          1.4412964928189274,
          0.2729198373687159,
          1.7351659437037492,
          1.3825185201397254,
          1.23937019804758,
          1.6010333116133908,
          1.6675127391340185,
          1.1503753530370633,
          -0.19474360251071215,
          0.6458281273852657,
          2.1669082682605207,
          0.2655778204498049,
          1.8632183537270475,
          0.5500525670620895,
          2.012326421847625,
          1.8672772677437406,
          0.15399939077499988,
          0.2839599219819571,
          1.9499487691494577,
          1.66384965732817,
          2.1050465045519937,
          -0.01593105586465164,
          0.04701843594810215,
          -0.4804362075148164,
          1.6265764506773555,
          2.082584706490422,
          0.6728639309054546,
          1.7942714929653525,
          1.1383178628648343,
          0.8227587557585989,
          0.02869689926895454,
          0.4110765771894964,
          1.525686513021341,
          0.6037632212608653,
          1.784064650553647,
          1.9079078076700595,
          0.9786848064102118,
          1.8463369378159786,
          1.1224989319392784,
          1.8933540012723087,
          -0.04420057375641645,
          1.4879320214636969,
          0.07593659179066344,
          0.797065286292195,
          0.7537671604340443,
          0.30410744370945264,
          2.033658215288275,
          0.570311362984727,
          1.8909170940707984,
          0.2083322709775155,
          0.6540165935784481,
          0.5414597835047349,
          0.5338672145495837,
          1.3769130065066353,
          0.08917351122568351,
          0.28382563067218664,
          -0.5431743983697004,
          0.8228198029359653,
          2.3126849732917596,
          0.8989170887220107,
          2.1342912118350896,
          -0.5329739649083707,
          2.2103589727621142,
          0.8793980175917006,
          0.07596590788044638,
          -0.43586800435369943,
          1.28057036443799,
          1.5940076929889333,
          -0.008928349381663259,
          0.5788907328101407,
          0.5377196882854408,
          1.569668545927712,
          0.525974596994184,
          -0.1848783836017418,
          0.22452334326321033,
          0.7732029969550147,
          2.0279401599789546,
          1.3933974861206027,
          1.3458013770959822,
          1.736959909332755,
          1.7235827489227966,
          0.8251480720944311,
          0.16580787658342155,
          2.309270942699632,
          1.9057121130643273,
          -0.40415484452403694,
          0.1392578793203162,
          0.6243469263813929,
          0.0001545336105331918,
          0.3588202995683029,
          1.1225337359824414,
          0.19635558110545576,
          1.5877956745939779,
          0.8938894307327002,
          1.7734777673542501,
          1.9642202640008588,
          0.9021616101690111,
          -0.3410231788992016,
          0.49112832981412047,
          1.320530743077267,
          1.0016125168018044,
          1.3707961911390723,
          1.6961784868171044,
          -0.07233972438000467,
          2.1430279880029945,
          1.3020453317889682,
          0.9622087724850826,
          1.1161430353053565,
          0.26987468735349734,
          2.5250993199092404,
          1.676974346194656,
          0.18365633521015542,
          0.653714661463549,
          0.8115380029597263,
          2.4581793774269047,
          0.11882010164295337,
          0.5969880313392362,
          -0.007524512703749363,
          2.0936480510377407,
          1.1688069716612053,
          1.8163682511813763,
          1.6806115922865037,
          0.24329812738152573,
          2.0834111819407655,
          0.8743417455445014,
          1.731153734313463,
          2.1299022301882085,
          1.9101082203620177,
          1.5220254651602303,
          0.23953719235901247,
          -0.30473315257966754,
          1.9241774581893032,
          -0.26267361245472026,
          -0.0852592297307337,
          0.6399699325912214,
          1.5978559317005616,
          1.468296265434161,
          0.39663589901229984,
          0.07559558523249973,
          1.3956309205489819,
          1.266679178027947,
          0.8173070596271786,
          1.1717748066272584,
          0.7800769217499353,
          2.158602835888214,
          1.760636775386849,
          2.081613414648975,
          0.3176415001059523,
          0.6194388257586122,
          1.910437002661519,
          1.279512242155752,
          1.8475379006373542,
          2.154897929241646,
          1.585185985782336,
          0.9869160466427598,
          1.1157243608868908,
          0.46574151272364916,
          2.2429537919469915,
          0.2033825064350488,
          0.7785846466576765,
          1.659786306506822,
          -0.0524277536511282,
          0.9649789021439169,
          0.18991946535103585,
          0.09941050559842465,
          1.359686304554464,
          0.7110852670192509,
          2.2369036226701073,
          2.3211610830371314,
          1.9555377131132428,
          1.6931602849844092,
          2.0119269219153813,
          0.6185052053553362,
          0.9444248546899062,
          1.7175887551345272,
          0.4644490090462778,
          1.5948537444364503,
          1.644538409313512,
          1.324530689279885,
          1.6622917659734842,
          0.3399563682552151,
          0.1666769486448822,
          1.9695379934361161,
          1.939827140415845,
          1.0780267185999288,
          0.5483284016165905,
          0.4115030587529284,
          2.0103933102302154,
          1.8327418622929124,
          0.4584874440674601,
          1.8375717988729467,
          1.4261907650653924,
          1.05223317321611,
          0.8732433148182506,
          0.9300469786953126,
          0.20195495274525982,
          0.005019488691620166,
          2.053931545059825,
          1.9291707413532087,
          2.0116025427286908,
          1.5511455161183734,
          0.22855707134227657,
          0.4343889562242412,
          0.23904454503016132,
          0.07530318673043543,
          0.8472893817793474,
          1.7457017770142218,
          0.22178035686247047,
          1.8368708405074885,
          1.2956237720224326,
          1.6212600586187762,
          1.8019818708059765,
          1.5587722618178907,
          0.7750443653220798,
          0.9277831913186835,
          0.3638209839583099,
          0.8315341078632447,
          0.8622110290153809,
          -0.14826168613685164,
          1.8936586278917609,
          1.366188636287955,
          1.1674853331555155,
          -0.11594320634964667,
          1.0111038861034964,
          0.9068688710443562,
          1.4158825603925609,
          0.35766352241755606,
          0.9693490900573611,
          1.9618270924442278,
          1.9410471800304672,
          0.11854824580909548,
          0.49917159548805,
          0.2761934783391168,
          1.9142128676657753,
          2.4502024587472495,
          1.7379589072099337,
          0.19310624345969507,
          1.7740193773994046,
          1.3638637397278917,
          2.089499392577872,
          0.15030388346218246,
          1.005632535038211,
          0.14183235508861533,
          0.040233681422150794,
          0.21356347480939952,
          1.4296608312544092,
          0.041696988304878765,
          0.6027799208655604,
          0.09939328688102206,
          0.42897780539568037,
          -0.03144549909061778,
          0.01493347069594557,
          1.7651129001794696,
          0.6324361896397045,
          1.0790594185958218,
          1.2906669262704487,
          2.511190110755921,
          1.921862534607792,
          1.7669587174409076,
          0.5550927670228527,
          0.21792809898470689,
          -0.14260663077300162,
          0.80069529090727,
          1.8998784767523975,
          1.012125887455937,
          0.7881556837272116,
          0.6014906767271966,
          1.5071366128973227,
          1.57855142392753,
          1.4824046595066898,
          1.4159124820930262,
          0.0994186843739617,
          0.765885423248656,
          1.8023571244867833,
          1.1453036149884464,
          0.9369160896925968,
          0.5387614566925167,
          0.009236606236981424,
          1.5538799134937902,
          0.1306023444118787,
          0.17263868645384844,
          0.904972325846181,
          0.8956833060452407,
          -0.07890772935227514,
          2.3301388769734452,
          2.025038495510801,
          1.1737072501818657,
          0.2155298584371473,
          1.3693964935393175,
          0.9285757419982605,
          0.4268653210455848,
          0.19080001670190425,
          2.1205220816070054
         ],
         "xaxis": "x",
         "y": [
          -0.09545280438069453,
          -0.6466869615116904,
          -0.574027236692931,
          -0.18249532249815664,
          -0.2665944605767456,
          -0.1554725909550351,
          -0.025455859234652156,
          -1.0468971877076934,
          -0.26215797403771945,
          -0.1949542353919284,
          -0.5384233539780908,
          -0.5201419562685179,
          -0.5582402269208834,
          -0.2821658901864679,
          -0.11672752525950292,
          -0.475316247302649,
          -0.4152317810945972,
          -0.6340383206683176,
          -0.3240623140213344,
          0.3168941232800098,
          -0.5466619756714828,
          0.007382133575990157,
          -0.35003469991321795,
          -0.5538623174032782,
          -0.448773218248104,
          -0.010706832048255566,
          -0.17035805060324646,
          -0.5025874995365006,
          -0.4356528753109551,
          -0.33900421947255666,
          -0.35027153721033266,
          -0.6409465857595026,
          -0.6012195542298477,
          -0.4197599548683788,
          -0.8470334610290366,
          -0.17221090629880703,
          0.12497834225548923,
          -0.2443213346713241,
          0.23107942254105296,
          -0.6782230249770149,
          0.3720342138398345,
          -0.2333769986989793,
          0.03709339625366395,
          0.052396638901753105,
          -0.03056994399026168,
          -0.5492322686098114,
          -0.33506526967120115,
          0.5206183241733797,
          -0.19788171582761788,
          -0.31445163451314506,
          -0.42272575156258496,
          0.31682157847063236,
          0.1564610140878891,
          -0.20631429686997244,
          0.49395014373710067,
          -0.013549861137696961,
          -0.12742756256458884,
          -0.6228126598343241,
          -0.564930716627875,
          -0.31490748062979435,
          -0.04864258979093927,
          -0.13549182033063062,
          0.6672512388063874,
          0.2892899818599344,
          -0.4099523928129815,
          0.33434907087744026,
          -0.01927038445917323,
          -0.12286293585093411,
          -0.4586116010394795,
          0.35001391493948714,
          -0.45252391204457315,
          -0.17150476072351056,
          -0.11259891009381931,
          0.13031541469377744,
          -0.12223392435977787,
          -0.46324322980590305,
          -0.07807224673496632,
          0.3750514555057257,
          -0.2363812383771992,
          -0.4387356303569598,
          -0.053672982000216696,
          0.5968401198295055,
          0.5698233839969229,
          -0.18613544270673565,
          0.05744716697719582,
          -0.8045020656103852,
          -0.04453761148139984,
          0.18546646533642985,
          -0.411467082787106,
          0.10518297669822846,
          -0.34830587009873154,
          0.16448759185548112,
          -0.6570054002451187,
          -0.9088782506575335,
          -0.494601771451926,
          0.03104188190250659,
          0.3624215415514995,
          -0.0624601644057816,
          -0.3072838733371809,
          -0.515563961896083,
          0.09996186441957106,
          -0.42550991147880085,
          -0.24211596566266194,
          -0.9101368457165148,
          0.29168904023242487,
          -0.14841518464089176,
          0.15617435034563387,
          -0.018951372752086193,
          0.010093956542037624,
          0.07414878053789156,
          -0.3878081048193144,
          0.737300765590386,
          -0.4229752024307139,
          0.20926755336653008,
          0.17035125318775246,
          0.12470143397049072,
          0.3458011124762625,
          0.5777069295085233,
          0.5441386476636542,
          0.6310111866737972,
          -0.18058705867042776,
          -0.3576887716362984,
          -0.3479720944814045,
          0.14715432669413503,
          0.31119275151414977,
          -0.3689742226087439,
          0.1849764849006817,
          -0.15364133723599288,
          0.03332118491967906,
          -0.27783678419905744,
          -0.3128173159005418,
          0.2765904999348092,
          0.22253431222936904,
          -0.3051531993129625,
          0.5424875580939816,
          0.08238057203158378,
          -0.24251341498789278,
          -0.3721832587195682,
          -0.6588237754005768,
          -0.46058388369380404,
          0.5994840723788731,
          0.3728712724498018,
          -0.2150512150553695,
          0.34915854327384793,
          0.10412224667206482,
          -0.0669648777793504,
          0.003794729311089845,
          0.23445711585401294,
          0.1571919419426544,
          -0.4026103060017524,
          0.06905400793294059,
          0.38727103373296135,
          -0.3758561186747973,
          0.2471561412486682,
          -0.13850707673248247,
          -0.5018252195523489,
          -0.6189853655587936,
          -0.6734584487967532,
          -0.44540213653293187,
          -0.30118354384290846,
          -0.4476064545394612,
          -0.050205614044033064,
          0.8932406388916594,
          -0.7374987565081038,
          0.2530853149772008,
          -0.1401336994270458,
          -0.15437927122233658,
          -0.4521615278356702,
          -0.08146029503355828,
          0.08362726389269531,
          -0.3347703455692886,
          -0.38097320138172386,
          -0.3120202448229583,
          -0.5289589411038519,
          -0.3499077749637748,
          0.06279258539834576,
          -0.082279219978692,
          0.33478329658405304,
          0.5059550831814683,
          0.45976661901418153,
          -0.5915801342663285,
          0.06522720934044375,
          0.16167549121572328,
          -0.08551076290905116,
          0.41197085866688965,
          0.08869088336026154,
          -0.11702551420316615,
          0.27955646484069524,
          -0.6164902115257375,
          -0.28460751534799966,
          0.17742324953752686,
          0.11178014363427091,
          -0.20250892170026347,
          -0.5086554250168923,
          0.9287595084127304,
          0.0521183665966396,
          0.28368239507249415,
          -0.16106903674902284,
          -0.20850782874298807,
          0.8116936312035707,
          -0.00026261967953367105,
          0.38734414893039787,
          -0.01166677550776929,
          -0.4805925493597666,
          0.4002814725517749,
          -0.4498801165835895,
          -0.44454591581387776,
          -0.5342184338213889,
          -0.29660290922471155,
          -0.21809173096267648,
          0.12497374243867868,
          -0.2868035149234122,
          -0.7164050609034323,
          -0.06389851026320363,
          -0.5507813165811563,
          -0.1714284891714359,
          -0.17863283188463175,
          0.08588479010248823,
          -0.29308954788465286,
          0.46934328199922565,
          0.617144518159413,
          -0.2782744949317411,
          0.0006600215980658158,
          -0.2772596649372896,
          0.06542894139146502,
          -0.0668353563909275,
          -0.047375748635612364,
          0.03916046934909587,
          0.09360226201162986,
          0.17447691770803603,
          0.20698887649738842,
          -0.47454058745484895,
          0.17158741403929473,
          -0.4613508009104983,
          0.4190340822326761,
          -0.2710115798237779,
          -0.5190072813594231,
          0.008360937113621625,
          -0.13780706087296396,
          -0.31267866208987355,
          -0.20268994842530486,
          0.34936647845704427,
          0.4690314486522996,
          -0.6058980940806831,
          0.3699879907053117,
          -0.12817052483307506,
          0.09201500059447736,
          -0.33309423489468715,
          -0.7165411744743165,
          -0.2007263357725655,
          -0.5511450020522015,
          -0.6724863006579418,
          0.21377822839899388,
          -0.2742241958977896,
          -0.8132294900399109,
          0.215845911529003,
          -0.41982232604558284,
          -0.5433584896526484,
          0.23495302448767208,
          -0.3225623927740454,
          -0.5120048891212012,
          -0.0318405112007448,
          -0.464809766660514,
          -0.25412154432748907,
          -0.3818989221841311,
          0.5491689563555393,
          -0.4757800532130977,
          -0.0025893439534028853,
          -0.0665137854667831,
          0.44030473308614315,
          -0.09640483532688954,
          0.7158395979725306,
          0.2646950214970013,
          -0.34264626399322495,
          -0.669430296116666,
          -0.3423317430472915,
          -0.2849580306585783,
          -0.7331260353872654,
          -0.49559233897699545,
          -0.48885394455904646,
          0.3028777837279406,
          0.4627633664969235,
          -0.3885060381930921,
          0.3903927870522444,
          -0.15829545737447914,
          -0.5178657938935971,
          -0.3053835028129398,
          0.12671851895445477,
          -0.46410772031885467,
          0.6947318801712105,
          0.1659227514991282,
          -0.19614661695040253,
          -0.08122210960318368,
          -0.5608382289309165,
          -0.967475148573361,
          0.04380683202263913,
          0.0823172368474373,
          -0.3437261016245458,
          -0.1842003883401941,
          -0.02319503223152089,
          -0.739452644185856,
          -0.45347456983178963,
          0.010143020870984898,
          -0.4260214576271232,
          -0.37585129477789225,
          0.030265908843355116,
          -0.6546211232256866,
          -0.4534879433862208,
          -0.04768751859355891,
          -0.1924183122113382,
          -0.07227527550134916,
          0.3191505066678085,
          -0.5020903131857065,
          -0.576339183086525,
          -0.3114894344695667,
          -0.055886571715241695,
          0.14970062444309956,
          0.10997891579037848,
          -0.37594331118709323,
          -0.23142437441862115,
          -0.38707508951475655,
          0.7551560534143688,
          -0.4212842068646414,
          0.6002953037199358,
          0.319319350844365,
          0.2581293660838588,
          -0.6528388620014336,
          0.6737961867604301,
          -0.2177093018613124,
          -0.0711058304984369,
          0.49972872980086613,
          -0.07451263602550773,
          0.0360750532863191,
          0.12129857047377643,
          0.3055452264688049,
          0.007231677946387877,
          -0.2912580806753018,
          -0.243198890459504,
          -0.26837078051648633,
          -0.034188769475912734,
          0.6794260762885811,
          -0.8451588425285743,
          -0.3883841600153894,
          -0.5720711580319583,
          0.68253561970017,
          0.37646837729070654,
          -0.13982460335118285,
          -0.15810688574321635,
          -0.6838607790037097,
          -0.6559320480397839,
          -0.6526453245910004,
          -0.24126088415579316,
          -0.2862261055501359,
          -0.6897047135225538,
          0.8215594742282836,
          -0.7876018316875956,
          -0.792131368708824,
          -0.6437637778536679,
          -0.16827648694497746,
          1.016978494055406,
          -0.22936914872779673,
          -0.48699812940846726,
          -0.5124723086235855,
          -0.12016382154433504,
          0.4778013276423479,
          -0.12332545624327775,
          -0.3484248323300608,
          0.343719968472028,
          0.39397127194964776,
          -0.04629913143849135,
          0.8778349032139949,
          -0.029181837515720566,
          -0.21640131570301963,
          -0.4073578272710453,
          -0.027973716395774006,
          0.4411278032008463,
          0.015949090010797765,
          -0.4616775784876894,
          0.5308538298291614,
          -0.00031526786766883363,
          -0.8237105298987258,
          0.049757217665704345,
          -0.038359145207144243,
          -0.1977703044167083,
          0.1179349906731855,
          -0.5722003562320476,
          -0.3267146387704357,
          0.1106662304272707,
          0.12306929607065481,
          -0.06449347420045579,
          0.144907965892841,
          -0.46900831257965075,
          -0.3919460777876159,
          -0.30842318393670465,
          -0.3810361479440767,
          0.1596260581183722,
          -0.5449524699220997,
          0.3145606905937803,
          -0.4512993165055148,
          -0.5490581741416662,
          -0.34235882737164697,
          -0.11946485711953264,
          0.0967802726653898,
          -0.32531480478770797,
          -0.12344476103151147,
          0.23065383434409115,
          0.26485682943906563,
          -0.28538013717171684,
          0.5535866118876254,
          -0.42483009346142087,
          -0.46479738646674446,
          0.4468961587659274,
          -0.7281633885519421,
          0.4263893416264919,
          0.46821917401791535,
          0.09955708942223757,
          -0.7797982091059459,
          -0.16040761044047655,
          0.6941176803383841,
          -0.23460419860062068,
          -0.0719247239067633,
          -0.5573271790795896,
          -0.4049612306050756,
          -0.5397820356850138,
          -0.26992902649679806,
          0.10244532854937195,
          -0.3204364630042074,
          0.32906504487287463,
          -0.6485894104016126,
          0.3571363683905194,
          -0.2632471046296258,
          -0.6772945919137251,
          0.19483161558157341,
          -0.44618890887109913,
          -0.45486411079731315,
          -0.15638322285387785,
          -0.08452381258359692,
          0.4276025258780124,
          -0.3222776680309331,
          0.4101785432332745,
          0.0877030121305697,
          0.45002027968200153,
          -0.22875435794052873,
          -0.567698886431893,
          0.32564347144915723,
          -0.27856030735219744,
          -0.271811338173184,
          0.05031334410269189,
          -0.6260775686977569,
          0.045720621151266745,
          0.05174086829572855,
          -0.32500896391171996,
          -0.39630354628134257,
          0.3250783813357909,
          -0.05322592247461505,
          -0.2869369581745187,
          0.09892198084371634,
          -0.12557455977139453,
          0.054151195765555965,
          0.2188301194059078,
          -0.36780774886244194,
          -0.5585256501185285,
          0.15003157933143835,
          0.022262360939414583,
          -0.46480093387985544,
          -0.20776895514875127,
          -0.4961542309915327,
          0.43699621691126433,
          0.18659614745059727,
          -0.14556912468411926,
          0.4932955663029963,
          -0.35715046724930577,
          -0.9518888170578712,
          -0.13969255168532652,
          -0.35448896193469087,
          -0.3357513138936762,
          -0.5554351921919817,
          -0.1390800563961631,
          0.03301949842159815,
          -0.4476508050713089,
          0.49064947964798655,
          -0.298703834251812,
          -0.03196403926590241,
          0.5228643732985145,
          0.21574417408971622,
          0.3916552132224861,
          -0.4757088080448989,
          -0.4049849227054982,
          -0.41688496936298486,
          -0.5685612634396308,
          0.12499896955706732,
          -0.3366306494404606,
          0.4299901876016951,
          -0.5017374044219548,
          -0.04454201166105487,
          -0.3070194925056314,
          -0.7047562271132948,
          -0.3035313469700898,
          0.12094517304093481,
          -0.024912653089363898
         ],
         "yaxis": "y"
        }
       ],
       "layout": {
        "autosize": true,
        "legend": {
         "title": {
          "text": "label"
         },
         "tracegroupgap": 0
        },
        "margin": {
         "t": 60
        },
        "template": {
         "data": {
          "bar": [
           {
            "error_x": {
             "color": "#2a3f5f"
            },
            "error_y": {
             "color": "#2a3f5f"
            },
            "marker": {
             "line": {
              "color": "#E5ECF6",
              "width": 0.5
             },
             "pattern": {
              "fillmode": "overlay",
              "size": 10,
              "solidity": 0.2
             }
            },
            "type": "bar"
           }
          ],
          "barpolar": [
           {
            "marker": {
             "line": {
              "color": "#E5ECF6",
              "width": 0.5
             },
             "pattern": {
              "fillmode": "overlay",
              "size": 10,
              "solidity": 0.2
             }
            },
            "type": "barpolar"
           }
          ],
          "carpet": [
           {
            "aaxis": {
             "endlinecolor": "#2a3f5f",
             "gridcolor": "white",
             "linecolor": "white",
             "minorgridcolor": "white",
             "startlinecolor": "#2a3f5f"
            },
            "baxis": {
             "endlinecolor": "#2a3f5f",
             "gridcolor": "white",
             "linecolor": "white",
             "minorgridcolor": "white",
             "startlinecolor": "#2a3f5f"
            },
            "type": "carpet"
           }
          ],
          "choropleth": [
           {
            "colorbar": {
             "outlinewidth": 0,
             "ticks": ""
            },
            "type": "choropleth"
           }
          ],
          "contour": [
           {
            "colorbar": {
             "outlinewidth": 0,
             "ticks": ""
            },
            "colorscale": [
             [
              0,
              "#0d0887"
             ],
             [
              0.1111111111111111,
              "#46039f"
             ],
             [
              0.2222222222222222,
              "#7201a8"
             ],
             [
              0.3333333333333333,
              "#9c179e"
             ],
             [
              0.4444444444444444,
              "#bd3786"
             ],
             [
              0.5555555555555556,
              "#d8576b"
             ],
             [
              0.6666666666666666,
              "#ed7953"
             ],
             [
              0.7777777777777778,
              "#fb9f3a"
             ],
             [
              0.8888888888888888,
              "#fdca26"
             ],
             [
              1,
              "#f0f921"
             ]
            ],
            "type": "contour"
           }
          ],
          "contourcarpet": [
           {
            "colorbar": {
             "outlinewidth": 0,
             "ticks": ""
            },
            "type": "contourcarpet"
           }
          ],
          "heatmap": [
           {
            "colorbar": {
             "outlinewidth": 0,
             "ticks": ""
            },
            "colorscale": [
             [
              0,
              "#0d0887"
             ],
             [
              0.1111111111111111,
              "#46039f"
             ],
             [
              0.2222222222222222,
              "#7201a8"
             ],
             [
              0.3333333333333333,
              "#9c179e"
             ],
             [
              0.4444444444444444,
              "#bd3786"
             ],
             [
              0.5555555555555556,
              "#d8576b"
             ],
             [
              0.6666666666666666,
              "#ed7953"
             ],
             [
              0.7777777777777778,
              "#fb9f3a"
             ],
             [
              0.8888888888888888,
              "#fdca26"
             ],
             [
              1,
              "#f0f921"
             ]
            ],
            "type": "heatmap"
           }
          ],
          "heatmapgl": [
           {
            "colorbar": {
             "outlinewidth": 0,
             "ticks": ""
            },
            "colorscale": [
             [
              0,
              "#0d0887"
             ],
             [
              0.1111111111111111,
              "#46039f"
             ],
             [
              0.2222222222222222,
              "#7201a8"
             ],
             [
              0.3333333333333333,
              "#9c179e"
             ],
             [
              0.4444444444444444,
              "#bd3786"
             ],
             [
              0.5555555555555556,
              "#d8576b"
             ],
             [
              0.6666666666666666,
              "#ed7953"
             ],
             [
              0.7777777777777778,
              "#fb9f3a"
             ],
             [
              0.8888888888888888,
              "#fdca26"
             ],
             [
              1,
              "#f0f921"
             ]
            ],
            "type": "heatmapgl"
           }
          ],
          "histogram": [
           {
            "marker": {
             "pattern": {
              "fillmode": "overlay",
              "size": 10,
              "solidity": 0.2
             }
            },
            "type": "histogram"
           }
          ],
          "histogram2d": [
           {
            "colorbar": {
             "outlinewidth": 0,
             "ticks": ""
            },
            "colorscale": [
             [
              0,
              "#0d0887"
             ],
             [
              0.1111111111111111,
              "#46039f"
             ],
             [
              0.2222222222222222,
              "#7201a8"
             ],
             [
              0.3333333333333333,
              "#9c179e"
             ],
             [
              0.4444444444444444,
              "#bd3786"
             ],
             [
              0.5555555555555556,
              "#d8576b"
             ],
             [
              0.6666666666666666,
              "#ed7953"
             ],
             [
              0.7777777777777778,
              "#fb9f3a"
             ],
             [
              0.8888888888888888,
              "#fdca26"
             ],
             [
              1,
              "#f0f921"
             ]
            ],
            "type": "histogram2d"
           }
          ],
          "histogram2dcontour": [
           {
            "colorbar": {
             "outlinewidth": 0,
             "ticks": ""
            },
            "colorscale": [
             [
              0,
              "#0d0887"
             ],
             [
              0.1111111111111111,
              "#46039f"
             ],
             [
              0.2222222222222222,
              "#7201a8"
             ],
             [
              0.3333333333333333,
              "#9c179e"
             ],
             [
              0.4444444444444444,
              "#bd3786"
             ],
             [
              0.5555555555555556,
              "#d8576b"
             ],
             [
              0.6666666666666666,
              "#ed7953"
             ],
             [
              0.7777777777777778,
              "#fb9f3a"
             ],
             [
              0.8888888888888888,
              "#fdca26"
             ],
             [
              1,
              "#f0f921"
             ]
            ],
            "type": "histogram2dcontour"
           }
          ],
          "mesh3d": [
           {
            "colorbar": {
             "outlinewidth": 0,
             "ticks": ""
            },
            "type": "mesh3d"
           }
          ],
          "parcoords": [
           {
            "line": {
             "colorbar": {
              "outlinewidth": 0,
              "ticks": ""
             }
            },
            "type": "parcoords"
           }
          ],
          "pie": [
           {
            "automargin": true,
            "type": "pie"
           }
          ],
          "scatter": [
           {
            "marker": {
             "colorbar": {
              "outlinewidth": 0,
              "ticks": ""
             }
            },
            "type": "scatter"
           }
          ],
          "scatter3d": [
           {
            "line": {
             "colorbar": {
              "outlinewidth": 0,
              "ticks": ""
             }
            },
            "marker": {
             "colorbar": {
              "outlinewidth": 0,
              "ticks": ""
             }
            },
            "type": "scatter3d"
           }
          ],
          "scattercarpet": [
           {
            "marker": {
             "colorbar": {
              "outlinewidth": 0,
              "ticks": ""
             }
            },
            "type": "scattercarpet"
           }
          ],
          "scattergeo": [
           {
            "marker": {
             "colorbar": {
              "outlinewidth": 0,
              "ticks": ""
             }
            },
            "type": "scattergeo"
           }
          ],
          "scattergl": [
           {
            "marker": {
             "colorbar": {
              "outlinewidth": 0,
              "ticks": ""
             }
            },
            "type": "scattergl"
           }
          ],
          "scattermapbox": [
           {
            "marker": {
             "colorbar": {
              "outlinewidth": 0,
              "ticks": ""
             }
            },
            "type": "scattermapbox"
           }
          ],
          "scatterpolar": [
           {
            "marker": {
             "colorbar": {
              "outlinewidth": 0,
              "ticks": ""
             }
            },
            "type": "scatterpolar"
           }
          ],
          "scatterpolargl": [
           {
            "marker": {
             "colorbar": {
              "outlinewidth": 0,
              "ticks": ""
             }
            },
            "type": "scatterpolargl"
           }
          ],
          "scatterternary": [
           {
            "marker": {
             "colorbar": {
              "outlinewidth": 0,
              "ticks": ""
             }
            },
            "type": "scatterternary"
           }
          ],
          "surface": [
           {
            "colorbar": {
             "outlinewidth": 0,
             "ticks": ""
            },
            "colorscale": [
             [
              0,
              "#0d0887"
             ],
             [
              0.1111111111111111,
              "#46039f"
             ],
             [
              0.2222222222222222,
              "#7201a8"
             ],
             [
              0.3333333333333333,
              "#9c179e"
             ],
             [
              0.4444444444444444,
              "#bd3786"
             ],
             [
              0.5555555555555556,
              "#d8576b"
             ],
             [
              0.6666666666666666,
              "#ed7953"
             ],
             [
              0.7777777777777778,
              "#fb9f3a"
             ],
             [
              0.8888888888888888,
              "#fdca26"
             ],
             [
              1,
              "#f0f921"
             ]
            ],
            "type": "surface"
           }
          ],
          "table": [
           {
            "cells": {
             "fill": {
              "color": "#EBF0F8"
             },
             "line": {
              "color": "white"
             }
            },
            "header": {
             "fill": {
              "color": "#C8D4E3"
             },
             "line": {
              "color": "white"
             }
            },
            "type": "table"
           }
          ]
         },
         "layout": {
          "annotationdefaults": {
           "arrowcolor": "#2a3f5f",
           "arrowhead": 0,
           "arrowwidth": 1
          },
          "autotypenumbers": "strict",
          "coloraxis": {
           "colorbar": {
            "outlinewidth": 0,
            "ticks": ""
           }
          },
          "colorscale": {
           "diverging": [
            [
             0,
             "#8e0152"
            ],
            [
             0.1,
             "#c51b7d"
            ],
            [
             0.2,
             "#de77ae"
            ],
            [
             0.3,
             "#f1b6da"
            ],
            [
             0.4,
             "#fde0ef"
            ],
            [
             0.5,
             "#f7f7f7"
            ],
            [
             0.6,
             "#e6f5d0"
            ],
            [
             0.7,
             "#b8e186"
            ],
            [
             0.8,
             "#7fbc41"
            ],
            [
             0.9,
             "#4d9221"
            ],
            [
             1,
             "#276419"
            ]
           ],
           "sequential": [
            [
             0,
             "#0d0887"
            ],
            [
             0.1111111111111111,
             "#46039f"
            ],
            [
             0.2222222222222222,
             "#7201a8"
            ],
            [
             0.3333333333333333,
             "#9c179e"
            ],
            [
             0.4444444444444444,
             "#bd3786"
            ],
            [
             0.5555555555555556,
             "#d8576b"
            ],
            [
             0.6666666666666666,
             "#ed7953"
            ],
            [
             0.7777777777777778,
             "#fb9f3a"
            ],
            [
             0.8888888888888888,
             "#fdca26"
            ],
            [
             1,
             "#f0f921"
            ]
           ],
           "sequentialminus": [
            [
             0,
             "#0d0887"
            ],
            [
             0.1111111111111111,
             "#46039f"
            ],
            [
             0.2222222222222222,
             "#7201a8"
            ],
            [
             0.3333333333333333,
             "#9c179e"
            ],
            [
             0.4444444444444444,
             "#bd3786"
            ],
            [
             0.5555555555555556,
             "#d8576b"
            ],
            [
             0.6666666666666666,
             "#ed7953"
            ],
            [
             0.7777777777777778,
             "#fb9f3a"
            ],
            [
             0.8888888888888888,
             "#fdca26"
            ],
            [
             1,
             "#f0f921"
            ]
           ]
          },
          "colorway": [
           "#636efa",
           "#EF553B",
           "#00cc96",
           "#ab63fa",
           "#FFA15A",
           "#19d3f3",
           "#FF6692",
           "#B6E880",
           "#FF97FF",
           "#FECB52"
          ],
          "font": {
           "color": "#2a3f5f"
          },
          "geo": {
           "bgcolor": "white",
           "lakecolor": "white",
           "landcolor": "#E5ECF6",
           "showlakes": true,
           "showland": true,
           "subunitcolor": "white"
          },
          "hoverlabel": {
           "align": "left"
          },
          "hovermode": "closest",
          "mapbox": {
           "style": "light"
          },
          "paper_bgcolor": "white",
          "plot_bgcolor": "#E5ECF6",
          "polar": {
           "angularaxis": {
            "gridcolor": "white",
            "linecolor": "white",
            "ticks": ""
           },
           "bgcolor": "#E5ECF6",
           "radialaxis": {
            "gridcolor": "white",
            "linecolor": "white",
            "ticks": ""
           }
          },
          "scene": {
           "xaxis": {
            "backgroundcolor": "#E5ECF6",
            "gridcolor": "white",
            "gridwidth": 2,
            "linecolor": "white",
            "showbackground": true,
            "ticks": "",
            "zerolinecolor": "white"
           },
           "yaxis": {
            "backgroundcolor": "#E5ECF6",
            "gridcolor": "white",
            "gridwidth": 2,
            "linecolor": "white",
            "showbackground": true,
            "ticks": "",
            "zerolinecolor": "white"
           },
           "zaxis": {
            "backgroundcolor": "#E5ECF6",
            "gridcolor": "white",
            "gridwidth": 2,
            "linecolor": "white",
            "showbackground": true,
            "ticks": "",
            "zerolinecolor": "white"
           }
          },
          "shapedefaults": {
           "line": {
            "color": "#2a3f5f"
           }
          },
          "ternary": {
           "aaxis": {
            "gridcolor": "white",
            "linecolor": "white",
            "ticks": ""
           },
           "baxis": {
            "gridcolor": "white",
            "linecolor": "white",
            "ticks": ""
           },
           "bgcolor": "#E5ECF6",
           "caxis": {
            "gridcolor": "white",
            "linecolor": "white",
            "ticks": ""
           }
          },
          "title": {
           "x": 0.05
          },
          "xaxis": {
           "automargin": true,
           "gridcolor": "white",
           "linecolor": "white",
           "ticks": "",
           "title": {
            "standoff": 15
           },
           "zerolinecolor": "white",
           "zerolinewidth": 2
          },
          "yaxis": {
           "automargin": true,
           "gridcolor": "white",
           "linecolor": "white",
           "ticks": "",
           "title": {
            "standoff": 15
           },
           "zerolinecolor": "white",
           "zerolinewidth": 2
          }
         }
        },
        "xaxis": {
         "anchor": "y",
         "autorange": true,
         "domain": [
          0,
          1
         ],
         "range": [
          -1.762478391761724,
          2.8721527607442803
         ],
         "title": {
          "text": "x"
         },
         "type": "linear"
        },
        "yaxis": {
         "anchor": "x",
         "autorange": true,
         "domain": [
          0,
          1
         ],
         "range": [
          -1.2660658778596867,
          2.0028908566107217
         ],
         "title": {
          "text": "y"
         },
         "type": "linear"
        }
       }
      },
      "image/png": "[encoded data removed]",
      "text/html": [
       "<div>                            <div id=\"49034679-a65e-4f0c-9f19-d60ac3252d9f\" class=\"plotly-graph-div\" style=\"height:525px; width:100%;\"></div>            <script type=\"text/javascript\">                require([\"plotly\"], function(Plotly) {                    window.PLOTLYENV=window.PLOTLYENV || {};                                    if (document.getElementById(\"49034679-a65e-4f0c-9f19-d60ac3252d9f\")) {                    Plotly.newPlot(                        \"49034679-a65e-4f0c-9f19-d60ac3252d9f\",                        [{\"hovertemplate\":\"label=A<br>x=%{x}<br>y=%{y}<extra></extra>\",\"legendgroup\":\"A\",\"marker\":{\"color\":\"#636efa\",\"symbol\":\"circle\"},\"mode\":\"markers\",\"name\":\"A\",\"orientation\":\"v\",\"showlegend\":true,\"x\":[0.16833242892112482,-1.0283852461447855,0.9264177917801618,-0.10517397514388732,-1.3216525842723112,-0.3432433699823531,0.9317044839634423,-0.11224281266781572,1.1904568573814147,1.2380075126614076,-1.5103190470492276,1.3103977064176968,-0.5869251727397128,-0.4663317467990084,-1.2119154068904996,-0.6904532543910095,0.9837131420706721,1.4323177529954865,-0.49997728353001514,-0.767332494431183,0.5657886016133028,0.6861854649748533,-0.14994110468185357,-0.6608408952512358,-0.09826186306709782,-0.8732047581157403,-1.0196802462369927,0.3873019977528742,-0.3879434768706821,0.3049006130834229,-0.6868432309706965,0.4497101197519638,0.3918447957981518,0.20628659654339035,0.22851299823123725,0.8058075357822947,1.0880605857001033,-1.0143046795764714,-0.15221361385738708,-0.7033839876210711,0.4054219688043175,-0.916799934096775,-0.7779736382029866,-0.7037626765276939,-0.5850975798555605,0.9014148963011062,0.8843257211862748,0.9238061848767608,0.9491601998784136,0.8107061710567129,0.0046696788579885795,0.5855081211979615,-0.6203639491247469,0.9245865392054455,-1.063087896707053,-0.3749121154147048,-0.6607550307762207,0.3128064586769883,-1.057886348787253,0.4997102084927926,-0.6413058654231968,1.069587614926648,-0.8130283793791921,-0.07120043398484016,1.07955574260724,0.9007383354881598,0.4500249845883496,1.420046644822869,-0.1383158185582397,0.9135902493181896,1.0814115636296027,-0.6319500046755727,-0.652290204788508,-1.485701734113526,0.2992437292214767,-0.594365090122547,-1.0681809464702186,-0.14034585961954774,-0.7426956134726613,-0.28696164766973253,-0.15483024381548866,0.3642937671720221,0.37508365021220685,0.5705044299683861,-0.4868870170400791,-0.7651959635491978,0.5560359179138357,0.5813244494790383,1.3395498742682252,-0.930844117595811,-0.109974556587624,0.8212746504190059,-1.0056271108453545,0.5487617797964356,-0.5387829411067984,1.072226621428402,0.7486049682924474,0.5917454559064357,0.36208223392459926,0.962281200962665,-0.4098010058773749,-0.7091781528935023,1.1136872396386512,0.5969884233595034,-0.37750869989919983,-0.7500382005930915,0.8299868130465913,-0.9789390685459789,-0.8108957072185724,-0.6224119359508129,0.2951458156575968,0.7893348261605746,0.350972887668886,0.5582328780068155,0.25768173412297923,-0.0323580190701553,0.6822914893987482,-1.227598260480557,-1.0031698696376492,0.3411790599439572,0.8391562403201506,0.2832935177027778,-0.2654567646720497,0.5456322395641356,-0.6790298717156976,-0.27885470659500766,-0.7013350457172896,0.8116997477055693,-0.8993007696254671,1.1273175518890224,1.1325101149888999,-1.0793882248364002,1.1720950973930302,-0.8468009802058691,0.1624061224370409,1.4454889925928682,0.7301262728642002,-0.11060871070987238,-0.2176404763015769,-0.3318427116885248,-0.3466324591596145,-0.5205760215898694,-0.4982572110728773,-0.13069768109863428,-0.8303155574606955,-0.04304956221337414,-0.7809401226158528,0.08810584095196261,-0.46435600078962264,0.892854419376692,0.6796358048884406,0.5115114048731559,-0.1085710085819217,0.9155541005079437,-0.7287026945789726,-1.0267063813318271,0.8217181852958209,0.040054238582978706,-0.5799921957434554,0.8374655606543514,-0.5063262319721729,-0.7658071375838406,-0.7510718435131757,-0.16823348930516838,0.03468426607332241,0.8438808768867373,1.1375990314831224,-0.11349659294144243,0.20626320771823878,-0.6924693231048804,0.10945102343973637,-0.7220564434325711,0.5906521985179184,-0.89425426949313,-0.33527611898224297,-0.2556296900304641,-0.3528839286208923,-0.4995536748075413,-0.6251162150906829,-0.6951548189622927,-1.2679476888660626,0.5725206242554468,-1.0770270783488707,-0.5087637257296849,-1.011460496638587,-0.9289251591358116,0.17280544752653235,-0.48640099360182865,-0.7206548077208192,0.936644252639092,-0.5081469146527546,0.30329064759982316,0.363786530877779,-0.8729442981810321,0.4742362755370027,0.33757954615851904,0.24519692872916093,0.5762912597147194,0.34933311615467116,0.21914169302666398,0.9026900870300814,0.7188980155601707,-0.9176338214825684,-0.22364621685663286,-0.7845853664604229,-0.3951945358870565,-0.19179328193772968,0.5656885479609871,0.8086706393987616,-0.48219233814094037,1.0581896499890862,-0.567135747457323,-1.2329261167490544,0.22392410491656423,-0.7243232026791095,-0.3830200169071082,-1.2271813900319397,-0.9424023037817675,-0.33420103727527006,0.10507226042069279,-0.5091902865257286,1.0050752314758893,0.8548077515997607,0.4794015877475056,0.9205436377000161,-1.0187120924498165,0.40925132249395413,-0.9332472989918799,-0.7068690687728927,0.7948403405787298,0.8565996558029804,0.7740702213541161,0.6893927621518087,0.8205883675863554,0.16360883282312894,-1.3604156670667407,0.6894255039077425,0.3999038388162106,-0.18247650899309045,0.06739451986098496,-0.9050227669411683,0.19150924809906278,0.997894903824422,0.4675341365524658,0.0429744539165922,0.5447161190260952,0.6135842092065853,-0.7531190971310953,0.23513955552429988,0.920701027431694,0.7013821637056974,0.49226133007955986,0.16037086883833485,0.7919149387111376,-0.9422753644343802,0.36998832127379355,0.8795903160702537,0.44777159194077454,-0.753666629077585,0.28537793558640445,-0.5296523886571213,-1.121368621842305,-0.966607297750927,1.0208822136527327,-1.012227728707415,-1.1614276659521998,-1.0237456329993513,0.16786785769044216,-1.0171190073054075,-0.49008562457248656,-0.16048386289222197,-0.5336685500079481,0.6076304068023716,-1.1636028016516438,-0.6748713836517723,-0.7228546083783669,-1.1130199958552476,0.11808956730781472,0.044385642898670606,-0.4697639572457309,0.9328418614207328,-0.6359827056667532,-0.34355582596517975,-0.9965185943992603,-0.413248750337201,0.6948570177287983,-0.6695164514810328,-0.8131220199078373,1.1234623765538767,-0.2650894234704098,0.7525176928786464,-0.960436738159822,0.6510632822808802,-0.1596819377899828,-1.1120865693454964,0.4460332536322797,0.8482014304368276,-0.061351107141593864,-0.8681889559916219,-0.08704581317260925,1.2159886472883281,-0.40143762234225766,-0.368605432494859,-0.6023057084489793,-0.5081983800157234,0.9606342248518401,1.308960989035061,1.1246890993748537,0.2049098872728272,0.9552472262243453,-1.038815729198305,-0.6904030264075247,-0.5295519462051168,0.9259372780512478,0.5248485705669179,0.5315173392690897,0.4571233014309394,1.2776272447672636,-1.0275016938966572,0.5230392861219524,0.8096708664080737,1.1580512863565464,0.3626355035856452,-0.6517100477929837,0.5923184162745444,-0.09281910193975403,-0.5704408377735084,1.0205792716539448,0.760577223151434,-0.05038319579471606,-0.5542103230041708,0.7320542899899589,-0.12294206088978157,1.3881234197872552,-0.6952155120490515,-0.34930365377534645,-0.8961419970999989,-0.4478500101486992,-0.9449793648056477,0.926304263525385,-1.0360657468893157,0.3256232387325081,-0.8674602468720424,0.8279308698027195,-0.13873399039092849,0.8061157013622381,0.1663307400393441,0.7476104665575167,1.1527542993533166,-1.038254229506012,0.3324613472779778,-0.7260416137025236,0.9103065125234653,-0.4286559649559575,-0.17568276596402563,0.7802783193211517,0.9420588410465034,-1.0837628540306914,-1.3094708368719545,-0.16617116258095882,0.5419538013628048,0.41219836538436316,0.510281741652543,-0.5504178663221803,-0.1554144811332037,0.768247153508951,0.6956389841561512,1.025512059495119,1.2303618428372647,0.2884737983783511,-0.8823294894548195,-0.4271564286575931,-0.5954420504330084,0.0407056743578566,1.2090579645055441,-1.0018068124446087,0.1859629840016272,-0.7533460930161608,-0.0812471111984856,-1.345030813653314,1.0667478417142318,0.5135119724890729,0.07756934835551275,-1.0379022998755887,-0.7574027961808885,-1.0380062046482235,0.1850221764048841,0.4547616223638301,-1.0343729798974688,0.5543237143192757,0.385973278209711,0.49446369290325887,0.892024752302528,-1.44605104821223,-0.8627033424488562,1.2082850820499162,-0.026983178801027824,0.9608288382249741,0.6627409233852637,-0.24442896035163128,-0.43697031185370616,-0.03136210411747922,0.13588772286561704,0.09668346520049496,0.7336304818754843,0.7861630795063419,0.3501973415939584,-1.1590116328696982,0.3375189375443164,-0.9567662106288436,-1.0629912635253798,1.3637014397028866,-0.531295330870498,1.3446781243205026,-1.038481476311047,-1.1707385490478375,1.0229646524862805,-0.9294195293336603,0.4517091830889811,1.5500193428686022,0.16299338791652512,-0.6362422282016968,0.5761420466276593,0.44975622043789776,-1.0686696572789456,-1.3186701873307671,-1.0722653277185628,0.757083302673222,-0.7652607703395937,-0.4808940395749712,0.8952950424720142,-0.6368514749823233,0.07079004832073298,0.6027360328214638,-0.7449694771216584,0.05741956361327871,-0.8726267444548089,1.4268625058559206,0.7914714915975197,-0.18944261452022657,0.17404216459585753,-0.9290476594891808,-0.3699386910934961,0.606886911491743,-0.6837902980205169,0.7939422220412682,-0.5830673941271016,-0.6542583713933217,0.6424475797938779,0.507933190233691,0.9490192922003438,0.014458738738629599,-1.0141890193490581,0.7190457561535787,-0.12231063660899164,1.08886809865159,-0.840475227195916,-1.0169407681737244,0.2219841569656552,-0.7704859090666861,-0.8629552772431475,0.27642283690186453,0.2960208974521723,-0.7232676925023649,0.6956011196954982,0.9206135750710124,-0.2313335280520819,-0.13820923399270474,-0.3669410722427935,-0.37868461458073455,0.9695374997738428,-0.5535408466100648,-0.5924526662877695,-0.557486337307415,-0.1216485754688186,-1.5158795400201726,1.1524180634255927,-0.4604040718390532,-0.12607464066807234,0.2584183732491784,-0.7620052958580353,0.5945894168805668,-0.9239827655524646,0.7138302974489305,0.38721588732376544,-0.1598358323601354,-0.3726771560601605,-0.7924553522894161,0.6966558266602242,0.6706221344867228,0.2552777815540245,1.6207265119898153,0.2569923381196098,0.868912271082543,0.3072731167947811,1.0309129960694576,-0.7363018902997501,1.1788357912956666,-0.39685224031297883,1.1260750263618424],\"xaxis\":\"x\",\"y\":[0.8655904512819439,0.7306446934395106,0.6321680580598247,0.9762569031098158,0.47952758636337467,0.527815589923061,0.5957584875383997,1.034347135401974,0.363604087047105,-0.018370232567929412,0.50771086849126,0.5956241295705493,0.8627833234682025,0.5763511170288625,0.46835943010983494,0.30316280471258744,0.22359933307787266,0.39918496442984747,1.059671573024018,0.4476015142421413,0.5796409075990722,0.8355246520612998,0.8915266935103909,0.3055062163864305,0.9850238366116084,0.16322866022379745,0.802704891752384,0.5424544547863585,0.7508986142455787,0.38094954679868664,1.1353338506971302,1.0704510890189425,1.1861344092961286,1.3176853161935398,0.9493903261303328,0.4801576679200447,0.6722012085054717,-0.1225215362528344,0.8352898544498906,0.4332055383250911,0.8806856803444494,0.47596078146859566,0.6911496070903412,0.5372773481023565,0.8792689082640117,0.1938744896599963,0.5314863406767396,0.8205633089529341,0.5215994173781021,0.42485235301016727,0.8987360453067498,0.3793774174175367,0.7051221674662964,0.6230001091022128,-0.19835809250815906,0.8110995596045816,0.15397354605618413,1.010968721432177,0.5620233916289988,1.1166915331867884,0.25651934989381964,0.7297693620899343,0.7545026099561184,1.1086514387328388,0.4797906788951386,0.41180388805586376,0.42854471865759924,0.6467874077045145,0.8715463416167714,0.7353051007925779,0.4282921499688098,0.7681113697393163,-0.09669227910659534,0.17932041702557222,-0.40368497205324505,0.8103168933314645,0.4079908604410942,1.2323506151602694,0.98947050687458,0.90124595113889,1.213093969331501,1.129623503486892,0.8750683113095015,0.8934277954365613,0.5840659294206959,0.6520586589885222,0.2978074868182763,0.6892439786715929,0.695122407995248,1.1703617906638848,0.9985836187877681,0.3607028990233264,1.2935114833724455,1.0579525085086203,1.175586863276789,0.5636339096252211,0.32923065149394964,0.7862366186673937,1.1557585162960737,0.5689943961394626,0.024707169020806427,0.7547800861257112,0.0627058548931837,0.9298072219652769,0.9514647620608301,-0.21291577662654865,0.46408935684427005,0.4590101933555744,0.5342337246564004,0.08316252292792162,0.210480755538387,0.29322768706919844,1.050726571083507,0.8886581954190789,1.0592455231507834,0.7610933405858952,1.0177777364387919,0.15362883759791363,0.8371164131635482,1.1758987139789274,0.5294455955872321,0.7929246890714828,0.5054274536211643,0.8990564532523582,0.7822234721337011,-0.10898663301675723,0.794233161914052,0.12467748210546709,0.2325541239657429,0.029666311654406557,0.20376649541093775,0.11289877408861072,0.3043174206916237,-0.16580488893548406,0.8686680106168209,0.3582645261382522,0.15968114471530243,0.8158616534666695,0.6621232729341947,0.675690318897,0.6599942711950464,0.7052084423992115,0.5541952696123886,1.1377248526912516,0.31974103156059314,0.9888598475668645,0.7670882214976195,1.0956290180403914,0.9021001226622121,0.8296790317994098,-0.1925928155935619,0.4642120540337519,1.190459808976284,0.04316421976974627,0.6043427973575168,0.206468507099213,0.09136208078197311,0.6850877256776802,0.32816120451327685,-0.19876594143125803,0.9174418048699419,0.27420512729361146,0.8033109610396904,0.8741776521576863,0.862283878152381,1.2391020682361615,0.5155045048151782,0.6647320064400252,1.0439827582879928,0.21428544795000543,1.2822095587536482,0.25308891483071194,1.3677809003240748,0.45461221609749725,1.090527820011358,1.1753493439267682,0.8534500456896958,0.4664085649745501,0.8415091121892939,0.28021774524709997,0.811896343342217,0.8124479261711576,0.2713228064433587,0.7030910301117335,0.6406296772997694,0.15971321945355416,1.1781531800476848,0.81937997986095,0.7949548223763282,0.6884185709906474,0.4931705673580804,0.642135220118554,1.008919583672612,0.49779999653329743,0.7760934508604691,0.9122582286780488,1.0689476846044244,0.5378084212079997,0.9439552832479791,0.9980500152750538,0.3381689381320216,0.8881620076305999,-0.34896013658181024,0.6883671575866456,0.3350026031394324,0.5078788628749209,1.3544353128204212,1.5496451020734012,0.99280703242951,0.6135317342093596,0.7403667939833758,0.7712154538771259,0.670606753172463,0.6505387559080184,0.6007382838285285,0.9954936728622524,0.3235696172112287,0.2577074152618247,0.6493780761267294,1.0175757949302684,1.4253662684134252,0.5293944704391645,0.47047821684496693,1.070614718056252,0.8490451868626818,0.7184379956954701,1.2393309566800477,0.1562507800868259,0.8825084452350569,0.3511254789112128,0.6474485347223377,1.1260792749863664,0.755060204269922,0.9144090227486775,0.5314171743318259,0.08963725531645376,0.7606322645858954,0.9810050405396116,1.228139596813341,1.0084152094255148,0.26418168899768146,0.516307515817267,0.5720007576221069,0.7446022055017304,1.0333769625731524,0.8109348934404974,0.9062414243548846,0.13811349229057104,0.7654588858621661,0.2837747929783016,0.6464799864160986,1.0376424630502976,1.7837221664587286,0.7928822070791937,0.49674309282439266,0.24211637959438018,-0.13558262464962434,1.0141450027979562,1.0342028192357728,1.3417605782236448,1.1999547112294886,1.0000295233886685,0.7595643362283714,1.081646788517796,-0.04504344430236237,0.7493559514229735,-0.22974925364977877,0.5958332945095828,0.316756730207099,0.16700652122180504,0.8683932500539101,0.4107149464757266,0.9856608953032053,1.0915253328282715,0.26175242122956294,0.6650509436590805,0.15374177706470188,0.39557028044516424,1.1448420766087046,0.3136255745984282,0.4628471134401598,0.6277096803236644,1.229994863290501,0.13060883891515368,0.6121052296074415,0.453877335117709,0.5359772010565923,1.2456693273160875,0.12092494969216414,1.3685577422437352,0.07596421421204297,0.06232491100163435,0.7903023994228796,0.9932299129303389,-0.30630010050988055,1.0179031055710688,0.17074729593182264,0.8421722254218513,0.12614450570364777,0.6296133873182186,0.3132180307212318,1.1412652565727521,0.9732732492178042,1.084037408730241,0.7549551311845195,-0.13793823947000233,0.8002938644640927,0.6999181974796748,0.9919805968455039,-0.12970105987549485,0.2360527138614561,0.8025178631611047,0.9061087005371673,0.4554060215407969,1.0686572421934044,0.9252990553258893,0.17160653467582426,0.24634086458336552,1.0341179460808487,0.859089583487967,1.0533726152931433,0.32646946662211845,0.8526461245562578,0.7968398953757969,0.9345132085673786,1.1678290439697943,0.8149598610781892,0.2568280926328989,0.6108647396089638,1.3445900207375527,0.2986750487012918,0.014727261697790608,1.188335018012539,0.5119353492490984,0.5348252680029827,0.8439401612441917,0.775577983218882,0.28534003493983895,0.052429221387148284,0.0007951691275833762,0.5967181759332362,0.9649037006809444,-0.13671866029740487,0.41710971332929453,0.8619947864686776,-0.08605808607087573,1.0385458084993746,0.2160643596307856,0.6090606195301773,0.9845884312298897,0.7583185263044387,0.21593221659282613,0.43825438924514226,0.09502570107166804,0.96885554722155,-0.17003331196236224,0.3409860014010181,0.34225211825247404,0.10172559487897662,1.3099804535002961,0.8975162658179298,1.0821345443663284,0.6013894792949378,0.5274902271515666,0.10873389964050917,-0.00903498542684384,0.34772394140306,0.8817167868456914,0.8614950145614793,0.6805086850347424,0.6644544649829291,0.9429763891003292,1.0195284312521258,1.3441398427208862,0.030149009114758873,0.4107359557596047,0.4543958492987302,0.6787412526016641,0.8228479256513233,0.06425778935764913,0.04726397765691298,0.962579153741257,0.8161519410580643,0.40046620166296515,0.6764274100373714,-0.2019715780689667,0.875551030902723,0.9354038638258915,1.0183151938039525,0.8051000098634478,0.9573984088447559,0.9163211199879693,0.4994057201111525,0.2581988141759978,0.6331555348370578,0.22009162525523335,0.9000622887374309,0.3009328537189345,0.7416202481806184,1.349769962410569,0.4138588105376998,0.86485665373776,0.6934658599478579,1.1840497717454141,0.6191756022462098,0.3990150578872633,1.0677926973916827,0.509785231515052,0.6317118916246784,0.22754914168218418,0.38685452816536936,0.08162318567454757,1.2723271168771302,0.583320944359576,0.5164741102021376,0.29052480963236127,1.055797825451309,-0.044922494818930236,0.9148961649455366,-0.08059207895630764,1.387931852518773,0.20468918712986825,0.41265344928819636,0.6652876854635124,0.5131311333179898,0.2916991044589972,0.23826725489467912,0.8186588137541903,0.7511309470884114,0.9993051823499229,0.34429539744175336,0.5639280161710417,0.8824179006148922,0.565171063902479,0.9012473041825255,0.9972730249864371,0.5323046845433375,-0.24112635925643952,0.41550982667566405,0.727610289418916,0.9246313238987585,0.1642341889044185,0.6230422477171715,0.7339095092805852,0.5795850188698821,0.5853890588324845,0.9132788868432296,1.2748851020627594,0.968219365175499,0.8399982538087274,0.45604197266267477,1.0785171819611732,0.14618596598240483,-0.06787320867292723,0.8392376100194551,0.22261128532423666,0.7250637920335821,1.1982192901900548,0.7433894901344331,0.1135386578000616,0.8821751636865716,1.280628729154041,1.433055608918119,0.0328754367561617,0.4154606031776279,-0.7380110066521558,1.5310558080754448,1.016420395684618,0.36094633522941333,1.1789687283845691,-0.06331631056093533,0.6846169844036523,0.7098221347470178,0.7287372236572314,1.130737371068978,0.14593220693594602,0.3548546681436958,0.716406877742687,0.699302474640781,0.4798831802518875,0.987775683875246,-0.35335304555499447,0.04868046969680759,0.1600647770770912,0.850766754400251,1.1895166038078637,0.7011990123846665,-0.03537562553667481,1.1714206415983246,0.5025658598179203,1.213683835679683,0.23500134300862066,1.0474135212478974,0.1877494726929751,1.197590996488694,0.21451804036056343,0.5851368050567622,0.11907759534282707,1.2029051727973583,0.3505547668109376],\"yaxis\":\"y\",\"type\":\"scatter\"},{\"hovertemplate\":\"label=B<br>x=%{x}<br>y=%{y}<extra></extra>\",\"legendgroup\":\"B\",\"marker\":{\"color\":\"#EF553B\",\"symbol\":\"circle\"},\"mode\":\"markers\",\"name\":\"B\",\"orientation\":\"v\",\"showlegend\":true,\"x\":[1.6516879358502912,0.4833040226031399,0.04541950759749058,1.3471622511154049,1.098881064583796,1.5604437758368161,0.038006126137022436,0.25194271236522114,1.337050407931632,1.7914285613709946,0.04835144512954122,1.7684884806873018,0.14117948750720444,0.6445766525237456,1.900628947286421,2.115783089998592,0.7019483748174817,1.417796107234569,0.2207163461322893,-0.13280838362749187,0.6789834894908975,0.675975562859449,-0.12773893140789938,1.8123534986279641,1.33246705212083,0.7356343890771677,1.5337249487857139,1.3311085152060507,1.51444752575887,1.667729698923904,1.2819265740209846,0.5405710306832261,1.0288790932377672,1.0538355395931243,1.2802144055732736,1.7129796215225126,-0.2104941254139922,-0.15073837469503087,-0.20350545348928958,0.5201633514215279,0.009212306255202151,1.331332330711573,0.22545908775724194,0.047130446684520544,0.24231796172925885,0.7879898932413636,1.9795340151957543,0.27612364833246583,1.371684506976878,1.2447231856868382,1.8599099069962846,0.26116105746551377,0.3784872352152948,0.30500540866488624,1.541752045621399,0.8388904376297015,0.8450494468760668,2.1771112818424028,1.3606907700495081,1.8463793137706077,1.142965288235826,1.1084187218264987,1.7219674676192618,-0.11715080877245354,1.1706593856469267,0.053644612603662906,0.9230949732641969,0.7397520438484243,1.4095748264452583,0.11912457862553225,2.1901978374449813,1.0126352537240797,1.9901118758128382,1.6078734478082164,1.134122420686749,2.433050262680956,1.847676330365356,2.1201396699845976,0.7240267774951771,1.0385823720312257,1.0504942841707525,2.2498310224860405,0.367952214164139,0.35321430415171157,0.6312779459209333,1.076274046917237,0.03979921361608019,2.0926984705812273,0.1878208675019489,0.782211144777059,1.726944067276142,1.7258694422633603,0.8117637253919067,1.2153150586060832,0.06620198575003697,0.4325007364162895,0.0648176013237703,1.7567509591511066,1.0909332694842568,1.21915553814854,1.5806215037101137,0.9597903440360853,0.6075854285448813,0.7856625586372588,1.847561510054272,0.21245671927220355,-0.11147803250244867,1.3033834608904316,-0.15160727494001985,1.8052288510264711,0.9667009895380382,2.45998189966767,0.9289622345348908,1.9580922695938265,0.09921099679957841,0.3372330835426627,1.645492927355526,-0.2600487139050649,2.1092393400360816,-0.20638454299820463,1.8968725045778734,1.111988866201749,0.6290350263955162,0.3621290333354876,2.4134049018007295,1.7449047478124893,0.07072546602243476,0.15870529766408392,-0.0928203578555507,0.840753263185392,-0.06438521046660939,-0.054240248036204766,2.0246199376799807,0.6797467815410037,0.05124434846848156,1.9984338935768433,1.288076399173899,0.26956121575087,1.3215097798833,1.0444766758340676,0.4354703226169258,0.2503664696829985,1.3659283724077782,-0.21857166433092068,1.858255121349539,1.502654654239946,0.5183658593289481,1.6727615474759185,1.6223769823467116,0.5837532469266672,0.30571695774152974,-0.31019937974244693,0.10474583333468335,2.071126643249294,0.7224410952869482,0.9663231635144851,1.017968941795817,1.246662503466312,1.3172990648439562,0.19949473359504233,1.106806982688224,2.625553909002729,0.1391075528439436,1.1732109703158988,0.792674841712527,1.8607404822955849,-0.25173815552601414,0.9032883394173703,0.30130075679293583,1.6592270203512005,0.3670919795507043,1.5746582772313664,0.4212118430944001,1.448620525858118,1.640839775376579,0.4687159401772839,0.05460493627972579,2.0483535478619475,-0.11978998337701693,-0.017793506319199077,0.5574677412641471,-0.1936284126372531,2.389051364931089,-0.07040273301592961,1.89770802521638,1.0990767558089014,-0.17196071538759544,2.18277365122123,0.9060100053645613,0.4280461481716048,1.931023659599705,1.9494624548021613,0.7063905723011954,1.6788572141832767,-0.12812933655475903,0.2071904804988114,1.7458290921962665,0.930706313361268,1.6121820969536425,0.0182719872528585,1.3036227960306017,0.005664244590435566,-0.19732759053462093,1.1066529828951674,0.06706005015462407,1.7285148709988005,0.2894237102208356,1.4412964928189274,0.2729198373687159,1.7351659437037492,1.3825185201397254,1.23937019804758,1.6010333116133908,1.6675127391340185,1.1503753530370633,-0.19474360251071215,0.6458281273852657,2.1669082682605207,0.2655778204498049,1.8632183537270475,0.5500525670620895,2.012326421847625,1.8672772677437406,0.15399939077499988,0.2839599219819571,1.9499487691494577,1.66384965732817,2.1050465045519937,-0.01593105586465164,0.04701843594810215,-0.4804362075148164,1.6265764506773555,2.082584706490422,0.6728639309054546,1.7942714929653525,1.1383178628648343,0.8227587557585989,0.02869689926895454,0.4110765771894964,1.525686513021341,0.6037632212608653,1.784064650553647,1.9079078076700595,0.9786848064102118,1.8463369378159786,1.1224989319392784,1.8933540012723087,-0.04420057375641645,1.4879320214636969,0.07593659179066344,0.797065286292195,0.7537671604340443,0.30410744370945264,2.033658215288275,0.570311362984727,1.8909170940707984,0.2083322709775155,0.6540165935784481,0.5414597835047349,0.5338672145495837,1.3769130065066353,0.08917351122568351,0.28382563067218664,-0.5431743983697004,0.8228198029359653,2.3126849732917596,0.8989170887220107,2.1342912118350896,-0.5329739649083707,2.2103589727621142,0.8793980175917006,0.07596590788044638,-0.43586800435369943,1.28057036443799,1.5940076929889333,-0.008928349381663259,0.5788907328101407,0.5377196882854408,1.569668545927712,0.525974596994184,-0.1848783836017418,0.22452334326321033,0.7732029969550147,2.0279401599789546,1.3933974861206027,1.3458013770959822,1.736959909332755,1.7235827489227966,0.8251480720944311,0.16580787658342155,2.309270942699632,1.9057121130643273,-0.40415484452403694,0.1392578793203162,0.6243469263813929,0.0001545336105331918,0.3588202995683029,1.1225337359824414,0.19635558110545576,1.5877956745939779,0.8938894307327002,1.7734777673542501,1.9642202640008588,0.9021616101690111,-0.3410231788992016,0.49112832981412047,1.320530743077267,1.0016125168018044,1.3707961911390723,1.6961784868171044,-0.07233972438000467,2.1430279880029945,1.3020453317889682,0.9622087724850826,1.1161430353053565,0.26987468735349734,2.5250993199092404,1.676974346194656,0.18365633521015542,0.653714661463549,0.8115380029597263,2.4581793774269047,0.11882010164295337,0.5969880313392362,-0.007524512703749363,2.0936480510377407,1.1688069716612053,1.8163682511813763,1.6806115922865037,0.24329812738152573,2.0834111819407655,0.8743417455445014,1.731153734313463,2.1299022301882085,1.9101082203620177,1.5220254651602303,0.23953719235901247,-0.30473315257966754,1.9241774581893032,-0.26267361245472026,-0.0852592297307337,0.6399699325912214,1.5978559317005616,1.468296265434161,0.39663589901229984,0.07559558523249973,1.3956309205489819,1.266679178027947,0.8173070596271786,1.1717748066272584,0.7800769217499353,2.158602835888214,1.760636775386849,2.081613414648975,0.3176415001059523,0.6194388257586122,1.910437002661519,1.279512242155752,1.8475379006373542,2.154897929241646,1.585185985782336,0.9869160466427598,1.1157243608868908,0.46574151272364916,2.2429537919469915,0.2033825064350488,0.7785846466576765,1.659786306506822,-0.0524277536511282,0.9649789021439169,0.18991946535103585,0.09941050559842465,1.359686304554464,0.7110852670192509,2.2369036226701073,2.3211610830371314,1.9555377131132428,1.6931602849844092,2.0119269219153813,0.6185052053553362,0.9444248546899062,1.7175887551345272,0.4644490090462778,1.5948537444364503,1.644538409313512,1.324530689279885,1.6622917659734842,0.3399563682552151,0.1666769486448822,1.9695379934361161,1.939827140415845,1.0780267185999288,0.5483284016165905,0.4115030587529284,2.0103933102302154,1.8327418622929124,0.4584874440674601,1.8375717988729467,1.4261907650653924,1.05223317321611,0.8732433148182506,0.9300469786953126,0.20195495274525982,0.005019488691620166,2.053931545059825,1.9291707413532087,2.0116025427286908,1.5511455161183734,0.22855707134227657,0.4343889562242412,0.23904454503016132,0.07530318673043543,0.8472893817793474,1.7457017770142218,0.22178035686247047,1.8368708405074885,1.2956237720224326,1.6212600586187762,1.8019818708059765,1.5587722618178907,0.7750443653220798,0.9277831913186835,0.3638209839583099,0.8315341078632447,0.8622110290153809,-0.14826168613685164,1.8936586278917609,1.366188636287955,1.1674853331555155,-0.11594320634964667,1.0111038861034964,0.9068688710443562,1.4158825603925609,0.35766352241755606,0.9693490900573611,1.9618270924442278,1.9410471800304672,0.11854824580909548,0.49917159548805,0.2761934783391168,1.9142128676657753,2.4502024587472495,1.7379589072099337,0.19310624345969507,1.7740193773994046,1.3638637397278917,2.089499392577872,0.15030388346218246,1.005632535038211,0.14183235508861533,0.040233681422150794,0.21356347480939952,1.4296608312544092,0.041696988304878765,0.6027799208655604,0.09939328688102206,0.42897780539568037,-0.03144549909061778,0.01493347069594557,1.7651129001794696,0.6324361896397045,1.0790594185958218,1.2906669262704487,2.511190110755921,1.921862534607792,1.7669587174409076,0.5550927670228527,0.21792809898470689,-0.14260663077300162,0.80069529090727,1.8998784767523975,1.012125887455937,0.7881556837272116,0.6014906767271966,1.5071366128973227,1.57855142392753,1.4824046595066898,1.4159124820930262,0.0994186843739617,0.765885423248656,1.8023571244867833,1.1453036149884464,0.9369160896925968,0.5387614566925167,0.009236606236981424,1.5538799134937902,0.1306023444118787,0.17263868645384844,0.904972325846181,0.8956833060452407,-0.07890772935227514,2.3301388769734452,2.025038495510801,1.1737072501818657,0.2155298584371473,1.3693964935393175,0.9285757419982605,0.4268653210455848,0.19080001670190425,2.1205220816070054],\"xaxis\":\"x\",\"y\":[-0.09545280438069453,-0.6466869615116904,-0.574027236692931,-0.18249532249815664,-0.2665944605767456,-0.1554725909550351,-0.025455859234652156,-1.0468971877076934,-0.26215797403771945,-0.1949542353919284,-0.5384233539780908,-0.5201419562685179,-0.5582402269208834,-0.2821658901864679,-0.11672752525950292,-0.475316247302649,-0.4152317810945972,-0.6340383206683176,-0.3240623140213344,0.3168941232800098,-0.5466619756714828,0.007382133575990157,-0.35003469991321795,-0.5538623174032782,-0.448773218248104,-0.010706832048255566,-0.17035805060324646,-0.5025874995365006,-0.4356528753109551,-0.33900421947255666,-0.35027153721033266,-0.6409465857595026,-0.6012195542298477,-0.4197599548683788,-0.8470334610290366,-0.17221090629880703,0.12497834225548923,-0.2443213346713241,0.23107942254105296,-0.6782230249770149,0.3720342138398345,-0.2333769986989793,0.03709339625366395,0.052396638901753105,-0.03056994399026168,-0.5492322686098114,-0.33506526967120115,0.5206183241733797,-0.19788171582761788,-0.31445163451314506,-0.42272575156258496,0.31682157847063236,0.1564610140878891,-0.20631429686997244,0.49395014373710067,-0.013549861137696961,-0.12742756256458884,-0.6228126598343241,-0.564930716627875,-0.31490748062979435,-0.04864258979093927,-0.13549182033063062,0.6672512388063874,0.2892899818599344,-0.4099523928129815,0.33434907087744026,-0.01927038445917323,-0.12286293585093411,-0.4586116010394795,0.35001391493948714,-0.45252391204457315,-0.17150476072351056,-0.11259891009381931,0.13031541469377744,-0.12223392435977787,-0.46324322980590305,-0.07807224673496632,0.3750514555057257,-0.2363812383771992,-0.4387356303569598,-0.053672982000216696,0.5968401198295055,0.5698233839969229,-0.18613544270673565,0.05744716697719582,-0.8045020656103852,-0.04453761148139984,0.18546646533642985,-0.411467082787106,0.10518297669822846,-0.34830587009873154,0.16448759185548112,-0.6570054002451187,-0.9088782506575335,-0.494601771451926,0.03104188190250659,0.3624215415514995,-0.0624601644057816,-0.3072838733371809,-0.515563961896083,0.09996186441957106,-0.42550991147880085,-0.24211596566266194,-0.9101368457165148,0.29168904023242487,-0.14841518464089176,0.15617435034563387,-0.018951372752086193,0.010093956542037624,0.07414878053789156,-0.3878081048193144,0.737300765590386,-0.4229752024307139,0.20926755336653008,0.17035125318775246,0.12470143397049072,0.3458011124762625,0.5777069295085233,0.5441386476636542,0.6310111866737972,-0.18058705867042776,-0.3576887716362984,-0.3479720944814045,0.14715432669413503,0.31119275151414977,-0.3689742226087439,0.1849764849006817,-0.15364133723599288,0.03332118491967906,-0.27783678419905744,-0.3128173159005418,0.2765904999348092,0.22253431222936904,-0.3051531993129625,0.5424875580939816,0.08238057203158378,-0.24251341498789278,-0.3721832587195682,-0.6588237754005768,-0.46058388369380404,0.5994840723788731,0.3728712724498018,-0.2150512150553695,0.34915854327384793,0.10412224667206482,-0.0669648777793504,0.003794729311089845,0.23445711585401294,0.1571919419426544,-0.4026103060017524,0.06905400793294059,0.38727103373296135,-0.3758561186747973,0.2471561412486682,-0.13850707673248247,-0.5018252195523489,-0.6189853655587936,-0.6734584487967532,-0.44540213653293187,-0.30118354384290846,-0.4476064545394612,-0.050205614044033064,0.8932406388916594,-0.7374987565081038,0.2530853149772008,-0.1401336994270458,-0.15437927122233658,-0.4521615278356702,-0.08146029503355828,0.08362726389269531,-0.3347703455692886,-0.38097320138172386,-0.3120202448229583,-0.5289589411038519,-0.3499077749637748,0.06279258539834576,-0.082279219978692,0.33478329658405304,0.5059550831814683,0.45976661901418153,-0.5915801342663285,0.06522720934044375,0.16167549121572328,-0.08551076290905116,0.41197085866688965,0.08869088336026154,-0.11702551420316615,0.27955646484069524,-0.6164902115257375,-0.28460751534799966,0.17742324953752686,0.11178014363427091,-0.20250892170026347,-0.5086554250168923,0.9287595084127304,0.0521183665966396,0.28368239507249415,-0.16106903674902284,-0.20850782874298807,0.8116936312035707,-0.00026261967953367105,0.38734414893039787,-0.01166677550776929,-0.4805925493597666,0.4002814725517749,-0.4498801165835895,-0.44454591581387776,-0.5342184338213889,-0.29660290922471155,-0.21809173096267648,0.12497374243867868,-0.2868035149234122,-0.7164050609034323,-0.06389851026320363,-0.5507813165811563,-0.1714284891714359,-0.17863283188463175,0.08588479010248823,-0.29308954788465286,0.46934328199922565,0.617144518159413,-0.2782744949317411,0.0006600215980658158,-0.2772596649372896,0.06542894139146502,-0.0668353563909275,-0.047375748635612364,0.03916046934909587,0.09360226201162986,0.17447691770803603,0.20698887649738842,-0.47454058745484895,0.17158741403929473,-0.4613508009104983,0.4190340822326761,-0.2710115798237779,-0.5190072813594231,0.008360937113621625,-0.13780706087296396,-0.31267866208987355,-0.20268994842530486,0.34936647845704427,0.4690314486522996,-0.6058980940806831,0.3699879907053117,-0.12817052483307506,0.09201500059447736,-0.33309423489468715,-0.7165411744743165,-0.2007263357725655,-0.5511450020522015,-0.6724863006579418,0.21377822839899388,-0.2742241958977896,-0.8132294900399109,0.215845911529003,-0.41982232604558284,-0.5433584896526484,0.23495302448767208,-0.3225623927740454,-0.5120048891212012,-0.0318405112007448,-0.464809766660514,-0.25412154432748907,-0.3818989221841311,0.5491689563555393,-0.4757800532130977,-0.0025893439534028853,-0.0665137854667831,0.44030473308614315,-0.09640483532688954,0.7158395979725306,0.2646950214970013,-0.34264626399322495,-0.669430296116666,-0.3423317430472915,-0.2849580306585783,-0.7331260353872654,-0.49559233897699545,-0.48885394455904646,0.3028777837279406,0.4627633664969235,-0.3885060381930921,0.3903927870522444,-0.15829545737447914,-0.5178657938935971,-0.3053835028129398,0.12671851895445477,-0.46410772031885467,0.6947318801712105,0.1659227514991282,-0.19614661695040253,-0.08122210960318368,-0.5608382289309165,-0.967475148573361,0.04380683202263913,0.0823172368474373,-0.3437261016245458,-0.1842003883401941,-0.02319503223152089,-0.739452644185856,-0.45347456983178963,0.010143020870984898,-0.4260214576271232,-0.37585129477789225,0.030265908843355116,-0.6546211232256866,-0.4534879433862208,-0.04768751859355891,-0.1924183122113382,-0.07227527550134916,0.3191505066678085,-0.5020903131857065,-0.576339183086525,-0.3114894344695667,-0.055886571715241695,0.14970062444309956,0.10997891579037848,-0.37594331118709323,-0.23142437441862115,-0.38707508951475655,0.7551560534143688,-0.4212842068646414,0.6002953037199358,0.319319350844365,0.2581293660838588,-0.6528388620014336,0.6737961867604301,-0.2177093018613124,-0.0711058304984369,0.49972872980086613,-0.07451263602550773,0.0360750532863191,0.12129857047377643,0.3055452264688049,0.007231677946387877,-0.2912580806753018,-0.243198890459504,-0.26837078051648633,-0.034188769475912734,0.6794260762885811,-0.8451588425285743,-0.3883841600153894,-0.5720711580319583,0.68253561970017,0.37646837729070654,-0.13982460335118285,-0.15810688574321635,-0.6838607790037097,-0.6559320480397839,-0.6526453245910004,-0.24126088415579316,-0.2862261055501359,-0.6897047135225538,0.8215594742282836,-0.7876018316875956,-0.792131368708824,-0.6437637778536679,-0.16827648694497746,1.016978494055406,-0.22936914872779673,-0.48699812940846726,-0.5124723086235855,-0.12016382154433504,0.4778013276423479,-0.12332545624327775,-0.3484248323300608,0.343719968472028,0.39397127194964776,-0.04629913143849135,0.8778349032139949,-0.029181837515720566,-0.21640131570301963,-0.4073578272710453,-0.027973716395774006,0.4411278032008463,0.015949090010797765,-0.4616775784876894,0.5308538298291614,-0.00031526786766883363,-0.8237105298987258,0.049757217665704345,-0.038359145207144243,-0.1977703044167083,0.1179349906731855,-0.5722003562320476,-0.3267146387704357,0.1106662304272707,0.12306929607065481,-0.06449347420045579,0.144907965892841,-0.46900831257965075,-0.3919460777876159,-0.30842318393670465,-0.3810361479440767,0.1596260581183722,-0.5449524699220997,0.3145606905937803,-0.4512993165055148,-0.5490581741416662,-0.34235882737164697,-0.11946485711953264,0.0967802726653898,-0.32531480478770797,-0.12344476103151147,0.23065383434409115,0.26485682943906563,-0.28538013717171684,0.5535866118876254,-0.42483009346142087,-0.46479738646674446,0.4468961587659274,-0.7281633885519421,0.4263893416264919,0.46821917401791535,0.09955708942223757,-0.7797982091059459,-0.16040761044047655,0.6941176803383841,-0.23460419860062068,-0.0719247239067633,-0.5573271790795896,-0.4049612306050756,-0.5397820356850138,-0.26992902649679806,0.10244532854937195,-0.3204364630042074,0.32906504487287463,-0.6485894104016126,0.3571363683905194,-0.2632471046296258,-0.6772945919137251,0.19483161558157341,-0.44618890887109913,-0.45486411079731315,-0.15638322285387785,-0.08452381258359692,0.4276025258780124,-0.3222776680309331,0.4101785432332745,0.0877030121305697,0.45002027968200153,-0.22875435794052873,-0.567698886431893,0.32564347144915723,-0.27856030735219744,-0.271811338173184,0.05031334410269189,-0.6260775686977569,0.045720621151266745,0.05174086829572855,-0.32500896391171996,-0.39630354628134257,0.3250783813357909,-0.05322592247461505,-0.2869369581745187,0.09892198084371634,-0.12557455977139453,0.054151195765555965,0.2188301194059078,-0.36780774886244194,-0.5585256501185285,0.15003157933143835,0.022262360939414583,-0.46480093387985544,-0.20776895514875127,-0.4961542309915327,0.43699621691126433,0.18659614745059727,-0.14556912468411926,0.4932955663029963,-0.35715046724930577,-0.9518888170578712,-0.13969255168532652,-0.35448896193469087,-0.3357513138936762,-0.5554351921919817,-0.1390800563961631,0.03301949842159815,-0.4476508050713089,0.49064947964798655,-0.298703834251812,-0.03196403926590241,0.5228643732985145,0.21574417408971622,0.3916552132224861,-0.4757088080448989,-0.4049849227054982,-0.41688496936298486,-0.5685612634396308,0.12499896955706732,-0.3366306494404606,0.4299901876016951,-0.5017374044219548,-0.04454201166105487,-0.3070194925056314,-0.7047562271132948,-0.3035313469700898,0.12094517304093481,-0.024912653089363898],\"yaxis\":\"y\",\"type\":\"scatter\"}],                        {\"template\":{\"data\":{\"bar\":[{\"error_x\":{\"color\":\"#2a3f5f\"},\"error_y\":{\"color\":\"#2a3f5f\"},\"marker\":{\"line\":{\"color\":\"#E5ECF6\",\"width\":0.5},\"pattern\":{\"fillmode\":\"overlay\",\"size\":10,\"solidity\":0.2}},\"type\":\"bar\"}],\"barpolar\":[{\"marker\":{\"line\":{\"color\":\"#E5ECF6\",\"width\":0.5},\"pattern\":{\"fillmode\":\"overlay\",\"size\":10,\"solidity\":0.2}},\"type\":\"barpolar\"}],\"carpet\":[{\"aaxis\":{\"endlinecolor\":\"#2a3f5f\",\"gridcolor\":\"white\",\"linecolor\":\"white\",\"minorgridcolor\":\"white\",\"startlinecolor\":\"#2a3f5f\"},\"baxis\":{\"endlinecolor\":\"#2a3f5f\",\"gridcolor\":\"white\",\"linecolor\":\"white\",\"minorgridcolor\":\"white\",\"startlinecolor\":\"#2a3f5f\"},\"type\":\"carpet\"}],\"choropleth\":[{\"colorbar\":{\"outlinewidth\":0,\"ticks\":\"\"},\"type\":\"choropleth\"}],\"contour\":[{\"colorbar\":{\"outlinewidth\":0,\"ticks\":\"\"},\"colorscale\":[[0.0,\"#0d0887\"],[0.1111111111111111,\"#46039f\"],[0.2222222222222222,\"#7201a8\"],[0.3333333333333333,\"#9c179e\"],[0.4444444444444444,\"#bd3786\"],[0.5555555555555556,\"#d8576b\"],[0.6666666666666666,\"#ed7953\"],[0.7777777777777778,\"#fb9f3a\"],[0.8888888888888888,\"#fdca26\"],[1.0,\"#f0f921\"]],\"type\":\"contour\"}],\"contourcarpet\":[{\"colorbar\":{\"outlinewidth\":0,\"ticks\":\"\"},\"type\":\"contourcarpet\"}],\"heatmap\":[{\"colorbar\":{\"outlinewidth\":0,\"ticks\":\"\"},\"colorscale\":[[0.0,\"#0d0887\"],[0.1111111111111111,\"#46039f\"],[0.2222222222222222,\"#7201a8\"],[0.3333333333333333,\"#9c179e\"],[0.4444444444444444,\"#bd3786\"],[0.5555555555555556,\"#d8576b\"],[0.6666666666666666,\"#ed7953\"],[0.7777777777777778,\"#fb9f3a\"],[0.8888888888888888,\"#fdca26\"],[1.0,\"#f0f921\"]],\"type\":\"heatmap\"}],\"heatmapgl\":[{\"colorbar\":{\"outlinewidth\":0,\"ticks\":\"\"},\"colorscale\":[[0.0,\"#0d0887\"],[0.1111111111111111,\"#46039f\"],[0.2222222222222222,\"#7201a8\"],[0.3333333333333333,\"#9c179e\"],[0.4444444444444444,\"#bd3786\"],[0.5555555555555556,\"#d8576b\"],[0.6666666666666666,\"#ed7953\"],[0.7777777777777778,\"#fb9f3a\"],[0.8888888888888888,\"#fdca26\"],[1.0,\"#f0f921\"]],\"type\":\"heatmapgl\"}],\"histogram\":[{\"marker\":{\"pattern\":{\"fillmode\":\"overlay\",\"size\":10,\"solidity\":0.2}},\"type\":\"histogram\"}],\"histogram2d\":[{\"colorbar\":{\"outlinewidth\":0,\"ticks\":\"\"},\"colorscale\":[[0.0,\"#0d0887\"],[0.1111111111111111,\"#46039f\"],[0.2222222222222222,\"#7201a8\"],[0.3333333333333333,\"#9c179e\"],[0.4444444444444444,\"#bd3786\"],[0.5555555555555556,\"#d8576b\"],[0.6666666666666666,\"#ed7953\"],[0.7777777777777778,\"#fb9f3a\"],[0.8888888888888888,\"#fdca26\"],[1.0,\"#f0f921\"]],\"type\":\"histogram2d\"}],\"histogram2dcontour\":[{\"colorbar\":{\"outlinewidth\":0,\"ticks\":\"\"},\"colorscale\":[[0.0,\"#0d0887\"],[0.1111111111111111,\"#46039f\"],[0.2222222222222222,\"#7201a8\"],[0.3333333333333333,\"#9c179e\"],[0.4444444444444444,\"#bd3786\"],[0.5555555555555556,\"#d8576b\"],[0.6666666666666666,\"#ed7953\"],[0.7777777777777778,\"#fb9f3a\"],[0.8888888888888888,\"#fdca26\"],[1.0,\"#f0f921\"]],\"type\":\"histogram2dcontour\"}],\"mesh3d\":[{\"colorbar\":{\"outlinewidth\":0,\"ticks\":\"\"},\"type\":\"mesh3d\"}],\"parcoords\":[{\"line\":{\"colorbar\":{\"outlinewidth\":0,\"ticks\":\"\"}},\"type\":\"parcoords\"}],\"pie\":[{\"automargin\":true,\"type\":\"pie\"}],\"scatter\":[{\"marker\":{\"colorbar\":{\"outlinewidth\":0,\"ticks\":\"\"}},\"type\":\"scatter\"}],\"scatter3d\":[{\"line\":{\"colorbar\":{\"outlinewidth\":0,\"ticks\":\"\"}},\"marker\":{\"colorbar\":{\"outlinewidth\":0,\"ticks\":\"\"}},\"type\":\"scatter3d\"}],\"scattercarpet\":[{\"marker\":{\"colorbar\":{\"outlinewidth\":0,\"ticks\":\"\"}},\"type\":\"scattercarpet\"}],\"scattergeo\":[{\"marker\":{\"colorbar\":{\"outlinewidth\":0,\"ticks\":\"\"}},\"type\":\"scattergeo\"}],\"scattergl\":[{\"marker\":{\"colorbar\":{\"outlinewidth\":0,\"ticks\":\"\"}},\"type\":\"scattergl\"}],\"scattermapbox\":[{\"marker\":{\"colorbar\":{\"outlinewidth\":0,\"ticks\":\"\"}},\"type\":\"scattermapbox\"}],\"scatterpolar\":[{\"marker\":{\"colorbar\":{\"outlinewidth\":0,\"ticks\":\"\"}},\"type\":\"scatterpolar\"}],\"scatterpolargl\":[{\"marker\":{\"colorbar\":{\"outlinewidth\":0,\"ticks\":\"\"}},\"type\":\"scatterpolargl\"}],\"scatterternary\":[{\"marker\":{\"colorbar\":{\"outlinewidth\":0,\"ticks\":\"\"}},\"type\":\"scatterternary\"}],\"surface\":[{\"colorbar\":{\"outlinewidth\":0,\"ticks\":\"\"},\"colorscale\":[[0.0,\"#0d0887\"],[0.1111111111111111,\"#46039f\"],[0.2222222222222222,\"#7201a8\"],[0.3333333333333333,\"#9c179e\"],[0.4444444444444444,\"#bd3786\"],[0.5555555555555556,\"#d8576b\"],[0.6666666666666666,\"#ed7953\"],[0.7777777777777778,\"#fb9f3a\"],[0.8888888888888888,\"#fdca26\"],[1.0,\"#f0f921\"]],\"type\":\"surface\"}],\"table\":[{\"cells\":{\"fill\":{\"color\":\"#EBF0F8\"},\"line\":{\"color\":\"white\"}},\"header\":{\"fill\":{\"color\":\"#C8D4E3\"},\"line\":{\"color\":\"white\"}},\"type\":\"table\"}]},\"layout\":{\"annotationdefaults\":{\"arrowcolor\":\"#2a3f5f\",\"arrowhead\":0,\"arrowwidth\":1},\"autotypenumbers\":\"strict\",\"coloraxis\":{\"colorbar\":{\"outlinewidth\":0,\"ticks\":\"\"}},\"colorscale\":{\"diverging\":[[0,\"#8e0152\"],[0.1,\"#c51b7d\"],[0.2,\"#de77ae\"],[0.3,\"#f1b6da\"],[0.4,\"#fde0ef\"],[0.5,\"#f7f7f7\"],[0.6,\"#e6f5d0\"],[0.7,\"#b8e186\"],[0.8,\"#7fbc41\"],[0.9,\"#4d9221\"],[1,\"#276419\"]],\"sequential\":[[0.0,\"#0d0887\"],[0.1111111111111111,\"#46039f\"],[0.2222222222222222,\"#7201a8\"],[0.3333333333333333,\"#9c179e\"],[0.4444444444444444,\"#bd3786\"],[0.5555555555555556,\"#d8576b\"],[0.6666666666666666,\"#ed7953\"],[0.7777777777777778,\"#fb9f3a\"],[0.8888888888888888,\"#fdca26\"],[1.0,\"#f0f921\"]],\"sequentialminus\":[[0.0,\"#0d0887\"],[0.1111111111111111,\"#46039f\"],[0.2222222222222222,\"#7201a8\"],[0.3333333333333333,\"#9c179e\"],[0.4444444444444444,\"#bd3786\"],[0.5555555555555556,\"#d8576b\"],[0.6666666666666666,\"#ed7953\"],[0.7777777777777778,\"#fb9f3a\"],[0.8888888888888888,\"#fdca26\"],[1.0,\"#f0f921\"]]},\"colorway\":[\"#636efa\",\"#EF553B\",\"#00cc96\",\"#ab63fa\",\"#FFA15A\",\"#19d3f3\",\"#FF6692\",\"#B6E880\",\"#FF97FF\",\"#FECB52\"],\"font\":{\"color\":\"#2a3f5f\"},\"geo\":{\"bgcolor\":\"white\",\"lakecolor\":\"white\",\"landcolor\":\"#E5ECF6\",\"showlakes\":true,\"showland\":true,\"subunitcolor\":\"white\"},\"hoverlabel\":{\"align\":\"left\"},\"hovermode\":\"closest\",\"mapbox\":{\"style\":\"light\"},\"paper_bgcolor\":\"white\",\"plot_bgcolor\":\"#E5ECF6\",\"polar\":{\"angularaxis\":{\"gridcolor\":\"white\",\"linecolor\":\"white\",\"ticks\":\"\"},\"bgcolor\":\"#E5ECF6\",\"radialaxis\":{\"gridcolor\":\"white\",\"linecolor\":\"white\",\"ticks\":\"\"}},\"scene\":{\"xaxis\":{\"backgroundcolor\":\"#E5ECF6\",\"gridcolor\":\"white\",\"gridwidth\":2,\"linecolor\":\"white\",\"showbackground\":true,\"ticks\":\"\",\"zerolinecolor\":\"white\"},\"yaxis\":{\"backgroundcolor\":\"#E5ECF6\",\"gridcolor\":\"white\",\"gridwidth\":2,\"linecolor\":\"white\",\"showbackground\":true,\"ticks\":\"\",\"zerolinecolor\":\"white\"},\"zaxis\":{\"backgroundcolor\":\"#E5ECF6\",\"gridcolor\":\"white\",\"gridwidth\":2,\"linecolor\":\"white\",\"showbackground\":true,\"ticks\":\"\",\"zerolinecolor\":\"white\"}},\"shapedefaults\":{\"line\":{\"color\":\"#2a3f5f\"}},\"ternary\":{\"aaxis\":{\"gridcolor\":\"white\",\"linecolor\":\"white\",\"ticks\":\"\"},\"baxis\":{\"gridcolor\":\"white\",\"linecolor\":\"white\",\"ticks\":\"\"},\"bgcolor\":\"#E5ECF6\",\"caxis\":{\"gridcolor\":\"white\",\"linecolor\":\"white\",\"ticks\":\"\"}},\"title\":{\"x\":0.05},\"xaxis\":{\"automargin\":true,\"gridcolor\":\"white\",\"linecolor\":\"white\",\"ticks\":\"\",\"title\":{\"standoff\":15},\"zerolinecolor\":\"white\",\"zerolinewidth\":2},\"yaxis\":{\"automargin\":true,\"gridcolor\":\"white\",\"linecolor\":\"white\",\"ticks\":\"\",\"title\":{\"standoff\":15},\"zerolinecolor\":\"white\",\"zerolinewidth\":2}}},\"xaxis\":{\"anchor\":\"y\",\"domain\":[0.0,1.0],\"title\":{\"text\":\"x\"}},\"yaxis\":{\"anchor\":\"x\",\"domain\":[0.0,1.0],\"title\":{\"text\":\"y\"}},\"legend\":{\"title\":{\"text\":\"label\"},\"tracegroupgap\":0},\"margin\":{\"t\":60}},                        {\"responsive\": true}                    ).then(function(){\n",
       "                            \n",
       "var gd = document.getElementById('49034679-a65e-4f0c-9f19-d60ac3252d9f');\n",
       "var x = new MutationObserver(function (mutations, observer) {{\n",
       "        var display = window.getComputedStyle(gd).display;\n",
       "        if (!display || display === 'none') {{\n",
       "            console.log([gd, 'removed!']);\n",
       "            Plotly.purge(gd);\n",
       "            observer.disconnect();\n",
       "        }}\n",
       "}});\n",
       "\n",
       "// Listen for the removal of the full notebook cells\n",
       "var notebookContainer = gd.closest('#notebook-container');\n",
       "if (notebookContainer) {{\n",
       "    x.observe(notebookContainer, {childList: true});\n",
       "}}\n",
       "\n",
       "// Listen for the clearing of the current output cell\n",
       "var outputEl = gd.closest('.output');\n",
       "if (outputEl) {{\n",
       "    x.observe(outputEl, {childList: true});\n",
       "}}\n",
       "\n",
       "                        })                };                });            </script>        </div>"
      ]
     },
     "metadata": {},
     "output_type": "display_data"
    }
   ],
   "source": [
    "px.scatter(moons_df, x='x', y='y', color = 'label')"
   ]
  },
  {
   "cell_type": "code",
   "execution_count": 45,
   "id": "48c4d95c-3cad-4596-a8b3-29d67aa9859c",
   "metadata": {},
   "outputs": [
    {
     "data": {
      "application/vnd.jupyter.widget-view+json": {
       "model_id": "7b5f81547fc549d8a5eb6f609dc78cde",
       "version_major": 2,
       "version_minor": 0
      },
      "text/plain": [
       "interactive(children=(FloatSlider(value=0.0, description='noise_level', max=0.5, step=0.05), Output()), _dom_c…"
      ]
     },
     "metadata": {},
     "output_type": "display_data"
    }
   ],
   "source": [
    "@widgets.interact\n",
    "def plot_noisy_moons(noise_level = widgets.FloatSlider(value=0, min=0, max=0.5, step=0.05)):\n",
    "    points, label = make_moons(n_samples=1000, noise=noise_level)\n",
    "    moons_df = pd.DataFrame(points, columns=['x','y'])\n",
    "    moons_df['label'] = label\n",
    "    moons_df.label = moons_df.label.map({0:'A', 1:'B'})\n",
    "    return px.scatter(moons_df, x='x', y='y', color = 'label')"
   ]
  },
  {
   "cell_type": "markdown",
   "id": "a3299f00-00b8-4703-8568-35de2913a487",
   "metadata": {},
   "source": [
    "## Circles Dataset"
   ]
  },
  {
   "cell_type": "code",
   "execution_count": 46,
   "id": "b0094b71-e91b-438a-9ecf-c69d3e81ef7f",
   "metadata": {},
   "outputs": [],
   "source": [
    "from sklearn.datasets import make_circles"
   ]
  },
  {
   "cell_type": "code",
   "execution_count": 47,
   "id": "96f270cc-6ce4-4bea-9884-e4bb14e2763d",
   "metadata": {},
   "outputs": [],
   "source": [
    "def make_circles_dataframe(n_samples, noise_level):\n",
    "    points, label = make_circles(n_samples=n_samples, noise=noise_level)\n",
    "    circles_df = pd.DataFrame(points, columns=['x','y'])\n",
    "    circles_df['label'] = label\n",
    "    circles_df.label = circles_df.label.map({0:'A', 1:'B'})\n",
    "    return circles_df"
   ]
  },
  {
   "cell_type": "code",
   "execution_count": 48,
   "id": "14b1498d-60e1-429e-a122-f120f5ed5720",
   "metadata": {},
   "outputs": [
    {
     "data": {
      "text/html": [
       "<div>\n",
       "<style scoped>\n",
       "    .dataframe tbody tr th:only-of-type {\n",
       "        vertical-align: middle;\n",
       "    }\n",
       "\n",
       "    .dataframe tbody tr th {\n",
       "        vertical-align: top;\n",
       "    }\n",
       "\n",
       "    .dataframe thead th {\n",
       "        text-align: right;\n",
       "    }\n",
       "</style>\n",
       "<table border=\"1\" class=\"dataframe\">\n",
       "  <thead>\n",
       "    <tr style=\"text-align: right;\">\n",
       "      <th></th>\n",
       "      <th>x</th>\n",
       "      <th>y</th>\n",
       "      <th>label</th>\n",
       "    </tr>\n",
       "  </thead>\n",
       "  <tbody>\n",
       "    <tr>\n",
       "      <th>0</th>\n",
       "      <td>-0.356412</td>\n",
       "      <td>0.934329</td>\n",
       "      <td>A</td>\n",
       "    </tr>\n",
       "    <tr>\n",
       "      <th>1</th>\n",
       "      <td>-0.762443</td>\n",
       "      <td>-0.647056</td>\n",
       "      <td>A</td>\n",
       "    </tr>\n",
       "    <tr>\n",
       "      <th>2</th>\n",
       "      <td>-0.876307</td>\n",
       "      <td>0.481754</td>\n",
       "      <td>A</td>\n",
       "    </tr>\n",
       "    <tr>\n",
       "      <th>3</th>\n",
       "      <td>-0.010053</td>\n",
       "      <td>0.799937</td>\n",
       "      <td>B</td>\n",
       "    </tr>\n",
       "    <tr>\n",
       "      <th>4</th>\n",
       "      <td>0.670022</td>\n",
       "      <td>0.437115</td>\n",
       "      <td>B</td>\n",
       "    </tr>\n",
       "  </tbody>\n",
       "</table>\n",
       "</div>"
      ],
      "text/plain": [
       "          x         y label\n",
       "0 -0.356412  0.934329     A\n",
       "1 -0.762443 -0.647056     A\n",
       "2 -0.876307  0.481754     A\n",
       "3 -0.010053  0.799937     B\n",
       "4  0.670022  0.437115     B"
      ]
     },
     "execution_count": 48,
     "metadata": {},
     "output_type": "execute_result"
    }
   ],
   "source": [
    "circles_df = make_circles_dataframe(n_samples=500, noise_level=0)\n",
    "circles_df.head()"
   ]
  },
  {
   "cell_type": "code",
   "execution_count": 49,
   "id": "bb0f7ebf-e5eb-47fd-8e0e-7e6b69c657aa",
   "metadata": {},
   "outputs": [
    {
     "data": {
      "application/vnd.plotly.v1+json": {
       "config": {
        "plotlyServerURL": "https://plot.ly"
       },
       "data": [
        {
         "hovertemplate": "label=A<br>x=%{x}<br>y=%{y}<extra></extra>",
         "legendgroup": "A",
         "marker": {
          "color": "#636efa",
          "symbol": "circle"
         },
         "mode": "markers",
         "name": "A",
         "orientation": "v",
         "showlegend": true,
         "type": "scatter",
         "x": [
          -0.3564118787132508,
          -0.7624425110114479,
          -0.8763066800438636,
          -0.7459411454241821,
          -0.9297764858882515,
          0.23649899702372473,
          -0.18738131458572463,
          0.7289686274214116,
          -0.8994052515663711,
          -0.762442511011448,
          0.8994052515663711,
          0.5144395337815064,
          0.08785119655074285,
          -0.8235325976284275,
          0.49272734154829156,
          0.18738131458572513,
          -0.5568756164881881,
          -0.5775727034222676,
          -0.7939903986478353,
          -0.9620276715860859,
          0.8763066800438636,
          -0.9996841892832999,
          -0.7115356772092851,
          0.3328195445229867,
          0.556875616488188,
          -0.6753328081210244,
          -0.012566039883352653,
          -0.47070393216533263,
          0.3797790955218011,
          -0.1626371651948834,
          0.8235325976284275,
          0.8881364488135445,
          -0.9470983049947443,
          0.6936533058128049,
          -0.5358267949789963,
          0.44838321609003223,
          0.012566039883352554,
          0.40290643571366247,
          -0.9101059706849958,
          0.8994052515663712,
          -0.9685831611286311,
          0.9949510169813002,
          -0.954864544746643,
          -0.9949510169813002,
          -0.37977909552180106,
          0.6565857557529569,
          0.8235325976284275,
          0.9620276715860859,
          0.7115356772092856,
          -0.26084150628989666,
          -0.899405251566371,
          0.6178596130903343,
          0.9202318473658704,
          -0.2850192624699761,
          -1,
          0.8509944817946918,
          -0.8509944817946918,
          0.9745268727865771,
          0.8639234171928352,
          -0.9101059706849957,
          -0.7289686274214117,
          -0.4483832160900321,
          0.012566039883352531,
          -0.06279051952931321,
          0.693653305812805,
          0.2120071099220545,
          -0.597904983057519,
          -0.4029064357136628,
          0.9387338576538742,
          -0.7784623015670233,
          -0.9297764858882515,
          0.9387338576538741,
          0.5979049830575188,
          -0.850994481794692,
          -0.6565857557529564,
          -0.9987369566060175,
          0.06279051952931372,
          0.1626371651948835,
          0.5979049830575189,
          -0.23649899702372465,
          0.63742398974869,
          0.9297764858882515,
          -0.8235325976284273,
          0.9798550523842469,
          0.7939903986478356,
          0.6753328081210244,
          0.8881364488135446,
          0.7459411454241821,
          -0.9470983049947443,
          0.9101059706849955,
          -0.03769018266993415,
          0.30901699437494723,
          0.30901699437494745,
          0.13779029068463816,
          -0.617859613090334,
          -0.988651744737914,
          0.5144395337815064,
          0.0878511965507431,
          -0.5358267949789964,
          -0.9971589002606139,
          -0.693653305812805,
          -0.49272734154829145,
          -0.5568756164881878,
          -0.4927273415482916,
          -0.9620276715860859,
          0.7784623015670236,
          0.7784623015670233,
          0.3564118787132509,
          -0.9202318473658703,
          -0.3564118787132504,
          -0.2608415062898969,
          0.9845643345292053,
          -0.9949510169813002,
          0.9987369566060175,
          0.954864544746643,
          0.8763066800438636,
          0.5775727034222675,
          0.6753328081210244,
          -0.23649899702372423,
          -0.3797790955218012,
          0.5775727034222673,
          -0.1128563848734817,
          -0.5144395337815068,
          0.9971589002606139,
          -0.42577929156507294,
          -0.9202318473658704,
          0.4257792915650726,
          -0.16263716519488358,
          -0.9971589002606139,
          0.7939903986478354,
          0.2850192624699766,
          0.49272734154829134,
          -0.6565857557529566,
          0.16263716519488391,
          0.8090169943749475,
          0.35641187871325075,
          0.3328195445229867,
          0.6178596130903344,
          -0.0627905195293134,
          -0.8763066800438636,
          0.42577929156507266,
          1,
          0.0627905195293133,
          -0.9387338576538741,
          -0.8881364488135445,
          -0.6753328081210243,
          0.4483832160900324,
          0.9886517447379141,
          0.5358267949789965,
          0.7289686274214119,
          0.18738131458572452,
          0.13779029068463797,
          0.21200710992205452,
          -0.5979049830575189,
          0.9620276715860859,
          0.9987369566060175,
          -0.21200710992205485,
          0.6374239897486897,
          0.11285638487348157,
          -0.9921147013144779,
          0.8375280400421419,
          -0.6178596130903345,
          0.7624425110114479,
          -0.9387338576538741,
          0.745941145424182,
          -0.30901699437494756,
          0.03769018266993447,
          -0.9798550523842469,
          -0.9987369566060175,
          0.4029064357136627,
          -0.6374239897486895,
          0.5358267949789968,
          0.9470983049947445,
          -0.9845643345292053,
          0.1128563848734816,
          -0.8375280400421418,
          0.4707039321653329,
          0.260841506289897,
          0.8090169943749473,
          0.9996841892832999,
          0.23649899702372476,
          -0.5775727034222677,
          -0.037690182669934576,
          -0.08785119655074321,
          -0.8881364488135446,
          0.9101059706849957,
          0.9745268727865772,
          0.7624425110114479,
          0.9949510169813002,
          0.9886517447379141,
          0.28501926246997616,
          0.03769018266993467,
          -0.8639234171928353,
          -0.44838321609003196,
          -0.13779029068463805,
          -0.9745268727865771,
          -0.9745268727865772,
          -0.6936533058128049,
          -0.6374239897486897,
          0.4707039321653325,
          0.9996841892832999,
          -0.9845643345292054,
          -0.30901699437494756,
          -0.745941145424182,
          0.6565857557529564,
          0.9798550523842469,
          0.8509944817946921,
          -0.13779029068463763,
          0.3797790955218015,
          -0.2120071099220546,
          -0.012566039883352897,
          0.9297764858882513,
          -0.9685831611286311,
          0.9921147013144779,
          -0.8375280400421417,
          -0.7939903986478354,
          -0.0878511965507432,
          0.9845643345292054,
          -0.11285638487348193,
          0.9921147013144779,
          -0.8090169943749473,
          -0.7115356772092853,
          0.7115356772092853,
          0.9685831611286312,
          -0.5144395337815065,
          -0.40290643571366275,
          -0.7784623015670232,
          0.8375280400421418,
          -0.9798550523842469,
          -0.954864544746643,
          -0.3328195445229868,
          0.26084150628989716,
          0.9470983049947443,
          -0.1873813145857246,
          -0.9996841892832999,
          -0.7289686274214116,
          0.5568756164881883,
          -0.28501926246997605,
          0.954864544746643,
          -0.3328195445229862,
          -0.4257792915650727,
          -0.988651744737914,
          0.9685831611286311,
          0.9202318473658703,
          -0.8090169943749472,
          0.8639234171928353,
          0.9971589002606139,
          -0.47070393216533246,
          -0.9921147013144779,
          -0.8639234171928354
         ],
         "xaxis": "x",
         "y": [
          0.934328942456612,
          -0.6470559615694443,
          0.4817536741017152,
          0.6660118674342517,
          -0.3681245526846779,
          -0.971631732914674,
          -0.9822872507286887,
          0.6845471059286887,
          0.4371157666509329,
          0.6470559615694442,
          0.4371157666509329,
          0.8575266561936523,
          -0.9961336091431725,
          0.5672689491267564,
          0.8701837546695257,
          -0.9822872507286886,
          0.8305958991958127,
          -0.8163392507171839,
          -0.6079302976946055,
          -0.2729519355173252,
          0.4817536741017153,
          -0.02513009544333757,
          -0.7026499697988493,
          -0.9429905358928644,
          0.8305958991958127,
          0.7375131173581739,
          0.9999210442038161,
          0.8822912264349533,
          0.925077206834458,
          -0.9866859442078681,
          0.5672689491267565,
          0.45957986062148787,
          -0.3209436098072095,
          0.7203090248879069,
          -0.8443279255020153,
          0.8938414241512638,
          0.9999210442038161,
          -0.9152411726209176,
          0.41437558099328387,
          -0.43711576665093255,
          0.24868988716485482,
          -0.10036171485121509,
          0.2970415815770349,
          -0.10036171485121517,
          -0.925077206834458,
          -0.7542513807361034,
          -0.5672689491267565,
          -0.27295193551732516,
          -0.702649969798849,
          -0.965381638833274,
          -0.43711576665093305,
          0.7862884321366189,
          0.3913736668372024,
          -0.958521789017376,
          1.2246467991473532e-16,
          0.5251746299612957,
          -0.5251746299612958,
          0.22427076094938117,
          -0.503623201635761,
          -0.4143755809932841,
          0.6845471059286885,
          0.8938414241512639,
          -0.9999210442038161,
          -0.9980267284282716,
          -0.7203090248879068,
          -0.9772681235681935,
          -0.8015669848708764,
          -0.9152411726209175,
          -0.3446429231745167,
          0.6276913612907006,
          0.36812455268467775,
          0.34464292317451706,
          -0.8015669848708766,
          0.5251746299612956,
          -0.7542513807361038,
          0.05024431817976966,
          -0.9980267284282716,
          0.986685944207868,
          0.8015669848708765,
          0.971631732914674,
          -0.770513242775789,
          -0.36812455268467786,
          -0.5672689491267565,
          -0.1997099805144072,
          -0.607930297694605,
          0.7375131173581739,
          -0.4595798606214877,
          0.6660118674342517,
          0.32094360980720926,
          -0.4143755809932844,
          -0.9992894726405893,
          -0.9510565162951536,
          0.9510565162951535,
          -0.9904614256966512,
          -0.7862884321366191,
          -0.1502255891207573,
          -0.8575266561936523,
          0.9961336091431725,
          0.8443279255020152,
          0.0753268055279326,
          0.7203090248879067,
          0.8701837546695257,
          -0.8305958991958127,
          -0.8701837546695256,
          0.27295193551732505,
          -0.6276913612907002,
          0.6276913612907006,
          -0.9343289424566119,
          -0.3913736668372026,
          -0.9343289424566121,
          0.9653816388332739,
          0.17502305897527606,
          0.10036171485121498,
          0.050244318179769556,
          0.2970415815770349,
          -0.4817536741017153,
          0.816339250717184,
          -0.737513117358174,
          -0.9716317329146741,
          0.925077206834458,
          -0.8163392507171842,
          0.9936113105200084,
          -0.8575266561936521,
          -0.07532680552793272,
          -0.9048270524660194,
          0.39137366683720237,
          -0.9048270524660196,
          0.986685944207868,
          -0.07532680552793279,
          0.6079302976946054,
          -0.9585217890173757,
          -0.8701837546695258,
          0.7542513807361036,
          -0.986685944207868,
          0.5877852522924731,
          0.934328942456612,
          0.9429905358928644,
          -0.7862884321366188,
          0.9980267284282716,
          -0.4817536741017154,
          0.9048270524660196,
          0,
          0.9980267284282716,
          -0.3446429231745172,
          0.459579860621488,
          -0.737513117358174,
          -0.8938414241512637,
          -0.1502255891207568,
          0.8443279255020151,
          -0.6845471059286883,
          0.9822872507286887,
          0.9904614256966512,
          0.9772681235681935,
          0.8015669848708765,
          0.2729519355173252,
          -0.05024431817976934,
          -0.9772681235681934,
          0.7705132427757893,
          -0.9936113105200084,
          -0.12533323356430429,
          -0.5463943467342689,
          0.7862884321366188,
          -0.6470559615694443,
          0.34464292317451706,
          -0.6660118674342518,
          -0.9510565162951535,
          0.9992894726405892,
          -0.19970998051440725,
          -0.05024431817976942,
          0.9152411726209175,
          -0.7705132427757894,
          -0.844327925502015,
          -0.320943609807209,
          -0.1750230589752761,
          0.9936113105200084,
          -0.546394346734269,
          -0.8822912264349531,
          0.9653816388332739,
          -0.5877852522924734,
          0.02513009544333748,
          0.9716317329146739,
          0.8163392507171838,
          0.9992894726405892,
          -0.9961336091431725,
          -0.45957986062148776,
          0.41437558099328414,
          -0.2242707609493807,
          0.6470559615694443,
          0.1003617148512149,
          0.15022558912075706,
          0.9585217890173758,
          -0.9992894726405892,
          0.5036232016357609,
          -0.8938414241512639,
          0.9904614256966512,
          -0.2242707609493812,
          0.224270760949381,
          -0.7203090248879069,
          0.7705132427757893,
          0.8822912264349533,
          -0.02513009544333705,
          0.17502305897527587,
          0.9510565162951535,
          -0.6660118674342518,
          0.7542513807361038,
          0.19970998051440703,
          -0.5251746299612954,
          -0.9904614256966513,
          -0.9250772068344579,
          0.9772681235681935,
          -0.9999210442038161,
          0.368124552684678,
          -0.24868988716485502,
          0.12533323356430426,
          0.5463943467342692,
          0.6079302976946053,
          0.9961336091431725,
          -0.175023058975276,
          -0.9936113105200084,
          -0.1253332335643038,
          0.5877852522924732,
          0.7026499697988492,
          0.7026499697988492,
          -0.2486898871648545,
          0.8575266561936522,
          0.9152411726209175,
          -0.6276913612907007,
          0.5463943467342691,
          0.19970998051440705,
          -0.2970415815770351,
          0.9429905358928644,
          -0.9653816388332738,
          0.3209436098072095,
          0.9822872507286887,
          0.02513009544333737,
          -0.6845471059286887,
          -0.8305958991958124,
          0.958521789017376,
          -0.29704158157703503,
          -0.9429905358928646,
          0.9048270524660195,
          0.15022558912075712,
          0.2486898871648548,
          -0.3913736668372025,
          -0.5877852522924734,
          0.5036232016357608,
          0.07532680552793272,
          -0.8822912264349534,
          0.1253332335643041,
          -0.5036232016357607
         ],
         "yaxis": "y"
        },
        {
         "hovertemplate": "label=B<br>x=%{x}<br>y=%{y}<extra></extra>",
         "legendgroup": "B",
         "marker": {
          "color": "#EF553B",
          "symbol": "circle"
         },
         "mode": "markers",
         "name": "B",
         "orientation": "v",
         "showlegend": true,
         "type": "scatter",
         "x": [
          -0.010052831906682123,
          0.6700224320337135,
          -0.09028510789878536,
          0.07028095724059429,
          -0.5402662464968195,
          0.26625563561838933,
          0.7105091590508357,
          -0.7876514676233644,
          -0.28512950297060063,
          0.07028095724059448,
          0.719524201253097,
          0.774866528902905,
          0.7909213957903313,
          -0.7509870861230993,
          -0.5099391917989519,
          0.7977271202084912,
          -0.7748665289029049,
          -0.3223251485709302,
          -0.8,
          -0.7438211887106012,
          0.2472135954999578,
          0.658826078102742,
          -0.5252686046023654,
          0.6227698412536187,
          0.32232514857093,
          0.5549226446502441,
          -0.5099391917989516,
          -0.3941818732386332,
          0.5692285417674284,
          0.7696221372688687,
          -0.34062343325205835,
          -0.47832398644601526,
          -0.798989565284814,
          0.22801540997598094,
          -0.7509870861230993,
          -0.2280154099759809,
          -0.32232514857093025,
          0.3038232764174409,
          -0.1301097321559067,
          0.28512950297060075,
          -0.7838840419073976,
          -0.3406234332520582,
          -0.7010453440350909,
          -0.24721359549995806,
          0.7936917610515823,
          0.09028510789878526,
          -0.79974735142664,
          0.14990505166857962,
          -0.6911387337542683,
          -0.49428769047226767,
          0.5831749019371295,
          0.7509870861230993,
          0.798989565284814,
          -0.26625563561838944,
          -0.3765631457322661,
          0.5967529163393457,
          0.8,
          0.2280154099759813,
          -0.7638916357973144,
          0.7959608135850402,
          0.7796214982292619,
          -0.41155162702520526,
          0.1301097321559068,
          -0.7977271202084912,
          0.44550049319055063,
          -0.7959608135850402,
          -0.47832398644601515,
          0.7361854778926963,
          0.6700224320337136,
          0.3406234332520581,
          0.03015214613594774,
          0.13010973215590713,
          0.798989565284814,
          0.7876514676233644,
          -0.09028510789878555,
          -0.11023223254771045,
          0.41155162702520515,
          -0.7105091590508357,
          -0.11023223254771011,
          0.79974735142664,
          0.4455004931905504,
          0.41155162702520515,
          -0.44550049319055046,
          -0.6227698412536187,
          -0.6099540088091584,
          -0.010052831906682318,
          0.7959608135850402,
          0.49428769047226756,
          -0.20867320503191752,
          0.7936917610515823,
          0.7280847765479965,
          0.18919919761897983,
          -0.5549226446502441,
          0.5692285417674283,
          -0.658826078102742,
          0.79974735142664,
          0.09028510789878529,
          -0.7796214982292619,
          0.3038232764174412,
          0.7105091590508357,
          -0.6700224320337134,
          -0.5692285417674283,
          0.7576786439957957,
          0.3941818732386333,
          -0.5967529163393456,
          -0.6700224320337135,
          -0.7638916357973144,
          0.7438211887106011,
          -0.7280847765479966,
          0.4286614359831973,
          -0.35870657287202556,
          0.3587065728720258,
          -0.5967529163393457,
          -0.7010453440350909,
          0.5967529163393456,
          -0.6351923189182683,
          0.6807955854357537,
          0.6911387337542682,
          0.010052831906682026,
          0.010052831906682044,
          -0.7576786439957955,
          -0.16960568793764388,
          -0.26625563561838894,
          0.5402662464968195,
          -0.6472135954999578,
          -0.6099540088091584,
          -0.6911387337542684,
          -0.7361854778926963,
          -0.1891991976189794,
          0.658826078102742,
          -0.7576786439957955,
          0.16960568793764363,
          0.1696056879376436,
          0.6099540088091584,
          0.462058162737814,
          0.26625563561838933,
          -0.13010973215590688,
          0.7796214982292617,
          -0.5831749019371293,
          0.7010453440350909,
          -0.24721359549995806,
          -0.3038232764174409,
          0.1891991976189798,
          0.509939191798952,
          -0.7959608135850402,
          0.4942876904722675,
          0.46205816273781386,
          0.3406234332520581,
          -0.7936917610515823,
          0.7638916357973144,
          0.6472135954999579,
          -0.5831749019371294,
          0.7576786439957955,
          -0.7909213957903312,
          -0.7977271202084912,
          -0.35870657287202573,
          -0.28512950297060036,
          0.7977271202084912,
          0.20867320503191775,
          0.7195242012530969,
          -0.7909213957903312,
          0.7010453440350909,
          0.5099391917989519,
          0.6351923189182686,
          0.6227698412536189,
          0.4783239864460151,
          -0.6472135954999579,
          0.28512950297060063,
          -0.5252686046023651,
          -0.554922644650244,
          -0.03015214613594766,
          -0.4455004931905503,
          -0.4942876904722672,
          -0.7105091590508357,
          -0.5692285417674281,
          -0.7361854778926964,
          0.2086732050319176,
          -0.3941818732386333,
          -0.7936917610515823,
          -0.22801540997598085,
          0.05023241562345065,
          0.05023241562345098,
          0.3223251485709302,
          0.24721359549995797,
          -0.7696221372688687,
          0.7876514676233644,
          -0.7195242012530968,
          0.5831749019371293,
          -0.46205816273781414,
          0.3941818732386331,
          0.35870657287202595,
          0.7638916357973144,
          -0.7195242012530969,
          0.7838840419073976,
          -0.79974735142664,
          -0.6807955854357535,
          0.5402662464968195,
          0.6351923189182683,
          -0.030152146135947324,
          -0.7838840419073976,
          -0.050232415623450724,
          0.11023223254771038,
          -0.7696221372688687,
          -0.42866143598319706,
          -0.20867320503191733,
          0.6807955854357535,
          0.7438211887106012,
          0.7838840419073976,
          0.7748665289029049,
          0.42866143598319745,
          0.6099540088091584,
          0.5252686046023651,
          -0.798989565284814,
          -0.14990505166857968,
          -0.7748665289029049,
          -0.07028095724059456,
          -0.4115516270252054,
          0.7509870861230994,
          0.7909213957903313,
          -0.303823276417441,
          -0.05023241562345057,
          0.47832398644601515,
          -0.4620581627378142,
          -0.376563145732266,
          -0.18919919761897974,
          0.647213595499958,
          -0.658826078102742,
          -0.7796214982292617,
          -0.6807955854357536,
          -0.5402662464968194,
          0.554922644650244,
          0.6911387337542683,
          0.030152146135947577,
          0.14990505166858012,
          -0.1499050516685797,
          -0.6227698412536187,
          0.11023223254771053,
          0.37656314573226635,
          -0.7438211887106012,
          -0.07028095724059456,
          0.7696221372688687,
          0.7361854778926964,
          0.5252686046023655,
          -0.6351923189182682,
          -0.1696056879376437,
          -0.7876514676233644,
          -0.42866143598319717,
          0.376563145732266,
          -0.7280847765479965,
          0.7280847765479965
         ],
         "xaxis": "x",
         "y": [
          0.7999368353630529,
          0.4371154773874153,
          0.7948890484160067,
          -0.7969068873145381,
          0.5900104938865391,
          0.7543924287142916,
          -0.36766388849719017,
          0.1400184471802207,
          0.7474631539652896,
          0.7969068873145381,
          -0.3496926133207461,
          -0.1989519097318836,
          0.12018047129660565,
          -0.2757143385396138,
          0.6164105942206315,
          -0.06026144442234618,
          -0.19895190973188404,
          0.732192938096734,
          9.797174393178826e-17,
          0.2944996421477422,
          -0.760845213036123,
          0.45381515930140526,
          0.603401104588883,
          0.5021530890325605,
          -0.7321929380967341,
          -0.5762472199103255,
          -0.6164105942206315,
          0.6961470037356206,
          -0.5621199758390792,
          -0.21836154841386013,
          -0.7238616419728156,
          -0.6412535878967012,
          -0.04019545454381554,
          0.7668174312139007,
          0.27571433853961363,
          -0.7668174312139008,
          -0.732192938096734,
          0.7400617654675665,
          -0.7893487553662946,
          -0.7474631539652896,
          0.15976798441152565,
          0.7238616419728157,
          0.3854029392813722,
          0.7608452130361228,
          0.1002665868514434,
          -0.7948890484160067,
          0.020104076354669896,
          0.785829800582951,
          0.40289856130860874,
          0.6290307457092951,
          -0.5476376847429506,
          0.27571433853961363,
          -0.04019545454381548,
          0.7543924287142916,
          0.7058329811479627,
          0.5328094939474014,
          0,
          -0.7668174312139007,
          0.23763326526162795,
          -0.08028937188097207,
          -0.17941660875950458,
          0.6860213249549219,
          0.7893487553662945,
          0.06026144442234608,
          -0.66447671935665,
          0.08028937188097199,
          0.6412535878967013,
          -0.31309893346976203,
          -0.43711547738741513,
          -0.7238616419728157,
          -0.7994315781124715,
          -0.7893487553662945,
          0.04019545454381565,
          0.14001844718022086,
          -0.7948890484160067,
          0.792369140557321,
          0.6860213249549219,
          0.3676638884971904,
          -0.7923691405573211,
          -0.02010407635466964,
          0.6644767193566502,
          -0.6860213249549219,
          0.6644767193566502,
          -0.5021530890325606,
          0.5176447692555554,
          -0.7999368353630529,
          0.08028937188097192,
          -0.6290307457092951,
          0.7723053110666191,
          -0.10026658685144303,
          0.33150046479462736,
          0.7773053863317392,
          0.5762472199103253,
          0.5621199758390794,
          0.45381515930140515,
          0.020104076354669986,
          0.7948890484160067,
          0.17941660875950483,
          -0.7400617654675664,
          0.36766388849719034,
          0.4371154773874154,
          0.5621199758390794,
          -0.2567548878457672,
          0.6961470037356206,
          -0.5328094939474014,
          -0.43711547738741524,
          -0.2376332652616281,
          0.2944996421477424,
          0.33150046479462714,
          0.6754623404016121,
          -0.7150731393210111,
          0.715073139321011,
          0.5328094939474014,
          -0.3854029392813723,
          -0.5328094939474014,
          0.4863442381556842,
          -0.4201397039690363,
          -0.40289856130860885,
          -0.7999368353630529,
          0.7999368353630529,
          0.25675488784576744,
          -0.7818144988545548,
          -0.7543924287142918,
          -0.5900104938865393,
          -0.47022820183397873,
          -0.5176447692555555,
          -0.40289856130860857,
          -0.3130989334697621,
          -0.7773053863317393,
          -0.45381515930140526,
          -0.2567548878457676,
          0.7818144988545548,
          -0.7818144988545548,
          -0.5176447692555555,
          0.6530714005737472,
          -0.7543924287142916,
          0.7893487553662945,
          0.17941660875950494,
          -0.547637684742951,
          -0.38540293928137226,
          -0.7608452130361228,
          -0.7400617654675665,
          -0.7773053863317392,
          -0.6164105942206313,
          -0.08028937188097214,
          0.6290307457092952,
          -0.6530714005737474,
          0.7238616419728157,
          -0.10026658685144343,
          -0.23763326526162803,
          -0.47022820183397873,
          0.5476376847429508,
          0.2567548878457676,
          0.1201804712966057,
          -0.06026144442234624,
          0.7150731393210111,
          -0.7474631539652897,
          0.06026144442234618,
          -0.772305311066619,
          0.3496926133207463,
          -0.12018047129660586,
          0.38540293928137226,
          0.6164105942206315,
          -0.48634423815568406,
          -0.5021530890325602,
          -0.6412535878967014,
          0.4702282018339786,
          0.7474631539652896,
          -0.6034011045888831,
          -0.5762472199103256,
          0.7994315781124715,
          -0.6644767193566502,
          -0.6290307457092954,
          -0.3676638884971902,
          -0.5621199758390795,
          0.3130989334697619,
          0.7723053110666191,
          -0.6961470037356206,
          0.10026658685144328,
          0.7668174312139008,
          0.7984213827426173,
          -0.7984213827426173,
          0.732192938096734,
          0.7608452130361228,
          -0.21836154841386018,
          -0.1400184471802208,
          -0.34969261332074647,
          0.547637684742951,
          -0.6530714005737472,
          -0.6961470037356207,
          -0.715073139321011,
          0.23763326526162795,
          0.3496926133207463,
          0.15976798441152562,
          -0.020104076354670056,
          -0.42013970396903666,
          0.5900104938865391,
          0.48634423815568434,
          -0.7994315781124715,
          -0.15976798441152582,
          0.7984213827426173,
          0.792369140557321,
          0.21836154841386005,
          -0.6754623404016122,
          -0.7723053110666193,
          0.4201397039690366,
          -0.2944996421477423,
          -0.15976798441152576,
          0.19895190973188384,
          -0.675462340401612,
          0.5176447692555555,
          0.6034011045888831,
          0.040195454543815734,
          0.785829800582951,
          0.19895190973188387,
          0.7969068873145381,
          -0.6860213249549217,
          -0.2757143385396134,
          -0.12018047129660543,
          0.7400617654675665,
          -0.7984213827426173,
          0.6412535878967013,
          0.6530714005737471,
          -0.7058329811479628,
          0.7773053863317392,
          0.4702282018339785,
          -0.45381515930140526,
          -0.17941660875950496,
          0.4201397039690365,
          -0.5900104938865393,
          0.5762472199103256,
          0.4028985613086087,
          0.7994315781124715,
          -0.7858298005829509,
          -0.785829800582951,
          0.5021530890325605,
          -0.792369140557321,
          -0.7058329811479624,
          -0.2944996421477423,
          -0.7969068873145381,
          0.21836154841386018,
          0.313098933469762,
          -0.6034011045888827,
          -0.4863442381556844,
          0.7818144988545548,
          -0.14001844718022088,
          0.6754623404016122,
          0.7058329811479627,
          -0.3315004647946273,
          -0.3315004647946276
         ],
         "yaxis": "y"
        }
       ],
       "layout": {
        "autosize": true,
        "legend": {
         "title": {
          "text": "label"
         },
         "tracegroupgap": 0
        },
        "margin": {
         "t": 60
        },
        "template": {
         "data": {
          "bar": [
           {
            "error_x": {
             "color": "#2a3f5f"
            },
            "error_y": {
             "color": "#2a3f5f"
            },
            "marker": {
             "line": {
              "color": "#E5ECF6",
              "width": 0.5
             },
             "pattern": {
              "fillmode": "overlay",
              "size": 10,
              "solidity": 0.2
             }
            },
            "type": "bar"
           }
          ],
          "barpolar": [
           {
            "marker": {
             "line": {
              "color": "#E5ECF6",
              "width": 0.5
             },
             "pattern": {
              "fillmode": "overlay",
              "size": 10,
              "solidity": 0.2
             }
            },
            "type": "barpolar"
           }
          ],
          "carpet": [
           {
            "aaxis": {
             "endlinecolor": "#2a3f5f",
             "gridcolor": "white",
             "linecolor": "white",
             "minorgridcolor": "white",
             "startlinecolor": "#2a3f5f"
            },
            "baxis": {
             "endlinecolor": "#2a3f5f",
             "gridcolor": "white",
             "linecolor": "white",
             "minorgridcolor": "white",
             "startlinecolor": "#2a3f5f"
            },
            "type": "carpet"
           }
          ],
          "choropleth": [
           {
            "colorbar": {
             "outlinewidth": 0,
             "ticks": ""
            },
            "type": "choropleth"
           }
          ],
          "contour": [
           {
            "colorbar": {
             "outlinewidth": 0,
             "ticks": ""
            },
            "colorscale": [
             [
              0,
              "#0d0887"
             ],
             [
              0.1111111111111111,
              "#46039f"
             ],
             [
              0.2222222222222222,
              "#7201a8"
             ],
             [
              0.3333333333333333,
              "#9c179e"
             ],
             [
              0.4444444444444444,
              "#bd3786"
             ],
             [
              0.5555555555555556,
              "#d8576b"
             ],
             [
              0.6666666666666666,
              "#ed7953"
             ],
             [
              0.7777777777777778,
              "#fb9f3a"
             ],
             [
              0.8888888888888888,
              "#fdca26"
             ],
             [
              1,
              "#f0f921"
             ]
            ],
            "type": "contour"
           }
          ],
          "contourcarpet": [
           {
            "colorbar": {
             "outlinewidth": 0,
             "ticks": ""
            },
            "type": "contourcarpet"
           }
          ],
          "heatmap": [
           {
            "colorbar": {
             "outlinewidth": 0,
             "ticks": ""
            },
            "colorscale": [
             [
              0,
              "#0d0887"
             ],
             [
              0.1111111111111111,
              "#46039f"
             ],
             [
              0.2222222222222222,
              "#7201a8"
             ],
             [
              0.3333333333333333,
              "#9c179e"
             ],
             [
              0.4444444444444444,
              "#bd3786"
             ],
             [
              0.5555555555555556,
              "#d8576b"
             ],
             [
              0.6666666666666666,
              "#ed7953"
             ],
             [
              0.7777777777777778,
              "#fb9f3a"
             ],
             [
              0.8888888888888888,
              "#fdca26"
             ],
             [
              1,
              "#f0f921"
             ]
            ],
            "type": "heatmap"
           }
          ],
          "heatmapgl": [
           {
            "colorbar": {
             "outlinewidth": 0,
             "ticks": ""
            },
            "colorscale": [
             [
              0,
              "#0d0887"
             ],
             [
              0.1111111111111111,
              "#46039f"
             ],
             [
              0.2222222222222222,
              "#7201a8"
             ],
             [
              0.3333333333333333,
              "#9c179e"
             ],
             [
              0.4444444444444444,
              "#bd3786"
             ],
             [
              0.5555555555555556,
              "#d8576b"
             ],
             [
              0.6666666666666666,
              "#ed7953"
             ],
             [
              0.7777777777777778,
              "#fb9f3a"
             ],
             [
              0.8888888888888888,
              "#fdca26"
             ],
             [
              1,
              "#f0f921"
             ]
            ],
            "type": "heatmapgl"
           }
          ],
          "histogram": [
           {
            "marker": {
             "pattern": {
              "fillmode": "overlay",
              "size": 10,
              "solidity": 0.2
             }
            },
            "type": "histogram"
           }
          ],
          "histogram2d": [
           {
            "colorbar": {
             "outlinewidth": 0,
             "ticks": ""
            },
            "colorscale": [
             [
              0,
              "#0d0887"
             ],
             [
              0.1111111111111111,
              "#46039f"
             ],
             [
              0.2222222222222222,
              "#7201a8"
             ],
             [
              0.3333333333333333,
              "#9c179e"
             ],
             [
              0.4444444444444444,
              "#bd3786"
             ],
             [
              0.5555555555555556,
              "#d8576b"
             ],
             [
              0.6666666666666666,
              "#ed7953"
             ],
             [
              0.7777777777777778,
              "#fb9f3a"
             ],
             [
              0.8888888888888888,
              "#fdca26"
             ],
             [
              1,
              "#f0f921"
             ]
            ],
            "type": "histogram2d"
           }
          ],
          "histogram2dcontour": [
           {
            "colorbar": {
             "outlinewidth": 0,
             "ticks": ""
            },
            "colorscale": [
             [
              0,
              "#0d0887"
             ],
             [
              0.1111111111111111,
              "#46039f"
             ],
             [
              0.2222222222222222,
              "#7201a8"
             ],
             [
              0.3333333333333333,
              "#9c179e"
             ],
             [
              0.4444444444444444,
              "#bd3786"
             ],
             [
              0.5555555555555556,
              "#d8576b"
             ],
             [
              0.6666666666666666,
              "#ed7953"
             ],
             [
              0.7777777777777778,
              "#fb9f3a"
             ],
             [
              0.8888888888888888,
              "#fdca26"
             ],
             [
              1,
              "#f0f921"
             ]
            ],
            "type": "histogram2dcontour"
           }
          ],
          "mesh3d": [
           {
            "colorbar": {
             "outlinewidth": 0,
             "ticks": ""
            },
            "type": "mesh3d"
           }
          ],
          "parcoords": [
           {
            "line": {
             "colorbar": {
              "outlinewidth": 0,
              "ticks": ""
             }
            },
            "type": "parcoords"
           }
          ],
          "pie": [
           {
            "automargin": true,
            "type": "pie"
           }
          ],
          "scatter": [
           {
            "marker": {
             "colorbar": {
              "outlinewidth": 0,
              "ticks": ""
             }
            },
            "type": "scatter"
           }
          ],
          "scatter3d": [
           {
            "line": {
             "colorbar": {
              "outlinewidth": 0,
              "ticks": ""
             }
            },
            "marker": {
             "colorbar": {
              "outlinewidth": 0,
              "ticks": ""
             }
            },
            "type": "scatter3d"
           }
          ],
          "scattercarpet": [
           {
            "marker": {
             "colorbar": {
              "outlinewidth": 0,
              "ticks": ""
             }
            },
            "type": "scattercarpet"
           }
          ],
          "scattergeo": [
           {
            "marker": {
             "colorbar": {
              "outlinewidth": 0,
              "ticks": ""
             }
            },
            "type": "scattergeo"
           }
          ],
          "scattergl": [
           {
            "marker": {
             "colorbar": {
              "outlinewidth": 0,
              "ticks": ""
             }
            },
            "type": "scattergl"
           }
          ],
          "scattermapbox": [
           {
            "marker": {
             "colorbar": {
              "outlinewidth": 0,
              "ticks": ""
             }
            },
            "type": "scattermapbox"
           }
          ],
          "scatterpolar": [
           {
            "marker": {
             "colorbar": {
              "outlinewidth": 0,
              "ticks": ""
             }
            },
            "type": "scatterpolar"
           }
          ],
          "scatterpolargl": [
           {
            "marker": {
             "colorbar": {
              "outlinewidth": 0,
              "ticks": ""
             }
            },
            "type": "scatterpolargl"
           }
          ],
          "scatterternary": [
           {
            "marker": {
             "colorbar": {
              "outlinewidth": 0,
              "ticks": ""
             }
            },
            "type": "scatterternary"
           }
          ],
          "surface": [
           {
            "colorbar": {
             "outlinewidth": 0,
             "ticks": ""
            },
            "colorscale": [
             [
              0,
              "#0d0887"
             ],
             [
              0.1111111111111111,
              "#46039f"
             ],
             [
              0.2222222222222222,
              "#7201a8"
             ],
             [
              0.3333333333333333,
              "#9c179e"
             ],
             [
              0.4444444444444444,
              "#bd3786"
             ],
             [
              0.5555555555555556,
              "#d8576b"
             ],
             [
              0.6666666666666666,
              "#ed7953"
             ],
             [
              0.7777777777777778,
              "#fb9f3a"
             ],
             [
              0.8888888888888888,
              "#fdca26"
             ],
             [
              1,
              "#f0f921"
             ]
            ],
            "type": "surface"
           }
          ],
          "table": [
           {
            "cells": {
             "fill": {
              "color": "#EBF0F8"
             },
             "line": {
              "color": "white"
             }
            },
            "header": {
             "fill": {
              "color": "#C8D4E3"
             },
             "line": {
              "color": "white"
             }
            },
            "type": "table"
           }
          ]
         },
         "layout": {
          "annotationdefaults": {
           "arrowcolor": "#2a3f5f",
           "arrowhead": 0,
           "arrowwidth": 1
          },
          "autotypenumbers": "strict",
          "coloraxis": {
           "colorbar": {
            "outlinewidth": 0,
            "ticks": ""
           }
          },
          "colorscale": {
           "diverging": [
            [
             0,
             "#8e0152"
            ],
            [
             0.1,
             "#c51b7d"
            ],
            [
             0.2,
             "#de77ae"
            ],
            [
             0.3,
             "#f1b6da"
            ],
            [
             0.4,
             "#fde0ef"
            ],
            [
             0.5,
             "#f7f7f7"
            ],
            [
             0.6,
             "#e6f5d0"
            ],
            [
             0.7,
             "#b8e186"
            ],
            [
             0.8,
             "#7fbc41"
            ],
            [
             0.9,
             "#4d9221"
            ],
            [
             1,
             "#276419"
            ]
           ],
           "sequential": [
            [
             0,
             "#0d0887"
            ],
            [
             0.1111111111111111,
             "#46039f"
            ],
            [
             0.2222222222222222,
             "#7201a8"
            ],
            [
             0.3333333333333333,
             "#9c179e"
            ],
            [
             0.4444444444444444,
             "#bd3786"
            ],
            [
             0.5555555555555556,
             "#d8576b"
            ],
            [
             0.6666666666666666,
             "#ed7953"
            ],
            [
             0.7777777777777778,
             "#fb9f3a"
            ],
            [
             0.8888888888888888,
             "#fdca26"
            ],
            [
             1,
             "#f0f921"
            ]
           ],
           "sequentialminus": [
            [
             0,
             "#0d0887"
            ],
            [
             0.1111111111111111,
             "#46039f"
            ],
            [
             0.2222222222222222,
             "#7201a8"
            ],
            [
             0.3333333333333333,
             "#9c179e"
            ],
            [
             0.4444444444444444,
             "#bd3786"
            ],
            [
             0.5555555555555556,
             "#d8576b"
            ],
            [
             0.6666666666666666,
             "#ed7953"
            ],
            [
             0.7777777777777778,
             "#fb9f3a"
            ],
            [
             0.8888888888888888,
             "#fdca26"
            ],
            [
             1,
             "#f0f921"
            ]
           ]
          },
          "colorway": [
           "#636efa",
           "#EF553B",
           "#00cc96",
           "#ab63fa",
           "#FFA15A",
           "#19d3f3",
           "#FF6692",
           "#B6E880",
           "#FF97FF",
           "#FECB52"
          ],
          "font": {
           "color": "#2a3f5f"
          },
          "geo": {
           "bgcolor": "white",
           "lakecolor": "white",
           "landcolor": "#E5ECF6",
           "showlakes": true,
           "showland": true,
           "subunitcolor": "white"
          },
          "hoverlabel": {
           "align": "left"
          },
          "hovermode": "closest",
          "mapbox": {
           "style": "light"
          },
          "paper_bgcolor": "white",
          "plot_bgcolor": "#E5ECF6",
          "polar": {
           "angularaxis": {
            "gridcolor": "white",
            "linecolor": "white",
            "ticks": ""
           },
           "bgcolor": "#E5ECF6",
           "radialaxis": {
            "gridcolor": "white",
            "linecolor": "white",
            "ticks": ""
           }
          },
          "scene": {
           "xaxis": {
            "backgroundcolor": "#E5ECF6",
            "gridcolor": "white",
            "gridwidth": 2,
            "linecolor": "white",
            "showbackground": true,
            "ticks": "",
            "zerolinecolor": "white"
           },
           "yaxis": {
            "backgroundcolor": "#E5ECF6",
            "gridcolor": "white",
            "gridwidth": 2,
            "linecolor": "white",
            "showbackground": true,
            "ticks": "",
            "zerolinecolor": "white"
           },
           "zaxis": {
            "backgroundcolor": "#E5ECF6",
            "gridcolor": "white",
            "gridwidth": 2,
            "linecolor": "white",
            "showbackground": true,
            "ticks": "",
            "zerolinecolor": "white"
           }
          },
          "shapedefaults": {
           "line": {
            "color": "#2a3f5f"
           }
          },
          "ternary": {
           "aaxis": {
            "gridcolor": "white",
            "linecolor": "white",
            "ticks": ""
           },
           "baxis": {
            "gridcolor": "white",
            "linecolor": "white",
            "ticks": ""
           },
           "bgcolor": "#E5ECF6",
           "caxis": {
            "gridcolor": "white",
            "linecolor": "white",
            "ticks": ""
           }
          },
          "title": {
           "x": 0.05
          },
          "xaxis": {
           "automargin": true,
           "gridcolor": "white",
           "linecolor": "white",
           "ticks": "",
           "title": {
            "standoff": 15
           },
           "zerolinecolor": "white",
           "zerolinewidth": 2
          },
          "yaxis": {
           "automargin": true,
           "gridcolor": "white",
           "linecolor": "white",
           "ticks": "",
           "title": {
            "standoff": 15
           },
           "zerolinecolor": "white",
           "zerolinewidth": 2
          }
         }
        },
        "xaxis": {
         "anchor": "y",
         "autorange": true,
         "domain": [
          0,
          1
         ],
         "range": [
          -1.119088646371817,
          1.119088646371817
         ],
         "title": {
          "text": "x"
         },
         "type": "linear"
        },
        "yaxis": {
         "anchor": "x",
         "autorange": true,
         "domain": [
          0,
          1
         ],
         "range": [
          -1.1547644604978453,
          1.1547644604978453
         ],
         "title": {
          "text": "y"
         },
         "type": "linear"
        }
       }
      },
      "image/png": "[encoded data removed]",
      "text/html": [
       "<div>                            <div id=\"54238326-161f-4268-8504-2a8b25b89710\" class=\"plotly-graph-div\" style=\"height:525px; width:100%;\"></div>            <script type=\"text/javascript\">                require([\"plotly\"], function(Plotly) {                    window.PLOTLYENV=window.PLOTLYENV || {};                                    if (document.getElementById(\"54238326-161f-4268-8504-2a8b25b89710\")) {                    Plotly.newPlot(                        \"54238326-161f-4268-8504-2a8b25b89710\",                        [{\"hovertemplate\":\"label=A<br>x=%{x}<br>y=%{y}<extra></extra>\",\"legendgroup\":\"A\",\"marker\":{\"color\":\"#636efa\",\"symbol\":\"circle\"},\"mode\":\"markers\",\"name\":\"A\",\"orientation\":\"v\",\"showlegend\":true,\"x\":[-0.3564118787132508,-0.7624425110114479,-0.8763066800438636,-0.7459411454241821,-0.9297764858882515,0.23649899702372473,-0.18738131458572463,0.7289686274214116,-0.8994052515663711,-0.762442511011448,0.8994052515663711,0.5144395337815064,0.08785119655074285,-0.8235325976284275,0.49272734154829156,0.18738131458572513,-0.5568756164881881,-0.5775727034222676,-0.7939903986478353,-0.9620276715860859,0.8763066800438636,-0.9996841892832999,-0.7115356772092851,0.3328195445229867,0.556875616488188,-0.6753328081210244,-0.012566039883352653,-0.47070393216533263,0.3797790955218011,-0.1626371651948834,0.8235325976284275,0.8881364488135445,-0.9470983049947443,0.6936533058128049,-0.5358267949789963,0.44838321609003223,0.012566039883352554,0.40290643571366247,-0.9101059706849958,0.8994052515663712,-0.9685831611286311,0.9949510169813002,-0.954864544746643,-0.9949510169813002,-0.37977909552180106,0.6565857557529569,0.8235325976284275,0.9620276715860859,0.7115356772092856,-0.26084150628989666,-0.899405251566371,0.6178596130903343,0.9202318473658704,-0.2850192624699761,-1.0,0.8509944817946918,-0.8509944817946918,0.9745268727865771,0.8639234171928352,-0.9101059706849957,-0.7289686274214117,-0.4483832160900321,0.012566039883352531,-0.06279051952931321,0.693653305812805,0.2120071099220545,-0.597904983057519,-0.4029064357136628,0.9387338576538742,-0.7784623015670233,-0.9297764858882515,0.9387338576538741,0.5979049830575188,-0.850994481794692,-0.6565857557529564,-0.9987369566060175,0.06279051952931372,0.1626371651948835,0.5979049830575189,-0.23649899702372465,0.63742398974869,0.9297764858882515,-0.8235325976284273,0.9798550523842469,0.7939903986478356,0.6753328081210244,0.8881364488135446,0.7459411454241821,-0.9470983049947443,0.9101059706849955,-0.03769018266993415,0.30901699437494723,0.30901699437494745,0.13779029068463816,-0.617859613090334,-0.988651744737914,0.5144395337815064,0.0878511965507431,-0.5358267949789964,-0.9971589002606139,-0.693653305812805,-0.49272734154829145,-0.5568756164881878,-0.4927273415482916,-0.9620276715860859,0.7784623015670236,0.7784623015670233,0.3564118787132509,-0.9202318473658703,-0.3564118787132504,-0.2608415062898969,0.9845643345292053,-0.9949510169813002,0.9987369566060175,0.954864544746643,0.8763066800438636,0.5775727034222675,0.6753328081210244,-0.23649899702372423,-0.3797790955218012,0.5775727034222673,-0.1128563848734817,-0.5144395337815068,0.9971589002606139,-0.42577929156507294,-0.9202318473658704,0.4257792915650726,-0.16263716519488358,-0.9971589002606139,0.7939903986478354,0.2850192624699766,0.49272734154829134,-0.6565857557529566,0.16263716519488391,0.8090169943749475,0.35641187871325075,0.3328195445229867,0.6178596130903344,-0.0627905195293134,-0.8763066800438636,0.42577929156507266,1.0,0.0627905195293133,-0.9387338576538741,-0.8881364488135445,-0.6753328081210243,0.4483832160900324,0.9886517447379141,0.5358267949789965,0.7289686274214119,0.18738131458572452,0.13779029068463797,0.21200710992205452,-0.5979049830575189,0.9620276715860859,0.9987369566060175,-0.21200710992205485,0.6374239897486897,0.11285638487348157,-0.9921147013144779,0.8375280400421419,-0.6178596130903345,0.7624425110114479,-0.9387338576538741,0.745941145424182,-0.30901699437494756,0.03769018266993447,-0.9798550523842469,-0.9987369566060175,0.4029064357136627,-0.6374239897486895,0.5358267949789968,0.9470983049947445,-0.9845643345292053,0.1128563848734816,-0.8375280400421418,0.4707039321653329,0.260841506289897,0.8090169943749473,0.9996841892832999,0.23649899702372476,-0.5775727034222677,-0.037690182669934576,-0.08785119655074321,-0.8881364488135446,0.9101059706849957,0.9745268727865772,0.7624425110114479,0.9949510169813002,0.9886517447379141,0.28501926246997616,0.03769018266993467,-0.8639234171928353,-0.44838321609003196,-0.13779029068463805,-0.9745268727865771,-0.9745268727865772,-0.6936533058128049,-0.6374239897486897,0.4707039321653325,0.9996841892832999,-0.9845643345292054,-0.30901699437494756,-0.745941145424182,0.6565857557529564,0.9798550523842469,0.8509944817946921,-0.13779029068463763,0.3797790955218015,-0.2120071099220546,-0.012566039883352897,0.9297764858882513,-0.9685831611286311,0.9921147013144779,-0.8375280400421417,-0.7939903986478354,-0.0878511965507432,0.9845643345292054,-0.11285638487348193,0.9921147013144779,-0.8090169943749473,-0.7115356772092853,0.7115356772092853,0.9685831611286312,-0.5144395337815065,-0.40290643571366275,-0.7784623015670232,0.8375280400421418,-0.9798550523842469,-0.954864544746643,-0.3328195445229868,0.26084150628989716,0.9470983049947443,-0.1873813145857246,-0.9996841892832999,-0.7289686274214116,0.5568756164881883,-0.28501926246997605,0.954864544746643,-0.3328195445229862,-0.4257792915650727,-0.988651744737914,0.9685831611286311,0.9202318473658703,-0.8090169943749472,0.8639234171928353,0.9971589002606139,-0.47070393216533246,-0.9921147013144779,-0.8639234171928354],\"xaxis\":\"x\",\"y\":[0.934328942456612,-0.6470559615694443,0.4817536741017152,0.6660118674342517,-0.3681245526846779,-0.971631732914674,-0.9822872507286887,0.6845471059286887,0.4371157666509329,0.6470559615694442,0.4371157666509329,0.8575266561936523,-0.9961336091431725,0.5672689491267564,0.8701837546695257,-0.9822872507286886,0.8305958991958127,-0.8163392507171839,-0.6079302976946055,-0.2729519355173252,0.4817536741017153,-0.02513009544333757,-0.7026499697988493,-0.9429905358928644,0.8305958991958127,0.7375131173581739,0.9999210442038161,0.8822912264349533,0.925077206834458,-0.9866859442078681,0.5672689491267565,0.45957986062148787,-0.3209436098072095,0.7203090248879069,-0.8443279255020153,0.8938414241512638,0.9999210442038161,-0.9152411726209176,0.41437558099328387,-0.43711576665093255,0.24868988716485482,-0.10036171485121509,0.2970415815770349,-0.10036171485121517,-0.925077206834458,-0.7542513807361034,-0.5672689491267565,-0.27295193551732516,-0.702649969798849,-0.965381638833274,-0.43711576665093305,0.7862884321366189,0.3913736668372024,-0.958521789017376,1.2246467991473532e-16,0.5251746299612957,-0.5251746299612958,0.22427076094938117,-0.503623201635761,-0.4143755809932841,0.6845471059286885,0.8938414241512639,-0.9999210442038161,-0.9980267284282716,-0.7203090248879068,-0.9772681235681935,-0.8015669848708764,-0.9152411726209175,-0.3446429231745167,0.6276913612907006,0.36812455268467775,0.34464292317451706,-0.8015669848708766,0.5251746299612956,-0.7542513807361038,0.05024431817976966,-0.9980267284282716,0.986685944207868,0.8015669848708765,0.971631732914674,-0.770513242775789,-0.36812455268467786,-0.5672689491267565,-0.1997099805144072,-0.607930297694605,0.7375131173581739,-0.4595798606214877,0.6660118674342517,0.32094360980720926,-0.4143755809932844,-0.9992894726405893,-0.9510565162951536,0.9510565162951535,-0.9904614256966512,-0.7862884321366191,-0.1502255891207573,-0.8575266561936523,0.9961336091431725,0.8443279255020152,0.0753268055279326,0.7203090248879067,0.8701837546695257,-0.8305958991958127,-0.8701837546695256,0.27295193551732505,-0.6276913612907002,0.6276913612907006,-0.9343289424566119,-0.3913736668372026,-0.9343289424566121,0.9653816388332739,0.17502305897527606,0.10036171485121498,0.050244318179769556,0.2970415815770349,-0.4817536741017153,0.816339250717184,-0.737513117358174,-0.9716317329146741,0.925077206834458,-0.8163392507171842,0.9936113105200084,-0.8575266561936521,-0.07532680552793272,-0.9048270524660194,0.39137366683720237,-0.9048270524660196,0.986685944207868,-0.07532680552793279,0.6079302976946054,-0.9585217890173757,-0.8701837546695258,0.7542513807361036,-0.986685944207868,0.5877852522924731,0.934328942456612,0.9429905358928644,-0.7862884321366188,0.9980267284282716,-0.4817536741017154,0.9048270524660196,0.0,0.9980267284282716,-0.3446429231745172,0.459579860621488,-0.737513117358174,-0.8938414241512637,-0.1502255891207568,0.8443279255020151,-0.6845471059286883,0.9822872507286887,0.9904614256966512,0.9772681235681935,0.8015669848708765,0.2729519355173252,-0.05024431817976934,-0.9772681235681934,0.7705132427757893,-0.9936113105200084,-0.12533323356430429,-0.5463943467342689,0.7862884321366188,-0.6470559615694443,0.34464292317451706,-0.6660118674342518,-0.9510565162951535,0.9992894726405892,-0.19970998051440725,-0.05024431817976942,0.9152411726209175,-0.7705132427757894,-0.844327925502015,-0.320943609807209,-0.1750230589752761,0.9936113105200084,-0.546394346734269,-0.8822912264349531,0.9653816388332739,-0.5877852522924734,0.02513009544333748,0.9716317329146739,0.8163392507171838,0.9992894726405892,-0.9961336091431725,-0.45957986062148776,0.41437558099328414,-0.2242707609493807,0.6470559615694443,0.1003617148512149,0.15022558912075706,0.9585217890173758,-0.9992894726405892,0.5036232016357609,-0.8938414241512639,0.9904614256966512,-0.2242707609493812,0.224270760949381,-0.7203090248879069,0.7705132427757893,0.8822912264349533,-0.02513009544333705,0.17502305897527587,0.9510565162951535,-0.6660118674342518,0.7542513807361038,0.19970998051440703,-0.5251746299612954,-0.9904614256966513,-0.9250772068344579,0.9772681235681935,-0.9999210442038161,0.368124552684678,-0.24868988716485502,0.12533323356430426,0.5463943467342692,0.6079302976946053,0.9961336091431725,-0.175023058975276,-0.9936113105200084,-0.1253332335643038,0.5877852522924732,0.7026499697988492,0.7026499697988492,-0.2486898871648545,0.8575266561936522,0.9152411726209175,-0.6276913612907007,0.5463943467342691,0.19970998051440705,-0.2970415815770351,0.9429905358928644,-0.9653816388332738,0.3209436098072095,0.9822872507286887,0.02513009544333737,-0.6845471059286887,-0.8305958991958124,0.958521789017376,-0.29704158157703503,-0.9429905358928646,0.9048270524660195,0.15022558912075712,0.2486898871648548,-0.3913736668372025,-0.5877852522924734,0.5036232016357608,0.07532680552793272,-0.8822912264349534,0.1253332335643041,-0.5036232016357607],\"yaxis\":\"y\",\"type\":\"scatter\"},{\"hovertemplate\":\"label=B<br>x=%{x}<br>y=%{y}<extra></extra>\",\"legendgroup\":\"B\",\"marker\":{\"color\":\"#EF553B\",\"symbol\":\"circle\"},\"mode\":\"markers\",\"name\":\"B\",\"orientation\":\"v\",\"showlegend\":true,\"x\":[-0.010052831906682123,0.6700224320337135,-0.09028510789878536,0.07028095724059429,-0.5402662464968195,0.26625563561838933,0.7105091590508357,-0.7876514676233644,-0.28512950297060063,0.07028095724059448,0.719524201253097,0.774866528902905,0.7909213957903313,-0.7509870861230993,-0.5099391917989519,0.7977271202084912,-0.7748665289029049,-0.3223251485709302,-0.8,-0.7438211887106012,0.2472135954999578,0.658826078102742,-0.5252686046023654,0.6227698412536187,0.32232514857093,0.5549226446502441,-0.5099391917989516,-0.3941818732386332,0.5692285417674284,0.7696221372688687,-0.34062343325205835,-0.47832398644601526,-0.798989565284814,0.22801540997598094,-0.7509870861230993,-0.2280154099759809,-0.32232514857093025,0.3038232764174409,-0.1301097321559067,0.28512950297060075,-0.7838840419073976,-0.3406234332520582,-0.7010453440350909,-0.24721359549995806,0.7936917610515823,0.09028510789878526,-0.79974735142664,0.14990505166857962,-0.6911387337542683,-0.49428769047226767,0.5831749019371295,0.7509870861230993,0.798989565284814,-0.26625563561838944,-0.3765631457322661,0.5967529163393457,0.8,0.2280154099759813,-0.7638916357973144,0.7959608135850402,0.7796214982292619,-0.41155162702520526,0.1301097321559068,-0.7977271202084912,0.44550049319055063,-0.7959608135850402,-0.47832398644601515,0.7361854778926963,0.6700224320337136,0.3406234332520581,0.03015214613594774,0.13010973215590713,0.798989565284814,0.7876514676233644,-0.09028510789878555,-0.11023223254771045,0.41155162702520515,-0.7105091590508357,-0.11023223254771011,0.79974735142664,0.4455004931905504,0.41155162702520515,-0.44550049319055046,-0.6227698412536187,-0.6099540088091584,-0.010052831906682318,0.7959608135850402,0.49428769047226756,-0.20867320503191752,0.7936917610515823,0.7280847765479965,0.18919919761897983,-0.5549226446502441,0.5692285417674283,-0.658826078102742,0.79974735142664,0.09028510789878529,-0.7796214982292619,0.3038232764174412,0.7105091590508357,-0.6700224320337134,-0.5692285417674283,0.7576786439957957,0.3941818732386333,-0.5967529163393456,-0.6700224320337135,-0.7638916357973144,0.7438211887106011,-0.7280847765479966,0.4286614359831973,-0.35870657287202556,0.3587065728720258,-0.5967529163393457,-0.7010453440350909,0.5967529163393456,-0.6351923189182683,0.6807955854357537,0.6911387337542682,0.010052831906682026,0.010052831906682044,-0.7576786439957955,-0.16960568793764388,-0.26625563561838894,0.5402662464968195,-0.6472135954999578,-0.6099540088091584,-0.6911387337542684,-0.7361854778926963,-0.1891991976189794,0.658826078102742,-0.7576786439957955,0.16960568793764363,0.1696056879376436,0.6099540088091584,0.462058162737814,0.26625563561838933,-0.13010973215590688,0.7796214982292617,-0.5831749019371293,0.7010453440350909,-0.24721359549995806,-0.3038232764174409,0.1891991976189798,0.509939191798952,-0.7959608135850402,0.4942876904722675,0.46205816273781386,0.3406234332520581,-0.7936917610515823,0.7638916357973144,0.6472135954999579,-0.5831749019371294,0.7576786439957955,-0.7909213957903312,-0.7977271202084912,-0.35870657287202573,-0.28512950297060036,0.7977271202084912,0.20867320503191775,0.7195242012530969,-0.7909213957903312,0.7010453440350909,0.5099391917989519,0.6351923189182686,0.6227698412536189,0.4783239864460151,-0.6472135954999579,0.28512950297060063,-0.5252686046023651,-0.554922644650244,-0.03015214613594766,-0.4455004931905503,-0.4942876904722672,-0.7105091590508357,-0.5692285417674281,-0.7361854778926964,0.2086732050319176,-0.3941818732386333,-0.7936917610515823,-0.22801540997598085,0.05023241562345065,0.05023241562345098,0.3223251485709302,0.24721359549995797,-0.7696221372688687,0.7876514676233644,-0.7195242012530968,0.5831749019371293,-0.46205816273781414,0.3941818732386331,0.35870657287202595,0.7638916357973144,-0.7195242012530969,0.7838840419073976,-0.79974735142664,-0.6807955854357535,0.5402662464968195,0.6351923189182683,-0.030152146135947324,-0.7838840419073976,-0.050232415623450724,0.11023223254771038,-0.7696221372688687,-0.42866143598319706,-0.20867320503191733,0.6807955854357535,0.7438211887106012,0.7838840419073976,0.7748665289029049,0.42866143598319745,0.6099540088091584,0.5252686046023651,-0.798989565284814,-0.14990505166857968,-0.7748665289029049,-0.07028095724059456,-0.4115516270252054,0.7509870861230994,0.7909213957903313,-0.303823276417441,-0.05023241562345057,0.47832398644601515,-0.4620581627378142,-0.376563145732266,-0.18919919761897974,0.647213595499958,-0.658826078102742,-0.7796214982292617,-0.6807955854357536,-0.5402662464968194,0.554922644650244,0.6911387337542683,0.030152146135947577,0.14990505166858012,-0.1499050516685797,-0.6227698412536187,0.11023223254771053,0.37656314573226635,-0.7438211887106012,-0.07028095724059456,0.7696221372688687,0.7361854778926964,0.5252686046023655,-0.6351923189182682,-0.1696056879376437,-0.7876514676233644,-0.42866143598319717,0.376563145732266,-0.7280847765479965,0.7280847765479965],\"xaxis\":\"x\",\"y\":[0.7999368353630529,0.4371154773874153,0.7948890484160067,-0.7969068873145381,0.5900104938865391,0.7543924287142916,-0.36766388849719017,0.1400184471802207,0.7474631539652896,0.7969068873145381,-0.3496926133207461,-0.1989519097318836,0.12018047129660565,-0.2757143385396138,0.6164105942206315,-0.06026144442234618,-0.19895190973188404,0.732192938096734,9.797174393178826e-17,0.2944996421477422,-0.760845213036123,0.45381515930140526,0.603401104588883,0.5021530890325605,-0.7321929380967341,-0.5762472199103255,-0.6164105942206315,0.6961470037356206,-0.5621199758390792,-0.21836154841386013,-0.7238616419728156,-0.6412535878967012,-0.04019545454381554,0.7668174312139007,0.27571433853961363,-0.7668174312139008,-0.732192938096734,0.7400617654675665,-0.7893487553662946,-0.7474631539652896,0.15976798441152565,0.7238616419728157,0.3854029392813722,0.7608452130361228,0.1002665868514434,-0.7948890484160067,0.020104076354669896,0.785829800582951,0.40289856130860874,0.6290307457092951,-0.5476376847429506,0.27571433853961363,-0.04019545454381548,0.7543924287142916,0.7058329811479627,0.5328094939474014,0.0,-0.7668174312139007,0.23763326526162795,-0.08028937188097207,-0.17941660875950458,0.6860213249549219,0.7893487553662945,0.06026144442234608,-0.66447671935665,0.08028937188097199,0.6412535878967013,-0.31309893346976203,-0.43711547738741513,-0.7238616419728157,-0.7994315781124715,-0.7893487553662945,0.04019545454381565,0.14001844718022086,-0.7948890484160067,0.792369140557321,0.6860213249549219,0.3676638884971904,-0.7923691405573211,-0.02010407635466964,0.6644767193566502,-0.6860213249549219,0.6644767193566502,-0.5021530890325606,0.5176447692555554,-0.7999368353630529,0.08028937188097192,-0.6290307457092951,0.7723053110666191,-0.10026658685144303,0.33150046479462736,0.7773053863317392,0.5762472199103253,0.5621199758390794,0.45381515930140515,0.020104076354669986,0.7948890484160067,0.17941660875950483,-0.7400617654675664,0.36766388849719034,0.4371154773874154,0.5621199758390794,-0.2567548878457672,0.6961470037356206,-0.5328094939474014,-0.43711547738741524,-0.2376332652616281,0.2944996421477424,0.33150046479462714,0.6754623404016121,-0.7150731393210111,0.715073139321011,0.5328094939474014,-0.3854029392813723,-0.5328094939474014,0.4863442381556842,-0.4201397039690363,-0.40289856130860885,-0.7999368353630529,0.7999368353630529,0.25675488784576744,-0.7818144988545548,-0.7543924287142918,-0.5900104938865393,-0.47022820183397873,-0.5176447692555555,-0.40289856130860857,-0.3130989334697621,-0.7773053863317393,-0.45381515930140526,-0.2567548878457676,0.7818144988545548,-0.7818144988545548,-0.5176447692555555,0.6530714005737472,-0.7543924287142916,0.7893487553662945,0.17941660875950494,-0.547637684742951,-0.38540293928137226,-0.7608452130361228,-0.7400617654675665,-0.7773053863317392,-0.6164105942206313,-0.08028937188097214,0.6290307457092952,-0.6530714005737474,0.7238616419728157,-0.10026658685144343,-0.23763326526162803,-0.47022820183397873,0.5476376847429508,0.2567548878457676,0.1201804712966057,-0.06026144442234624,0.7150731393210111,-0.7474631539652897,0.06026144442234618,-0.772305311066619,0.3496926133207463,-0.12018047129660586,0.38540293928137226,0.6164105942206315,-0.48634423815568406,-0.5021530890325602,-0.6412535878967014,0.4702282018339786,0.7474631539652896,-0.6034011045888831,-0.5762472199103256,0.7994315781124715,-0.6644767193566502,-0.6290307457092954,-0.3676638884971902,-0.5621199758390795,0.3130989334697619,0.7723053110666191,-0.6961470037356206,0.10026658685144328,0.7668174312139008,0.7984213827426173,-0.7984213827426173,0.732192938096734,0.7608452130361228,-0.21836154841386018,-0.1400184471802208,-0.34969261332074647,0.547637684742951,-0.6530714005737472,-0.6961470037356207,-0.715073139321011,0.23763326526162795,0.3496926133207463,0.15976798441152562,-0.020104076354670056,-0.42013970396903666,0.5900104938865391,0.48634423815568434,-0.7994315781124715,-0.15976798441152582,0.7984213827426173,0.792369140557321,0.21836154841386005,-0.6754623404016122,-0.7723053110666193,0.4201397039690366,-0.2944996421477423,-0.15976798441152576,0.19895190973188384,-0.675462340401612,0.5176447692555555,0.6034011045888831,0.040195454543815734,0.785829800582951,0.19895190973188387,0.7969068873145381,-0.6860213249549217,-0.2757143385396134,-0.12018047129660543,0.7400617654675665,-0.7984213827426173,0.6412535878967013,0.6530714005737471,-0.7058329811479628,0.7773053863317392,0.4702282018339785,-0.45381515930140526,-0.17941660875950496,0.4201397039690365,-0.5900104938865393,0.5762472199103256,0.4028985613086087,0.7994315781124715,-0.7858298005829509,-0.785829800582951,0.5021530890325605,-0.792369140557321,-0.7058329811479624,-0.2944996421477423,-0.7969068873145381,0.21836154841386018,0.313098933469762,-0.6034011045888827,-0.4863442381556844,0.7818144988545548,-0.14001844718022088,0.6754623404016122,0.7058329811479627,-0.3315004647946273,-0.3315004647946276],\"yaxis\":\"y\",\"type\":\"scatter\"}],                        {\"template\":{\"data\":{\"bar\":[{\"error_x\":{\"color\":\"#2a3f5f\"},\"error_y\":{\"color\":\"#2a3f5f\"},\"marker\":{\"line\":{\"color\":\"#E5ECF6\",\"width\":0.5},\"pattern\":{\"fillmode\":\"overlay\",\"size\":10,\"solidity\":0.2}},\"type\":\"bar\"}],\"barpolar\":[{\"marker\":{\"line\":{\"color\":\"#E5ECF6\",\"width\":0.5},\"pattern\":{\"fillmode\":\"overlay\",\"size\":10,\"solidity\":0.2}},\"type\":\"barpolar\"}],\"carpet\":[{\"aaxis\":{\"endlinecolor\":\"#2a3f5f\",\"gridcolor\":\"white\",\"linecolor\":\"white\",\"minorgridcolor\":\"white\",\"startlinecolor\":\"#2a3f5f\"},\"baxis\":{\"endlinecolor\":\"#2a3f5f\",\"gridcolor\":\"white\",\"linecolor\":\"white\",\"minorgridcolor\":\"white\",\"startlinecolor\":\"#2a3f5f\"},\"type\":\"carpet\"}],\"choropleth\":[{\"colorbar\":{\"outlinewidth\":0,\"ticks\":\"\"},\"type\":\"choropleth\"}],\"contour\":[{\"colorbar\":{\"outlinewidth\":0,\"ticks\":\"\"},\"colorscale\":[[0.0,\"#0d0887\"],[0.1111111111111111,\"#46039f\"],[0.2222222222222222,\"#7201a8\"],[0.3333333333333333,\"#9c179e\"],[0.4444444444444444,\"#bd3786\"],[0.5555555555555556,\"#d8576b\"],[0.6666666666666666,\"#ed7953\"],[0.7777777777777778,\"#fb9f3a\"],[0.8888888888888888,\"#fdca26\"],[1.0,\"#f0f921\"]],\"type\":\"contour\"}],\"contourcarpet\":[{\"colorbar\":{\"outlinewidth\":0,\"ticks\":\"\"},\"type\":\"contourcarpet\"}],\"heatmap\":[{\"colorbar\":{\"outlinewidth\":0,\"ticks\":\"\"},\"colorscale\":[[0.0,\"#0d0887\"],[0.1111111111111111,\"#46039f\"],[0.2222222222222222,\"#7201a8\"],[0.3333333333333333,\"#9c179e\"],[0.4444444444444444,\"#bd3786\"],[0.5555555555555556,\"#d8576b\"],[0.6666666666666666,\"#ed7953\"],[0.7777777777777778,\"#fb9f3a\"],[0.8888888888888888,\"#fdca26\"],[1.0,\"#f0f921\"]],\"type\":\"heatmap\"}],\"heatmapgl\":[{\"colorbar\":{\"outlinewidth\":0,\"ticks\":\"\"},\"colorscale\":[[0.0,\"#0d0887\"],[0.1111111111111111,\"#46039f\"],[0.2222222222222222,\"#7201a8\"],[0.3333333333333333,\"#9c179e\"],[0.4444444444444444,\"#bd3786\"],[0.5555555555555556,\"#d8576b\"],[0.6666666666666666,\"#ed7953\"],[0.7777777777777778,\"#fb9f3a\"],[0.8888888888888888,\"#fdca26\"],[1.0,\"#f0f921\"]],\"type\":\"heatmapgl\"}],\"histogram\":[{\"marker\":{\"pattern\":{\"fillmode\":\"overlay\",\"size\":10,\"solidity\":0.2}},\"type\":\"histogram\"}],\"histogram2d\":[{\"colorbar\":{\"outlinewidth\":0,\"ticks\":\"\"},\"colorscale\":[[0.0,\"#0d0887\"],[0.1111111111111111,\"#46039f\"],[0.2222222222222222,\"#7201a8\"],[0.3333333333333333,\"#9c179e\"],[0.4444444444444444,\"#bd3786\"],[0.5555555555555556,\"#d8576b\"],[0.6666666666666666,\"#ed7953\"],[0.7777777777777778,\"#fb9f3a\"],[0.8888888888888888,\"#fdca26\"],[1.0,\"#f0f921\"]],\"type\":\"histogram2d\"}],\"histogram2dcontour\":[{\"colorbar\":{\"outlinewidth\":0,\"ticks\":\"\"},\"colorscale\":[[0.0,\"#0d0887\"],[0.1111111111111111,\"#46039f\"],[0.2222222222222222,\"#7201a8\"],[0.3333333333333333,\"#9c179e\"],[0.4444444444444444,\"#bd3786\"],[0.5555555555555556,\"#d8576b\"],[0.6666666666666666,\"#ed7953\"],[0.7777777777777778,\"#fb9f3a\"],[0.8888888888888888,\"#fdca26\"],[1.0,\"#f0f921\"]],\"type\":\"histogram2dcontour\"}],\"mesh3d\":[{\"colorbar\":{\"outlinewidth\":0,\"ticks\":\"\"},\"type\":\"mesh3d\"}],\"parcoords\":[{\"line\":{\"colorbar\":{\"outlinewidth\":0,\"ticks\":\"\"}},\"type\":\"parcoords\"}],\"pie\":[{\"automargin\":true,\"type\":\"pie\"}],\"scatter\":[{\"marker\":{\"colorbar\":{\"outlinewidth\":0,\"ticks\":\"\"}},\"type\":\"scatter\"}],\"scatter3d\":[{\"line\":{\"colorbar\":{\"outlinewidth\":0,\"ticks\":\"\"}},\"marker\":{\"colorbar\":{\"outlinewidth\":0,\"ticks\":\"\"}},\"type\":\"scatter3d\"}],\"scattercarpet\":[{\"marker\":{\"colorbar\":{\"outlinewidth\":0,\"ticks\":\"\"}},\"type\":\"scattercarpet\"}],\"scattergeo\":[{\"marker\":{\"colorbar\":{\"outlinewidth\":0,\"ticks\":\"\"}},\"type\":\"scattergeo\"}],\"scattergl\":[{\"marker\":{\"colorbar\":{\"outlinewidth\":0,\"ticks\":\"\"}},\"type\":\"scattergl\"}],\"scattermapbox\":[{\"marker\":{\"colorbar\":{\"outlinewidth\":0,\"ticks\":\"\"}},\"type\":\"scattermapbox\"}],\"scatterpolar\":[{\"marker\":{\"colorbar\":{\"outlinewidth\":0,\"ticks\":\"\"}},\"type\":\"scatterpolar\"}],\"scatterpolargl\":[{\"marker\":{\"colorbar\":{\"outlinewidth\":0,\"ticks\":\"\"}},\"type\":\"scatterpolargl\"}],\"scatterternary\":[{\"marker\":{\"colorbar\":{\"outlinewidth\":0,\"ticks\":\"\"}},\"type\":\"scatterternary\"}],\"surface\":[{\"colorbar\":{\"outlinewidth\":0,\"ticks\":\"\"},\"colorscale\":[[0.0,\"#0d0887\"],[0.1111111111111111,\"#46039f\"],[0.2222222222222222,\"#7201a8\"],[0.3333333333333333,\"#9c179e\"],[0.4444444444444444,\"#bd3786\"],[0.5555555555555556,\"#d8576b\"],[0.6666666666666666,\"#ed7953\"],[0.7777777777777778,\"#fb9f3a\"],[0.8888888888888888,\"#fdca26\"],[1.0,\"#f0f921\"]],\"type\":\"surface\"}],\"table\":[{\"cells\":{\"fill\":{\"color\":\"#EBF0F8\"},\"line\":{\"color\":\"white\"}},\"header\":{\"fill\":{\"color\":\"#C8D4E3\"},\"line\":{\"color\":\"white\"}},\"type\":\"table\"}]},\"layout\":{\"annotationdefaults\":{\"arrowcolor\":\"#2a3f5f\",\"arrowhead\":0,\"arrowwidth\":1},\"autotypenumbers\":\"strict\",\"coloraxis\":{\"colorbar\":{\"outlinewidth\":0,\"ticks\":\"\"}},\"colorscale\":{\"diverging\":[[0,\"#8e0152\"],[0.1,\"#c51b7d\"],[0.2,\"#de77ae\"],[0.3,\"#f1b6da\"],[0.4,\"#fde0ef\"],[0.5,\"#f7f7f7\"],[0.6,\"#e6f5d0\"],[0.7,\"#b8e186\"],[0.8,\"#7fbc41\"],[0.9,\"#4d9221\"],[1,\"#276419\"]],\"sequential\":[[0.0,\"#0d0887\"],[0.1111111111111111,\"#46039f\"],[0.2222222222222222,\"#7201a8\"],[0.3333333333333333,\"#9c179e\"],[0.4444444444444444,\"#bd3786\"],[0.5555555555555556,\"#d8576b\"],[0.6666666666666666,\"#ed7953\"],[0.7777777777777778,\"#fb9f3a\"],[0.8888888888888888,\"#fdca26\"],[1.0,\"#f0f921\"]],\"sequentialminus\":[[0.0,\"#0d0887\"],[0.1111111111111111,\"#46039f\"],[0.2222222222222222,\"#7201a8\"],[0.3333333333333333,\"#9c179e\"],[0.4444444444444444,\"#bd3786\"],[0.5555555555555556,\"#d8576b\"],[0.6666666666666666,\"#ed7953\"],[0.7777777777777778,\"#fb9f3a\"],[0.8888888888888888,\"#fdca26\"],[1.0,\"#f0f921\"]]},\"colorway\":[\"#636efa\",\"#EF553B\",\"#00cc96\",\"#ab63fa\",\"#FFA15A\",\"#19d3f3\",\"#FF6692\",\"#B6E880\",\"#FF97FF\",\"#FECB52\"],\"font\":{\"color\":\"#2a3f5f\"},\"geo\":{\"bgcolor\":\"white\",\"lakecolor\":\"white\",\"landcolor\":\"#E5ECF6\",\"showlakes\":true,\"showland\":true,\"subunitcolor\":\"white\"},\"hoverlabel\":{\"align\":\"left\"},\"hovermode\":\"closest\",\"mapbox\":{\"style\":\"light\"},\"paper_bgcolor\":\"white\",\"plot_bgcolor\":\"#E5ECF6\",\"polar\":{\"angularaxis\":{\"gridcolor\":\"white\",\"linecolor\":\"white\",\"ticks\":\"\"},\"bgcolor\":\"#E5ECF6\",\"radialaxis\":{\"gridcolor\":\"white\",\"linecolor\":\"white\",\"ticks\":\"\"}},\"scene\":{\"xaxis\":{\"backgroundcolor\":\"#E5ECF6\",\"gridcolor\":\"white\",\"gridwidth\":2,\"linecolor\":\"white\",\"showbackground\":true,\"ticks\":\"\",\"zerolinecolor\":\"white\"},\"yaxis\":{\"backgroundcolor\":\"#E5ECF6\",\"gridcolor\":\"white\",\"gridwidth\":2,\"linecolor\":\"white\",\"showbackground\":true,\"ticks\":\"\",\"zerolinecolor\":\"white\"},\"zaxis\":{\"backgroundcolor\":\"#E5ECF6\",\"gridcolor\":\"white\",\"gridwidth\":2,\"linecolor\":\"white\",\"showbackground\":true,\"ticks\":\"\",\"zerolinecolor\":\"white\"}},\"shapedefaults\":{\"line\":{\"color\":\"#2a3f5f\"}},\"ternary\":{\"aaxis\":{\"gridcolor\":\"white\",\"linecolor\":\"white\",\"ticks\":\"\"},\"baxis\":{\"gridcolor\":\"white\",\"linecolor\":\"white\",\"ticks\":\"\"},\"bgcolor\":\"#E5ECF6\",\"caxis\":{\"gridcolor\":\"white\",\"linecolor\":\"white\",\"ticks\":\"\"}},\"title\":{\"x\":0.05},\"xaxis\":{\"automargin\":true,\"gridcolor\":\"white\",\"linecolor\":\"white\",\"ticks\":\"\",\"title\":{\"standoff\":15},\"zerolinecolor\":\"white\",\"zerolinewidth\":2},\"yaxis\":{\"automargin\":true,\"gridcolor\":\"white\",\"linecolor\":\"white\",\"ticks\":\"\",\"title\":{\"standoff\":15},\"zerolinecolor\":\"white\",\"zerolinewidth\":2}}},\"xaxis\":{\"anchor\":\"y\",\"domain\":[0.0,1.0],\"title\":{\"text\":\"x\"}},\"yaxis\":{\"anchor\":\"x\",\"domain\":[0.0,1.0],\"title\":{\"text\":\"y\"}},\"legend\":{\"title\":{\"text\":\"label\"},\"tracegroupgap\":0},\"margin\":{\"t\":60}},                        {\"responsive\": true}                    ).then(function(){\n",
       "                            \n",
       "var gd = document.getElementById('54238326-161f-4268-8504-2a8b25b89710');\n",
       "var x = new MutationObserver(function (mutations, observer) {{\n",
       "        var display = window.getComputedStyle(gd).display;\n",
       "        if (!display || display === 'none') {{\n",
       "            console.log([gd, 'removed!']);\n",
       "            Plotly.purge(gd);\n",
       "            observer.disconnect();\n",
       "        }}\n",
       "}});\n",
       "\n",
       "// Listen for the removal of the full notebook cells\n",
       "var notebookContainer = gd.closest('#notebook-container');\n",
       "if (notebookContainer) {{\n",
       "    x.observe(notebookContainer, {childList: true});\n",
       "}}\n",
       "\n",
       "// Listen for the clearing of the current output cell\n",
       "var outputEl = gd.closest('.output');\n",
       "if (outputEl) {{\n",
       "    x.observe(outputEl, {childList: true});\n",
       "}}\n",
       "\n",
       "                        })                };                });            </script>        </div>"
      ]
     },
     "metadata": {},
     "output_type": "display_data"
    }
   ],
   "source": [
    "px.scatter(circles_df, x='x', y='y', color = 'label')"
   ]
  },
  {
   "cell_type": "code",
   "execution_count": 50,
   "id": "52ef522a-e381-42e1-b321-31b3d2f3b0de",
   "metadata": {},
   "outputs": [
    {
     "data": {
      "application/vnd.jupyter.widget-view+json": {
       "model_id": "eef0b4b5ff1d4cfc91e22d0d297cc3bd",
       "version_major": 2,
       "version_minor": 0
      },
      "text/plain": [
       "interactive(children=(FloatSlider(value=0.0, description='noise_level', max=0.5, step=0.05), Output()), _dom_c…"
      ]
     },
     "metadata": {},
     "output_type": "display_data"
    }
   ],
   "source": [
    "@widgets.interact\n",
    "def plot_noisy_circles(noise_level = widgets.FloatSlider(value=0, min=0, max=0.5, step=0.05)):\n",
    "    df = make_circles_dataframe(1000, noise_level)\n",
    "    return px.scatter(df, x='x', y='y', color = 'label')"
   ]
  },
  {
   "cell_type": "code",
   "execution_count": 51,
   "id": "7c68aa0f-a1d8-44fd-9e00-5a159a5151b2",
   "metadata": {},
   "outputs": [],
   "source": [
    "from sklearn import svm\n",
    "from sklearn.linear_model import LogisticRegression\n",
    "def make_noisy_data_frame(n_samples, noise, shape):\n",
    "    if shape == 'moon':\n",
    "        points, label = make_moons(n_samples=n_samples, noise=noise)\n",
    "        moons_df = pd.DataFrame(points, columns=['x','y'])\n",
    "        moons_df['label'] = label\n",
    "        moons_df.label = moons_df.label.map({0:'A', 1:'B'})\n",
    "        return moons_df\n",
    "    elif shape == 'circle':\n",
    "        return make_circles_dataframe(n_samples=n_samples, noise_level=noise)\n",
    "def init_clf(clf_type, param):\n",
    "    if clf_type == 'log_reg':\n",
    "        return LogisticRegression(penalty='l2', C=param)\n",
    "    elif clf_type == 'svm':\n",
    "        return svm.SVC(kernel='rbf', gamma=param)"
   ]
  },
  {
   "cell_type": "code",
   "execution_count": 52,
   "id": "f86a2ee8-6d36-47ef-b45d-7e9652d251a4",
   "metadata": {},
   "outputs": [],
   "source": [
    "from sklearn.model_selection import train_test_split, StratifiedKFold"
   ]
  },
  {
   "cell_type": "code",
   "execution_count": 53,
   "id": "49a34b66-8d61-4c1f-a7c1-7e0132158835",
   "metadata": {},
   "outputs": [
    {
     "name": "stdout",
     "output_type": "stream",
     "text": [
      "Wall time: 1h 31min 45s\n"
     ]
    },
    {
     "data": {
      "text/html": [
       "<div>\n",
       "<style scoped>\n",
       "    .dataframe tbody tr th:only-of-type {\n",
       "        vertical-align: middle;\n",
       "    }\n",
       "\n",
       "    .dataframe tbody tr th {\n",
       "        vertical-align: top;\n",
       "    }\n",
       "\n",
       "    .dataframe thead th {\n",
       "        text-align: right;\n",
       "    }\n",
       "</style>\n",
       "<table border=\"1\" class=\"dataframe\">\n",
       "  <thead>\n",
       "    <tr style=\"text-align: right;\">\n",
       "      <th></th>\n",
       "      <th>amount - N</th>\n",
       "      <th>noise level - NL</th>\n",
       "      <th>shape</th>\n",
       "      <th>CLF_NAME</th>\n",
       "      <th>param - gamma / regularization parameter c</th>\n",
       "      <th>k</th>\n",
       "      <th>train accuracy_score - TRE</th>\n",
       "      <th>test accuracy_score - TESTE</th>\n",
       "      <th>E_DIFF</th>\n",
       "    </tr>\n",
       "  </thead>\n",
       "  <tbody>\n",
       "    <tr>\n",
       "      <th>0</th>\n",
       "      <td>5</td>\n",
       "      <td>0.0%</td>\n",
       "      <td>moon</td>\n",
       "      <td>log_reg</td>\n",
       "      <td>0.001</td>\n",
       "      <td>0</td>\n",
       "      <td>66.7%</td>\n",
       "      <td>50.0%</td>\n",
       "      <td>16.7%</td>\n",
       "    </tr>\n",
       "    <tr>\n",
       "      <th>1</th>\n",
       "      <td>5</td>\n",
       "      <td>0.0%</td>\n",
       "      <td>moon</td>\n",
       "      <td>log_reg</td>\n",
       "      <td>0.010</td>\n",
       "      <td>0</td>\n",
       "      <td>66.7%</td>\n",
       "      <td>50.0%</td>\n",
       "      <td>16.7%</td>\n",
       "    </tr>\n",
       "    <tr>\n",
       "      <th>2</th>\n",
       "      <td>5</td>\n",
       "      <td>0.0%</td>\n",
       "      <td>moon</td>\n",
       "      <td>log_reg</td>\n",
       "      <td>0.100</td>\n",
       "      <td>0</td>\n",
       "      <td>66.7%</td>\n",
       "      <td>50.0%</td>\n",
       "      <td>16.7%</td>\n",
       "    </tr>\n",
       "    <tr>\n",
       "      <th>3</th>\n",
       "      <td>5</td>\n",
       "      <td>0.0%</td>\n",
       "      <td>moon</td>\n",
       "      <td>log_reg</td>\n",
       "      <td>1.000</td>\n",
       "      <td>0</td>\n",
       "      <td>66.7%</td>\n",
       "      <td>50.0%</td>\n",
       "      <td>16.7%</td>\n",
       "    </tr>\n",
       "    <tr>\n",
       "      <th>4</th>\n",
       "      <td>5</td>\n",
       "      <td>0.0%</td>\n",
       "      <td>moon</td>\n",
       "      <td>log_reg</td>\n",
       "      <td>10.000</td>\n",
       "      <td>0</td>\n",
       "      <td>66.7%</td>\n",
       "      <td>50.0%</td>\n",
       "      <td>16.7%</td>\n",
       "    </tr>\n",
       "    <tr>\n",
       "      <th>...</th>\n",
       "      <td>...</td>\n",
       "      <td>...</td>\n",
       "      <td>...</td>\n",
       "      <td>...</td>\n",
       "      <td>...</td>\n",
       "      <td>...</td>\n",
       "      <td>...</td>\n",
       "      <td>...</td>\n",
       "      <td>...</td>\n",
       "    </tr>\n",
       "    <tr>\n",
       "      <th>10075</th>\n",
       "      <td>10000</td>\n",
       "      <td>50.0%</td>\n",
       "      <td>circle</td>\n",
       "      <td>svm</td>\n",
       "      <td>0.100</td>\n",
       "      <td>9</td>\n",
       "      <td>57.6%</td>\n",
       "      <td>55.8%</td>\n",
       "      <td>1.8%</td>\n",
       "    </tr>\n",
       "    <tr>\n",
       "      <th>10076</th>\n",
       "      <td>10000</td>\n",
       "      <td>50.0%</td>\n",
       "      <td>circle</td>\n",
       "      <td>svm</td>\n",
       "      <td>1.000</td>\n",
       "      <td>9</td>\n",
       "      <td>58.2%</td>\n",
       "      <td>55.5%</td>\n",
       "      <td>2.7%</td>\n",
       "    </tr>\n",
       "    <tr>\n",
       "      <th>10077</th>\n",
       "      <td>10000</td>\n",
       "      <td>50.0%</td>\n",
       "      <td>circle</td>\n",
       "      <td>svm</td>\n",
       "      <td>10.000</td>\n",
       "      <td>9</td>\n",
       "      <td>59.1%</td>\n",
       "      <td>55.1%</td>\n",
       "      <td>4.0%</td>\n",
       "    </tr>\n",
       "    <tr>\n",
       "      <th>10078</th>\n",
       "      <td>10000</td>\n",
       "      <td>50.0%</td>\n",
       "      <td>circle</td>\n",
       "      <td>svm</td>\n",
       "      <td>100.000</td>\n",
       "      <td>9</td>\n",
       "      <td>67.7%</td>\n",
       "      <td>51.6%</td>\n",
       "      <td>16.1%</td>\n",
       "    </tr>\n",
       "    <tr>\n",
       "      <th>10079</th>\n",
       "      <td>10000</td>\n",
       "      <td>50.0%</td>\n",
       "      <td>circle</td>\n",
       "      <td>svm</td>\n",
       "      <td>1000.000</td>\n",
       "      <td>9</td>\n",
       "      <td>85.9%</td>\n",
       "      <td>50.5%</td>\n",
       "      <td>35.4%</td>\n",
       "    </tr>\n",
       "  </tbody>\n",
       "</table>\n",
       "<p>10080 rows × 9 columns</p>\n",
       "</div>"
      ],
      "text/plain": [
       "       amount - N noise level - NL   shape CLF_NAME  \\\n",
       "0               5             0.0%    moon  log_reg   \n",
       "1               5             0.0%    moon  log_reg   \n",
       "2               5             0.0%    moon  log_reg   \n",
       "3               5             0.0%    moon  log_reg   \n",
       "4               5             0.0%    moon  log_reg   \n",
       "...           ...              ...     ...      ...   \n",
       "10075       10000            50.0%  circle      svm   \n",
       "10076       10000            50.0%  circle      svm   \n",
       "10077       10000            50.0%  circle      svm   \n",
       "10078       10000            50.0%  circle      svm   \n",
       "10079       10000            50.0%  circle      svm   \n",
       "\n",
       "       param - gamma / regularization parameter c  k  \\\n",
       "0                                           0.001  0   \n",
       "1                                           0.010  0   \n",
       "2                                           0.100  0   \n",
       "3                                           1.000  0   \n",
       "4                                          10.000  0   \n",
       "...                                           ... ..   \n",
       "10075                                       0.100  9   \n",
       "10076                                       1.000  9   \n",
       "10077                                      10.000  9   \n",
       "10078                                     100.000  9   \n",
       "10079                                    1000.000  9   \n",
       "\n",
       "      train accuracy_score - TRE test accuracy_score - TESTE E_DIFF  \n",
       "0                          66.7%                       50.0%  16.7%  \n",
       "1                          66.7%                       50.0%  16.7%  \n",
       "2                          66.7%                       50.0%  16.7%  \n",
       "3                          66.7%                       50.0%  16.7%  \n",
       "4                          66.7%                       50.0%  16.7%  \n",
       "...                          ...                         ...    ...  \n",
       "10075                      57.6%                       55.8%   1.8%  \n",
       "10076                      58.2%                       55.5%   2.7%  \n",
       "10077                      59.1%                       55.1%   4.0%  \n",
       "10078                      67.7%                       51.6%  16.1%  \n",
       "10079                      85.9%                       50.5%  35.4%  \n",
       "\n",
       "[10080 rows x 9 columns]"
      ]
     },
     "execution_count": 53,
     "metadata": {},
     "output_type": "execute_result"
    }
   ],
   "source": [
    "%%time\n",
    "from sklearn.model_selection import train_test_split, StratifiedKFold, cross_val_score\n",
    "from sklearn.metrics import accuracy_score\n",
    "\n",
    "c_range = [0.001, 0.01, 0.1, 1, 10, 100, 1000]\n",
    "gamma_range = [1e-3, 1e-2, 1e-1, 1, 1e1, 1e2, 1e3]\n",
    "hyper_params = {'log_reg':c_range,'svm':gamma_range}\n",
    "\n",
    "\n",
    "n_range = [5,10,50,100,1000, 10000]\n",
    "nl_range = [0,0.1,0.2,0.3,0.4, 0.5]\n",
    "clf_types = ['log_reg','svm']\n",
    "k_folds = 10\n",
    "shapes = ['moon','circle']\n",
    "results = []\n",
    "results_prct = []\n",
    "# ADD TEST TO TRAINING / VALIDATION ACCURACY COMPARISION\n",
    "# THIS IS APPARENTLY AS SIMPLE AS CHANGING THAT FUNCTION VVVVVV\n",
    "for amount in n_range:\n",
    "    for nl in nl_range:\n",
    "        for shape in shapes:\n",
    "            df = make_noisy_data_frame(n_samples=amount, noise=nl, shape=shape)\n",
    "            for k in range(k_folds): # SWITCH TO OTHER K_FOLD_CV\n",
    "                x_train, x_test, y_train, y_test,label_train, label_test = train_test_split(df.x, df.y, df.label, test_size=0.3, random_state=k, stratify=df.label)\n",
    "                x_train = pd.DataFrame(data={'x':x_train, 'y':y_train})\n",
    "                x_test = pd.DataFrame(data={'x':x_test, 'y':y_test})\n",
    "                y_train = pd.DataFrame(data={'label':label_train})\n",
    "                y_test = pd.DataFrame(data={'label':label_test})\n",
    "                for clf_type in clf_types:\n",
    "                    for param in hyper_params[clf_type]:\n",
    "                        clf = init_clf(clf_type, param)\n",
    "                        clf.fit(x_train,label_train)\n",
    "                        y_test_pred = clf.predict(x_test)\n",
    "                        y_train_pred = clf.predict(x_train)\n",
    "                        results.append((amount, nl, shape, clf_type, param, k, accuracy_score(y_train, y_train_pred), accuracy_score(y_test, y_test_pred), (accuracy_score(y_train, y_train_pred)-accuracy_score(y_test, y_test_pred))))\n",
    "                        results_prct.append((amount, '{:.1%}'.format(nl), shape, clf_type, param, k, '{:.1%}'.format(accuracy_score(y_train, y_train_pred)), '{:.1%}'.format(accuracy_score(y_test, y_test_pred)),'{:.1%}'.format((accuracy_score(y_train, y_train_pred)-accuracy_score(y_test, y_test_pred)))))\n",
    "results = pd.DataFrame(results, columns=['amount - N', 'noise level - NL', 'shape', 'CLF_NAME', 'param - gamma / regularization parameter c', 'k', 'train accuracy_score - TRE', 'test accuracy_score - TESTE','E_DIFF'])\n",
    "results_prct = pd.DataFrame(results_prct, columns=['amount - N', 'noise level - NL', 'shape', 'CLF_NAME', 'param - gamma / regularization parameter c', 'k', 'train accuracy_score - TRE', 'test accuracy_score - TESTE','E_DIFF'])\n",
    "results_prct\n"
   ]
  },
  {
   "cell_type": "code",
   "execution_count": 84,
   "id": "28b4827b-542e-4205-a958-1197abbc4d6e",
   "metadata": {},
   "outputs": [],
   "source": [
    "# results.to_csv('data/results')\n",
    "# results_prct.to_csv('data/results_prct')\n",
    "# test_res = pd.read_csv('data/results')\n",
    "# test_res=test_res.loc[:,'amount - N':]"
   ]
  },
  {
   "cell_type": "code",
   "execution_count": 83,
   "id": "18dd475a-03f5-4a0f-a555-e00d236fba50",
   "metadata": {},
   "outputs": [
    {
     "data": {
      "text/html": [
       "<div>\n",
       "<style scoped>\n",
       "    .dataframe tbody tr th:only-of-type {\n",
       "        vertical-align: middle;\n",
       "    }\n",
       "\n",
       "    .dataframe tbody tr th {\n",
       "        vertical-align: top;\n",
       "    }\n",
       "\n",
       "    .dataframe thead th {\n",
       "        text-align: right;\n",
       "    }\n",
       "</style>\n",
       "<table border=\"1\" class=\"dataframe\">\n",
       "  <thead>\n",
       "    <tr style=\"text-align: right;\">\n",
       "      <th></th>\n",
       "      <th>amount - N</th>\n",
       "      <th>noise level - NL</th>\n",
       "      <th>shape</th>\n",
       "      <th>CLF_NAME</th>\n",
       "      <th>param - gamma / regularization parameter c</th>\n",
       "      <th>k</th>\n",
       "      <th>train accuracy_score - TRE</th>\n",
       "      <th>test accuracy_score - TESTE</th>\n",
       "      <th>E_DIFF</th>\n",
       "    </tr>\n",
       "  </thead>\n",
       "  <tbody>\n",
       "    <tr>\n",
       "      <th>0</th>\n",
       "      <td>5</td>\n",
       "      <td>0.0</td>\n",
       "      <td>moon</td>\n",
       "      <td>log_reg</td>\n",
       "      <td>0.001</td>\n",
       "      <td>0</td>\n",
       "      <td>0.666667</td>\n",
       "      <td>0.500000</td>\n",
       "      <td>0.166667</td>\n",
       "    </tr>\n",
       "    <tr>\n",
       "      <th>1</th>\n",
       "      <td>5</td>\n",
       "      <td>0.0</td>\n",
       "      <td>moon</td>\n",
       "      <td>log_reg</td>\n",
       "      <td>0.010</td>\n",
       "      <td>0</td>\n",
       "      <td>0.666667</td>\n",
       "      <td>0.500000</td>\n",
       "      <td>0.166667</td>\n",
       "    </tr>\n",
       "    <tr>\n",
       "      <th>2</th>\n",
       "      <td>5</td>\n",
       "      <td>0.0</td>\n",
       "      <td>moon</td>\n",
       "      <td>log_reg</td>\n",
       "      <td>0.100</td>\n",
       "      <td>0</td>\n",
       "      <td>0.666667</td>\n",
       "      <td>0.500000</td>\n",
       "      <td>0.166667</td>\n",
       "    </tr>\n",
       "    <tr>\n",
       "      <th>3</th>\n",
       "      <td>5</td>\n",
       "      <td>0.0</td>\n",
       "      <td>moon</td>\n",
       "      <td>log_reg</td>\n",
       "      <td>1.000</td>\n",
       "      <td>0</td>\n",
       "      <td>0.666667</td>\n",
       "      <td>0.500000</td>\n",
       "      <td>0.166667</td>\n",
       "    </tr>\n",
       "    <tr>\n",
       "      <th>4</th>\n",
       "      <td>5</td>\n",
       "      <td>0.0</td>\n",
       "      <td>moon</td>\n",
       "      <td>log_reg</td>\n",
       "      <td>10.000</td>\n",
       "      <td>0</td>\n",
       "      <td>0.666667</td>\n",
       "      <td>0.500000</td>\n",
       "      <td>0.166667</td>\n",
       "    </tr>\n",
       "    <tr>\n",
       "      <th>...</th>\n",
       "      <td>...</td>\n",
       "      <td>...</td>\n",
       "      <td>...</td>\n",
       "      <td>...</td>\n",
       "      <td>...</td>\n",
       "      <td>...</td>\n",
       "      <td>...</td>\n",
       "      <td>...</td>\n",
       "      <td>...</td>\n",
       "    </tr>\n",
       "    <tr>\n",
       "      <th>10075</th>\n",
       "      <td>10000</td>\n",
       "      <td>0.5</td>\n",
       "      <td>circle</td>\n",
       "      <td>svm</td>\n",
       "      <td>0.100</td>\n",
       "      <td>9</td>\n",
       "      <td>0.575714</td>\n",
       "      <td>0.558000</td>\n",
       "      <td>0.017714</td>\n",
       "    </tr>\n",
       "    <tr>\n",
       "      <th>10076</th>\n",
       "      <td>10000</td>\n",
       "      <td>0.5</td>\n",
       "      <td>circle</td>\n",
       "      <td>svm</td>\n",
       "      <td>1.000</td>\n",
       "      <td>9</td>\n",
       "      <td>0.581714</td>\n",
       "      <td>0.554667</td>\n",
       "      <td>0.027048</td>\n",
       "    </tr>\n",
       "    <tr>\n",
       "      <th>10077</th>\n",
       "      <td>10000</td>\n",
       "      <td>0.5</td>\n",
       "      <td>circle</td>\n",
       "      <td>svm</td>\n",
       "      <td>10.000</td>\n",
       "      <td>9</td>\n",
       "      <td>0.590857</td>\n",
       "      <td>0.550667</td>\n",
       "      <td>0.040190</td>\n",
       "    </tr>\n",
       "    <tr>\n",
       "      <th>10078</th>\n",
       "      <td>10000</td>\n",
       "      <td>0.5</td>\n",
       "      <td>circle</td>\n",
       "      <td>svm</td>\n",
       "      <td>100.000</td>\n",
       "      <td>9</td>\n",
       "      <td>0.677143</td>\n",
       "      <td>0.516000</td>\n",
       "      <td>0.161143</td>\n",
       "    </tr>\n",
       "    <tr>\n",
       "      <th>10079</th>\n",
       "      <td>10000</td>\n",
       "      <td>0.5</td>\n",
       "      <td>circle</td>\n",
       "      <td>svm</td>\n",
       "      <td>1000.000</td>\n",
       "      <td>9</td>\n",
       "      <td>0.859143</td>\n",
       "      <td>0.505333</td>\n",
       "      <td>0.353810</td>\n",
       "    </tr>\n",
       "  </tbody>\n",
       "</table>\n",
       "<p>10080 rows × 9 columns</p>\n",
       "</div>"
      ],
      "text/plain": [
       "       amount - N  noise level - NL   shape CLF_NAME  \\\n",
       "0               5               0.0    moon  log_reg   \n",
       "1               5               0.0    moon  log_reg   \n",
       "2               5               0.0    moon  log_reg   \n",
       "3               5               0.0    moon  log_reg   \n",
       "4               5               0.0    moon  log_reg   \n",
       "...           ...               ...     ...      ...   \n",
       "10075       10000               0.5  circle      svm   \n",
       "10076       10000               0.5  circle      svm   \n",
       "10077       10000               0.5  circle      svm   \n",
       "10078       10000               0.5  circle      svm   \n",
       "10079       10000               0.5  circle      svm   \n",
       "\n",
       "       param - gamma / regularization parameter c  k  \\\n",
       "0                                           0.001  0   \n",
       "1                                           0.010  0   \n",
       "2                                           0.100  0   \n",
       "3                                           1.000  0   \n",
       "4                                          10.000  0   \n",
       "...                                           ... ..   \n",
       "10075                                       0.100  9   \n",
       "10076                                       1.000  9   \n",
       "10077                                      10.000  9   \n",
       "10078                                     100.000  9   \n",
       "10079                                    1000.000  9   \n",
       "\n",
       "       train accuracy_score - TRE  test accuracy_score - TESTE    E_DIFF  \n",
       "0                        0.666667                     0.500000  0.166667  \n",
       "1                        0.666667                     0.500000  0.166667  \n",
       "2                        0.666667                     0.500000  0.166667  \n",
       "3                        0.666667                     0.500000  0.166667  \n",
       "4                        0.666667                     0.500000  0.166667  \n",
       "...                           ...                          ...       ...  \n",
       "10075                    0.575714                     0.558000  0.017714  \n",
       "10076                    0.581714                     0.554667  0.027048  \n",
       "10077                    0.590857                     0.550667  0.040190  \n",
       "10078                    0.677143                     0.516000  0.161143  \n",
       "10079                    0.859143                     0.505333  0.353810  \n",
       "\n",
       "[10080 rows x 9 columns]"
      ]
     },
     "execution_count": 83,
     "metadata": {},
     "output_type": "execute_result"
    }
   ],
   "source": [
    "results"
   ]
  },
  {
   "cell_type": "markdown",
   "id": "150f068a-594b-4e3a-b195-21890a381b3a",
   "metadata": {},
   "source": [
    "### Analysing the expermient results"
   ]
  },
  {
   "cell_type": "markdown",
   "id": "948b62e8-8672-45d0-9d20-18643916d876",
   "metadata": {},
   "source": [
    "### Answers:"
   ]
  },
  {
   "cell_type": "markdown",
   "id": "cddff9f4-0806-49bb-9d3c-ee5f67c7120c",
   "metadata": {},
   "source": [
    "#### Q1 - What is the best model and model params? How stable is it?"
   ]
  },
  {
   "cell_type": "code",
   "execution_count": 229,
   "id": "9633eb3d-cb6f-46d6-9a01-b3f744ee1d5c",
   "metadata": {},
   "outputs": [
    {
     "data": {
      "text/html": [
       "<div>\n",
       "<style scoped>\n",
       "    .dataframe tbody tr th:only-of-type {\n",
       "        vertical-align: middle;\n",
       "    }\n",
       "\n",
       "    .dataframe tbody tr th {\n",
       "        vertical-align: top;\n",
       "    }\n",
       "\n",
       "    .dataframe thead tr th {\n",
       "        text-align: left;\n",
       "    }\n",
       "\n",
       "    .dataframe thead tr:last-of-type th {\n",
       "        text-align: right;\n",
       "    }\n",
       "</style>\n",
       "<table border=\"1\" class=\"dataframe\">\n",
       "  <thead>\n",
       "    <tr>\n",
       "      <th></th>\n",
       "      <th colspan=\"6\" halign=\"left\">mean</th>\n",
       "      <th colspan=\"6\" halign=\"left\">std</th>\n",
       "    </tr>\n",
       "    <tr>\n",
       "      <th>NL</th>\n",
       "      <th>0.0</th>\n",
       "      <th>0.1</th>\n",
       "      <th>0.2</th>\n",
       "      <th>0.3</th>\n",
       "      <th>0.4</th>\n",
       "      <th>0.5</th>\n",
       "      <th>0.0</th>\n",
       "      <th>0.1</th>\n",
       "      <th>0.2</th>\n",
       "      <th>0.3</th>\n",
       "      <th>0.4</th>\n",
       "      <th>0.5</th>\n",
       "    </tr>\n",
       "    <tr>\n",
       "      <th>param</th>\n",
       "      <th></th>\n",
       "      <th></th>\n",
       "      <th></th>\n",
       "      <th></th>\n",
       "      <th></th>\n",
       "      <th></th>\n",
       "      <th></th>\n",
       "      <th></th>\n",
       "      <th></th>\n",
       "      <th></th>\n",
       "      <th></th>\n",
       "      <th></th>\n",
       "    </tr>\n",
       "  </thead>\n",
       "  <tbody>\n",
       "    <tr>\n",
       "      <th>0.001</th>\n",
       "      <td>0.535914</td>\n",
       "      <td>0.538850</td>\n",
       "      <td>0.532614</td>\n",
       "      <td>0.529986</td>\n",
       "      <td>0.541458</td>\n",
       "      <td>0.543078</td>\n",
       "      <td>0.172782</td>\n",
       "      <td>0.171835</td>\n",
       "      <td>0.166401</td>\n",
       "      <td>0.167808</td>\n",
       "      <td>0.169343</td>\n",
       "      <td>0.167883</td>\n",
       "    </tr>\n",
       "    <tr>\n",
       "      <th>0.010</th>\n",
       "      <td>0.555967</td>\n",
       "      <td>0.552953</td>\n",
       "      <td>0.554375</td>\n",
       "      <td>0.546872</td>\n",
       "      <td>0.555081</td>\n",
       "      <td>0.562625</td>\n",
       "      <td>0.188569</td>\n",
       "      <td>0.181447</td>\n",
       "      <td>0.177841</td>\n",
       "      <td>0.176755</td>\n",
       "      <td>0.171387</td>\n",
       "      <td>0.171873</td>\n",
       "    </tr>\n",
       "    <tr>\n",
       "      <th>0.100</th>\n",
       "      <td>0.660239</td>\n",
       "      <td>0.651597</td>\n",
       "      <td>0.620506</td>\n",
       "      <td>0.594017</td>\n",
       "      <td>0.608686</td>\n",
       "      <td>0.573828</td>\n",
       "      <td>0.251597</td>\n",
       "      <td>0.221875</td>\n",
       "      <td>0.203887</td>\n",
       "      <td>0.196944</td>\n",
       "      <td>0.184844</td>\n",
       "      <td>0.176535</td>\n",
       "    </tr>\n",
       "    <tr>\n",
       "      <th>1.000</th>\n",
       "      <td>0.733333</td>\n",
       "      <td>0.696717</td>\n",
       "      <td>0.617944</td>\n",
       "      <td>0.636739</td>\n",
       "      <td>0.616900</td>\n",
       "      <td>0.552022</td>\n",
       "      <td>0.323525</td>\n",
       "      <td>0.286219</td>\n",
       "      <td>0.281698</td>\n",
       "      <td>0.210770</td>\n",
       "      <td>0.215358</td>\n",
       "      <td>0.227203</td>\n",
       "    </tr>\n",
       "    <tr>\n",
       "      <th>10.000</th>\n",
       "      <td>0.746944</td>\n",
       "      <td>0.707519</td>\n",
       "      <td>0.641792</td>\n",
       "      <td>0.625775</td>\n",
       "      <td>0.579714</td>\n",
       "      <td>0.547419</td>\n",
       "      <td>0.328551</td>\n",
       "      <td>0.281598</td>\n",
       "      <td>0.246623</td>\n",
       "      <td>0.220713</td>\n",
       "      <td>0.200253</td>\n",
       "      <td>0.201729</td>\n",
       "    </tr>\n",
       "    <tr>\n",
       "      <th>100.000</th>\n",
       "      <td>0.746944</td>\n",
       "      <td>0.683753</td>\n",
       "      <td>0.615439</td>\n",
       "      <td>0.588950</td>\n",
       "      <td>0.557589</td>\n",
       "      <td>0.534189</td>\n",
       "      <td>0.279438</td>\n",
       "      <td>0.261572</td>\n",
       "      <td>0.208578</td>\n",
       "      <td>0.199301</td>\n",
       "      <td>0.172280</td>\n",
       "      <td>0.155516</td>\n",
       "    </tr>\n",
       "    <tr>\n",
       "      <th>1000.000</th>\n",
       "      <td>0.705000</td>\n",
       "      <td>0.617703</td>\n",
       "      <td>0.554233</td>\n",
       "      <td>0.528719</td>\n",
       "      <td>0.525828</td>\n",
       "      <td>0.506394</td>\n",
       "      <td>0.279176</td>\n",
       "      <td>0.219663</td>\n",
       "      <td>0.185526</td>\n",
       "      <td>0.158614</td>\n",
       "      <td>0.133219</td>\n",
       "      <td>0.120160</td>\n",
       "    </tr>\n",
       "  </tbody>\n",
       "</table>\n",
       "</div>"
      ],
      "text/plain": [
       "              mean                                                    \\\n",
       "NL             0.0       0.1       0.2       0.3       0.4       0.5   \n",
       "param                                                                  \n",
       "0.001     0.535914  0.538850  0.532614  0.529986  0.541458  0.543078   \n",
       "0.010     0.555967  0.552953  0.554375  0.546872  0.555081  0.562625   \n",
       "0.100     0.660239  0.651597  0.620506  0.594017  0.608686  0.573828   \n",
       "1.000     0.733333  0.696717  0.617944  0.636739  0.616900  0.552022   \n",
       "10.000    0.746944  0.707519  0.641792  0.625775  0.579714  0.547419   \n",
       "100.000   0.746944  0.683753  0.615439  0.588950  0.557589  0.534189   \n",
       "1000.000  0.705000  0.617703  0.554233  0.528719  0.525828  0.506394   \n",
       "\n",
       "               std                                                    \n",
       "NL             0.0       0.1       0.2       0.3       0.4       0.5  \n",
       "param                                                                 \n",
       "0.001     0.172782  0.171835  0.166401  0.167808  0.169343  0.167883  \n",
       "0.010     0.188569  0.181447  0.177841  0.176755  0.171387  0.171873  \n",
       "0.100     0.251597  0.221875  0.203887  0.196944  0.184844  0.176535  \n",
       "1.000     0.323525  0.286219  0.281698  0.210770  0.215358  0.227203  \n",
       "10.000    0.328551  0.281598  0.246623  0.220713  0.200253  0.201729  \n",
       "100.000   0.279438  0.261572  0.208578  0.199301  0.172280  0.155516  \n",
       "1000.000  0.279176  0.219663  0.185526  0.158614  0.133219  0.120160  "
      ]
     },
     "execution_count": 229,
     "metadata": {},
     "output_type": "execute_result"
    }
   ],
   "source": [
    "# results.rename({'amount - N':'N', 'noise level - NL':'NL', 'shape':'shape', 'CLF_NAME':'CLF_NAME',\n",
    "#        'param - gamma / regularization parameter c':'param', 'k':'k',\n",
    "#        'train accuracy_score - TRE':'TRE' , 'test accuracy_score - TESTE':'TESTE' , 'E_DIFF':'E_DIFF'}, axis=1, inplace=True) #errors='raise'\n",
    "nl_label = 'NL'\n",
    "teste_label = 'TESTE'\n",
    "results.query(f' {nl_label} > 0.0 and {teste_label} < 1.0', engine='python').TESTE.idxmax() #, engine='python'\n",
    "# results.loc[8691]\n",
    "# results.dtypes\n",
    "# results\n",
    "results.groupby(['CLF_NAME','param']).TESTE.agg(['mean','std'])\n",
    "results[results.CLF_NAME=='svm'].groupby(['NL','param']).TESTE.agg(['mean','std']).unstack('NL')"
   ]
  },
  {
   "cell_type": "markdown",
   "id": "60fba497-f9dd-43e9-bf5d-842d5712b6e6",
   "metadata": {},
   "source": [
    "It appears that the best model is svm, and for most NL considered the cest results are given by gamma=1 or 0.1."
   ]
  },
  {
   "cell_type": "markdown",
   "id": "7ec8d198-d653-4a28-bbaf-1f5bd4c24e61",
   "metadata": {},
   "source": [
    "#### Q2 - What is the most stable model and model params? How good is it?"
   ]
  },
  {
   "cell_type": "code",
   "execution_count": 177,
   "id": "750df588-b91b-4d5d-89b9-ed7f7f393db8",
   "metadata": {},
   "outputs": [
    {
     "data": {
      "text/html": [
       "<div>\n",
       "<style scoped>\n",
       "    .dataframe tbody tr th:only-of-type {\n",
       "        vertical-align: middle;\n",
       "    }\n",
       "\n",
       "    .dataframe tbody tr th {\n",
       "        vertical-align: top;\n",
       "    }\n",
       "\n",
       "    .dataframe thead th {\n",
       "        text-align: right;\n",
       "    }\n",
       "</style>\n",
       "<table border=\"1\" class=\"dataframe\">\n",
       "  <thead>\n",
       "    <tr style=\"text-align: right;\">\n",
       "      <th></th>\n",
       "      <th></th>\n",
       "      <th>mean</th>\n",
       "      <th>std</th>\n",
       "    </tr>\n",
       "    <tr>\n",
       "      <th>CLF_NAME</th>\n",
       "      <th>param</th>\n",
       "      <th></th>\n",
       "      <th></th>\n",
       "    </tr>\n",
       "  </thead>\n",
       "  <tbody>\n",
       "    <tr>\n",
       "      <th rowspan=\"7\" valign=\"top\">log_reg</th>\n",
       "      <th>0.001</th>\n",
       "      <td>0.532356</td>\n",
       "      <td>0.164810</td>\n",
       "    </tr>\n",
       "    <tr>\n",
       "      <th>0.010</th>\n",
       "      <td>0.558880</td>\n",
       "      <td>0.181731</td>\n",
       "    </tr>\n",
       "    <tr>\n",
       "      <th>0.100</th>\n",
       "      <td>0.567916</td>\n",
       "      <td>0.198286</td>\n",
       "    </tr>\n",
       "    <tr>\n",
       "      <th>1.000</th>\n",
       "      <td>0.581605</td>\n",
       "      <td>0.233434</td>\n",
       "    </tr>\n",
       "    <tr>\n",
       "      <th>10.000</th>\n",
       "      <td>0.561698</td>\n",
       "      <td>0.265622</td>\n",
       "    </tr>\n",
       "    <tr>\n",
       "      <th>100.000</th>\n",
       "      <td>0.554713</td>\n",
       "      <td>0.270126</td>\n",
       "    </tr>\n",
       "    <tr>\n",
       "      <th>1000.000</th>\n",
       "      <td>0.554204</td>\n",
       "      <td>0.270088</td>\n",
       "    </tr>\n",
       "    <tr>\n",
       "      <th rowspan=\"7\" valign=\"top\">svm</th>\n",
       "      <th>0.001</th>\n",
       "      <td>0.536983</td>\n",
       "      <td>0.168832</td>\n",
       "    </tr>\n",
       "    <tr>\n",
       "      <th>0.010</th>\n",
       "      <td>0.554645</td>\n",
       "      <td>0.177516</td>\n",
       "    </tr>\n",
       "    <tr>\n",
       "      <th>0.100</th>\n",
       "      <td>0.618145</td>\n",
       "      <td>0.208951</td>\n",
       "    </tr>\n",
       "    <tr>\n",
       "      <th>1.000</th>\n",
       "      <td>0.642276</td>\n",
       "      <td>0.266528</td>\n",
       "    </tr>\n",
       "    <tr>\n",
       "      <th>10.000</th>\n",
       "      <td>0.641527</td>\n",
       "      <td>0.259288</td>\n",
       "    </tr>\n",
       "    <tr>\n",
       "      <th>100.000</th>\n",
       "      <td>0.621144</td>\n",
       "      <td>0.228796</td>\n",
       "    </tr>\n",
       "    <tr>\n",
       "      <th>1000.000</th>\n",
       "      <td>0.572980</td>\n",
       "      <td>0.202021</td>\n",
       "    </tr>\n",
       "  </tbody>\n",
       "</table>\n",
       "</div>"
      ],
      "text/plain": [
       "                       mean       std\n",
       "CLF_NAME param                       \n",
       "log_reg  0.001     0.532356  0.164810\n",
       "         0.010     0.558880  0.181731\n",
       "         0.100     0.567916  0.198286\n",
       "         1.000     0.581605  0.233434\n",
       "         10.000    0.561698  0.265622\n",
       "         100.000   0.554713  0.270126\n",
       "         1000.000  0.554204  0.270088\n",
       "svm      0.001     0.536983  0.168832\n",
       "         0.010     0.554645  0.177516\n",
       "         0.100     0.618145  0.208951\n",
       "         1.000     0.642276  0.266528\n",
       "         10.000    0.641527  0.259288\n",
       "         100.000   0.621144  0.228796\n",
       "         1000.000  0.572980  0.202021"
      ]
     },
     "execution_count": 177,
     "metadata": {},
     "output_type": "execute_result"
    }
   ],
   "source": [
    "results.groupby(['CLF_NAME','param']).TESTE.agg(['mean','std'])"
   ]
  },
  {
   "cell_type": "markdown",
   "id": "5486d124-e4c4-4d12-b5b6-1cf126eed65d",
   "metadata": {},
   "source": [
    "Apparently the most stable model (defined in this case by the lowest standard deviation) is the logistic regression model, with a regularization parameter of 0.001.\n",
    "With respect to how good it is, it's barely better than a random guess, with an accuracy score of 53.23%."
   ]
  },
  {
   "cell_type": "markdown",
   "id": "c8e1fa81-7afd-4a01-953f-0fb6be9e169a",
   "metadata": {},
   "source": [
    "#### Q3 - Does regularization help for linear models?"
   ]
  },
  {
   "cell_type": "code",
   "execution_count": 178,
   "id": "bb0e2876-47ed-44b0-bdcb-50945ed46d64",
   "metadata": {},
   "outputs": [
    {
     "data": {
      "text/html": [
       "<div>\n",
       "<style scoped>\n",
       "    .dataframe tbody tr th:only-of-type {\n",
       "        vertical-align: middle;\n",
       "    }\n",
       "\n",
       "    .dataframe tbody tr th {\n",
       "        vertical-align: top;\n",
       "    }\n",
       "\n",
       "    .dataframe thead th {\n",
       "        text-align: right;\n",
       "    }\n",
       "</style>\n",
       "<table border=\"1\" class=\"dataframe\">\n",
       "  <thead>\n",
       "    <tr style=\"text-align: right;\">\n",
       "      <th></th>\n",
       "      <th></th>\n",
       "      <th>mean</th>\n",
       "      <th>std</th>\n",
       "    </tr>\n",
       "    <tr>\n",
       "      <th>CLF_NAME</th>\n",
       "      <th>param</th>\n",
       "      <th></th>\n",
       "      <th></th>\n",
       "    </tr>\n",
       "  </thead>\n",
       "  <tbody>\n",
       "    <tr>\n",
       "      <th rowspan=\"7\" valign=\"top\">log_reg</th>\n",
       "      <th>0.001</th>\n",
       "      <td>0.532356</td>\n",
       "      <td>0.164810</td>\n",
       "    </tr>\n",
       "    <tr>\n",
       "      <th>0.010</th>\n",
       "      <td>0.558880</td>\n",
       "      <td>0.181731</td>\n",
       "    </tr>\n",
       "    <tr>\n",
       "      <th>0.100</th>\n",
       "      <td>0.567916</td>\n",
       "      <td>0.198286</td>\n",
       "    </tr>\n",
       "    <tr>\n",
       "      <th>1.000</th>\n",
       "      <td>0.581605</td>\n",
       "      <td>0.233434</td>\n",
       "    </tr>\n",
       "    <tr>\n",
       "      <th>10.000</th>\n",
       "      <td>0.561698</td>\n",
       "      <td>0.265622</td>\n",
       "    </tr>\n",
       "    <tr>\n",
       "      <th>100.000</th>\n",
       "      <td>0.554713</td>\n",
       "      <td>0.270126</td>\n",
       "    </tr>\n",
       "    <tr>\n",
       "      <th>1000.000</th>\n",
       "      <td>0.554204</td>\n",
       "      <td>0.270088</td>\n",
       "    </tr>\n",
       "  </tbody>\n",
       "</table>\n",
       "</div>"
      ],
      "text/plain": [
       "                       mean       std\n",
       "CLF_NAME param                       \n",
       "log_reg  0.001     0.532356  0.164810\n",
       "         0.010     0.558880  0.181731\n",
       "         0.100     0.567916  0.198286\n",
       "         1.000     0.581605  0.233434\n",
       "         10.000    0.561698  0.265622\n",
       "         100.000   0.554713  0.270126\n",
       "         1000.000  0.554204  0.270088"
      ]
     },
     "execution_count": 178,
     "metadata": {},
     "output_type": "execute_result"
    }
   ],
   "source": [
    "results[results.CLF_NAME=='log_reg'].groupby(['CLF_NAME','param']).TESTE.agg(['mean','std'])"
   ]
  },
  {
   "cell_type": "markdown",
   "id": "ebd66e33-c53c-48b5-b416-3d1a225e254f",
   "metadata": {},
   "source": [
    "The regularization in this case is inversly related to the parameter - and evidently the stronger regularization gives a more stable result, but a less accurate one.\n",
    "So with respect to \"Does it help?\", the answer is \"Depends on what your parameter for success is - stability or accuracy\"."
   ]
  },
  {
   "cell_type": "markdown",
   "id": "8c34c822-cc3a-4ce9-bab7-c0aeb648cab8",
   "metadata": {},
   "source": [
    "#### Q4 - For a given noise level of your chioce, How does the train, test and difference error changes with increasing data sizes?"
   ]
  },
  {
   "cell_type": "code",
   "execution_count": 207,
   "id": "11ba5c9e-916c-470f-bae3-a21e0d9fdab5",
   "metadata": {},
   "outputs": [
    {
     "data": {
      "text/html": [
       "<div>\n",
       "<style scoped>\n",
       "    .dataframe tbody tr th:only-of-type {\n",
       "        vertical-align: middle;\n",
       "    }\n",
       "\n",
       "    .dataframe tbody tr th {\n",
       "        vertical-align: top;\n",
       "    }\n",
       "\n",
       "    .dataframe thead tr th {\n",
       "        text-align: left;\n",
       "    }\n",
       "\n",
       "    .dataframe thead tr:last-of-type th {\n",
       "        text-align: right;\n",
       "    }\n",
       "</style>\n",
       "<table border=\"1\" class=\"dataframe\">\n",
       "  <thead>\n",
       "    <tr>\n",
       "      <th></th>\n",
       "      <th colspan=\"2\" halign=\"left\">TRE</th>\n",
       "      <th colspan=\"2\" halign=\"left\">TESTE</th>\n",
       "      <th colspan=\"2\" halign=\"left\">E_DIFF</th>\n",
       "    </tr>\n",
       "    <tr>\n",
       "      <th></th>\n",
       "      <th>mean</th>\n",
       "      <th>std</th>\n",
       "      <th>mean</th>\n",
       "      <th>std</th>\n",
       "      <th>mean</th>\n",
       "      <th>std</th>\n",
       "    </tr>\n",
       "    <tr>\n",
       "      <th>N</th>\n",
       "      <th></th>\n",
       "      <th></th>\n",
       "      <th></th>\n",
       "      <th></th>\n",
       "      <th></th>\n",
       "      <th></th>\n",
       "    </tr>\n",
       "  </thead>\n",
       "  <tbody>\n",
       "    <tr>\n",
       "      <th>5</th>\n",
       "      <td>0.836905</td>\n",
       "      <td>0.166927</td>\n",
       "      <td>0.498214</td>\n",
       "      <td>0.155532</td>\n",
       "      <td>0.338690</td>\n",
       "      <td>0.239621</td>\n",
       "    </tr>\n",
       "    <tr>\n",
       "      <th>10</th>\n",
       "      <td>0.723469</td>\n",
       "      <td>0.182001</td>\n",
       "      <td>0.353571</td>\n",
       "      <td>0.164524</td>\n",
       "      <td>0.369898</td>\n",
       "      <td>0.230338</td>\n",
       "    </tr>\n",
       "    <tr>\n",
       "      <th>50</th>\n",
       "      <td>0.715918</td>\n",
       "      <td>0.186134</td>\n",
       "      <td>0.579286</td>\n",
       "      <td>0.177866</td>\n",
       "      <td>0.136633</td>\n",
       "      <td>0.188901</td>\n",
       "    </tr>\n",
       "    <tr>\n",
       "      <th>100</th>\n",
       "      <td>0.754745</td>\n",
       "      <td>0.171329</td>\n",
       "      <td>0.597381</td>\n",
       "      <td>0.201925</td>\n",
       "      <td>0.157364</td>\n",
       "      <td>0.159689</td>\n",
       "    </tr>\n",
       "    <tr>\n",
       "      <th>1000</th>\n",
       "      <td>0.731020</td>\n",
       "      <td>0.174468</td>\n",
       "      <td>0.683071</td>\n",
       "      <td>0.168402</td>\n",
       "      <td>0.047949</td>\n",
       "      <td>0.103181</td>\n",
       "    </tr>\n",
       "    <tr>\n",
       "      <th>10000</th>\n",
       "      <td>0.719984</td>\n",
       "      <td>0.167400</td>\n",
       "      <td>0.704175</td>\n",
       "      <td>0.171506</td>\n",
       "      <td>0.015809</td>\n",
       "      <td>0.052300</td>\n",
       "    </tr>\n",
       "  </tbody>\n",
       "</table>\n",
       "</div>"
      ],
      "text/plain": [
       "            TRE               TESTE              E_DIFF          \n",
       "           mean       std      mean       std      mean       std\n",
       "N                                                                \n",
       "5      0.836905  0.166927  0.498214  0.155532  0.338690  0.239621\n",
       "10     0.723469  0.182001  0.353571  0.164524  0.369898  0.230338\n",
       "50     0.715918  0.186134  0.579286  0.177866  0.136633  0.188901\n",
       "100    0.754745  0.171329  0.597381  0.201925  0.157364  0.159689\n",
       "1000   0.731020  0.174468  0.683071  0.168402  0.047949  0.103181\n",
       "10000  0.719984  0.167400  0.704175  0.171506  0.015809  0.052300"
      ]
     },
     "execution_count": 207,
     "metadata": {},
     "output_type": "execute_result"
    }
   ],
   "source": [
    "nl03_err_rate=results[results.NL==0.3].loc[:,['N','TRE','TESTE','E_DIFF']]\n",
    "nl03_err_rate.groupby('N').agg(['mean','std'])"
   ]
  },
  {
   "cell_type": "markdown",
   "id": "f40d7b38-3318-40aa-bf03-b701b6c855c4",
   "metadata": {},
   "source": [
    "For a noise level of 30%, the difference between test and train error diminishes with more data, the train accuracy remains almost constant over 5 data points, and the test accuracy rises with every additional data point over 50."
   ]
  },
  {
   "cell_type": "markdown",
   "id": "d157ea10-33bf-4c63-a1da-2d0c02482416",
   "metadata": {},
   "source": [
    "#### Q5 - For a given noise level of your chioce, How does the train, test and difference error changes with increasing model complexity?"
   ]
  },
  {
   "cell_type": "code",
   "execution_count": 212,
   "id": "d21059b3-93dc-49cf-b5ab-46c5e97d6663",
   "metadata": {},
   "outputs": [
    {
     "data": {
      "text/html": [
       "<div>\n",
       "<style scoped>\n",
       "    .dataframe tbody tr th:only-of-type {\n",
       "        vertical-align: middle;\n",
       "    }\n",
       "\n",
       "    .dataframe tbody tr th {\n",
       "        vertical-align: top;\n",
       "    }\n",
       "\n",
       "    .dataframe thead tr th {\n",
       "        text-align: left;\n",
       "    }\n",
       "\n",
       "    .dataframe thead tr:last-of-type th {\n",
       "        text-align: right;\n",
       "    }\n",
       "</style>\n",
       "<table border=\"1\" class=\"dataframe\">\n",
       "  <thead>\n",
       "    <tr>\n",
       "      <th></th>\n",
       "      <th colspan=\"2\" halign=\"left\">TRE</th>\n",
       "      <th colspan=\"2\" halign=\"left\">TESTE</th>\n",
       "      <th colspan=\"2\" halign=\"left\">E_DIFF</th>\n",
       "    </tr>\n",
       "    <tr>\n",
       "      <th></th>\n",
       "      <th>mean</th>\n",
       "      <th>std</th>\n",
       "      <th>mean</th>\n",
       "      <th>std</th>\n",
       "      <th>mean</th>\n",
       "      <th>std</th>\n",
       "    </tr>\n",
       "    <tr>\n",
       "      <th>param</th>\n",
       "      <th></th>\n",
       "      <th></th>\n",
       "      <th></th>\n",
       "      <th></th>\n",
       "      <th></th>\n",
       "      <th></th>\n",
       "    </tr>\n",
       "  </thead>\n",
       "  <tbody>\n",
       "    <tr>\n",
       "      <th>0.001</th>\n",
       "      <td>0.626138</td>\n",
       "      <td>0.119372</td>\n",
       "      <td>0.529986</td>\n",
       "      <td>0.167808</td>\n",
       "      <td>0.096152</td>\n",
       "      <td>0.095815</td>\n",
       "    </tr>\n",
       "    <tr>\n",
       "      <th>0.010</th>\n",
       "      <td>0.642248</td>\n",
       "      <td>0.121968</td>\n",
       "      <td>0.546872</td>\n",
       "      <td>0.176755</td>\n",
       "      <td>0.095376</td>\n",
       "      <td>0.100034</td>\n",
       "    </tr>\n",
       "    <tr>\n",
       "      <th>0.100</th>\n",
       "      <td>0.693762</td>\n",
       "      <td>0.123006</td>\n",
       "      <td>0.594017</td>\n",
       "      <td>0.196944</td>\n",
       "      <td>0.099745</td>\n",
       "      <td>0.136032</td>\n",
       "    </tr>\n",
       "    <tr>\n",
       "      <th>1.000</th>\n",
       "      <td>0.802420</td>\n",
       "      <td>0.141101</td>\n",
       "      <td>0.636739</td>\n",
       "      <td>0.210770</td>\n",
       "      <td>0.165681</td>\n",
       "      <td>0.206420</td>\n",
       "    </tr>\n",
       "    <tr>\n",
       "      <th>10.000</th>\n",
       "      <td>0.889663</td>\n",
       "      <td>0.122667</td>\n",
       "      <td>0.625775</td>\n",
       "      <td>0.220713</td>\n",
       "      <td>0.263888</td>\n",
       "      <td>0.254531</td>\n",
       "    </tr>\n",
       "    <tr>\n",
       "      <th>100.000</th>\n",
       "      <td>0.942858</td>\n",
       "      <td>0.098079</td>\n",
       "      <td>0.588950</td>\n",
       "      <td>0.199301</td>\n",
       "      <td>0.353908</td>\n",
       "      <td>0.235276</td>\n",
       "    </tr>\n",
       "    <tr>\n",
       "      <th>1000.000</th>\n",
       "      <td>0.978936</td>\n",
       "      <td>0.048589</td>\n",
       "      <td>0.528719</td>\n",
       "      <td>0.158614</td>\n",
       "      <td>0.450216</td>\n",
       "      <td>0.178232</td>\n",
       "    </tr>\n",
       "  </tbody>\n",
       "</table>\n",
       "</div>"
      ],
      "text/plain": [
       "               TRE               TESTE              E_DIFF          \n",
       "              mean       std      mean       std      mean       std\n",
       "param                                                               \n",
       "0.001     0.626138  0.119372  0.529986  0.167808  0.096152  0.095815\n",
       "0.010     0.642248  0.121968  0.546872  0.176755  0.095376  0.100034\n",
       "0.100     0.693762  0.123006  0.594017  0.196944  0.099745  0.136032\n",
       "1.000     0.802420  0.141101  0.636739  0.210770  0.165681  0.206420\n",
       "10.000    0.889663  0.122667  0.625775  0.220713  0.263888  0.254531\n",
       "100.000   0.942858  0.098079  0.588950  0.199301  0.353908  0.235276\n",
       "1000.000  0.978936  0.048589  0.528719  0.158614  0.450216  0.178232"
      ]
     },
     "execution_count": 212,
     "metadata": {},
     "output_type": "execute_result"
    }
   ],
   "source": [
    "nl03_err_rate_svm=results.query('NL==0.3 and CLF_NAME==\"svm\"').loc[:,['param','TRE','TESTE','E_DIFF']]\n",
    "nl03_err_rate_svm.groupby('param').agg(['mean','std'])"
   ]
  },
  {
   "cell_type": "markdown",
   "id": "2602e961-b764-4df2-990c-f24c8d0a9b3d",
   "metadata": {},
   "source": [
    "For a noise level of 30%, training accuracy steadiliy increased as the model complexity did, showing a classic overfit scenario.\n",
    "Test error started terrible and gradually increased, finding a \"peak\" at around $\\gamma$ = 1 and the difference error increased with model complexity."
   ]
  },
  {
   "cell_type": "markdown",
   "id": "0276ff13-2d04-4cd6-8375-7137c2ae2e5f",
   "metadata": {},
   "source": [
    "#### Q6 - Are the noise level effect the number of datapoints needed to reach minimal test results?"
   ]
  },
  {
   "cell_type": "code",
   "execution_count": 226,
   "id": "8a0a2cc3-9cfa-4354-a3f6-9b04343234ce",
   "metadata": {},
   "outputs": [
    {
     "data": {
      "text/html": [
       "<div>\n",
       "<style scoped>\n",
       "    .dataframe tbody tr th:only-of-type {\n",
       "        vertical-align: middle;\n",
       "    }\n",
       "\n",
       "    .dataframe tbody tr th {\n",
       "        vertical-align: top;\n",
       "    }\n",
       "\n",
       "    .dataframe thead tr th {\n",
       "        text-align: left;\n",
       "    }\n",
       "\n",
       "    .dataframe thead tr:last-of-type th {\n",
       "        text-align: right;\n",
       "    }\n",
       "</style>\n",
       "<table border=\"1\" class=\"dataframe\">\n",
       "  <thead>\n",
       "    <tr>\n",
       "      <th></th>\n",
       "      <th colspan=\"6\" halign=\"left\">TESTE</th>\n",
       "    </tr>\n",
       "    <tr>\n",
       "      <th>NL</th>\n",
       "      <th>0.0</th>\n",
       "      <th>0.1</th>\n",
       "      <th>0.2</th>\n",
       "      <th>0.3</th>\n",
       "      <th>0.4</th>\n",
       "      <th>0.5</th>\n",
       "    </tr>\n",
       "    <tr>\n",
       "      <th>N</th>\n",
       "      <th></th>\n",
       "      <th></th>\n",
       "      <th></th>\n",
       "      <th></th>\n",
       "      <th></th>\n",
       "      <th></th>\n",
       "    </tr>\n",
       "  </thead>\n",
       "  <tbody>\n",
       "    <tr>\n",
       "      <th>5</th>\n",
       "      <td>0.453571</td>\n",
       "      <td>0.455357</td>\n",
       "      <td>0.446429</td>\n",
       "      <td>0.498214</td>\n",
       "      <td>0.485714</td>\n",
       "      <td>0.439286</td>\n",
       "    </tr>\n",
       "    <tr>\n",
       "      <th>10</th>\n",
       "      <td>0.332143</td>\n",
       "      <td>0.332143</td>\n",
       "      <td>0.351190</td>\n",
       "      <td>0.353571</td>\n",
       "      <td>0.401190</td>\n",
       "      <td>0.352381</td>\n",
       "    </tr>\n",
       "    <tr>\n",
       "      <th>50</th>\n",
       "      <td>0.602619</td>\n",
       "      <td>0.600000</td>\n",
       "      <td>0.566667</td>\n",
       "      <td>0.579286</td>\n",
       "      <td>0.578333</td>\n",
       "      <td>0.544286</td>\n",
       "    </tr>\n",
       "    <tr>\n",
       "      <th>100</th>\n",
       "      <td>0.714405</td>\n",
       "      <td>0.677024</td>\n",
       "      <td>0.622500</td>\n",
       "      <td>0.597381</td>\n",
       "      <td>0.633571</td>\n",
       "      <td>0.603571</td>\n",
       "    </tr>\n",
       "    <tr>\n",
       "      <th>1000</th>\n",
       "      <td>0.775893</td>\n",
       "      <td>0.747762</td>\n",
       "      <td>0.708060</td>\n",
       "      <td>0.683071</td>\n",
       "      <td>0.679571</td>\n",
       "      <td>0.662881</td>\n",
       "    </tr>\n",
       "    <tr>\n",
       "      <th>10000</th>\n",
       "      <td>0.800642</td>\n",
       "      <td>0.766089</td>\n",
       "      <td>0.730604</td>\n",
       "      <td>0.704175</td>\n",
       "      <td>0.682436</td>\n",
       "      <td>0.664169</td>\n",
       "    </tr>\n",
       "  </tbody>\n",
       "</table>\n",
       "</div>"
      ],
      "text/plain": [
       "          TESTE                                                  \n",
       "NL          0.0       0.1       0.2       0.3       0.4       0.5\n",
       "N                                                                \n",
       "5      0.453571  0.455357  0.446429  0.498214  0.485714  0.439286\n",
       "10     0.332143  0.332143  0.351190  0.353571  0.401190  0.352381\n",
       "50     0.602619  0.600000  0.566667  0.579286  0.578333  0.544286\n",
       "100    0.714405  0.677024  0.622500  0.597381  0.633571  0.603571\n",
       "1000   0.775893  0.747762  0.708060  0.683071  0.679571  0.662881\n",
       "10000  0.800642  0.766089  0.730604  0.704175  0.682436  0.664169"
      ]
     },
     "execution_count": 226,
     "metadata": {},
     "output_type": "execute_result"
    }
   ],
   "source": [
    "results.loc[:,['N','NL','TESTE']].groupby(['NL','N']).agg('mean').unstack('NL')"
   ]
  },
  {
   "cell_type": "markdown",
   "id": "58de5bec-07e1-4a89-be70-1f515dd9c16f",
   "metadata": {},
   "source": [
    "The noise level affects the level at which more data does not equal more accuracy - this is especially apparent at 50% noise, but can be seen at most NLs."
   ]
  },
  {
   "cell_type": "markdown",
   "id": "7c8e124d-b53e-4d7a-905b-ab063dd76065",
   "metadata": {},
   "source": [
    "#### Q7 - Select the best model param to fit the data (The one minimizing the test error) and for it, observe the number of data points needed for optimal test results in different noise levels."
   ]
  },
  {
   "cell_type": "code",
   "execution_count": 230,
   "id": "b2e71a69-ce42-48e6-b8f9-a0f7cfa3c275",
   "metadata": {},
   "outputs": [
    {
     "data": {
      "text/html": [
       "<div>\n",
       "<style scoped>\n",
       "    .dataframe tbody tr th:only-of-type {\n",
       "        vertical-align: middle;\n",
       "    }\n",
       "\n",
       "    .dataframe tbody tr th {\n",
       "        vertical-align: top;\n",
       "    }\n",
       "\n",
       "    .dataframe thead tr th {\n",
       "        text-align: left;\n",
       "    }\n",
       "\n",
       "    .dataframe thead tr:last-of-type th {\n",
       "        text-align: right;\n",
       "    }\n",
       "</style>\n",
       "<table border=\"1\" class=\"dataframe\">\n",
       "  <thead>\n",
       "    <tr>\n",
       "      <th></th>\n",
       "      <th colspan=\"6\" halign=\"left\">TESTE</th>\n",
       "    </tr>\n",
       "    <tr>\n",
       "      <th>NL</th>\n",
       "      <th>0.0</th>\n",
       "      <th>0.1</th>\n",
       "      <th>0.2</th>\n",
       "      <th>0.3</th>\n",
       "      <th>0.4</th>\n",
       "      <th>0.5</th>\n",
       "    </tr>\n",
       "    <tr>\n",
       "      <th>N</th>\n",
       "      <th></th>\n",
       "      <th></th>\n",
       "      <th></th>\n",
       "      <th></th>\n",
       "      <th></th>\n",
       "      <th></th>\n",
       "    </tr>\n",
       "  </thead>\n",
       "  <tbody>\n",
       "    <tr>\n",
       "      <th>5</th>\n",
       "      <td>0.475000</td>\n",
       "      <td>0.450000</td>\n",
       "      <td>0.400000</td>\n",
       "      <td>0.500000</td>\n",
       "      <td>0.475000</td>\n",
       "      <td>0.350000</td>\n",
       "    </tr>\n",
       "    <tr>\n",
       "      <th>10</th>\n",
       "      <td>0.266667</td>\n",
       "      <td>0.283333</td>\n",
       "      <td>0.283333</td>\n",
       "      <td>0.383333</td>\n",
       "      <td>0.450000</td>\n",
       "      <td>0.416667</td>\n",
       "    </tr>\n",
       "    <tr>\n",
       "      <th>50</th>\n",
       "      <td>0.696667</td>\n",
       "      <td>0.736667</td>\n",
       "      <td>0.636667</td>\n",
       "      <td>0.700000</td>\n",
       "      <td>0.593333</td>\n",
       "      <td>0.530000</td>\n",
       "    </tr>\n",
       "    <tr>\n",
       "      <th>100</th>\n",
       "      <td>0.961667</td>\n",
       "      <td>0.868333</td>\n",
       "      <td>0.745000</td>\n",
       "      <td>0.708333</td>\n",
       "      <td>0.715000</td>\n",
       "      <td>0.626667</td>\n",
       "    </tr>\n",
       "    <tr>\n",
       "      <th>1000</th>\n",
       "      <td>1.000000</td>\n",
       "      <td>0.923333</td>\n",
       "      <td>0.811333</td>\n",
       "      <td>0.755667</td>\n",
       "      <td>0.741833</td>\n",
       "      <td>0.692167</td>\n",
       "    </tr>\n",
       "    <tr>\n",
       "      <th>10000</th>\n",
       "      <td>1.000000</td>\n",
       "      <td>0.918633</td>\n",
       "      <td>0.831333</td>\n",
       "      <td>0.773100</td>\n",
       "      <td>0.726233</td>\n",
       "      <td>0.696633</td>\n",
       "    </tr>\n",
       "  </tbody>\n",
       "</table>\n",
       "</div>"
      ],
      "text/plain": [
       "          TESTE                                                  \n",
       "NL          0.0       0.1       0.2       0.3       0.4       0.5\n",
       "N                                                                \n",
       "5      0.475000  0.450000  0.400000  0.500000  0.475000  0.350000\n",
       "10     0.266667  0.283333  0.283333  0.383333  0.450000  0.416667\n",
       "50     0.696667  0.736667  0.636667  0.700000  0.593333  0.530000\n",
       "100    0.961667  0.868333  0.745000  0.708333  0.715000  0.626667\n",
       "1000   1.000000  0.923333  0.811333  0.755667  0.741833  0.692167\n",
       "10000  1.000000  0.918633  0.831333  0.773100  0.726233  0.696633"
      ]
     },
     "execution_count": 230,
     "metadata": {},
     "output_type": "execute_result"
    }
   ],
   "source": [
    "results.query('CLF_NAME==\"svm\" and param == 1 ').loc[:,['N','NL','TESTE']].groupby(['NL','N']).agg('mean').unstack('NL')"
   ]
  },
  {
   "cell_type": "markdown",
   "id": "154e96e8-4b0e-4ae5-8163-9e1ba4e24996",
   "metadata": {},
   "source": [
    "It looks as though the optimal amount of data is around 100-1000, depending on noise level."
   ]
  }
 ],
 "metadata": {
  "kernelspec": {
   "display_name": "Python 3 (ipykernel)",
   "language": "python",
   "name": "python3"
  },
  "language_info": {
   "codemirror_mode": {
    "name": "ipython",
    "version": 3
   },
   "file_extension": ".py",
   "mimetype": "text/x-python",
   "name": "python",
   "nbconvert_exporter": "python",
   "pygments_lexer": "ipython3",
   "version": "3.9.7"
  }
 },
 "nbformat": 4,
 "nbformat_minor": 5
}
